{
 "cells": [
  {
   "cell_type": "code",
   "execution_count": 22,
   "id": "c3a811d6",
   "metadata": {},
   "outputs": [],
   "source": [
    "import os\n",
    "from dotenv import load_dotenv\n",
    "\n",
    "load_dotenv(override=True)\n",
    "\n",
    "AZURE_OPENAI_ENDPOINT=os.getenv(\"AZURE_OPENAI_ENDPOINT\")\n",
    "AZURE_OPENAI_API_KEY=os.getenv(\"AZURE_OPENAI_API_KEY\")\n",
    "AZURE_DEPLOYMENT_NAME=os.getenv(\"AZURE_DEPLOYMENT_NAME\", \"gpt-4.1\")"
   ]
  },
  {
   "cell_type": "code",
   "execution_count": 20,
   "id": "d716f0f7",
   "metadata": {},
   "outputs": [],
   "source": [
    "import json\n",
    "from typing import Annotated\n",
    "from semantic_kernel.functions import kernel_function\n",
    "\n",
    "# プラグイン関数の作成\n",
    "class UserPlugin:\n",
    "    @kernel_function(\n",
    "        name=\"get_plan\",\n",
    "        description=\"指定されたユーザーIDから契約情報を取得します\",\n",
    "    )\n",
    "    def get_plan(\n",
    "        self, \n",
    "        user_id: Annotated[int, \"ユーザーID（4桁の数字）\"]\n",
    "    ) -> Annotated[str, \"ユーザーの契約プラン名（例: '安心保障プラン'）\"]:\n",
    "        \n",
    "        sample_user = [\n",
    "            {\"id\": 1234, \"name\": \"佐藤太郎\", \"email\": \"sato@example.com\", \"plan\": \"安心保障プラン\"},\n",
    "            {\"id\": 2345, \"name\": \"鈴木花子\", \"email\": \"hanako.suzuki@example.com\", \"plan\": \"総合生活サポートプラン\"},\n",
    "            {\"id\": 3456, \"name\": \"田中一郎\", \"email\": \"ichiro.tanaka@example.com\", \"plan\": \"シンプルプラン\"},\n",
    "        ]\n",
    "\n",
    "        for user in sample_user:\n",
    "            if user[\"id\"] == user_id:\n",
    "                return json.dumps(user[\"plan\"])\n",
    "        return \"該当するユーザーが見つかりませんでした。\"\n"
   ]
  },
  {
   "cell_type": "code",
   "execution_count": 18,
   "id": "4e3eaace",
   "metadata": {},
   "outputs": [],
   "source": [
    "from semantic_kernel.agents import ChatCompletionAgent, ChatHistoryAgentThread\n",
    "from semantic_kernel.connectors.ai.open_ai import AzureChatCompletion"
   ]
  },
  {
   "cell_type": "code",
   "execution_count": 23,
   "id": "b70eb29d",
   "metadata": {},
   "outputs": [],
   "source": [
    "# Azure Chat Completion の初期化\n",
    "azure_chat_completion = AzureChatCompletion(\n",
    "    deployment_name=AZURE_DEPLOYMENT_NAME,\n",
    "    endpoint=AZURE_OPENAI_ENDPOINT,\n",
    "    api_key=AZURE_OPENAI_API_KEY,\n",
    ")"
   ]
  },
  {
   "cell_type": "code",
   "execution_count": 24,
   "id": "29473319",
   "metadata": {},
   "outputs": [],
   "source": [
    "# エージェントを作成\n",
    "agent = ChatCompletionAgent(\n",
    "    service=azure_chat_completion,\n",
    "    name=\"EmployeeAssistant\",\n",
    "    instructions=(\n",
    "        \"あなたはコールセンターで働く従業員向けサポートAIアシスタントです。\"\n",
    "        \"従業員の質問に答えたり、サポートを提供したりします。\"\n",
    "    ),\n",
    "    plugins=[UserPlugin()]\n",
    ")"
   ]
  },
  {
   "cell_type": "code",
   "execution_count": 25,
   "id": "6075f527",
   "metadata": {},
   "outputs": [
    {
     "name": "stdout",
     "output_type": "stream",
     "text": [
      "ユーザーID 3456のお客様は、「シンプルプラン」にご加入されています。\n",
      "\n",
      "他にご確認されたい内容があればお知らせください。\n"
     ]
    }
   ],
   "source": [
    "# スレッドを作成\n",
    "thread = ChatHistoryAgentThread()\n",
    "\n",
    "# レスポンスを取得\n",
    "response = await agent.get_response(\n",
    "    messages=[\"ユーザー ID 3456 のお客様の保険の加入状況を教えて。\"],\n",
    "    thread=thread,\n",
    ")\n",
    "\n",
    "print(response)"
   ]
  }
 ],
 "metadata": {
  "kernelspec": {
   "display_name": ".venv",
   "language": "python",
   "name": "python3"
  },
  "language_info": {
   "codemirror_mode": {
    "name": "ipython",
    "version": 3
   },
   "file_extension": ".py",
   "mimetype": "text/x-python",
   "name": "python",
   "nbconvert_exporter": "python",
   "pygments_lexer": "ipython3",
   "version": "3.11.9"
  }
 },
 "nbformat": 4,
 "nbformat_minor": 5
}
