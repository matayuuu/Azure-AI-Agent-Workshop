{
 "cells": [
  {
   "cell_type": "markdown",
   "id": "bb8e05e0",
   "metadata": {},
   "source": [
    "# Azure AI Foundry Agent Service - Single Agent MCP\n",
    "\n",
    "Azure AI FoundryのMCP（Model Context Protocol）ツールを使用して外部サービスと連携するエージェントを構築するノートブックです。\n",
    "\n",
    "## 概要\n",
    "\n",
    "このノートブックでは、MCPツールを活用してMicrosoft Learn公式ドキュメントを検索できるエージェントを作成します。MCPプロトコルにより、エージェントが外部のAPIやサービスと安全かつ標準化された方法で連携する方法を学習します。\n",
    "\n",
    "### 主な機能\n",
    "- **MCP Tool**: Model Context Protocolによる外部サービス連携\n",
    "- **ツール承認機能**: 自動承認と手動承認の両方をサポート\n",
    "\n",
    "### MCPの利点\n",
    "- **標準化**: 統一されたプロトコルによる外部連携\n",
    "- **セキュリティ**: 承認プロセスや Entra ID 認証による安全な外部アクセス\n",
    "- **拡張性**: 様々な外部サービスとの連携が可能\n",
    "- **透明性**: ツール実行の詳細な記録と確認\n",
    "\n",
    "このエージェントは、企業の内部システム連携、外部API統合、サードパーティサービス連携などの実用的なアプリケーションに応用できます。"
   ]
  },
  {
   "cell_type": "markdown",
   "id": "c11328a6",
   "metadata": {},
   "source": [
    "# ライブラリのインポート\n",
    "\n",
    "必要なPythonライブラリとAzure AI Foundry SDKをインポートします。"
   ]
  },
  {
   "cell_type": "code",
   "execution_count": 5,
   "id": "5345c7a7",
   "metadata": {},
   "outputs": [],
   "source": [
    "import os\n",
    "import time\n",
    "import json\n",
    "import datetime\n",
    "import zoneinfo\n",
    "\n",
    "import requests\n",
    "\n",
    "from dotenv import load_dotenv, find_dotenv\n",
    "\n",
    "from azure.identity import DefaultAzureCredential\n",
    "from azure.ai.projects import AIProjectClient\n",
    "from azure.ai.agents.models import (\n",
    "    MessageTextContent,\n",
    "    ListSortOrder,\n",
    "    McpTool,\n",
    "    MCPToolDefinition,\n",
    "    RequiredMcpToolCall,\n",
    "    SubmitToolApprovalAction,\n",
    "    ToolApproval,\n",
    "    CodeInterpreterTool,\n",
    "    FunctionTool,\n",
    "    ToolSet,\n",
    ")"
   ]
  },
  {
   "cell_type": "markdown",
   "id": "dfb3e521",
   "metadata": {},
   "source": [
    "# 環境変数の取得\n",
    "\n",
    "Azure AI Foundryへの接続に必要な設定情報を環境変数から取得します。\n",
    "\n",
    "- `PROJECT_ENDPOINT`: Azure AI Foundryプロジェクトのエンドポイント\n",
    "- `AZURE_DEPLOYMENT_NAME`: 使用するAIモデルのデプロイメント名\n",
    "\n",
    "これらの値は事前に.envファイルに設定されている必要があります。"
   ]
  },
  {
   "cell_type": "code",
   "execution_count": 6,
   "id": "9cc954df",
   "metadata": {},
   "outputs": [],
   "source": [
    "load_dotenv(override=True)\n",
    "\n",
    "PROJECT_ENDPOINT=os.getenv(\"PROJECT_ENDPOINT\")\n",
    "AZURE_DEPLOYMENT_NAME=os.getenv(\"AZURE_DEPLOYMENT_NAME\")"
   ]
  },
  {
   "cell_type": "markdown",
   "id": "9dd8af79",
   "metadata": {},
   "source": [
    "# クライアントの初期化\n",
    "\n",
    "Azure AI Foundryプロジェクトへの接続とエージェント管理用のクライアントを初期化します。\n",
    "\n",
    "- `AIProjectClient`: Azure AI Foundryプロジェクトとの接続を管理\n",
    "- `DefaultAzureCredential`: Azure認証（Azure CLI、Managed Identity等を自動検出）\n",
    "- `agents_client`: エージェントの作成・管理・実行を行うクライアント"
   ]
  },
  {
   "cell_type": "code",
   "execution_count": 7,
   "id": "abd2dd78",
   "metadata": {},
   "outputs": [],
   "source": [
    "# AI Project Client を初期化\n",
    "project_client = AIProjectClient(\n",
    "    endpoint=PROJECT_ENDPOINT,\n",
    "    credential=DefaultAzureCredential()\n",
    ")\n",
    "\n",
    "# AgentClient の作成\n",
    "agents_client = project_client.agents"
   ]
  },
  {
   "cell_type": "markdown",
   "id": "91e4d74f",
   "metadata": {},
   "source": [
    "# ユーティリティ関数\n",
    "\n",
    "エージェントの実行結果を表示するためのヘルパー関数を定義します。\n",
    "\n",
    "`agent_run_outputs`関数は以下の機能を提供します：\n",
    "- スレッド内のメッセージ一覧を取得・表示\n",
    "- 画像コンテンツがある場合は保存・表示"
   ]
  },
  {
   "cell_type": "code",
   "execution_count": 8,
   "id": "84b443b8",
   "metadata": {},
   "outputs": [],
   "source": [
    "def agent_run_outputs(thread_id, agents_client, target_dir=\"./output_images\"):\n",
    "    \"\"\"\n",
    "    指定したスレッドIDのRun実行結果（テキスト・画像）をNotebook上に表示＆画像は保存。\n",
    "    \"\"\"\n",
    "    messages = agents_client.messages.list(thread_id=thread_id, order=ListSortOrder.ASCENDING)\n",
    "    os.makedirs(target_dir, exist_ok=True)\n",
    "\n",
    "    for message in messages:\n",
    "        # テキスト出力\n",
    "        if message.text_messages:\n",
    "            for txt in message.text_messages:\n",
    "                print(f\"{message.role.upper()}: {txt.text.value}\")\n",
    "        \n",
    "        # 画像出力\n",
    "        if hasattr(message, \"image_contents\"):\n",
    "            for image_content in message.image_contents:\n",
    "                file_id = image_content.image_file.file_id\n",
    "                file_name = f\"{file_id}_image_file.png\"\n",
    "\n",
    "                agents_client.files.save(\n",
    "                    file_id=file_id,\n",
    "                    file_name=file_name,\n",
    "                    target_dir=target_dir\n",
    "                )\n",
    "                print(f\"Saved image: {file_name}\")\n",
    "                display(Image(filename=f\"{target_dir}/{file_name}\"))"
   ]
  },
  {
   "cell_type": "markdown",
   "id": "f230a80e",
   "metadata": {},
   "source": [
    "# ツールの定義\n",
    "\n",
    "MCP（Model Context Protocol）ツールを設定し、外部サービスとの連携を準備します。\n",
    "\n",
    "## MCPツールとは\n",
    "Model Context Protocolは、言語モデルが外部ツール、メモリ、コンテキストと安全で構造化された状態を保持する方法で相互作用するための公開プロトコルです。\n",
    "\n",
    "### MCPのアーキテクチャ\n",
    "1. **Hosts**: MCPクライアントを使用してMCPサーバーからデータを接続・消費するアプリケーション\n",
    "2. **Clients**: MCPホストのコンポーネントで、接続を管理しMCPサーバーからデータを取得\n",
    "3. **Servers**: データリソース、アクション実行ツール、相互作用を導くプロンプトを提供するプログラム\n",
    "\n",
    "### MCPツール設定項目\n",
    "- **server_label**: MCPサーバーの一意識別子\n",
    "- **server_url**: APIのエンドポイント\n",
    "- **allowed_tools**: 利用可能なツールのリスト（オプション）\n",
    "- **headers**: 認証やその他の目的でMCPサーバーに送信するHTTPヘッダー（オプション）\n",
    "\n",
    "### 承認モード（require_approval）の詳細設定\n",
    "1. **always**: すべてのツール呼び出しで承認が必要（デフォルト）\n",
    "2. **never**: 承認不要\n",
    "3. **{\"never\":[\"tool_name1\", \"tool_name2\"]}**: 指定されたツールは承認不要\n",
    "4. **{\"always\":[\"tool_name1\", \"tool_name2\"]}**: 指定されたツールは承認必要\n",
    "\n",
    "### セキュリティと認証\n",
    "- **Entra ID統合**: Azure Identity ライブラリを通じたベストプラクティス認証\n",
    "- **透明性**: 外部MCPサーバーとの共有データの明示的な承認プロセス\n",
    "- **監査ログ**: リモートMCPサーバーとの共有データのロギング推奨"
   ]
  },
  {
   "cell_type": "code",
   "execution_count": 9,
   "id": "e02407db",
   "metadata": {},
   "outputs": [
    {
     "name": "stdout",
     "output_type": "stream",
     "text": [
      "{'mcp': [{'server_label': 'MicrosoftDocs', 'headers': {}, 'require_approval': 'never'}]}\n"
     ]
    }
   ],
   "source": [
    "mcp_tool = McpTool(\n",
    "    server_label=\"MicrosoftDocs\",\n",
    "    server_url=\"https://learn.microsoft.com/api/mcp\",\n",
    ")\n",
    "\n",
    "# MCP ツール実行時の承認モードを never に設定\n",
    "mcp_tool.set_approval_mode(\"never\")\n",
    "\n",
    "print(mcp_tool.resources)"
   ]
  },
  {
   "cell_type": "markdown",
   "id": "727cedd7",
   "metadata": {},
   "source": [
    "# エージェントの作成\n",
    "\n",
    "Foundry エージェントを作成します。"
   ]
  },
  {
   "cell_type": "code",
   "execution_count": 10,
   "id": "aab8b138",
   "metadata": {},
   "outputs": [
    {
     "name": "stdout",
     "output_type": "stream",
     "text": [
      "Created Agent. AGENT_ID: asst_LYbl3utUTzFdl9RV7iQU5LjT\n"
     ]
    }
   ],
   "source": [
    "mcp_agent = agents_client.create_agent(\n",
    "    model=AZURE_DEPLOYMENT_NAME,\n",
    "    name=\"mcp_agent\",\n",
    "    instructions=(\n",
    "        \"あなたは、MCPツールを使用してユーザーを支援できる有用なエージェントです。\"\n",
    "        \"利用可能なMCPツールを使用して、質問に答えてタスクを実行します。\"    \n",
    "    ),\n",
    "    description=(\n",
    "        \"あなたは Microsoft の公式ドキュメントを検索できる MCP ツールを持っているエージェントです。\"\n",
    "    ),\n",
    "    tools=mcp_tool.definitions,\n",
    "    tool_resources=mcp_tool.resources,\n",
    ")\n",
    "print(f\"Created Agent. AGENT_ID: {mcp_agent.id}\")\n"
   ]
  },
  {
   "cell_type": "code",
   "execution_count": 11,
   "id": "b9f0515a",
   "metadata": {},
   "outputs": [
    {
     "name": "stdout",
     "output_type": "stream",
     "text": [
      "{\n",
      "  \"id\": \"asst_LYbl3utUTzFdl9RV7iQU5LjT\",\n",
      "  \"object\": \"assistant\",\n",
      "  \"created_at\": 1753694766,\n",
      "  \"name\": \"mcp_agent\",\n",
      "  \"description\": \"あなたは Microsoft の公式ドキュメントを検索できる MCP ツールを持っているエージェントです。\",\n",
      "  \"model\": \"gpt-4.1\",\n",
      "  \"instructions\": \"あなたは、MCPツールを使用してユーザーを支援できる有用なエージェントです。利用可能なMCPツールを使用して、質問に答えてタスクを実行します。\",\n",
      "  \"tools\": [\n",
      "    {\n",
      "      \"type\": \"mcp\",\n",
      "      \"server_label\": \"MicrosoftDocs\",\n",
      "      \"server_url\": \"https://learn.microsoft.com/api/mcp\",\n",
      "      \"allowed_tools\": null\n",
      "    }\n",
      "  ],\n",
      "  \"top_p\": 1.0,\n",
      "  \"temperature\": 1.0,\n",
      "  \"tool_resources\": {},\n",
      "  \"metadata\": {},\n",
      "  \"response_format\": \"auto\"\n",
      "}\n"
     ]
    }
   ],
   "source": [
    "agent_dict = mcp_agent.as_dict()\n",
    "print(json.dumps(agent_dict, indent=2, ensure_ascii=False))"
   ]
  },
  {
   "cell_type": "markdown",
   "id": "ef364e05",
   "metadata": {},
   "source": [
    "# スレッドの作成\n",
    "\n",
    "エージェントとの対話を管理するスレッドを作成します。"
   ]
  },
  {
   "cell_type": "code",
   "execution_count": 12,
   "id": "a3cac8e4",
   "metadata": {},
   "outputs": [
    {
     "name": "stdout",
     "output_type": "stream",
     "text": [
      "Created Thread. THREAD_ID: thread_fFFfnqTX9fofwwzWfaKjleVy\n"
     ]
    }
   ],
   "source": [
    "# Thread の作成\n",
    "thread = agents_client.threads.create()\n",
    "print(f\"Created Thread. THREAD_ID: {thread.id}\")"
   ]
  },
  {
   "cell_type": "markdown",
   "id": "bff535c8",
   "metadata": {},
   "source": [
    "# ユーザーメッセージの追加\n",
    "\n",
    "スレッドにユーザーからの質問やリクエストを追加します。"
   ]
  },
  {
   "cell_type": "code",
   "execution_count": 13,
   "id": "e9f75006",
   "metadata": {},
   "outputs": [
    {
     "name": "stdout",
     "output_type": "stream",
     "text": [
      "Added Message. MESSAGE_ID: msg_uSKWbbT7dkxw3zLnMbWbjkci\n"
     ]
    }
   ],
   "source": [
    "# メッセージの追加\n",
    "user_message = \"Azure AI Foundry Agent Service の最新情報を教えてください。\"\n",
    "\n",
    "message = agents_client.messages.create(\n",
    "    thread_id=thread.id,\n",
    "    role=\"user\",\n",
    "    content=user_message,\n",
    ")\n",
    "\n",
    "print(f\"Added Message. MESSAGE_ID: {message.id}\")"
   ]
  },
  {
   "cell_type": "markdown",
   "id": "15975674",
   "metadata": {},
   "source": [
    "# Run の実行\n",
    "\n",
    "エージェントにタスクを実行させ、結果を取得します。"
   ]
  },
  {
   "cell_type": "markdown",
   "id": "b1e2d5d6",
   "metadata": {},
   "source": [
    "## MCP ツール自動承認で実行\n",
    "\n",
    "承認モードを\"never\"に設定したMCPツールを使用して、自動承認でエージェントを実行します。"
   ]
  },
  {
   "cell_type": "code",
   "execution_count": 14,
   "id": "859af704",
   "metadata": {},
   "outputs": [
    {
     "name": "stdout",
     "output_type": "stream",
     "text": [
      "USER: Azure AI Foundry Agent Service の最新情報を教えてください。\n",
      "ASSISTANT: Azure AI Foundry Agent Serviceの最新情報（2025年6月時点）は以下の通りです：\n",
      "\n",
      "### 2025年6月の主なアップデート\n",
      "\n",
      "- **Deep Research Tool**\n",
      "  - Azure OpenAIの `o3-deep-research` モデルとBing検索を組み合わせたマルチステップリサーチツールが追加。\n",
      "  - 詳細はこちら: Deep Research tool\n",
      "\n",
      "- **Model Context Protocol (MCP) Tool**\n",
      "  - 遠隔のMCPサーバー上にホストされるツールにエージェントを接続し、機能拡張が可能に。\n",
      "  - 詳細はこちら: MCP tool\n",
      "\n",
      "### 2025年5月の主なアップデート\n",
      "\n",
      "- **一般提供（GA）開始**\n",
      "  - Azure AI Foundry Agent Serviceが一般提供に移行。\n",
      "\n",
      "- **新機能**\n",
      "  - Visual Studio Code拡張機能によるエージェントのデプロイ・管理が可能に。\n",
      "  - 「Connected agents」で、主エージェントと連携可能なタスク特化エージェントを作成可能。\n",
      "  - エージェント実行の入力・出力のトレース（実行経路解析）が可能に。\n",
      "  - Azure Logic Apps からイベントトリガーでエージェントを自動起動。\n",
      "  - 新ツール:\n",
      "    - Bing Custom Search\n",
      "    - Morningstarデータ連携\n",
      "\n",
      "### 2025年4月 〜 2024年12月の主なアップデート\n",
      "\n",
      "- **Azure Monitor連携による運用観測の強化**\n",
      "- **Cosmos DBのBYO（Bring Your Own）スレッドストレージ対応**\n",
      "- **Microsoft Fabricとの連携ツール**\n",
      "- **Azure AI Foundryポータルでのノーコード運用**\n",
      "\n",
      "### 追加情報\n",
      "\n",
      "- 複数のAIモデル（Llama 3.1, Mistral, Cohere等）への対応が拡大。\n",
      "- セキュリティや監査機能（トレーシング、Application Insights連携）の強化。\n",
      "- SDK（.NET, Python, OpenAI Python）による開発フレームワークの提供。\n",
      "- サーバレス/自前ストレージの選択肢。\n",
      "\n",
      "---\n",
      "全体の最新情報の公式まとめはこちら：\n",
      "[What's new in Azure AI Foundry Agent Service（公式ドキュメント）](https://learn.microsoft.com/en-us/azure/ai-foundry/agents/whats-new)\n",
      "\n",
      "追加で知りたい機能や詳細があればご指定ください。\n"
     ]
    }
   ],
   "source": [
    "run = agents_client.runs.create_and_process(\n",
    "    thread_id=thread.id,\n",
    "    agent_id=mcp_agent.id,\n",
    "    tool_resources=mcp_tool.resources # MCP ツールのリソース情報を渡す（承認モード設定やリクエストヘッダーの設定はここで定義される）\n",
    ")\n",
    "\n",
    "if run.status == \"failed\":\n",
    "    print(f\"Run failed: {run.last_error}\")\n",
    "else:\n",
    "    agent_run_outputs(thread.id, agents_client)"
   ]
  },
  {
   "cell_type": "markdown",
   "id": "7557baf2",
   "metadata": {},
   "source": [
    "## MCP ツール手動承認で実行\n",
    "\n",
    "MCPツールの実行に対して手動で承認を行うプロセスを実装します。\n",
    "\n",
    "### 手動承認の実装流れ\n",
    "1. **Run作成**: `create()`でRunを作成（`create_and_process()`は使用しない）\n",
    "2. **状態監視**: `requires_action`状態になるまでポーリング\n",
    "3. **承認判断**: `SubmitToolApprovalAction`が要求されたら承認処理\n",
    "4. **ToolApproval作成**: 各ツール呼び出しに対して承認オブジェクトを作成\n",
    "5. **承認送信**: `submit_tool_outputs()`で承認結果を送信\n",
    "\n",
    "### 手動承認の利点\n",
    "- **セキュリティ**: 外部API呼び出しの詳細確認と制御\n",
    "- **透明性**: ツール実行内容の事前確認\n",
    "- **コスト管理**: 不要な外部API呼び出しの防止\n",
    "- **コンプライアンス**: 企業ポリシーに応じた承認プロセス\n",
    "\n",
    "### 承認オブジェクトの設定\n",
    "- **tool_call_id**: 承認対象のツール呼び出しID\n",
    "- **approve**: True（承認）またはFalse（拒否）\n",
    "- **headers**: MCPツールのヘッダー情報"
   ]
  },
  {
   "cell_type": "code",
   "execution_count": 15,
   "id": "a560e174",
   "metadata": {},
   "outputs": [
    {
     "name": "stdout",
     "output_type": "stream",
     "text": [
      "Created Thread. THREAD_ID: thread_208rapESXmSsF5CYdYqqobv3\n",
      "Added Message. MESSAGE_ID: msg_ubgqlwDyoXncCIN2rASZ0Tpb\n",
      "Current run status: RunStatus.IN_PROGRESS\n",
      "Current run status: RunStatus.IN_PROGRESS\n",
      "Approving tool call: {'id': 'call_WxmGfLs2hWQuwwSrF6vKqPMR', 'type': 'mcp', 'arguments': '{\"question\":\"Azure AI Foundry Agent Service ã\\x81®æ\\x9c\\x80æ\\x96°æ\\x83\\x85å\\xa0±\"}', 'name': 'microsoft_docs_search', 'server_label': 'MicrosoftDocs'}\n",
      "tool_approvals: [{'tool_call_id': 'call_WxmGfLs2hWQuwwSrF6vKqPMR', 'approve': True, 'headers': {}}]\n",
      "Current run status: RunStatus.REQUIRES_ACTION\n",
      "Current run status: RunStatus.IN_PROGRESS\n",
      "Current run status: RunStatus.IN_PROGRESS\n",
      "Current run status: RunStatus.IN_PROGRESS\n",
      "Current run status: RunStatus.IN_PROGRESS\n",
      "Current run status: RunStatus.IN_PROGRESS\n",
      "Current run status: RunStatus.IN_PROGRESS\n",
      "Current run status: RunStatus.IN_PROGRESS\n",
      "Current run status: RunStatus.IN_PROGRESS\n",
      "Current run status: RunStatus.IN_PROGRESS\n",
      "Current run status: RunStatus.IN_PROGRESS\n",
      "Current run status: RunStatus.IN_PROGRESS\n",
      "Current run status: RunStatus.IN_PROGRESS\n",
      "Current run status: RunStatus.COMPLETED\n"
     ]
    }
   ],
   "source": [
    "# Thread の作成\n",
    "thread = agents_client.threads.create()\n",
    "print(f\"Created Thread. THREAD_ID: {thread.id}\")\n",
    "\n",
    "# メッセージの追加\n",
    "user_message = \"Azure AI Foundry Agent Service の最新情報を教えてください。\"\n",
    "message = agents_client.messages.create(\n",
    "    thread_id=thread.id,\n",
    "    role=\"user\",\n",
    "    content=user_message,\n",
    ")\n",
    "print(f\"Added Message. MESSAGE_ID: {message.id}\")\n",
    "\n",
    "# Run の作成と実行\n",
    "run = agents_client.runs.create(\n",
    "    thread_id=thread.id,\n",
    "    agent_id=mcp_agent.id\n",
    ")\n",
    "\n",
    "# Run の状態をポーリングして確認\n",
    "while run.status in [\"queued\", \"in_progress\", \"requires_action\"]:\n",
    "    time.sleep(1)\n",
    "    run = agents_client.runs.get(thread_id=thread.id, run_id=run.id)\n",
    "\n",
    "    if run.status == \"requires_action\" and isinstance(run.required_action, SubmitToolApprovalAction):\n",
    "        tool_calls = run.required_action.submit_tool_approval.tool_calls\n",
    "        if not tool_calls:\n",
    "            print(\"No tool calls provided - cancelling run\")\n",
    "            agents_client.runs.cancel(thread_id=thread.id, run_id=run.id)\n",
    "            break\n",
    "\n",
    "        tool_approvals = []\n",
    "        for tool_call in tool_calls:\n",
    "            if isinstance(tool_call, RequiredMcpToolCall):\n",
    "                try:\n",
    "                    print(f\"Approving tool call: {tool_call}\")\n",
    "                    tool_approvals.append(\n",
    "                        ToolApproval(\n",
    "                            tool_call_id=tool_call.id,\n",
    "                            approve=True, # 承認する場合は True、拒否する場合は False\n",
    "                            headers=mcp_tool.headers,\n",
    "                        )\n",
    "                    )\n",
    "                except Exception as e:\n",
    "                    print(f\"Error approving tool_call {tool_call.id}: {e}\")\n",
    "\n",
    "        print(f\"tool_approvals: {tool_approvals}\")\n",
    "        if tool_approvals:\n",
    "            # ツール承認を送信\n",
    "            agents_client.runs.submit_tool_outputs(\n",
    "                thread_id=thread.id,\n",
    "                run_id=run.id,\n",
    "                tool_approvals=tool_approvals\n",
    "            )\n",
    "\n",
    "    print(f\"Current run status: {run.status}\")"
   ]
  },
  {
   "cell_type": "code",
   "execution_count": 16,
   "id": "df9bd037",
   "metadata": {},
   "outputs": [
    {
     "name": "stdout",
     "output_type": "stream",
     "text": [
      "USER: Azure AI Foundry Agent Service の最新情報を教えてください。\n",
      "ASSISTANT: Azure AI Foundry Agent Serviceの最新情報（2025年6月時点）は以下のとおりです。\n",
      "\n",
      "### 最新リリース・重要なアップデート\n",
      "\n",
      "#### 2025年6月\n",
      "- **Deep Researchツール**  \n",
      "  Azure OpenAIのo3-deep-researchモデルとBing Searchを活用したマルチステップリサーチツールが利用可能になりました。  \n",
      "  [Deep Researchツールの詳細](https://learn.microsoft.com/en-us/azure/ai-foundry/agents/how-to/tools/deep-research)\n",
      "\n",
      "- **Model Context Protocol (MCP) ツール**  \n",
      "  エージェントからリモートのMCPサーバー上にホストされたツールへ接続可能になり、エージェントの機能拡張ができるようになりました。  \n",
      "  [MCPツールの詳細](https://learn.microsoft.com/en-us/azure/ai-foundry/agents/how-to/tools/model-context-protocol)\n",
      "\n",
      "#### 2025年5月\n",
      "- **一般提供開始（GA）**\n",
      "    - Azure AI Foundry Agent Serviceが一般提供となりました。\n",
      "    - Visual Studio Code拡張でエージェントのデプロイ・管理が可能。\n",
      "    - 「Connected Agents」により、複数のエージェントを1つのシステム内で連携可能に。\n",
      "    - エージェントのトレース機能（入出力経路の可視化）が追加。\n",
      "    - Azure Logic Appsによるトリガー実行（特定イベント発生時に自動でエージェントを呼び出し）。\n",
      "    - Bing Custom Search、Morningstarなど新ツールへの対応。\n",
      "\n",
      "#### 2025年4月以前\n",
      "- Azure Monitorとの統合で指標（実行数、ファイル数など）が参照可能に。\n",
      "- Azure Cosmos DBを利用したBYO（Bring Your Own）スレッドストレージに対応。\n",
      "- Microsoft Fabricデータとの連携機能（Fabricツール）を提供。\n",
      "\n",
      "#### 2024年12月\n",
      "- サービスのパブリックプレビューを開始、複数のAIモデル（Llama 3, Mistral, Cohereなど）やMicrosoft管理・持ち込みストレージ選択等に対応。\n",
      "\n",
      "---\n",
      "\n",
      "### 主な新機能・特徴まとめ\n",
      "\n",
      "- エージェントの複数接続・連携・オーケストレーション\n",
      "- MCPによる外部ツール連携\n",
      "- Azure Logic Appsなどイベント駆動型の自動化パターンの強化\n",
      "- トレース機能とAzure Monitorによるモニタリング・管理の利便性向上\n",
      "- Deep ResearchやBing/Morningstarを使ったエージェントツールの強化\n",
      "- ポータルUIからのエージェント作成・デバッグ・管理\n",
      "\n",
      "---\n",
      "\n",
      "さらに詳しい「What's new」は公式ドキュメントをご参照ください：\n",
      "[What's new in Azure AI Foundry Agent Service](https://learn.microsoft.com/en-us/azure/ai-foundry/agents/whats-new)\n",
      "\n",
      "追加の詳細や個別機能の説明が必要な場合はご質問ください！\n"
     ]
    }
   ],
   "source": [
    "agent_run_outputs(thread.id, agents_client)"
   ]
  },
  {
   "cell_type": "markdown",
   "id": "7902267b",
   "metadata": {},
   "source": [
    "# トレースの確認\n",
    "\n",
    "[Azure AI Foundry Portal](https://ai.azure.com/?cid=learnDocs) でエージェントの実行トレースを確認してみましょう。"
   ]
  },
  {
   "cell_type": "markdown",
   "id": "f6e7c199",
   "metadata": {},
   "source": [
    "# Agent ID を .env ファイルに保存\n",
    "\n",
    "作成したFile SearchエージェントのIDを永続化し、他のノートブックで再利用できるようにします。"
   ]
  },
  {
   "cell_type": "code",
   "execution_count": null,
   "id": "ae3a16c1",
   "metadata": {},
   "outputs": [
    {
     "name": "stdout",
     "output_type": "stream",
     "text": [
      ".envファイルに FOUNDRY_MCP_AGENT_ID=\"asst_LYbl3utUTzFdl9RV7iQU5LjT\" を追記しました。\n"
     ]
    },
    {
     "data": {
      "text/plain": [
       "True"
      ]
     },
     "execution_count": 17,
     "metadata": {},
     "output_type": "execute_result"
    }
   ],
   "source": [
    "# 変数の定義\n",
    "agent_env_key = \"FOUNDRY_MCP_AGENT_ID\"\n",
    "agent_env_value = mcp_agent.id\n",
    "\n",
    "# .envファイルのパスを自動探索\n",
    "env_path = find_dotenv()  # 見つからなければ''を返す\n",
    "if not env_path:\n",
    "    raise FileNotFoundError(\".envファイルが見つかりませんでした。\")\n",
    "\n",
    "# AGENT_ID を .env ファイルに追記\n",
    "with open(env_path, \"a\", encoding=\"utf-8\") as f:\n",
    "    f.write(f'\\n{agent_env_key}=\"{agent_env_value}\"')\n",
    "\n",
    "print(f'.envファイルに {agent_env_key}=\\\"{agent_env_value}\\\" を追記しました。')\n"
   ]
  }
 ],
 "metadata": {
  "kernelspec": {
   "display_name": ".venv",
   "language": "python",
   "name": "python3"
  },
  "language_info": {
   "codemirror_mode": {
    "name": "ipython",
    "version": 3
   },
   "file_extension": ".py",
   "mimetype": "text/x-python",
   "name": "python",
   "nbconvert_exporter": "python",
   "pygments_lexer": "ipython3",
   "version": "3.11.9"
  }
 },
 "nbformat": 4,
 "nbformat_minor": 5
}
