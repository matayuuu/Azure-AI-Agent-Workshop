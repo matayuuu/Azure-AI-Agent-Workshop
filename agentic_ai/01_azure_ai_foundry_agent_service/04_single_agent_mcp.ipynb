{
 "cells": [
  {
   "cell_type": "markdown",
   "id": "bb8e05e0",
   "metadata": {},
   "source": [
    "# TODO：概要"
   ]
  },
  {
   "cell_type": "markdown",
   "id": "c11328a6",
   "metadata": {},
   "source": [
    "# ライブラリのインポート"
   ]
  },
  {
   "cell_type": "code",
   "execution_count": 1,
   "id": "5345c7a7",
   "metadata": {},
   "outputs": [],
   "source": [
    "import os\n",
    "import time\n",
    "import json\n",
    "import datetime\n",
    "import zoneinfo\n",
    "\n",
    "import requests\n",
    "\n",
    "from dotenv import load_dotenv, find_dotenv\n",
    "\n",
    "from azure.identity import DefaultAzureCredential\n",
    "from azure.ai.projects import AIProjectClient\n",
    "from azure.ai.agents.models import (\n",
    "    MessageTextContent,\n",
    "    ListSortOrder,\n",
    "    McpTool,\n",
    "    MCPToolDefinition,\n",
    "    RequiredMcpToolCall,\n",
    "    SubmitToolApprovalAction,\n",
    "    ToolApproval,\n",
    "    CodeInterpreterTool,\n",
    "    FunctionTool,\n",
    "    ToolSet,\n",
    ")"
   ]
  },
  {
   "cell_type": "markdown",
   "id": "dfb3e521",
   "metadata": {},
   "source": [
    "# 環境変数の取得"
   ]
  },
  {
   "cell_type": "code",
   "execution_count": 2,
   "id": "9cc954df",
   "metadata": {},
   "outputs": [],
   "source": [
    "load_dotenv(override=True)\n",
    "\n",
    "PROJECT_ENDPOINT=os.getenv(\"PROJECT_ENDPOINT\")\n",
    "AZURE_DEPLOYMENT_NAME=os.getenv(\"AZURE_DEPLOYMENT_NAME\")"
   ]
  },
  {
   "cell_type": "markdown",
   "id": "9dd8af79",
   "metadata": {},
   "source": [
    "# クライアントの初期化"
   ]
  },
  {
   "cell_type": "code",
   "execution_count": 3,
   "id": "abd2dd78",
   "metadata": {},
   "outputs": [],
   "source": [
    "# AI Project Client を初期化\n",
    "project_client = AIProjectClient(\n",
    "    endpoint=PROJECT_ENDPOINT,\n",
    "    credential=DefaultAzureCredential()\n",
    ")\n",
    "\n",
    "# AgentClient の作成\n",
    "agents_client = project_client.agents"
   ]
  },
  {
   "cell_type": "markdown",
   "id": "91e4d74f",
   "metadata": {},
   "source": [
    "# ユーティリティ関数"
   ]
  },
  {
   "cell_type": "code",
   "execution_count": 4,
   "id": "84b443b8",
   "metadata": {},
   "outputs": [],
   "source": [
    "def agent_run_outputs(thread_id, agents_client, target_dir=\"./output_images\"):\n",
    "    \"\"\"\n",
    "    指定したスレッドIDのRun実行結果（テキスト・画像）をNotebook上に表示＆画像は保存。\n",
    "    \"\"\"\n",
    "    messages = agents_client.messages.list(thread_id=thread_id, order=ListSortOrder.ASCENDING)\n",
    "    os.makedirs(target_dir, exist_ok=True)\n",
    "\n",
    "    for message in messages:\n",
    "        # テキスト出力\n",
    "        if message.text_messages:\n",
    "            for txt in message.text_messages:\n",
    "                print(f\"{message.role.upper()}: {txt.text.value}\")\n",
    "        \n",
    "        # 画像出力\n",
    "        if hasattr(message, \"image_contents\"):\n",
    "            for image_content in message.image_contents:\n",
    "                file_id = image_content.image_file.file_id\n",
    "                file_name = f\"{file_id}_image_file.png\"\n",
    "\n",
    "                agents_client.files.save(\n",
    "                    file_id=file_id,\n",
    "                    file_name=file_name,\n",
    "                    target_dir=target_dir\n",
    "                )\n",
    "                print(f\"Saved image: {file_name}\")\n",
    "                display(Image(filename=f\"{target_dir}/{file_name}\"))"
   ]
  },
  {
   "cell_type": "markdown",
   "id": "f230a80e",
   "metadata": {},
   "source": [
    "# ツールの定義"
   ]
  },
  {
   "cell_type": "code",
   "execution_count": 5,
   "id": "e02407db",
   "metadata": {},
   "outputs": [
    {
     "name": "stdout",
     "output_type": "stream",
     "text": [
      "{'mcp': [{'server_label': 'MicrosoftDocs', 'headers': {}, 'require_approval': 'never'}]}\n"
     ]
    }
   ],
   "source": [
    "mcp_tool = McpTool(\n",
    "    server_label=\"MicrosoftDocs\",\n",
    "    server_url=\"https://learn.microsoft.com/api/mcp\",\n",
    ")\n",
    "\n",
    "# MCP ツール実行時の承認モードを never に設定\n",
    "mcp_tool.set_approval_mode(\"never\")\n",
    "\n",
    "print(mcp_tool.resources)"
   ]
  },
  {
   "cell_type": "markdown",
   "id": "727cedd7",
   "metadata": {},
   "source": [
    "# エージェントの作成"
   ]
  },
  {
   "cell_type": "code",
   "execution_count": 6,
   "id": "aab8b138",
   "metadata": {},
   "outputs": [
    {
     "name": "stdout",
     "output_type": "stream",
     "text": [
      "Created Agent. AGENT_ID: asst_4FoM3ziJ39C5DKojFMTADmFk\n"
     ]
    }
   ],
   "source": [
    "mcp_agent = agents_client.create_agent(\n",
    "    model=AZURE_DEPLOYMENT_NAME,\n",
    "    name=\"mcp_agent\",\n",
    "    instructions=(\n",
    "        \"あなたは、MCPツールを使用してユーザーを支援できる有用なエージェントです。\"\n",
    "        \"利用可能なMCPツールを使用して、質問に答えてタスクを実行します。\"    \n",
    "    ),\n",
    "    description=(\n",
    "        \"あなたは Microsoft の公式ドキュメントを検索できる MCP ツールを持っているエージェントです。\"\n",
    "    ),\n",
    "    tools=mcp_tool.definitions,\n",
    "    tool_resources=mcp_tool.resources,\n",
    ")\n",
    "print(f\"Created Agent. AGENT_ID: {mcp_agent.id}\")\n"
   ]
  },
  {
   "cell_type": "code",
   "execution_count": 7,
   "id": "b9f0515a",
   "metadata": {},
   "outputs": [
    {
     "name": "stdout",
     "output_type": "stream",
     "text": [
      "{\n",
      "  \"id\": \"asst_4FoM3ziJ39C5DKojFMTADmFk\",\n",
      "  \"object\": \"assistant\",\n",
      "  \"created_at\": 1753674539,\n",
      "  \"name\": \"mcp_agent\",\n",
      "  \"description\": \"あなたは Microsoft の公式ドキュメントを検索できる MCP ツールを持っているエージェントです。\",\n",
      "  \"model\": \"gpt-4.1\",\n",
      "  \"instructions\": \"あなたは、MCPツールを使用してユーザーを支援できる有用なエージェントです。利用可能なMCPツールを使用して、質問に答えてタスクを実行します。\",\n",
      "  \"tools\": [\n",
      "    {\n",
      "      \"type\": \"mcp\",\n",
      "      \"server_label\": \"MicrosoftDocs\",\n",
      "      \"server_url\": \"https://learn.microsoft.com/api/mcp\",\n",
      "      \"allowed_tools\": null\n",
      "    }\n",
      "  ],\n",
      "  \"top_p\": 1.0,\n",
      "  \"temperature\": 1.0,\n",
      "  \"tool_resources\": {},\n",
      "  \"metadata\": {},\n",
      "  \"response_format\": \"auto\"\n",
      "}\n"
     ]
    }
   ],
   "source": [
    "agent_dict = mcp_agent.as_dict()\n",
    "print(json.dumps(agent_dict, indent=2, ensure_ascii=False))"
   ]
  },
  {
   "cell_type": "markdown",
   "id": "ef364e05",
   "metadata": {},
   "source": [
    "# スレッドの作成"
   ]
  },
  {
   "cell_type": "code",
   "execution_count": 8,
   "id": "a3cac8e4",
   "metadata": {},
   "outputs": [
    {
     "name": "stdout",
     "output_type": "stream",
     "text": [
      "Created Thread. THREAD_ID: thread_NE90dMXZDga6sW2ngkNIR0iZ\n"
     ]
    }
   ],
   "source": [
    "# Thread の作成\n",
    "thread = agents_client.threads.create()\n",
    "print(f\"Created Thread. THREAD_ID: {thread.id}\")"
   ]
  },
  {
   "cell_type": "markdown",
   "id": "bff535c8",
   "metadata": {},
   "source": [
    "# ユーザーメッセージの追加"
   ]
  },
  {
   "cell_type": "code",
   "execution_count": 9,
   "id": "e9f75006",
   "metadata": {},
   "outputs": [
    {
     "name": "stdout",
     "output_type": "stream",
     "text": [
      "Added Message. MESSAGE_ID: msg_fgCaIRQbxqXCTsUvRjqowsWY\n"
     ]
    }
   ],
   "source": [
    "# メッセージの追加\n",
    "user_message = \"Azure AI Foundry Agent Service の最新情報を教えてください。\"\n",
    "\n",
    "message = agents_client.messages.create(\n",
    "    thread_id=thread.id,\n",
    "    role=\"user\",\n",
    "    content=user_message,\n",
    ")\n",
    "\n",
    "print(f\"Added Message. MESSAGE_ID: {message.id}\")"
   ]
  },
  {
   "cell_type": "markdown",
   "id": "15975674",
   "metadata": {},
   "source": [
    "# Run の実行"
   ]
  },
  {
   "cell_type": "markdown",
   "id": "b1e2d5d6",
   "metadata": {},
   "source": [
    "## MCP ツール自動承認で実行"
   ]
  },
  {
   "cell_type": "code",
   "execution_count": 10,
   "id": "859af704",
   "metadata": {},
   "outputs": [
    {
     "name": "stdout",
     "output_type": "stream",
     "text": [
      "USER: Azure AI Foundry Agent Service の最新情報を教えてください。\n",
      "ASSISTANT: 最新の公式情報に基づき、「Azure AI Foundry Agent Service」の主な最新情報をまとめます（2025年6月時点）：\n",
      "\n",
      "---\n",
      "\n",
      "### 2025年6月の主なアップデート\n",
      "\n",
      "- **Deep Research Tool**  \n",
      "  Azure OpenAIの o3-deep-research モデルとBing Searchの知識ソースを活用した多段階リサーチプロセスのツールが利用可能に。\n",
      "\n",
      "- **Model Context Protocol (MCP) Tool**  \n",
      "  MCPサーバーにホストされているツールとエージェントを連携できるMCPツールが新登場。より多様な外部ツールとAIエージェントを連携させることが簡単になります。\n",
      "\n",
      "---\n",
      "\n",
      "### 2025年5月の主なアップデート\n",
      "\n",
      "- **一般提供（GA）開始**  \n",
      "  Azure AI Foundry Agent Serviceが正式リリースに。\n",
      "\n",
      "- **VS Code拡張機能**  \n",
      "  Visual Studio Code 上でエージェントのデプロイや構成変更など、様々なFoundry操作が可能に。\n",
      "\n",
      "- **Connected Agents**  \n",
      "  複数エージェントを協調させる“Connected agents”機能が追加。“マルチエージェント”システムの構築が容易。\n",
      "\n",
      "- **トレース機能**  \n",
      "  各エージェント処理の入力/出力などを順番に追跡するトレース機能が利用可能に。\n",
      "\n",
      "- **Azure Logic Appsとの連携**  \n",
      "  メール受信やチケット発行などのイベントに応じ、Logic Apps経由でエージェントを自動起動できるように。\n",
      "\n",
      "- **新ツール追加**  \n",
      "  - Bingカスタムサーチ\n",
      "  - Morningstar（投資用データソース）\n",
      "\n",
      "---\n",
      "\n",
      "### 2025年4月/3月/2月の主なアップデート\n",
      "\n",
      "- **Azure Monitorインテグレーション**  \n",
      "  エージェント関連のメトリック確認がAzure Monitorで可能に。\n",
      "- **BYOスレッドストレージ**  \n",
      "  Cosmos DB for NoSQLアカウントをスレッド用ストレージとして利用可能。\n",
      "- **Microsoft Fabricツール追加**  \n",
      "  Fabricデータとの連携が強化。\n",
      "\n",
      "---\n",
      "\n",
      "### 補足\n",
      "- 最新情報は「What's new in Azure AI Foundry Agent Service」に随時更新されています。  \n",
      "  → [What's new公式ドキュメント（英語）](https://learn.microsoft.com/en-us/azure/ai-foundry/agents/whats-new)\n",
      "\n",
      "- MCPツール関連の詳細や活用例も公式ドキュメントで紹介されています。  \n",
      "  → [MCPツールについて（英語）](https://learn.microsoft.com/en-us/azure/ai-foundry/agents/how-to/tools/model-context-protocol)\n",
      "\n",
      "---\n",
      "\n",
      "もし特定機能や、“Deep Researchツール”や“MCPツール”の活用方法、接続例など知りたいことがあれば、さらに詳しくご案内できますのでご質問ください。\n"
     ]
    }
   ],
   "source": [
    "run = agents_client.runs.create_and_process(\n",
    "    thread_id=thread.id,\n",
    "    agent_id=mcp_agent.id,\n",
    "    tool_resources=mcp_tool.resources # MCP ツールのリソース情報を渡す（承認モード設定やリクエストヘッダーの設定はここで定義される）\n",
    ")\n",
    "\n",
    "if run.status == \"failed\":\n",
    "    print(f\"Run failed: {run.last_error}\")\n",
    "else:\n",
    "    agent_run_outputs(thread.id, agents_client)"
   ]
  },
  {
   "cell_type": "markdown",
   "id": "7557baf2",
   "metadata": {},
   "source": [
    "## MCP ツール手動承認で実行"
   ]
  },
  {
   "cell_type": "code",
   "execution_count": 11,
   "id": "a560e174",
   "metadata": {},
   "outputs": [
    {
     "name": "stdout",
     "output_type": "stream",
     "text": [
      "Created Thread. THREAD_ID: thread_LILk34Cyn3wxcpz5sf0dv7bm\n",
      "Added Message. MESSAGE_ID: msg_0DVpCXOtHRLAj8CLyOvWgJni\n",
      "Current run status: RunStatus.IN_PROGRESS\n",
      "Current run status: RunStatus.IN_PROGRESS\n",
      "Approving tool call: {'id': 'call_obUNOGbTu8wRipSep4NQlcCl', 'type': 'mcp', 'arguments': '{\"question\":\"Azure AI Foundry Agent Service ã\\x81®æ\\x9c\\x80æ\\x96°æ\\x83\\x85å\\xa0±\"}', 'name': 'microsoft_docs_search', 'server_label': 'MicrosoftDocs'}\n",
      "tool_approvals: [{'tool_call_id': 'call_obUNOGbTu8wRipSep4NQlcCl', 'approve': True, 'headers': {}}]\n",
      "Current run status: RunStatus.REQUIRES_ACTION\n",
      "Current run status: RunStatus.IN_PROGRESS\n",
      "Current run status: RunStatus.IN_PROGRESS\n",
      "Current run status: RunStatus.IN_PROGRESS\n",
      "Current run status: RunStatus.IN_PROGRESS\n",
      "Current run status: RunStatus.IN_PROGRESS\n",
      "Current run status: RunStatus.IN_PROGRESS\n",
      "Current run status: RunStatus.IN_PROGRESS\n",
      "Current run status: RunStatus.COMPLETED\n"
     ]
    }
   ],
   "source": [
    "# Thread の作成\n",
    "thread = agents_client.threads.create()\n",
    "print(f\"Created Thread. THREAD_ID: {thread.id}\")\n",
    "\n",
    "# メッセージの追加\n",
    "user_message = \"Azure AI Foundry Agent Service の最新情報を教えてください。\"\n",
    "message = agents_client.messages.create(\n",
    "    thread_id=thread.id,\n",
    "    role=\"user\",\n",
    "    content=user_message,\n",
    ")\n",
    "print(f\"Added Message. MESSAGE_ID: {message.id}\")\n",
    "\n",
    "# Run の作成と実行\n",
    "run = agents_client.runs.create(\n",
    "    thread_id=thread.id,\n",
    "    agent_id=mcp_agent.id\n",
    ")\n",
    "\n",
    "# Run の状態をポーリングして確認\n",
    "while run.status in [\"queued\", \"in_progress\", \"requires_action\"]:\n",
    "    time.sleep(1)\n",
    "    run = agents_client.runs.get(thread_id=thread.id, run_id=run.id)\n",
    "\n",
    "    if run.status == \"requires_action\" and isinstance(run.required_action, SubmitToolApprovalAction):\n",
    "        tool_calls = run.required_action.submit_tool_approval.tool_calls\n",
    "        if not tool_calls:\n",
    "            print(\"No tool calls provided - cancelling run\")\n",
    "            agents_client.runs.cancel(thread_id=thread.id, run_id=run.id)\n",
    "            break\n",
    "\n",
    "        tool_approvals = []\n",
    "        for tool_call in tool_calls:\n",
    "            if isinstance(tool_call, RequiredMcpToolCall):\n",
    "                try:\n",
    "                    print(f\"Approving tool call: {tool_call}\")\n",
    "                    tool_approvals.append(\n",
    "                        ToolApproval(\n",
    "                            tool_call_id=tool_call.id,\n",
    "                            approve=True, # 承認する場合は True、拒否する場合は False\n",
    "                            headers=mcp_tool.headers,\n",
    "                        )\n",
    "                    )\n",
    "                except Exception as e:\n",
    "                    print(f\"Error approving tool_call {tool_call.id}: {e}\")\n",
    "\n",
    "        print(f\"tool_approvals: {tool_approvals}\")\n",
    "        if tool_approvals:\n",
    "            # ツール承認を送信\n",
    "            agents_client.runs.submit_tool_outputs(\n",
    "                thread_id=thread.id,\n",
    "                run_id=run.id,\n",
    "                tool_approvals=tool_approvals\n",
    "            )\n",
    "\n",
    "    print(f\"Current run status: {run.status}\")"
   ]
  },
  {
   "cell_type": "code",
   "execution_count": 12,
   "id": "df9bd037",
   "metadata": {},
   "outputs": [
    {
     "name": "stdout",
     "output_type": "stream",
     "text": [
      "USER: Azure AI Foundry Agent Service の最新情報を教えてください。\n",
      "ASSISTANT: Azure AI Foundry Agent Serviceの最新情報は以下の通りです（2025年6月時点）：\n",
      "\n",
      "### 主な新機能・更新点\n",
      "\n",
      "#### 2025年6月\n",
      "- **Deep Research tool**  \n",
      "  複数ステップのリサーチプロセスが可能な「Deep Research」ツールが追加されました。Azure OpenAIの `o3-deep-research` モデルとBing検索でのグラウンディングを組み合わせて利用します。\n",
      "  - [Deep Research toolの詳細](https://learn.microsoft.com/en-us/azure/ai-foundry/agents/how-to/tools/deep-research)\n",
      "\n",
      "- **Model Context Protocol (MCP) tool**  \n",
      "  エージェントの機能拡張として、リモートMCPサーバー上のツール接続ができるようになっています。\n",
      "  - [MCPツールの詳細](https://learn.microsoft.com/en-us/azure/ai-foundry/agents/how-to/tools/model-context-protocol)\n",
      "\n",
      "#### 2025年5月（GAリリース）\n",
      "- サービスが一般提供（GA）されました。\n",
      "- **VS Code拡張機能**  \n",
      "  エージェントのデプロイ・設定などをVS Codeから直接操作できます。\n",
      "- **Connected agents**  \n",
      "  複数のエージェントを組み合わせたマルチエージェントシステムの構築と連携が可能になりました。\n",
      "- **Trace agents**  \n",
      "  エージェントの実行スレッドのトレースにより、入出力や実行順序を可視化可能。\n",
      "- **Logic Appsによるトリガー**  \n",
      "  メール受信や新しいカスタマーチケットなどのイベントでAIエージェントが自動実行可能に。\n",
      "- **エージェント用新ツール**  \n",
      "  Bing Custom Search、Morningstarなど、複数の新ツールに対応。\n",
      "\n",
      "#### 2025年4月\n",
      "- **Azure Monitor連携**  \n",
      "  エージェントに関するメトリクスの可視化（ファイルインデックス数、実行回数など）。\n",
      "- **BYO Thread Storage**  \n",
      "  会話履歴などをCosmos DB（NoSQL）など自前リソースで管理可能。\n",
      "\n",
      "#### その他\n",
      "- 新しいモデルのサポート（Llama 3.1-70B, Mistral-large, Cohere command R+）\n",
      "- セキュリティやストレージの柔軟化\n",
      "- Azure FunctionsやMicrosoft Fabricとの連携強化\n",
      "- 管理ポータル（AI Foundry portal）でGUI操作にも対応\n",
      "\n",
      "### 参考ドキュメント\n",
      "- [What's new in Azure AI Foundry Agent Service (公式最新情報)](https://learn.microsoft.com/en-us/azure/ai-foundry/agents/whats-new)\n",
      "- [MCPツールの使い方](https://learn.microsoft.com/en-us/azure/ai-foundry/agents/how-to/tools/model-context-protocol)\n",
      "- [エージェントとLogic Apps連携](https://learn.microsoft.com/en-us/azure/ai-foundry/agents/how-to/triggers)\n",
      "- [Connected Agentsとは](https://learn.microsoft.com/en-us/azure/ai-foundry/agents/how-to/connected-agents)\n",
      "\n",
      "追加の詳細や、特定の新機能の使い方にご興味があればご指定ください！\n"
     ]
    }
   ],
   "source": [
    "agent_run_outputs(thread.id, agents_client)"
   ]
  },
  {
   "cell_type": "markdown",
   "id": "7902267b",
   "metadata": {},
   "source": [
    "※ ここで、Azure AI Foundry 上の Web UI からエージェントのトレースを確認してみよう。"
   ]
  },
  {
   "cell_type": "markdown",
   "id": "f6e7c199",
   "metadata": {},
   "source": [
    "# Agent ID を .env ファイルに保存\n",
    "※ 今回作成したエージェントを、後続の Connected Agents のハンズオン演習で使用するため永続化します。"
   ]
  },
  {
   "cell_type": "code",
   "execution_count": 13,
   "id": "ae3a16c1",
   "metadata": {},
   "outputs": [
    {
     "name": "stdout",
     "output_type": "stream",
     "text": [
      ".envファイルに FOUNDRY_MCP_AGENT_ID=\"asst_4FoM3ziJ39C5DKojFMTADmFk\" を追記しました。\n"
     ]
    },
    {
     "data": {
      "text/plain": [
       "True"
      ]
     },
     "execution_count": 13,
     "metadata": {},
     "output_type": "execute_result"
    }
   ],
   "source": [
    "# 変数の定義\n",
    "agent_env_key = \"FOUNDRY_MCP_AGENT_ID\"\n",
    "agent_env_value = mcp_agent.id\n",
    "\n",
    "# .envファイルのパスを自動探索\n",
    "env_path = find_dotenv()  # 見つからなければ''を返す\n",
    "if not env_path:\n",
    "    raise FileNotFoundError(\".envファイルが見つかりませんでした。\")\n",
    "\n",
    "# AGENT_ID を .env ファイルに追記\n",
    "with open(env_path, \"a\", encoding=\"utf-8\") as f:\n",
    "    f.write(f'\\n{agent_env_key}=\"{agent_env_value}\"')\n",
    "\n",
    "print(f'.envファイルに {agent_env_key}=\\\"{agent_env_value}\\\" を追記しました。')\n",
    "\n",
    "# .envの自動読み込み（以降os.environで参照可能）\n",
    "load_dotenv(env_path)\n"
   ]
  }
 ],
 "metadata": {
  "kernelspec": {
   "display_name": ".venv",
   "language": "python",
   "name": "python3"
  },
  "language_info": {
   "codemirror_mode": {
    "name": "ipython",
    "version": 3
   },
   "file_extension": ".py",
   "mimetype": "text/x-python",
   "name": "python",
   "nbconvert_exporter": "python",
   "pygments_lexer": "ipython3",
   "version": "3.11.9"
  }
 },
 "nbformat": 4,
 "nbformat_minor": 5
}
