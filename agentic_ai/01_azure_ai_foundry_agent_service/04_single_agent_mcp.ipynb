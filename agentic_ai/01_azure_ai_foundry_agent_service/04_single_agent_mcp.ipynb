{
 "cells": [
  {
   "cell_type": "markdown",
   "id": "bb8e05e0",
   "metadata": {},
   "source": [
    "# TODO：概要"
   ]
  },
  {
   "cell_type": "markdown",
   "id": "c11328a6",
   "metadata": {},
   "source": [
    "# ライブラリのインポート"
   ]
  },
  {
   "cell_type": "code",
   "execution_count": 49,
   "id": "5345c7a7",
   "metadata": {},
   "outputs": [],
   "source": [
    "import os\n",
    "import time\n",
    "import json\n",
    "import datetime\n",
    "import zoneinfo\n",
    "\n",
    "import requests\n",
    "\n",
    "from dotenv import load_dotenv, find_dotenv\n",
    "\n",
    "from azure.identity import DefaultAzureCredential\n",
    "from azure.ai.projects import AIProjectClient\n",
    "from azure.ai.agents.models import (\n",
    "    MessageTextContent,\n",
    "    ListSortOrder,\n",
    "    McpTool,\n",
    "    MCPToolDefinition,\n",
    "    RequiredMcpToolCall,\n",
    "    SubmitToolApprovalAction,\n",
    "    ToolApproval,\n",
    "    CodeInterpreterTool,\n",
    "    FunctionTool,\n",
    "    ToolSet,\n",
    ")"
   ]
  },
  {
   "cell_type": "markdown",
   "id": "dfb3e521",
   "metadata": {},
   "source": [
    "# 環境変数の取得"
   ]
  },
  {
   "cell_type": "code",
   "execution_count": 50,
   "id": "9cc954df",
   "metadata": {},
   "outputs": [],
   "source": [
    "load_dotenv(override=True)\n",
    "\n",
    "PROJECT_ENDPOINT=os.getenv(\"PROJECT_ENDPOINT\")\n",
    "AZURE_DEPLOYMENT_NAME=os.getenv(\"AZURE_DEPLOYMENT_NAME\")"
   ]
  },
  {
   "cell_type": "markdown",
   "id": "9dd8af79",
   "metadata": {},
   "source": [
    "# クライアントの初期化"
   ]
  },
  {
   "cell_type": "code",
   "execution_count": 51,
   "id": "abd2dd78",
   "metadata": {},
   "outputs": [],
   "source": [
    "# AI Project Client を初期化\n",
    "project_client = AIProjectClient(\n",
    "    endpoint=PROJECT_ENDPOINT,\n",
    "    credential=DefaultAzureCredential()\n",
    ")\n",
    "\n",
    "# AgentClient の作成\n",
    "agents_client = project_client.agents"
   ]
  },
  {
   "cell_type": "markdown",
   "id": "91e4d74f",
   "metadata": {},
   "source": [
    "# ユーティリティ関数"
   ]
  },
  {
   "cell_type": "code",
   "execution_count": 52,
   "id": "84b443b8",
   "metadata": {},
   "outputs": [],
   "source": [
    "def agent_run_outputs(thread_id, agents_client, target_dir=\"./output_images\"):\n",
    "    \"\"\"\n",
    "    指定したスレッドIDのRun実行結果（テキスト・画像）をNotebook上に表示＆画像は保存。\n",
    "    \"\"\"\n",
    "    messages = agents_client.messages.list(thread_id=thread_id, order=ListSortOrder.ASCENDING)\n",
    "    os.makedirs(target_dir, exist_ok=True)\n",
    "\n",
    "    for message in messages:\n",
    "        # テキスト出力\n",
    "        if message.text_messages:\n",
    "            for txt in message.text_messages:\n",
    "                print(f\"{message.role.upper()}: {txt.text.value}\")\n",
    "        \n",
    "        # 画像出力\n",
    "        if hasattr(message, \"image_contents\"):\n",
    "            for image_content in message.image_contents:\n",
    "                file_id = image_content.image_file.file_id\n",
    "                file_name = f\"{file_id}_image_file.png\"\n",
    "\n",
    "                agents_client.files.save(\n",
    "                    file_id=file_id,\n",
    "                    file_name=file_name,\n",
    "                    target_dir=target_dir\n",
    "                )\n",
    "                print(f\"Saved image: {file_name}\")\n",
    "                display(Image(filename=f\"{target_dir}/{file_name}\"))"
   ]
  },
  {
   "cell_type": "markdown",
   "id": "f230a80e",
   "metadata": {},
   "source": [
    "# ツールの定義"
   ]
  },
  {
   "cell_type": "code",
   "execution_count": null,
   "id": "e02407db",
   "metadata": {},
   "outputs": [
    {
     "name": "stdout",
     "output_type": "stream",
     "text": [
      "{'mcp': [{'server_label': 'MicrosoftDocs', 'headers': {}, 'require_approval': 'never'}]}\n"
     ]
    }
   ],
   "source": [
    "mcp_tool = McpTool(\n",
    "    server_label=\"MicrosoftDocs\",\n",
    "    server_url=\"https://learn.microsoft.com/api/mcp\",\n",
    ")\n",
    "\n",
    "# MCP ツール実行時の承認モードを never に設定\n",
    "mcp_tool.set_approval_mode(\"never\")\n",
    "\n",
    "print(mcp_tool.resources)"
   ]
  },
  {
   "cell_type": "markdown",
   "id": "727cedd7",
   "metadata": {},
   "source": [
    "# エージェントの作成"
   ]
  },
  {
   "cell_type": "code",
   "execution_count": 119,
   "id": "aab8b138",
   "metadata": {},
   "outputs": [
    {
     "name": "stdout",
     "output_type": "stream",
     "text": [
      "Created Agent. AGENT_ID: asst_46kuHDRuUpeFnNDrWuVOkypt\n"
     ]
    }
   ],
   "source": [
    "mcp_agent = agents_client.create_agent(\n",
    "    model=AZURE_DEPLOYMENT_NAME,\n",
    "    name=\"mcp_agent\",\n",
    "    instructions=(\n",
    "        \"あなたは、MCPツールを使用してユーザーを支援できる有用なエージェントです。\"\n",
    "        \"利用可能なMCPツールを使用して、質問に答えてタスクを実行します。\"    \n",
    "    ),\n",
    "    description=(\n",
    "        \"あなたは Microsoft の公式ドキュメントを検索できる MCP ツールを持っているエージェントです。\"\n",
    "    ),\n",
    "    tools=mcp_tool.definitions,\n",
    "    tool_resources=mcp_tool.resources,\n",
    ")\n",
    "print(f\"Created Agent. AGENT_ID: {mcp_agent.id}\")\n"
   ]
  },
  {
   "cell_type": "code",
   "execution_count": 120,
   "id": "b9f0515a",
   "metadata": {},
   "outputs": [
    {
     "name": "stdout",
     "output_type": "stream",
     "text": [
      "{\n",
      "  \"id\": \"asst_46kuHDRuUpeFnNDrWuVOkypt\",\n",
      "  \"object\": \"assistant\",\n",
      "  \"created_at\": 1753607349,\n",
      "  \"name\": \"mcp_agent\",\n",
      "  \"description\": \"あなたは Microsoft の公式ドキュメントを検索できる MCP ツールを持っているエージェントです。\",\n",
      "  \"model\": \"gpt-4.1\",\n",
      "  \"instructions\": \"あなたは、MCPツールを使用してユーザーを支援できる有用なエージェントです。利用可能なMCPツールを使用して、質問に答えてタスクを実行します。\",\n",
      "  \"tools\": [\n",
      "    {\n",
      "      \"type\": \"mcp\",\n",
      "      \"server_label\": \"MicrosoftDocs\",\n",
      "      \"server_url\": \"https://learn.microsoft.com/api/mcp\",\n",
      "      \"allowed_tools\": null\n",
      "    }\n",
      "  ],\n",
      "  \"top_p\": 1.0,\n",
      "  \"temperature\": 1.0,\n",
      "  \"tool_resources\": {},\n",
      "  \"metadata\": {},\n",
      "  \"response_format\": \"auto\"\n",
      "}\n"
     ]
    }
   ],
   "source": [
    "agent_dict = mcp_agent.as_dict()\n",
    "print(json.dumps(agent_dict, indent=2, ensure_ascii=False))"
   ]
  },
  {
   "cell_type": "markdown",
   "id": "ef364e05",
   "metadata": {},
   "source": [
    "# スレッドの作成"
   ]
  },
  {
   "cell_type": "code",
   "execution_count": 111,
   "id": "a3cac8e4",
   "metadata": {},
   "outputs": [
    {
     "name": "stdout",
     "output_type": "stream",
     "text": [
      "Created Thread. THREAD_ID: thread_rriOLxS2SimRUF5B90O7Ux1k\n"
     ]
    }
   ],
   "source": [
    "# Thread の作成\n",
    "thread = agents_client.threads.create()\n",
    "print(f\"Created Thread. THREAD_ID: {thread.id}\")"
   ]
  },
  {
   "cell_type": "markdown",
   "id": "bff535c8",
   "metadata": {},
   "source": [
    "# ユーザーメッセージの追加"
   ]
  },
  {
   "cell_type": "code",
   "execution_count": 112,
   "id": "e9f75006",
   "metadata": {},
   "outputs": [
    {
     "name": "stdout",
     "output_type": "stream",
     "text": [
      "Added Message. MESSAGE_ID: msg_UPYi1M4hNuiz6K64e6cdwFLj\n"
     ]
    }
   ],
   "source": [
    "# メッセージの追加\n",
    "user_message = \"Azure AI Foundry Agent Service の最新情報を教えてください。\"\n",
    "\n",
    "message = agents_client.messages.create(\n",
    "    thread_id=thread.id,\n",
    "    role=\"user\",\n",
    "    content=user_message,\n",
    ")\n",
    "\n",
    "print(f\"Added Message. MESSAGE_ID: {message.id}\")"
   ]
  },
  {
   "cell_type": "markdown",
   "id": "15975674",
   "metadata": {},
   "source": [
    "# Run の実行"
   ]
  },
  {
   "cell_type": "markdown",
   "id": "b1e2d5d6",
   "metadata": {},
   "source": [
    "## MCP ツール自動承認で実行"
   ]
  },
  {
   "cell_type": "code",
   "execution_count": null,
   "id": "859af704",
   "metadata": {},
   "outputs": [
    {
     "name": "stdout",
     "output_type": "stream",
     "text": [
      "USER: Azure AI Foundry Agent Service の最新情報を教えてください。\n",
      "ASSISTANT: Azure AI Foundry Agent Serviceの最新情報（2025年6月現在）の主な内容は以下の通りです。\n",
      "\n",
      "### 直近の主なアップデート\n",
      "\n",
      "#### 2025年6月\n",
      "- **Deep Research Tool**  \n",
      "  Azure OpenAIの `o3-deep-research` モデルとBing検索を利用したマルチステップリサーチツールが追加。\n",
      "\n",
      "- **Model Context Protocol (MCP) Tool**  \n",
      "  エージェントをリモートのModel Context Protocol (MCP) サーバーに接続できるようになりました。これにより、外部ツールとの連携が強化。\n",
      "\n",
      "#### 2025年5月\n",
      "- **一般提供（GA）開始**\n",
      "  - Azure AI Foundry Agent Serviceが正式リリースされ、以下の主要機能が追加・強化：\n",
      "    - **AI Foundry Visual Studio Code拡張機能**  \n",
      "      エージェントのデプロイや設定など、様々な操作がVSCodeから可能に。\n",
      "    - **Connected Agents**  \n",
      "      タスクごとのエージェントをプライマリエージェントとシームレスに連携でき、複雑なマルチエージェントシステムの構築が容易に。\n",
      "    - **Trace Agents**  \n",
      "      スレッド単位でエージェントの入力・出力・プロセスをトレースしデバッグが可能。\n",
      "    - **Azure Logic Appsとの統合**  \n",
      "      新しいイベント（メール・チケット等）発生時に自動でエージェントをトリガー可能に。\n",
      "    - **新しいエージェント用ツール**  \n",
      "      - Bing Custom Search  \n",
      "      - Morningstarデータソースとの連携\n",
      "\n",
      "#### 2025年4月\n",
      "- **Azure Monitor連携**によるエージェントの各種メトリクス取得\n",
      "- **BYO Thread Storage**  \n",
      "  会話履歴等のデータを自前のAzure Cosmos DB上に保存可能に\n",
      "\n",
      "#### 以前のアップデート\n",
      "- Microsoft Fabric tool連携\n",
      "- Foundryポータル上でのノーコードエージェント作成\n",
      "- .NET、Python等SDKのサポート\n",
      "- 非Azure OpenAIモデルの対応（Llama3/Mistral/Cohere等）\n",
      "\n",
      "### 最近の主要な追加ドキュメント\n",
      "- [Model Context Protocol (MCP) サーバー接続方法](https://learn.microsoft.com/en-us/azure/ai-foundry/agents/how-to/tools/model-context-protocol)\n",
      "- [MCPツール利用サンプル](https://learn.microsoft.com/en-us/azure/ai-foundry/agents/how-to/tools/model-context-protocol-samples)\n",
      "\n",
      "---\n",
      "\n",
      "詳しくは公式「[What's new in Azure AI Foundry Agent Service](https://learn.microsoft.com/en-us/azure/ai-foundry/agents/whats-new)」や最新ドキュメントをご確認ください。  \n",
      "他に、特定の機能や統合について詳しく知りたい場合はお知らせください。\n"
     ]
    }
   ],
   "source": [
    "run = agents_client.runs.create_and_process(\n",
    "    thread_id=thread.id,\n",
    "    agent_id=mcp_agent.id,\n",
    "    # MCP ツールのリソース情報を渡す（つまり、現状承認モード設定やリクエストヘッダーの設定はここで定義される）\n",
    "    tool_resources=mcp_tool.resources \n",
    ")\n",
    "\n",
    "if run.status == \"failed\":\n",
    "    print(f\"Run failed: {run.last_error}\")\n",
    "else:\n",
    "    agent_run_outputs(thread.id, agents_client)"
   ]
  },
  {
   "cell_type": "markdown",
   "id": "7557baf2",
   "metadata": {},
   "source": [
    "## MCP ツール手動承認で実行"
   ]
  },
  {
   "cell_type": "code",
   "execution_count": null,
   "id": "a560e174",
   "metadata": {},
   "outputs": [
    {
     "name": "stdout",
     "output_type": "stream",
     "text": [
      "Current run status: RunStatus.IN_PROGRESS\n",
      "Current run status: RunStatus.IN_PROGRESS\n",
      "Approving tool call: {'id': 'call_QRkKwWfOqVxoeLpQJL8LflaA', 'type': 'mcp', 'arguments': '{\"question\":\"Azure AI Foundry Agent Service ã\\x81®æ\\x9c\\x80æ\\x96°æ\\x83\\x85å\\xa0±\"}', 'name': 'microsoft_docs_search', 'server_label': 'MicrosoftDocs'}\n",
      "tool_approvals: [{'tool_call_id': 'call_QRkKwWfOqVxoeLpQJL8LflaA', 'approve': True, 'headers': {}}]\n",
      "Current run status: RunStatus.REQUIRES_ACTION\n",
      "Current run status: RunStatus.IN_PROGRESS\n",
      "Current run status: RunStatus.IN_PROGRESS\n",
      "Current run status: RunStatus.IN_PROGRESS\n",
      "Current run status: RunStatus.IN_PROGRESS\n",
      "Current run status: RunStatus.IN_PROGRESS\n",
      "Current run status: RunStatus.IN_PROGRESS\n",
      "Current run status: RunStatus.IN_PROGRESS\n",
      "Current run status: RunStatus.IN_PROGRESS\n",
      "Current run status: RunStatus.IN_PROGRESS\n",
      "Current run status: RunStatus.COMPLETED\n"
     ]
    }
   ],
   "source": [
    "run = agents_client.runs.create(\n",
    "    thread_id=thread.id,\n",
    "    agent_id=mcp_agent.id\n",
    ")\n",
    "\n",
    "while run.status in [\"queued\", \"in_progress\", \"requires_action\"]:\n",
    "    time.sleep(1)\n",
    "    run = agents_client.runs.get(thread_id=thread.id, run_id=run.id)\n",
    "\n",
    "    if run.status == \"requires_action\" and isinstance(run.required_action, SubmitToolApprovalAction):\n",
    "        tool_calls = run.required_action.submit_tool_approval.tool_calls\n",
    "        if not tool_calls:\n",
    "            print(\"No tool calls provided - cancelling run\")\n",
    "            agents_client.runs.cancel(thread_id=thread.id, run_id=run.id)\n",
    "            break\n",
    "\n",
    "        tool_approvals = []\n",
    "        for tool_call in tool_calls:\n",
    "            if isinstance(tool_call, RequiredMcpToolCall):\n",
    "                try:\n",
    "                    print(f\"Approving tool call: {tool_call}\")\n",
    "                    tool_approvals.append(\n",
    "                        ToolApproval(\n",
    "                            tool_call_id=tool_call.id,\n",
    "                            approve=True, # 承認する場合は True、拒否する場合は False\n",
    "                            headers=mcp_tool.headers,\n",
    "                        )\n",
    "                    )\n",
    "                except Exception as e:\n",
    "                    print(f\"Error approving tool_call {tool_call.id}: {e}\")\n",
    "\n",
    "        print(f\"tool_approvals: {tool_approvals}\")\n",
    "        if tool_approvals:\n",
    "            # ツール承認を送信\n",
    "            agents_client.runs.submit_tool_outputs(\n",
    "                thread_id=thread.id,\n",
    "                run_id=run.id,\n",
    "                tool_approvals=tool_approvals\n",
    "            )\n",
    "\n",
    "    print(f\"Current run status: {run.status}\")"
   ]
  },
  {
   "cell_type": "code",
   "execution_count": null,
   "id": "df9bd037",
   "metadata": {},
   "outputs": [
    {
     "name": "stdout",
     "output_type": "stream",
     "text": [
      "USER: Azure AI Foundry Agent Service の最新情報を教えてください。\n",
      "ASSISTANT: Azure AI Foundry Agent Serviceの最新情報（2025年6月時点）は以下の通りです。\n",
      "\n",
      "### 最新リリース・アップデート抜粋\n",
      "\n",
      "#### 2025年6月の主な新機能\n",
      "- **Deep Research tool**  \n",
      "  Azure OpenAIの新しい`o3-deep-research`モデルとBing Searchを活用したマルチステップリサーチツールを利用可能。\n",
      "  - [Deep Research tool（公式ドキュメント）](https://learn.microsoft.com/en-us/azure/ai-foundry/agents/how-to/tools/deep-research)\n",
      "\n",
      "- **Model Context Protocol（MCP）tool**  \n",
      "  MCPサーバー上のツールと連携できる機能が拡張。外部のModel Context Protocolのツールをエージェントと接続可能になり、AIエージェントの拡張性が向上。\n",
      "  - [MCP tool（公式ドキュメント）](https://learn.microsoft.com/en-us/azure/ai-foundry/agents/how-to/tools/model-context-protocol)\n",
      "\n",
      "#### 2025年5月のハイライト\n",
      "- **サービスのGA（General Availability）**  \n",
      "  Azure AI Foundry Agent Serviceが一般提供開始に。\n",
      "\n",
      "- **Visual Studio Code拡張**  \n",
      "  エージェントのデプロイや設定作業がVS Codeから直接可能。\n",
      "\n",
      "- **Connected Agents**  \n",
      "  主体エージェントとタスク特化エージェントが連携し、マルチエージェントシステムを外部オーケストレータ不要で構築可能。\n",
      "\n",
      "- **エージェントのトレース・監視**  \n",
      "  個々のエージェント実行に関与するプロセスの入出力や順序を可視化・デバッグ。\n",
      "\n",
      "- **Azure Logic Appsによる自動トリガー**  \n",
      "  イベント（例：メール受信や新規チケット発行）発生時に自動でエージェントを起動可能。\n",
      "\n",
      "- **新規ツール追加**  \n",
      "  - Bingカスタムサーチ\n",
      "  - Morningstar（投資リサーチ）\n",
      "  など、エージェントの知識ソース・データ連携が多様化。\n",
      "\n",
      "詳細なアップデート内容:  \n",
      "[What's new in Azure AI Foundry Agent Service（公式ドキュメント）](https://learn.microsoft.com/en-us/azure/ai-foundry/agents/whats-new)\n",
      "\n",
      "---\n",
      "\n",
      "### 直近の追加ドキュメント\n",
      "- [Model Context Protocol（MCP）サーバー接続（プレビュー）](https://learn.microsoft.com/en-us/azure/ai-foundry/agents/how-to/tools/model-context-protocol)\n",
      "- [AIエージェントのトレース・監視方法](https://learn.microsoft.com/en-us/azure/ai-foundry/agents/how-to/metrics)\n",
      "\n",
      "---\n",
      "\n",
      "### その他のポイント\n",
      "- Azure Monitorとの連携によるエージェントの稼働状況・指標の可視化\n",
      "- 「Bring Your Own thread storage」により、Cosmos DB for NoSQLを用いた会話履歴の自前管理が可能\n",
      "\n",
      "---\n",
      "\n",
      "ご希望に応じて、個別機能や設定方法等についても詳しく解説・ご案内可能です。ご指定があればお知らせください。\n"
     ]
    }
   ],
   "source": [
    "agent_run_outputs(thread.id, agents_client)"
   ]
  },
  {
   "cell_type": "markdown",
   "id": "7902267b",
   "metadata": {},
   "source": [
    "※ ここで、Azure AI Foundry 上の Web UI からエージェントのトレースを確認してみよう。"
   ]
  },
  {
   "cell_type": "markdown",
   "id": "f6e7c199",
   "metadata": {},
   "source": [
    "# Agent ID を .env ファイルに保存\n",
    "※ 今回作成したエージェントを、後続の Connected Agents のハンズオン演習で使用するため永続化します。"
   ]
  },
  {
   "cell_type": "code",
   "execution_count": 114,
   "id": "ae3a16c1",
   "metadata": {},
   "outputs": [
    {
     "name": "stdout",
     "output_type": "stream",
     "text": [
      ".envファイルに FOUNDRY_MCP_AGENT_ID=\"asst_fnOAafS1zThfjtAClbEBUb0m\" を追記しました。\n"
     ]
    },
    {
     "data": {
      "text/plain": [
       "True"
      ]
     },
     "execution_count": 114,
     "metadata": {},
     "output_type": "execute_result"
    }
   ],
   "source": [
    "# 変数の定義\n",
    "agent_env_key = \"FOUNDRY_MCP_AGENT_ID\"\n",
    "agent_env_value = mcp_agent.id\n",
    "\n",
    "# .envファイルのパスを自動探索\n",
    "env_path = find_dotenv()  # 見つからなければ''を返す\n",
    "if not env_path:\n",
    "    raise FileNotFoundError(\".envファイルが見つかりませんでした。\")\n",
    "\n",
    "# AGENT_ID を .env ファイルに追記\n",
    "with open(env_path, \"a\", encoding=\"utf-8\") as f:\n",
    "    f.write(f'\\n{agent_env_key}=\"{agent_env_value}\"')\n",
    "\n",
    "print(f'.envファイルに {agent_env_key}=\\\"{agent_env_value}\\\" を追記しました。')\n",
    "\n",
    "# .envの自動読み込み（以降os.environで参照可能）\n",
    "load_dotenv(env_path)\n"
   ]
  }
 ],
 "metadata": {
  "kernelspec": {
   "display_name": ".venv",
   "language": "python",
   "name": "python3"
  },
  "language_info": {
   "codemirror_mode": {
    "name": "ipython",
    "version": 3
   },
   "file_extension": ".py",
   "mimetype": "text/x-python",
   "name": "python",
   "nbconvert_exporter": "python",
   "pygments_lexer": "ipython3",
   "version": "3.11.9"
  }
 },
 "nbformat": 4,
 "nbformat_minor": 5
}
