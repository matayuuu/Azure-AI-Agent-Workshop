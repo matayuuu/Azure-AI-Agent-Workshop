{
 "cells": [
  {
   "cell_type": "markdown",
   "id": "30d3927d",
   "metadata": {},
   "source": [
    "# TODO：概要\n",
    "\n",
    "\n",
    "\n",
    "# Connected Agents の主な制限\n",
    "\n",
    "### 1. **ローカル関数は呼び出せない**\n",
    "\n",
    "* **制限内容**\n",
    "  　Connected Agents 機能を使って別のエージェントをツールとして追加した場合、その**サブエージェント側で定義した関数（Pythonのローカル関数）をFunction Tool経由で直接呼び出すことはできません**。\n",
    "* **推奨される方法**\n",
    "  　どうしても外部の処理を呼び出したい場合は、「OpenAPIツール」や「Azure Functions」を使って、API経由で実装することが推奨されています。\n",
    "\n",
    "### 2. **出典（引用）の引き継ぎが保証されない**\n",
    "\n",
    "* **制限内容**\n",
    "  　Connected Agents経由で検索や回答をした際、**サブエージェントが生成した引用情報（例えばドキュメントの出典や根拠）が、親エージェントに必ず渡るとは限りません**。\n",
    "* **対応策（完全ではない）**\n",
    "  　プロンプトの工夫（Prompt Engineering）や、使うAIモデルを変えることで出典が返りやすくする方法もありますが、**必ず引用が親エージェントに引き継がれる保証はありません**。\n",
    "\n",
    "### まとめ\n",
    "\n",
    "* サブエージェントの**ローカル関数は直接使えない**ので、API公開（OpenAPIやAzure Functions）を利用しましょう。\n",
    "* サブエージェントの**引用情報が必ず親エージェントまで引き継がれるわけではない**点も注意が必要です。\n",
    "\n",
    "参考：[Limitations](https://learn.microsoft.com/en-us/azure/ai-foundry/agents/how-to/connected-agents?pivots=python#limitations)"
   ]
  },
  {
   "cell_type": "markdown",
   "id": "6c1eb575",
   "metadata": {},
   "source": [
    "# ライブラリのインポート"
   ]
  },
  {
   "cell_type": "code",
   "execution_count": 59,
   "id": "d98f4168",
   "metadata": {},
   "outputs": [],
   "source": [
    "import os\n",
    "import time\n",
    "import json\n",
    "import datetime\n",
    "import zoneinfo\n",
    "\n",
    "import requests\n",
    "\n",
    "from dotenv import load_dotenv, find_dotenv\n",
    "\n",
    "from azure.identity import DefaultAzureCredential\n",
    "from azure.ai.projects import AIProjectClient\n",
    "from azure.ai.agents.models import (\n",
    "    MessageTextContent,\n",
    "    ListSortOrder,\n",
    "    McpTool,\n",
    "    MCPToolDefinition,\n",
    "    RequiredMcpToolCall,\n",
    "    SubmitToolApprovalAction,\n",
    "    ToolApproval,\n",
    "    CodeInterpreterTool,\n",
    "    FunctionTool,\n",
    "    ToolSet,\n",
    "    FilePurpose,\n",
    "    FileSearchTool,\n",
    "    RunAdditionalFieldList,\n",
    "    RunStepFileSearchToolCall,\n",
    "    RunStepToolCallDetails,\n",
    "    ConnectedAgentTool\n",
    ")\n"
   ]
  },
  {
   "cell_type": "markdown",
   "id": "9410a833",
   "metadata": {},
   "source": [
    "# 環境変数の取得"
   ]
  },
  {
   "cell_type": "code",
   "execution_count": 79,
   "id": "9df16db9",
   "metadata": {},
   "outputs": [],
   "source": [
    "load_dotenv(override=True)\n",
    "\n",
    "PROJECT_ENDPOINT=os.getenv(\"PROJECT_ENDPOINT\")\n",
    "AZURE_DEPLOYMENT_NAME=os.getenv(\"AZURE_DEPLOYMENT_NAME\")\n",
    "FOUNDRY_CUSTOM_FUNCTIONS_AGENT_ID=os.getenv(\"FOUNDRY_CUSTOM_FUNCTIONS_AGENT_ID\")\n",
    "FOUNDRY_CODE_INTERPRETER_AGENT_ID=os.getenv(\"FOUNDRY_CODE_INTERPRETER_AGENT_ID\")\n",
    "FOUNDRY_MCP_AGENT_ID=os.getenv(\"FOUNDRY_MCP_AGENT_ID\")\n",
    "FOUNDRY_FILE_SEARCH_AGENT_ID=os.getenv(\"FOUNDRY_FILE_SEARCH_AGENT_ID\")"
   ]
  },
  {
   "cell_type": "markdown",
   "id": "bdeb2ba0",
   "metadata": {},
   "source": [
    "# クライアントの初期化"
   ]
  },
  {
   "cell_type": "code",
   "execution_count": 61,
   "id": "516b0545",
   "metadata": {},
   "outputs": [],
   "source": [
    "# AI Project Client を初期化\n",
    "project_client = AIProjectClient(\n",
    "    endpoint=PROJECT_ENDPOINT,\n",
    "    credential=DefaultAzureCredential()\n",
    ")\n",
    "\n",
    "# AgentClient の作成\n",
    "agents_client = project_client.agents"
   ]
  },
  {
   "cell_type": "markdown",
   "id": "b26cd4b4",
   "metadata": {},
   "source": [
    "# ユーティリティ関数"
   ]
  },
  {
   "cell_type": "code",
   "execution_count": 62,
   "id": "b71e972a",
   "metadata": {},
   "outputs": [],
   "source": [
    "def agent_run_outputs(thread_id, agents_client, target_dir=\"./output_images\"):\n",
    "    \"\"\"\n",
    "    指定したスレッドIDのRun実行結果（テキスト・画像）をNotebook上に表示＆画像は保存。\n",
    "    \"\"\"\n",
    "    messages = agents_client.messages.list(thread_id=thread_id, order=ListSortOrder.ASCENDING)\n",
    "    os.makedirs(target_dir, exist_ok=True)\n",
    "\n",
    "    for message in messages:\n",
    "        # テキスト出力\n",
    "        if message.text_messages:\n",
    "            for txt in message.text_messages:\n",
    "                print(f\"{message.role.upper()}: {txt.text.value}\")\n",
    "        \n",
    "        # 画像出力\n",
    "        if hasattr(message, \"image_contents\"):\n",
    "            for image_content in message.image_contents:\n",
    "                file_id = image_content.image_file.file_id\n",
    "                file_name = f\"{file_id}_image_file.png\"\n",
    "\n",
    "                agents_client.files.save(\n",
    "                    file_id=file_id,\n",
    "                    file_name=file_name,\n",
    "                    target_dir=target_dir\n",
    "                )\n",
    "                print(f\"Saved image: {file_name}\")\n",
    "                display(Image(filename=f\"{target_dir}/{file_name}\"))"
   ]
  },
  {
   "cell_type": "code",
   "execution_count": 92,
   "id": "dc9ce052",
   "metadata": {},
   "outputs": [],
   "source": [
    "def file_search_content_outputs(agents_client, thread_id, run_id):\n",
    "    \"\"\"\n",
    "    指定したスレッドID・Run IDのファイル検索ツールによる検索結果コンテンツをNotebook等に出力します。\n",
    "\n",
    "    :param agents_client: AgentClient インスタンス\n",
    "    :param thread_id: スレッドID\n",
    "    :param run_id: Run ID\n",
    "    \"\"\"\n",
    "    from azure.ai.agents.models import RunAdditionalFieldList, RunStepToolCallDetails, RunStepFileSearchToolCall\n",
    "\n",
    "    for run_step in agents_client.run_steps.list(\n",
    "        thread_id=thread_id,\n",
    "        run_id=run_id,\n",
    "        include=[RunAdditionalFieldList.FILE_SEARCH_CONTENTS]\n",
    "    ):\n",
    "        if isinstance(run_step.step_details, RunStepToolCallDetails):\n",
    "            for tool_call in run_step.step_details.tool_calls:\n",
    "                if (\n",
    "                    isinstance(tool_call, RunStepFileSearchToolCall)\n",
    "                    and getattr(tool_call, \"file_search\", None)\n",
    "                    and getattr(tool_call.file_search, \"results\", None)\n",
    "                    and tool_call.file_search.results\n",
    "                    and getattr(tool_call.file_search.results[0], \"content\", None)\n",
    "                    and tool_call.file_search.results[0].content\n",
    "                    and getattr(tool_call.file_search.results[0].content[0], \"text\", None)\n",
    "                ):\n",
    "                    file_name = tool_call.file_search.results[0].file_name\n",
    "                    content_text = tool_call.file_search.results[0].content[0].text\n",
    "                    print(f\"ファイル検索の結果、以下のコンテンツがヒットしました。\\n「{file_name}」:\")\n",
    "                    print(\"=\" * 60)\n",
    "                    print(content_text)\n",
    "                    print(\"=\" * 60)"
   ]
  },
  {
   "cell_type": "markdown",
   "id": "eb9f256d",
   "metadata": {},
   "source": [
    "# Connected Agents の定義"
   ]
  },
  {
   "cell_type": "code",
   "execution_count": 81,
   "id": "91e82dbd",
   "metadata": {},
   "outputs": [],
   "source": [
    "# エージェントの取得\n",
    "code_interpreter_agent = agents_client.get_agent(agent_id=FOUNDRY_CODE_INTERPRETER_AGENT_ID)\n",
    "file_search_agent = agents_client.get_agent(agent_id=FOUNDRY_FILE_SEARCH_AGENT_ID)\n",
    "mcp_agent = agents_client.get_agent(agent_id=FOUNDRY_MCP_AGENT_ID)\n",
    "\n",
    "# ConnectedAgentTool の作成\n",
    "code_interpreter_agent_tool = ConnectedAgentTool(\n",
    "    id=code_interpreter_agent.id,\n",
    "    name=\"code_interpreter_agent\",\n",
    "    description=(\n",
    "        \"Code Interpreter を利用して、計算や図表の出力に特化した分析アシスタントです。\"\n",
    "    ),\n",
    ")\n",
    "\n",
    "file_search_agent_tool = ConnectedAgentTool(\n",
    "    id=file_search_agent.id,\n",
    "    name=\"file_search_agent\",\n",
    "    description=(\n",
    "        \"File Search Agent を利用して、ファイルの検索や内容の取得を行うことができます。\"\n",
    "    ),\n",
    ")\n",
    "\n",
    "mcp_agent_tool = ConnectedAgentTool(\n",
    "    id=mcp_agent.id,\n",
    "    name=\"mcp_agent\",\n",
    "    description=(\n",
    "        \"あなたは Microsoft の公式ドキュメントを検索できる MCP ツールを持っているエージェントです。\"\n",
    "    ),\n",
    ")"
   ]
  },
  {
   "cell_type": "markdown",
   "id": "6245b704",
   "metadata": {},
   "source": [
    "# エージェントの作成"
   ]
  },
  {
   "cell_type": "code",
   "execution_count": null,
   "id": "2b8fb7d6",
   "metadata": {},
   "outputs": [
    {
     "name": "stdout",
     "output_type": "stream",
     "text": [
      "Created Agent. AGENT_ID: asst_VZlqy2Cpw0U95s2Ptrd9uQuL\n"
     ]
    }
   ],
   "source": [
    "triage_agent  = agents_client.create_agent(\n",
    "    model=AZURE_DEPLOYMENT_NAME,\n",
    "    name=\"triage_agent \",\n",
    "    instructions=(\n",
    "        \"あなたは振り分けエージェントです。\"\n",
    "        \"接続されたエージェントを使用して質問に答えてください。\"\n",
    "        # \" - custom_functions_agent: 日本の都道府県の地理情報（緯度・経度）や、日本標準時の日付、指定した場所・日付の気温データを自動的に取得するアシスタント\"\n",
    "        \" - code_interpreter_agent: Code Interpreter を利用して、計算や図表の出力に特化した分析アシスタント\"\n",
    "        \" - file_search_agent: File Search Agent を利用して、ファイルの検索や内容の取得を行うことができるアシスタント\"\n",
    "        # \" - mcp_agent: Microsoft の公式ドキュメントを検索できる MCP ツールを持っているサポートアシスタント\"\n",
    "    ),\n",
    "    tools=[\n",
    "        code_interpreter_agent_tool.definitions[0],\n",
    "        file_search_agent_tool.definitions[0],\n",
    "        # mcp_agent_tool.definitions[0],\n",
    "    ],\n",
    "    temperature=0.1\n",
    ")\n",
    "print(f\"Created Agent. AGENT_ID: {triage_agent.id}\")\n"
   ]
  },
  {
   "cell_type": "code",
   "execution_count": null,
   "id": "807e4529",
   "metadata": {},
   "outputs": [],
   "source": [
    "triage_agent_dict = triage_agent.as_dict()\n",
    "print(json.dumps(triage_agent_dict, indent=2, ensure_ascii=False))"
   ]
  },
  {
   "cell_type": "markdown",
   "id": "88798dd0",
   "metadata": {},
   "source": [
    "# スレッドの作成"
   ]
  },
  {
   "cell_type": "code",
   "execution_count": 89,
   "id": "5290d01f",
   "metadata": {},
   "outputs": [
    {
     "name": "stdout",
     "output_type": "stream",
     "text": [
      "Created Thread. THREAD_ID: thread_4np7A5IIrs381kaCgSr16bXs\n"
     ]
    }
   ],
   "source": [
    "# Thread の作成\n",
    "thread = agents_client.threads.create()\n",
    "print(f\"Created Thread. THREAD_ID: {thread.id}\")"
   ]
  },
  {
   "cell_type": "markdown",
   "id": "82995df7",
   "metadata": {},
   "source": [
    "# ユーザーメッセージの追加"
   ]
  },
  {
   "cell_type": "code",
   "execution_count": 90,
   "id": "5197431b",
   "metadata": {},
   "outputs": [
    {
     "name": "stdout",
     "output_type": "stream",
     "text": [
      "Added Message. MESSAGE_ID: msg_L2iuBaOYa44wubbqbFiohMPA\n"
     ]
    }
   ],
   "source": [
    "# メッセージの追加\n",
    "# user_message= (\n",
    "#     \"初期投資額が100万円、年利回りが3.5%、毎年10万円ずつ追加投資を\"\n",
    "#     \"20年間継続したときの最終的な資産額を計算し、円単位で四捨五入して答えてください。\"\n",
    "# )\n",
    "# user_message = (\n",
    "#     \"Azure AI Foundry の最新情報を教えてください。\"\n",
    "# )\n",
    "\n",
    "user_message = (\n",
    "    \"新しいパソコンの購入を検討しています。しかし、初期設定に自信がないので、初期設定サポートについて教えてください。\"\n",
    ")\n",
    "\n",
    "message = agents_client.messages.create(\n",
    "    thread_id=thread.id,\n",
    "    role=\"user\",\n",
    "    content=user_message,\n",
    ")\n",
    "\n",
    "print(f\"Added Message. MESSAGE_ID: {message.id}\")"
   ]
  },
  {
   "cell_type": "markdown",
   "id": "8ea431e3",
   "metadata": {},
   "source": [
    "# Run の実行"
   ]
  },
  {
   "cell_type": "code",
   "execution_count": 91,
   "id": "ce2c1042",
   "metadata": {},
   "outputs": [
    {
     "name": "stdout",
     "output_type": "stream",
     "text": [
      "USER: 新しいパソコンの購入を検討しています。しかし、初期設定に自信がないので、初期設定サポートについて教えてください。\n",
      "ASSISTANT: パソコンの初期設定サポートについてご説明します。\n",
      "\n",
      "### 初期設定サポートとは？\n",
      "新しく購入したパソコンを使い始める前に必要な設定（初期設定）を、専門スタッフがサポートしてくれるサービスです。主に以下のような内容が含まれます。\n",
      "\n",
      "#### 主なサポート内容\n",
      "- **Windowsの初回セットアップ**（言語設定、ユーザーアカウント作成など）\n",
      "- **インターネット接続設定**\n",
      "- **メールソフトの設定**\n",
      "- **プリンターや周辺機器の接続・設定**\n",
      "- **セキュリティソフトのインストールと設定**\n",
      "- **OSやメーカー提供のアップデート**\n",
      "- 必要な**ソフトウェアのインストール**\n",
      "- **データ移行**（オプションの場合あり）\n",
      "\n",
      "#### サポートの提供形態\n",
      "- **店頭サポート**：購入店でスタッフがその場で設定を行ってくれる\n",
      "- **出張サポート**：スタッフが自宅まで訪問して設定を行う\n",
      "- **リモートサポート**：インターネット経由で遠隔操作しながら設定を案内・実施\n",
      "\n",
      "#### 費用\n",
      "- 店舗やサービスによって異なります（約5,000円～15,000円程度が相場です）\n",
      "- パソコン購入時に割安なパック料金を用意している場合もあります\n",
      "\n",
      "#### 注意点\n",
      "- データ移行や特別なソフトウェアのインストールは、追加料金がかかる場合があります。\n",
      "- 自宅のネット環境やWi-Fiパスワードを事前に用意しておくと、サポートがスムーズです。\n",
      "\n",
      "### 主な利用方法\n",
      "- 購入時に「初期設定サポートを希望」と店舗スタッフに伝える\n",
      "- または、購入後に家電量販店・パソコン専門店のサポート窓口や公式サイトから申し込む\n",
      "\n",
      "---\n",
      "\n",
      "何か特定のメーカーや購入予定店舗、具体的なサポート内容について知りたいことがあれば、詳細を教えてください。さらに詳しいサポート内容やおすすめの利用方法をご案内します。\n"
     ]
    }
   ],
   "source": [
    "run = agents_client.runs.create_and_process(\n",
    "    thread_id=thread.id,\n",
    "    agent_id=triage_agent.id\n",
    ")\n",
    "\n",
    "if run.status == \"failed\":\n",
    "    print(f\"Run failed: {run.last_error}\")\n",
    "else:\n",
    "    agent_run_outputs(thread.id, agents_client)"
   ]
  },
  {
   "cell_type": "code",
   "execution_count": 94,
   "id": "2dbdf222",
   "metadata": {},
   "outputs": [],
   "source": [
    "# 参照したコンテンツを出力\n",
    "file_search_content_outputs(agents_client, thread.id, run.id)"
   ]
  },
  {
   "cell_type": "markdown",
   "id": "e6547336",
   "metadata": {},
   "source": [
    "# Agent ID を .env ファイルに保存\n",
    "※ 今回作成したエージェントを、後続の Connected Agents のハンズオン演習で使用するため永続化します。"
   ]
  },
  {
   "cell_type": "code",
   "execution_count": null,
   "id": "590b6a4c",
   "metadata": {},
   "outputs": [],
   "source": [
    "# 変数の定義\n",
    "agent_env_key = \"FOUNDRY_TRIAGE_AGENT_ID\"\n",
    "agent_env_value = triage_agent.id\n",
    "\n",
    "# .envファイルのパスを自動探索\n",
    "env_path = find_dotenv()  # 見つからなければ''を返す\n",
    "if not env_path:\n",
    "    raise FileNotFoundError(\".envファイルが見つかりませんでした。\")\n",
    "\n",
    "# AGENT_ID を .env ファイルに追記\n",
    "with open(env_path, \"a\", encoding=\"utf-8\") as f:\n",
    "    f.write(f'\\n{agent_env_key}=\"{agent_env_value}\"')\n",
    "\n",
    "print(f'.envファイルに {agent_env_key}=\\\"{agent_env_value}\\\" を追記しました。')\n"
   ]
  }
 ],
 "metadata": {
  "kernelspec": {
   "display_name": ".venv",
   "language": "python",
   "name": "python3"
  },
  "language_info": {
   "codemirror_mode": {
    "name": "ipython",
    "version": 3
   },
   "file_extension": ".py",
   "mimetype": "text/x-python",
   "name": "python",
   "nbconvert_exporter": "python",
   "pygments_lexer": "ipython3",
   "version": "3.11.9"
  }
 },
 "nbformat": 4,
 "nbformat_minor": 5
}
