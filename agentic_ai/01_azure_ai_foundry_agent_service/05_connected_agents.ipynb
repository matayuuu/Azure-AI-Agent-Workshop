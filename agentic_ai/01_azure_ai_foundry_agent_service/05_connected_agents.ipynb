{
 "cells": [
  {
   "cell_type": "markdown",
   "id": "30d3927d",
   "metadata": {},
   "source": [
    "# TODO：概要\n",
    "\n",
    "\n",
    "\n",
    "# Connected Agents の主な制限\n",
    "\n",
    "### 1. **ローカル関数は呼び出せない**\n",
    "\n",
    "* **制限内容**\n",
    "  　Connected Agents 機能を使って別のエージェントをツールとして追加した場合、その**サブエージェント側で定義した関数（Pythonのローカル関数）をFunction Tool経由で直接呼び出すことはできません**。\n",
    "* **推奨される方法**\n",
    "  　どうしても外部の処理を呼び出したい場合は、「OpenAPIツール」や「Azure Functions」を使って、API経由で実装することが推奨されています。\n",
    "\n",
    "### 2. **出典（引用）の引き継ぎが保証されない**\n",
    "\n",
    "* **制限内容**\n",
    "  　Connected Agents経由で検索や回答をした際、**サブエージェントが生成した引用情報（例えばドキュメントの出典や根拠）が、親エージェントに必ず渡るとは限りません**。\n",
    "* **対応策（完全ではない）**\n",
    "  　プロンプトの工夫（Prompt Engineering）や、使うAIモデルを変えることで出典が返りやすくする方法もありますが、**必ず引用が親エージェントに引き継がれる保証はありません**。\n",
    "\n",
    "### まとめ\n",
    "\n",
    "* サブエージェントの**ローカル関数は直接使えない**ので、API公開（OpenAPIやAzure Functions）を利用しましょう。\n",
    "* サブエージェントの**引用情報が必ず親エージェントまで引き継がれるわけではない**点も注意が必要です。\n",
    "\n",
    "参考：[Limitations](https://learn.microsoft.com/en-us/azure/ai-foundry/agents/how-to/connected-agents?pivots=python#limitations)"
   ]
  },
  {
   "cell_type": "markdown",
   "id": "6c1eb575",
   "metadata": {},
   "source": [
    "# ライブラリのインポート"
   ]
  },
  {
   "cell_type": "code",
   "execution_count": 59,
   "id": "d98f4168",
   "metadata": {},
   "outputs": [],
   "source": [
    "import os\n",
    "import time\n",
    "import json\n",
    "import datetime\n",
    "import zoneinfo\n",
    "\n",
    "import requests\n",
    "\n",
    "from dotenv import load_dotenv, find_dotenv\n",
    "\n",
    "from azure.identity import DefaultAzureCredential\n",
    "from azure.ai.projects import AIProjectClient\n",
    "from azure.ai.agents.models import (\n",
    "    MessageTextContent,\n",
    "    ListSortOrder,\n",
    "    McpTool,\n",
    "    MCPToolDefinition,\n",
    "    RequiredMcpToolCall,\n",
    "    SubmitToolApprovalAction,\n",
    "    ToolApproval,\n",
    "    CodeInterpreterTool,\n",
    "    FunctionTool,\n",
    "    ToolSet,\n",
    "    FilePurpose,\n",
    "    FileSearchTool,\n",
    "    RunAdditionalFieldList,\n",
    "    RunStepFileSearchToolCall,\n",
    "    RunStepToolCallDetails,\n",
    "    ConnectedAgentTool\n",
    ")\n"
   ]
  },
  {
   "cell_type": "markdown",
   "id": "9410a833",
   "metadata": {},
   "source": [
    "# 環境変数の取得"
   ]
  },
  {
   "cell_type": "code",
   "execution_count": 117,
   "id": "9df16db9",
   "metadata": {},
   "outputs": [],
   "source": [
    "load_dotenv(override=True)\n",
    "\n",
    "PROJECT_ENDPOINT=os.getenv(\"PROJECT_ENDPOINT\")\n",
    "AZURE_DEPLOYMENT_NAME=os.getenv(\"AZURE_DEPLOYMENT_NAME\")\n",
    "FOUNDRY_CUSTOM_FUNCTIONS_AGENT_ID=os.getenv(\"FOUNDRY_CUSTOM_FUNCTIONS_AGENT_ID\")\n",
    "FOUNDRY_CODE_INTERPRETER_AGENT_ID=os.getenv(\"FOUNDRY_CODE_INTERPRETER_AGENT_ID\")\n",
    "FOUNDRY_MCP_AGENT_ID=os.getenv(\"FOUNDRY_MCP_AGENT_ID\")\n",
    "FOUNDRY_FILE_SEARCH_AGENT_ID=os.getenv(\"FOUNDRY_FILE_SEARCH_AGENT_ID\")"
   ]
  },
  {
   "cell_type": "markdown",
   "id": "bdeb2ba0",
   "metadata": {},
   "source": [
    "# クライアントの初期化"
   ]
  },
  {
   "cell_type": "code",
   "execution_count": 118,
   "id": "516b0545",
   "metadata": {},
   "outputs": [],
   "source": [
    "# AI Project Client を初期化\n",
    "project_client = AIProjectClient(\n",
    "    endpoint=PROJECT_ENDPOINT,\n",
    "    credential=DefaultAzureCredential()\n",
    ")\n",
    "\n",
    "# AgentClient の作成\n",
    "agents_client = project_client.agents"
   ]
  },
  {
   "cell_type": "markdown",
   "id": "b26cd4b4",
   "metadata": {},
   "source": [
    "# ユーティリティ関数"
   ]
  },
  {
   "cell_type": "code",
   "execution_count": 119,
   "id": "b71e972a",
   "metadata": {},
   "outputs": [],
   "source": [
    "def agent_run_outputs(thread_id, agents_client, target_dir=\"./output_images\"):\n",
    "    \"\"\"\n",
    "    指定したスレッドIDのRun実行結果（テキスト・画像）をNotebook上に表示＆画像は保存。\n",
    "    \"\"\"\n",
    "    messages = agents_client.messages.list(thread_id=thread_id, order=ListSortOrder.ASCENDING)\n",
    "    os.makedirs(target_dir, exist_ok=True)\n",
    "\n",
    "    for message in messages:\n",
    "        # テキスト出力\n",
    "        if message.text_messages:\n",
    "            for txt in message.text_messages:\n",
    "                print(f\"{message.role.upper()}: {txt.text.value}\")\n",
    "        \n",
    "        # 画像出力\n",
    "        if hasattr(message, \"image_contents\"):\n",
    "            for image_content in message.image_contents:\n",
    "                file_id = image_content.image_file.file_id\n",
    "                file_name = f\"{file_id}_image_file.png\"\n",
    "\n",
    "                agents_client.files.save(\n",
    "                    file_id=file_id,\n",
    "                    file_name=file_name,\n",
    "                    target_dir=target_dir\n",
    "                )\n",
    "                print(f\"Saved image: {file_name}\")\n",
    "                display(Image(filename=f\"{target_dir}/{file_name}\"))"
   ]
  },
  {
   "cell_type": "code",
   "execution_count": 120,
   "id": "dc9ce052",
   "metadata": {},
   "outputs": [],
   "source": [
    "def file_search_content_outputs(agents_client, thread_id, run_id):\n",
    "    \"\"\"\n",
    "    指定したスレッドID・Run IDのファイル検索ツールによる検索結果コンテンツをNotebook等に出力します。\n",
    "\n",
    "    :param agents_client: AgentClient インスタンス\n",
    "    :param thread_id: スレッドID\n",
    "    :param run_id: Run ID\n",
    "    \"\"\"\n",
    "    from azure.ai.agents.models import RunAdditionalFieldList, RunStepToolCallDetails, RunStepFileSearchToolCall\n",
    "\n",
    "    for run_step in agents_client.run_steps.list(\n",
    "        thread_id=thread_id,\n",
    "        run_id=run_id,\n",
    "        include=[RunAdditionalFieldList.FILE_SEARCH_CONTENTS]\n",
    "    ):\n",
    "        if isinstance(run_step.step_details, RunStepToolCallDetails):\n",
    "            for tool_call in run_step.step_details.tool_calls:\n",
    "                if (\n",
    "                    isinstance(tool_call, RunStepFileSearchToolCall)\n",
    "                    and getattr(tool_call, \"file_search\", None)\n",
    "                    and getattr(tool_call.file_search, \"results\", None)\n",
    "                    and tool_call.file_search.results\n",
    "                    and getattr(tool_call.file_search.results[0], \"content\", None)\n",
    "                    and tool_call.file_search.results[0].content\n",
    "                    and getattr(tool_call.file_search.results[0].content[0], \"text\", None)\n",
    "                ):\n",
    "                    file_name = tool_call.file_search.results[0].file_name\n",
    "                    content_text = tool_call.file_search.results[0].content[0].text\n",
    "                    print(f\"ファイル検索の結果、以下のコンテンツがヒットしました。\\n「{file_name}」:\")\n",
    "                    print(\"=\" * 60)\n",
    "                    print(content_text)\n",
    "                    print(\"=\" * 60)"
   ]
  },
  {
   "cell_type": "markdown",
   "id": "eb9f256d",
   "metadata": {},
   "source": [
    "# Connected Agents の定義"
   ]
  },
  {
   "cell_type": "code",
   "execution_count": 121,
   "id": "d4829d6e",
   "metadata": {},
   "outputs": [
    {
     "name": "stdout",
     "output_type": "stream",
     "text": [
      "Created Agent. AGENT_ID: asst_tJuHK2CcoGyxhagNVYDPi1yf\n"
     ]
    }
   ],
   "source": [
    "consulting_agent  = agents_client.create_agent(\n",
    "    model=AZURE_DEPLOYMENT_NAME,\n",
    "    name=\"consulting_agent \",\n",
    "    instructions=(\n",
    "        \"あなたは資産運用のコンサルタントとして、ユーザーの目的や希望、リスク許容度、資産状況などをヒアリングし、\"\n",
    "        \"最適な運用方針のアドバイスや意思決定のサポートを行います。\"\n",
    "        \"必要に応じて「目標金額」「運用期間」「現在の資産額」「リスク許容度」など、計算・シミュレーションに必要な情報を丁寧に聞き出してください。\" \n",
    "        \"計算やシミュレーションが必要な場合は、具体的な内容をcode_interpreter_agentに依頼するよう促してください。\"\n",
    "        \"ユーザーが迷っている場合は、選択肢やリスク・メリットをわかりやすく提示してください。\"\n",
    "    ),\n",
    ")\n",
    "print(f\"Created Agent. AGENT_ID: {consulting_agent.id}\")"
   ]
  },
  {
   "cell_type": "code",
   "execution_count": 131,
   "id": "91e82dbd",
   "metadata": {},
   "outputs": [],
   "source": [
    "# エージェントの取得\n",
    "code_interpreter_agent = agents_client.get_agent(agent_id=FOUNDRY_CODE_INTERPRETER_AGENT_ID)\n",
    "file_search_agent = agents_client.get_agent(agent_id=FOUNDRY_FILE_SEARCH_AGENT_ID)\n",
    "mcp_agent = agents_client.get_agent(agent_id=FOUNDRY_MCP_AGENT_ID)\n",
    "\n",
    "# ConnectedAgentTool の作成\n",
    "consulting_agent_tool = ConnectedAgentTool(\n",
    "    id=consulting_agent.id,\n",
    "    name=\"consulting_agent\",\n",
    "    description=(\n",
    "        \"Consulting Agent を利用して、資産運用のコンサルティングを行います。\"\n",
    "        \"ユーザーの目的や希望、リスク許容度、資産状況などをヒアリングし、最適な運用方針のアドバイスや意思決定のサポートを行います。\"\n",
    "    ),\n",
    ")\n",
    "\n",
    "code_interpreter_agent_tool = ConnectedAgentTool(\n",
    "    id=code_interpreter_agent.id,\n",
    "    name=\"code_interpreter_agent\",\n",
    "    description=(\n",
    "        \"Code Interpreter を利用して、計算や図表の出力に特化した分析アシスタントです。\"\n",
    "    ),\n",
    ")\n",
    "\n",
    "file_search_agent_tool = ConnectedAgentTool(\n",
    "    id=file_search_agent.id,\n",
    "    name=\"file_search_agent\",\n",
    "    description=(\n",
    "        \"File Search Agent を利用して、ファイルの検索や内容の取得を行うことができます。\"\n",
    "    ),\n",
    ")"
   ]
  },
  {
   "cell_type": "code",
   "execution_count": null,
   "id": "e856d929",
   "metadata": {},
   "outputs": [],
   "source": [
    "\n"
   ]
  },
  {
   "cell_type": "markdown",
   "id": "6245b704",
   "metadata": {},
   "source": [
    "# エージェントの作成"
   ]
  },
  {
   "cell_type": "code",
   "execution_count": 134,
   "id": "2b8fb7d6",
   "metadata": {},
   "outputs": [
    {
     "name": "stdout",
     "output_type": "stream",
     "text": [
      "Created Agent. AGENT_ID: asst_rgRuVuvqhvervNkvbJT2ZVPo\n"
     ]
    }
   ],
   "source": [
    "triage_agent  = agents_client.create_agent(\n",
    "    model=AZURE_DEPLOYMENT_NAME,\n",
    "    name=\"triage_agent \",\n",
    "    # instructions=(\n",
    "    #     \"あなたは「資産運用アシスタント」として、ユーザーの質問や相談を理解し、適切な専門エージェントにタスクを割り振ります。\"\n",
    "    #     \"はじめにconsulting_agentにユーザーからの質問・相談内容を分析してもらい、\"\n",
    "    #     \"次に、計算やシミュレーションが必要な場合はcode_interpreter_agentにタスクを依頼してください。\"\n",
    "    # ),\n",
    "    instructions=(\n",
    "        \"あなたは振り分けエージェントです。ユーザーの質問にあわせて適切な専門エージェントにタスクを割り振ります。\"\n",
    "        \" - file_search_agent: カスタマーサポート担当で、社内のドキュメントを検索し、ユーザーの質問に答えます。\"\n",
    "        \" - code_interpreter_agent: 計算や図表の出力に特化した分析アシスタントです。\"\n",
    "    ),\n",
    "    tools=[\n",
    "        code_interpreter_agent_tool.definitions[0],\n",
    "        file_search_agent_tool.definitions[0],\n",
    "        # consulting_agent_tool.definitions[0],\n",
    "    ],\n",
    "    # temperature=0.1\n",
    ")\n",
    "print(f\"Created Agent. AGENT_ID: {triage_agent.id}\")\n"
   ]
  },
  {
   "cell_type": "code",
   "execution_count": 125,
   "id": "807e4529",
   "metadata": {},
   "outputs": [],
   "source": [
    "# triage_agent_dict = triage_agent.as_dict()\n",
    "# print(json.dumps(triage_agent_dict, indent=2, ensure_ascii=False))"
   ]
  },
  {
   "cell_type": "markdown",
   "id": "88798dd0",
   "metadata": {},
   "source": [
    "# スレッドの作成"
   ]
  },
  {
   "cell_type": "code",
   "execution_count": 143,
   "id": "5290d01f",
   "metadata": {},
   "outputs": [
    {
     "name": "stdout",
     "output_type": "stream",
     "text": [
      "Created Thread. THREAD_ID: thread_KJUCOwV4GCkW3cluExyj67WP\n"
     ]
    }
   ],
   "source": [
    "# Thread の作成\n",
    "thread = agents_client.threads.create()\n",
    "print(f\"Created Thread. THREAD_ID: {thread.id}\")"
   ]
  },
  {
   "cell_type": "markdown",
   "id": "82995df7",
   "metadata": {},
   "source": [
    "# ユーザーメッセージの追加"
   ]
  },
  {
   "cell_type": "code",
   "execution_count": 136,
   "id": "5197431b",
   "metadata": {},
   "outputs": [
    {
     "name": "stdout",
     "output_type": "stream",
     "text": [
      "Added Message. MESSAGE_ID: msg_afOI4PUsjkMu4VMEs8EOzBEH\n"
     ]
    }
   ],
   "source": [
    "# メッセージの追加\n",
    "# user_message= (\n",
    "#     \"初期投資額が100万円、年利回りが3.5%、毎年10万円ずつ追加投資を\"\n",
    "#     \"20年間継続したときの最終的な資産額を計算し、円単位で四捨五入して答えてください。\"\n",
    "# )\n",
    "\n",
    "# user_message = (\n",
    "#     \"現在の貯金が300万円あり、5年後にマイホームの頭金として1000万円を目標にしています。\"\n",
    "#     \"毎月いくら積み立てれば、年利3%で達成できますか？また、無理のない積立額や運用方針もアドバイスしてください。\"\n",
    "# )\n",
    "\n",
    "user_message = (\n",
    "    \"新しいパソコンの購入を検討しています。しかし、初期設定に自信がないので、初期設定サポートについて教えてください。\"\n",
    ")\n",
    "\n",
    "message = agents_client.messages.create(\n",
    "    thread_id=thread.id,\n",
    "    role=\"user\",\n",
    "    content=user_message,\n",
    ")\n",
    "\n",
    "print(f\"Added Message. MESSAGE_ID: {message.id}\")"
   ]
  },
  {
   "cell_type": "markdown",
   "id": "8ea431e3",
   "metadata": {},
   "source": [
    "# Run の実行"
   ]
  },
  {
   "cell_type": "code",
   "execution_count": 137,
   "id": "ce2c1042",
   "metadata": {},
   "outputs": [
    {
     "name": "stdout",
     "output_type": "stream",
     "text": [
      "USER: 新しいパソコンの購入を検討しています。しかし、初期設定に自信がないので、初期設定サポートについて教えてください。\n",
      "ASSISTANT: パソコンの初期設定サポートについて、次のようなサービスが用意されています。\n",
      "\n",
      "---\n",
      "\n",
      "### 🎉 初心者向けセットアップサポート（所要時間：約30〜60分） \n",
      "- 電源の接続と起動確認\n",
      "- Wi-Fi・インターネット接続設定\n",
      "- メールアカウント・アプリの初期登録\n",
      "- セキュリティ対策（ウイルス対策ソフトの確認・導入）\n",
      "- 基本操作レクチャー（マウス、キーボード、タッチ操作）\n",
      "- よく使うアプリのインストールサポート（Office・Zoomなど）\n",
      "\n",
      "### サポートの特徴\n",
      "- 出張対応・オンライン対応が選べます\n",
      "- 初回サポート無料（キャンペーン中）\n",
      "- ご希望に応じてマニュアルもプレゼント\n",
      "\n",
      "### お問い合わせ・ご予約\n",
      "- 電話：0120-123-456（平日 10:00〜18:00）\n",
      "- メール：support@easysetup.jp\n",
      "- WEB予約：https://www.easysetup.jp\n",
      "\n",
      "---\n",
      "\n",
      "不安な点や詳しい内容、ご予約については上記の連絡先までお気軽にご相談ください。\n"
     ]
    }
   ],
   "source": [
    "run_1 = agents_client.runs.create_and_process(\n",
    "    thread_id=thread.id,\n",
    "    agent_id=triage_agent.id,\n",
    ")\n",
    "\n",
    "if run_1.status == \"failed\":\n",
    "    print(f\"Run failed: {run_1.last_error}\")\n",
    "else:\n",
    "    agent_run_outputs(thread.id, agents_client)"
   ]
  },
  {
   "cell_type": "code",
   "execution_count": null,
   "id": "028c2f4d",
   "metadata": {},
   "outputs": [],
   "source": [
    "# 参照したコンテンツを出力\n",
    "file_search_content_outputs(agents_client, thread.id, run_1.id)"
   ]
  },
  {
   "cell_type": "code",
   "execution_count": 144,
   "id": "105639a4",
   "metadata": {},
   "outputs": [
    {
     "name": "stdout",
     "output_type": "stream",
     "text": [
      "USER: 年利4%で、毎月6万円を積み立てた場合、20年後の資産額を計算してグラフを出力してください。\n",
      "ASSISTANT: タスクを処理中にエラーが発生しました。もう一度試してよろしいでしょうか？それとも、他のご質問やご要望がありますか？\n"
     ]
    }
   ],
   "source": [
    "user_message = (\n",
    "    \"年利4%で、毎月6万円を積み立てた場合、20年後の資産額を計算してグラフを出力してください。\"\n",
    ")\n",
    "\n",
    "message = agents_client.messages.create(\n",
    "    thread_id=thread.id,\n",
    "    role=\"user\",\n",
    "    content=user_message,\n",
    ")\n",
    "\n",
    "run_2 = agents_client.runs.create_and_process(\n",
    "    thread_id=thread.id,\n",
    "    agent_id=triage_agent.id,\n",
    ")\n",
    "\n",
    "if run_2.status == \"failed\":\n",
    "    print(f\"Run failed: {run_2.last_error}\")\n",
    "else:\n",
    "    agent_run_outputs(thread.id, agents_client)"
   ]
  },
  {
   "cell_type": "code",
   "execution_count": 129,
   "id": "b77684ed",
   "metadata": {},
   "outputs": [
    {
     "name": "stdout",
     "output_type": "stream",
     "text": [
      "USER: 現在の貯金が300万円あり、5年後にマイホームの頭金として1000万円を目標にしています。毎月いくら積み立てれば、年利3%で達成できますか？また、無理のない積立額や運用方針もアドバイスしてください。\n",
      "ASSISTANT: シミュレーション計算に進む前に、より適切なアドバイスを行うため、以下の2点についてご回答をお願いいたします。\n",
      "\n",
      "1. **リスク許容度**  \n",
      "年利3％を目指す場合、預金よりはリスクのある商品（例：投資信託、債券など）も含まれます。  \n",
      "- 「元本割れはしたくない」  \n",
      "- 「多少の変動は許容」  \n",
      "- 「リターン重視である程度リスクも取る」  \n",
      "など、ざっくりしたイメージで教えてください。\n",
      "\n",
      "2. **毎月の無理のない積立可能額**  \n",
      "（例：「月5万円なら大丈夫」「今の貯蓄ペースで計算してほしい」など）\n",
      "\n",
      "ご協力いただけますと、積立額の目安や最適な運用方法のご提案がより具体的になります。よろしくお願いします！\n",
      "\n",
      "それでは、ご回答をお待ちしております。\n",
      "USER: リスク許容度は「中程度」で、資産運用の目的は「将来の教育資金の準備」です。月5万円の積立までならいけます。\n",
      "ASSISTANT: シミュレーション結果をまとめます。\n",
      "\n",
      "【条件】\n",
      "- 初期貯金：300万円\n",
      "- 目標金額：1000万円（5年後）\n",
      "- 年利：3%\n",
      "- リスク許容度：中程度\n",
      "- 毎月積立：最大5万円\n",
      "\n",
      "---\n",
      "\n",
      "## 結果\n",
      "\n",
      "1. **5年後に目標達成のために必要な毎月積立額**\n",
      "   - 約「100,992円」必要です。現状の積立上限（月5万円）では、目標金額に届きません。\n",
      "\n",
      "2. **月5万円ずつ積み立てた場合の5年後の到達予想額**\n",
      "   - 約「6,706,870円」となり、目標（1000万円）の約67%となります。\n",
      "\n",
      "---\n",
      "\n",
      "## アドバイス\n",
      "\n",
      "- 月5万円の積立と年利3％の運用を継続した場合、現状の条件だと5年後の時点では約670万円まで資金を準備できます。\n",
      "- 目標（1000万円）との差額約330万円を埋めるためには、\n",
      "    1. 積立額の増額\n",
      "    2. 運用期間の延長（例えば6～7年に伸ばす等）\n",
      "    3. より高いリターン商品に一部チャレンジ\n",
      "    いずれかの対応が必要です。\n",
      "- リスク許容は「中程度」とのことですので、つみたてNISAやバランス型の投資信託、国内外の株式・債券インデックスファンドの組み合わせがおすすめです。特に資金の半分以上は債券比率の高い商品とし、一部株式系を混ぜることでリスクとリターンのバランスを取る方法が無理なく取り組めます。\n",
      "\n",
      "---\n",
      "\n",
      "### 補足\n",
      "- 教育資金など「絶対必要な時期がある用途」では、リスク商品の比率を高め過ぎず、途中で増額・期間延長も検討できるようにすると安心です。\n",
      "- 積立や運用は、定期的に見直すこと（年に1回程度）をおすすめします。\n",
      "\n",
      "もしシミュレーション結果の詳細やグラフ、目標達成のための追加アイディアが必要であればお知らせください。\n"
     ]
    }
   ],
   "source": [
    "user_message = (\n",
    "    \"リスク許容度は「中程度」で、資産運用の目的は「将来の教育資金の準備」です。\"\n",
    "    \"月5万円の積立までならいけます。\"\n",
    ")\n",
    "\n",
    "\n",
    "message = agents_client.messages.create(\n",
    "    thread_id=thread.id,\n",
    "    role=\"user\",\n",
    "    content=user_message,\n",
    ")\n",
    "\n",
    "run = agents_client.runs.create_and_process(\n",
    "    thread_id=thread.id,\n",
    "    agent_id=triage_agent.id,\n",
    ")\n",
    "\n",
    "if run.status == \"failed\":\n",
    "    print(f\"Run failed: {run.last_error}\")\n",
    "else:\n",
    "    agent_run_outputs(thread.id, agents_client)"
   ]
  },
  {
   "cell_type": "markdown",
   "id": "e6547336",
   "metadata": {},
   "source": [
    "# Agent ID を .env ファイルに保存\n",
    "※ 今回作成したエージェントを、後続の Connected Agents のハンズオン演習で使用するため永続化します。"
   ]
  },
  {
   "cell_type": "code",
   "execution_count": null,
   "id": "590b6a4c",
   "metadata": {},
   "outputs": [],
   "source": [
    "# 変数の定義\n",
    "agent_env_key = \"FOUNDRY_TRIAGE_AGENT_ID\"\n",
    "agent_env_value = triage_agent.id\n",
    "\n",
    "# .envファイルのパスを自動探索\n",
    "env_path = find_dotenv()  # 見つからなければ''を返す\n",
    "if not env_path:\n",
    "    raise FileNotFoundError(\".envファイルが見つかりませんでした。\")\n",
    "\n",
    "# AGENT_ID を .env ファイルに追記\n",
    "with open(env_path, \"a\", encoding=\"utf-8\") as f:\n",
    "    f.write(f'\\n{agent_env_key}=\"{agent_env_value}\"')\n",
    "\n",
    "print(f'.envファイルに {agent_env_key}=\\\"{agent_env_value}\\\" を追記しました。')\n"
   ]
  }
 ],
 "metadata": {
  "kernelspec": {
   "display_name": ".venv",
   "language": "python",
   "name": "python3"
  },
  "language_info": {
   "codemirror_mode": {
    "name": "ipython",
    "version": 3
   },
   "file_extension": ".py",
   "mimetype": "text/x-python",
   "name": "python",
   "nbconvert_exporter": "python",
   "pygments_lexer": "ipython3",
   "version": "3.11.9"
  }
 },
 "nbformat": 4,
 "nbformat_minor": 5
}
