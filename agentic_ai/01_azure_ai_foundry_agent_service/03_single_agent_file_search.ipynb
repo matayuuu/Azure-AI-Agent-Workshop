{
 "cells": [
  {
   "cell_type": "code",
   "execution_count": 1,
   "id": "d0f2f2cc",
   "metadata": {},
   "outputs": [],
   "source": [
    "import os\n",
    "import time\n",
    "import json\n",
    "import datetime\n",
    "import zoneinfo\n",
    "\n",
    "import requests\n",
    "\n",
    "from dotenv import load_dotenv, find_dotenv\n",
    "\n",
    "from azure.identity import DefaultAzureCredential\n",
    "from azure.ai.projects import AIProjectClient\n",
    "from azure.ai.agents.models import (\n",
    "    MessageTextContent,\n",
    "    ListSortOrder,\n",
    "    McpTool,\n",
    "    MCPToolDefinition,\n",
    "    RequiredMcpToolCall,\n",
    "    SubmitToolApprovalAction,\n",
    "    ToolApproval,\n",
    "    CodeInterpreterTool,\n",
    "    FunctionTool,\n",
    "    ToolSet,\n",
    ")"
   ]
  },
  {
   "cell_type": "code",
   "execution_count": 2,
   "id": "05d2e113",
   "metadata": {},
   "outputs": [],
   "source": [
    "load_dotenv(override=True)\n",
    "\n",
    "PROJECT_ENDPOINT=os.getenv(\"PROJECT_ENDPOINT\")\n",
    "AZURE_DEPLOYMENT_NAME=os.getenv(\"AZURE_DEPLOYMENT_NAME\")"
   ]
  },
  {
   "cell_type": "code",
   "execution_count": 3,
   "id": "53ef1f5d",
   "metadata": {},
   "outputs": [],
   "source": [
    "# AI Project Client を初期化\n",
    "project_client = AIProjectClient(\n",
    "    endpoint=PROJECT_ENDPOINT,\n",
    "    credential=DefaultAzureCredential()\n",
    ")"
   ]
  },
  {
   "cell_type": "code",
   "execution_count": null,
   "id": "a8451fbc",
   "metadata": {},
   "outputs": [],
   "source": [
    "def agent_run_outputs(thread_id, project_client, file_id_to_name=None, target_dir=\"./output_images\"):\n",
    "    \"\"\"\n",
    "    指定したスレッドIDのRun実行結果（テキスト・画像）をNotebook上に表示＆画像は保存。\n",
    "    アノテーションがあれば [ファイル名] で置換して表示。\n",
    "    file_id_to_name: {file_id: file_name} 形式の辞書\n",
    "    \"\"\"\n",
    "    if file_id_to_name is None:\n",
    "        file_id_to_name = {}\n",
    "    messages = project_client.agents.messages.list(thread_id=thread_id, order=ListSortOrder.ASCENDING)\n",
    "    os.makedirs(target_dir, exist_ok=True)\n",
    "\n",
    "    for message in messages:\n",
    "        # テキスト出力（アノテーション対応）\n",
    "        if message.text_messages:\n",
    "            for txt in message.text_messages:\n",
    "                text_value = txt.text.value\n",
    "                # アノテーションで引用部分を置換\n",
    "                if hasattr(txt.text, \"annotations\"):\n",
    "                    for annotation in txt.text.annotations:\n",
    "                        fid = getattr(annotation.file_citation, \"file_id\", None)\n",
    "                        citation = file_id_to_name.get(fid, fid)\n",
    "                        # 空白を入れて見やすく\n",
    "                        text_value = text_value.replace(annotation.text, f\" [{citation}]\")\n",
    "                print(f\"{message.role.upper()}: {text_value}\")\n",
    "        \n",
    "        # 画像出力\n",
    "        if hasattr(message, \"image_contents\"):\n",
    "            for image_content in message.image_contents:\n",
    "                file_id = image_content.image_file.file_id\n",
    "                file_name = f\"{file_id}_image_file.png\"\n",
    "                project_client.agents.files.save(\n",
    "                    file_id=file_id,\n",
    "                    file_name=file_name,\n",
    "                    target_dir=target_dir\n",
    "                )\n",
    "                print(f\"Saved image: {file_name}\")\n",
    "                display(Image(filename=f\"{target_dir}/{file_name}\"))\n"
   ]
  },
  {
   "cell_type": "code",
   "execution_count": 106,
   "id": "dae3b1f3",
   "metadata": {},
   "outputs": [
    {
     "name": "stdout",
     "output_type": "stream",
     "text": [
      "Uploaded file, file ID: assistant-MZQva6BbJ4ETXp23y8xRAf\n",
      "Created vector store, vector store ID: vs_chjBOH4NsK3rUINq0VN5gJkN\n"
     ]
    }
   ],
   "source": [
    "from azure.ai.agents.models import FilePurpose\n",
    "\n",
    "# Define the path to the file to be uploaded\n",
    "file_path = \"./input_data/product_info_1.md\"\n",
    "\n",
    "# Upload the file\n",
    "file = project_client.agents.files.upload_and_poll(file_path=file_path, purpose=FilePurpose.AGENTS)\n",
    "print(f\"Uploaded file, file ID: {file.id}\")\n",
    "\n",
    "# Create a vector store with the uploaded file\n",
    "vector_store = project_client.agents.vector_stores.create_and_poll(file_ids=[file.id], name=\"my_vectorstore\")\n",
    "print(f\"Created vector store, vector store ID: {vector_store.id}\")"
   ]
  },
  {
   "cell_type": "code",
   "execution_count": 107,
   "id": "cba85aa3",
   "metadata": {},
   "outputs": [
    {
     "name": "stdout",
     "output_type": "stream",
     "text": [
      "Vector store status: completed\n"
     ]
    }
   ],
   "source": [
    "while True:\n",
    "    status = vector_store.status.value\n",
    "    print(f\"Vector store status: {status}\")\n",
    "    if status == \"completed\":\n",
    "        break\n",
    "    if status == \"expired\":\n",
    "        raise RuntimeError(\"Vector store has expired.\")\n",
    "    if status == \"in_progress\":\n",
    "        print(\"Vector store is still being created, waiting for completion...\")\n",
    "        time.sleep(3)"
   ]
  },
  {
   "cell_type": "code",
   "execution_count": 91,
   "id": "e4db526c",
   "metadata": {},
   "outputs": [],
   "source": [
    "from azure.ai.agents.models import FileSearchTool\n",
    "\n",
    "file_search = FileSearchTool(vector_store_ids=[vector_store.id])"
   ]
  },
  {
   "cell_type": "code",
   "execution_count": 92,
   "id": "cdf933b0",
   "metadata": {},
   "outputs": [
    {
     "name": "stdout",
     "output_type": "stream",
     "text": [
      "Created Agent. AGENT_ID: asst_uaqKOSLLZXjtilvgf7wY02vI\n"
     ]
    }
   ],
   "source": [
    "agent  = project_client.agents.create_agent(\n",
    "    model=AZURE_DEPLOYMENT_NAME,\n",
    "    name=\"agent \",\n",
    "    instructions=(\n",
    "        \"You are a helpful agent and can search information from uploaded files\"\n",
    "    ),\n",
    "    description=(\n",
    "        \"You are a helpful agent and can search information from uploaded files\"    \n",
    "    ),\n",
    "    tools=file_search.definitions,  # Tools available to the agent\n",
    "    tool_resources=file_search.resources,  # Resources for the tools\n",
    ")\n",
    "print(f\"Created Agent. AGENT_ID: {agent.id}\")\n"
   ]
  },
  {
   "cell_type": "code",
   "execution_count": 93,
   "id": "77f7ebcf",
   "metadata": {},
   "outputs": [
    {
     "name": "stdout",
     "output_type": "stream",
     "text": [
      "{\n",
      "  \"id\": \"asst_uaqKOSLLZXjtilvgf7wY02vI\",\n",
      "  \"object\": \"assistant\",\n",
      "  \"created_at\": 1753531908,\n",
      "  \"name\": \"agent \",\n",
      "  \"description\": \"You are a helpful agent and can search information from uploaded files\",\n",
      "  \"model\": \"gpt-4.1\",\n",
      "  \"instructions\": \"You are a helpful agent and can search information from uploaded files\",\n",
      "  \"tools\": [\n",
      "    {\n",
      "      \"type\": \"file_search\"\n",
      "    }\n",
      "  ],\n",
      "  \"top_p\": 1.0,\n",
      "  \"temperature\": 1.0,\n",
      "  \"tool_resources\": {\n",
      "    \"file_search\": {\n",
      "      \"vector_store_ids\": [\n",
      "        \"vs_hJQ4yQtmwVJxXgTgcpXfXIXh\"\n",
      "      ]\n",
      "    }\n",
      "  },\n",
      "  \"metadata\": {},\n",
      "  \"response_format\": \"auto\"\n",
      "}\n"
     ]
    }
   ],
   "source": [
    "agent_dict = agent.as_dict()\n",
    "print(json.dumps(agent_dict, indent=2, ensure_ascii=False))"
   ]
  },
  {
   "cell_type": "code",
   "execution_count": 94,
   "id": "83cbfafe",
   "metadata": {},
   "outputs": [
    {
     "name": "stdout",
     "output_type": "stream",
     "text": [
      "Created Thread. THREAD_ID: thread_bPAYhcbQtjtQbLWlpsBZIpOy\n"
     ]
    }
   ],
   "source": [
    "# Thread の作成\n",
    "thread = project_client.agents.threads.create()\n",
    "print(f\"Created Thread. THREAD_ID: {thread.id}\")"
   ]
  },
  {
   "cell_type": "code",
   "execution_count": 95,
   "id": "611e7bff",
   "metadata": {},
   "outputs": [
    {
     "name": "stdout",
     "output_type": "stream",
     "text": [
      "Added Message. MESSAGE_ID: msg_AvEB20PGRO3dizshllSiSzjc\n"
     ]
    }
   ],
   "source": [
    "# メッセージの追加\n",
    "user_message = \"TrailMaster X4 の価格（ドルと円）を教えてください。\"\n",
    "\n",
    "message = project_client.agents.messages.create(\n",
    "    thread_id=thread.id,\n",
    "    role=\"user\",\n",
    "    content=user_message,\n",
    ")\n",
    "\n",
    "print(f\"Added Message. MESSAGE_ID: {message.id}\")"
   ]
  },
  {
   "cell_type": "code",
   "execution_count": 96,
   "id": "de2ba73b",
   "metadata": {},
   "outputs": [
    {
     "name": "stdout",
     "output_type": "stream",
     "text": [
      "USER: TrailMaster X4 の価格（ドルと円）を教えてください。\n",
      "ASSISTANT: TrailMaster X4 の価格（ドルと円）について、該当ファイルを検索します。少々お待ちください。\n",
      "ASSISTANT: TrailMaster X4 の価格は**250ドル**です。  \n",
      "円での価格は為替レートによって異なりますが、例えば1ドル＝150円の場合、**37,500円**程度になります（250ドル × 150円 = 37,500円）。  \n",
      "正確な円価格は購入時の為替レートをご確認ください。\n",
      "\n",
      "【ファイル出典】TrailMaster X4 Tent, price $250【5:1†product_info_1.md】 [assistant-4rue4DJXYF2HH6arEFvgCj]\n"
     ]
    }
   ],
   "source": [
    "run = project_client.agents.runs.create_and_process(\n",
    "    thread_id=thread.id,\n",
    "    agent_id=agent.id\n",
    ")\n",
    "\n",
    "if run.status == \"failed\":\n",
    "    print(f\"Run failed: {run.last_error}\")\n",
    "else:\n",
    "    agent_run_outputs(thread.id, project_client)"
   ]
  },
  {
   "cell_type": "code",
   "execution_count": 101,
   "id": "f8c0193b",
   "metadata": {},
   "outputs": [
    {
     "name": "stdout",
     "output_type": "stream",
     "text": [
      "USER: TrailMaster X4 の価格（ドルと円）を教えてください。\n",
      "ASSISTANT: TrailMaster X4 の価格（ドルと円）について、該当ファイルを検索します。少々お待ちください。\n",
      "ASSISTANT: TrailMaster X4 の価格は**250ドル**です。  \n",
      "円での価格は為替レートによって異なりますが、例えば1ドル＝150円の場合、**37,500円**程度になります（250ドル × 150円 = 37,500円）。  \n",
      "正確な円価格は購入時の為替レートをご確認ください。\n",
      "\n",
      "【ファイル出典】TrailMaster X4 Tent, price $250 [assistant-4rue4DJXYF2HH6arEFvgCj]\n"
     ]
    }
   ],
   "source": [
    "agent_run_outputs(thread.id, project_client)"
   ]
  },
  {
   "cell_type": "code",
   "execution_count": 102,
   "id": "bb475bc7",
   "metadata": {},
   "outputs": [
    {
     "name": "stdout",
     "output_type": "stream",
     "text": [
      "MessageRole.AGENT: TrailMaster X4 の価格は**250ドル**です。  \n",
      "円での価格は為替レートによって異なりますが、例えば1ドル＝150円の場合、**37,500円**程度になります（250ドル × 150円 = 37,500円）。  \n",
      "正確な円価格は購入時の為替レートをご確認ください。\n",
      "\n",
      "【ファイル出典】TrailMaster X4 Tent, price $250 [product_info_1.md]\n",
      "MessageRole.AGENT: TrailMaster X4 の価格（ドルと円）について、該当ファイルを検索します。少々お待ちください。\n",
      "MessageRole.USER: TrailMaster X4 の価格（ドルと円）を教えてください。\n"
     ]
    }
   ],
   "source": [
    "messages = project_client.agents.messages.list(thread_id=thread.id)\n",
    "file_name = os.path.split(file_path)[-1]\n",
    "for msg in messages:\n",
    "    if msg.text_messages:\n",
    "        last_text = msg.text_messages[-1].text.value\n",
    "        for annotation in msg.text_messages[-1].text.annotations:\n",
    "            citation = (\n",
    "                file_name if annotation.file_citation.file_id == file.id else annotation.file_citation.file_id\n",
    "            )\n",
    "            last_text = last_text.replace(annotation.text, f\" [{citation}]\")\n",
    "        print(f\"{msg.role}: {last_text}\")"
   ]
  }
 ],
 "metadata": {
  "kernelspec": {
   "display_name": ".venv",
   "language": "python",
   "name": "python3"
  },
  "language_info": {
   "codemirror_mode": {
    "name": "ipython",
    "version": 3
   },
   "file_extension": ".py",
   "mimetype": "text/x-python",
   "name": "python",
   "nbconvert_exporter": "python",
   "pygments_lexer": "ipython3",
   "version": "3.11.9"
  }
 },
 "nbformat": 4,
 "nbformat_minor": 5
}
