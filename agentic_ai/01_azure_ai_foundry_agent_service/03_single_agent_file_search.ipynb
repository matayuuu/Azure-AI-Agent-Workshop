{
 "cells": [
  {
   "cell_type": "markdown",
   "id": "028f24de",
   "metadata": {},
   "source": [
    "# TODO：概要"
   ]
  },
  {
   "cell_type": "markdown",
   "id": "2cb93715",
   "metadata": {},
   "source": [
    "# ライブラリのインポート"
   ]
  },
  {
   "cell_type": "code",
   "execution_count": 17,
   "id": "d0f2f2cc",
   "metadata": {},
   "outputs": [],
   "source": [
    "import os\n",
    "import time\n",
    "import json\n",
    "import datetime\n",
    "import zoneinfo\n",
    "\n",
    "import requests\n",
    "\n",
    "from dotenv import load_dotenv, find_dotenv\n",
    "\n",
    "from azure.identity import DefaultAzureCredential\n",
    "from azure.ai.projects import AIProjectClient\n",
    "from azure.ai.agents.models import (\n",
    "    MessageTextContent,\n",
    "    ListSortOrder,\n",
    "    McpTool,\n",
    "    MCPToolDefinition,\n",
    "    RequiredMcpToolCall,\n",
    "    SubmitToolApprovalAction,\n",
    "    ToolApproval,\n",
    "    CodeInterpreterTool,\n",
    "    FunctionTool,\n",
    "    ToolSet,\n",
    "    FilePurpose,\n",
    "    FileSearchTool,\n",
    "    RunAdditionalFieldList,\n",
    "    RunStepFileSearchToolCall,\n",
    "    RunStepToolCallDetails,\n",
    ")\n"
   ]
  },
  {
   "cell_type": "markdown",
   "id": "b93e4030",
   "metadata": {},
   "source": [
    "# 環境変数の取得"
   ]
  },
  {
   "cell_type": "code",
   "execution_count": 18,
   "id": "05d2e113",
   "metadata": {},
   "outputs": [],
   "source": [
    "load_dotenv(override=True)\n",
    "\n",
    "PROJECT_ENDPOINT=os.getenv(\"PROJECT_ENDPOINT\")\n",
    "AZURE_DEPLOYMENT_NAME=os.getenv(\"AZURE_DEPLOYMENT_NAME\")"
   ]
  },
  {
   "cell_type": "markdown",
   "id": "51885e63",
   "metadata": {},
   "source": [
    "# クライアントの初期化"
   ]
  },
  {
   "cell_type": "code",
   "execution_count": 19,
   "id": "53ef1f5d",
   "metadata": {},
   "outputs": [],
   "source": [
    "# AI Project Client を初期化\n",
    "project_client = AIProjectClient(\n",
    "    endpoint=PROJECT_ENDPOINT,\n",
    "    credential=DefaultAzureCredential()\n",
    ")\n",
    "\n",
    "# AgentClient の作成\n",
    "agents_client = project_client.agents"
   ]
  },
  {
   "cell_type": "markdown",
   "id": "7cae81c1",
   "metadata": {},
   "source": [
    "# ユーティリティ関数"
   ]
  },
  {
   "cell_type": "code",
   "execution_count": 20,
   "id": "a8451fbc",
   "metadata": {},
   "outputs": [],
   "source": [
    "def agent_run_outputs(thread_id, agents_client, target_dir=\"./output_images\"):\n",
    "    \"\"\"\n",
    "    指定したスレッドIDのRun実行結果（テキスト・画像）をNotebook上に表示＆画像は保存。\n",
    "    \"\"\"\n",
    "    messages = agents_client.messages.list(thread_id=thread_id, order=ListSortOrder.ASCENDING)\n",
    "    os.makedirs(target_dir, exist_ok=True)\n",
    "\n",
    "    for message in messages:\n",
    "        # テキスト出力\n",
    "        if message.text_messages:\n",
    "            for txt in message.text_messages:\n",
    "                print(f\"{message.role.upper()}: {txt.text.value}\")\n",
    "        \n",
    "        # 画像出力\n",
    "        if hasattr(message, \"image_contents\"):\n",
    "            for image_content in message.image_contents:\n",
    "                file_id = image_content.image_file.file_id\n",
    "                file_name = f\"{file_id}_image_file.png\"\n",
    "\n",
    "                agents_client.files.save(\n",
    "                    file_id=file_id,\n",
    "                    file_name=file_name,\n",
    "                    target_dir=target_dir\n",
    "                )\n",
    "                print(f\"Saved image: {file_name}\")\n",
    "                display(Image(filename=f\"{target_dir}/{file_name}\"))"
   ]
  },
  {
   "cell_type": "code",
   "execution_count": 21,
   "id": "57256e2a",
   "metadata": {},
   "outputs": [],
   "source": [
    "def file_search_content_outputs(agents_client, thread_id, run_id):\n",
    "    \"\"\"\n",
    "    指定したスレッドID・Run IDのファイル検索ツールによる検索結果コンテンツをNotebook等に出力します。\n",
    "\n",
    "    :param agents_client: AgentClient インスタンス\n",
    "    :param thread_id: スレッドID\n",
    "    :param run_id: Run ID\n",
    "    \"\"\"\n",
    "    from azure.ai.agents.models import RunAdditionalFieldList, RunStepToolCallDetails, RunStepFileSearchToolCall\n",
    "\n",
    "    for run_step in agents_client.run_steps.list(\n",
    "        thread_id=thread_id,\n",
    "        run_id=run_id,\n",
    "        include=[RunAdditionalFieldList.FILE_SEARCH_CONTENTS]\n",
    "    ):\n",
    "        if isinstance(run_step.step_details, RunStepToolCallDetails):\n",
    "            for tool_call in run_step.step_details.tool_calls:\n",
    "                if (\n",
    "                    isinstance(tool_call, RunStepFileSearchToolCall)\n",
    "                    and getattr(tool_call, \"file_search\", None)\n",
    "                    and getattr(tool_call.file_search, \"results\", None)\n",
    "                    and tool_call.file_search.results\n",
    "                    and getattr(tool_call.file_search.results[0], \"content\", None)\n",
    "                    and tool_call.file_search.results[0].content\n",
    "                    and getattr(tool_call.file_search.results[0].content[0], \"text\", None)\n",
    "                ):\n",
    "                    file_name = tool_call.file_search.results[0].file_name\n",
    "                    content_text = tool_call.file_search.results[0].content[0].text\n",
    "                    print(f\"ファイル検索の結果、以下のコンテンツがヒットしました。\\n「{file_name}」:\")\n",
    "                    print(\"=\" * 60)\n",
    "                    print(content_text)\n",
    "                    print(\"=\" * 60)"
   ]
  },
  {
   "cell_type": "markdown",
   "id": "ea72879b",
   "metadata": {},
   "source": [
    "# ツールの定義"
   ]
  },
  {
   "cell_type": "markdown",
   "id": "a16d6095",
   "metadata": {},
   "source": [
    "## ベクトルストアの作成"
   ]
  },
  {
   "cell_type": "code",
   "execution_count": 22,
   "id": "15b1faf5",
   "metadata": {},
   "outputs": [
    {
     "name": "stdout",
     "output_type": "stream",
     "text": [
      "Uploaded file: カスタマーサービスのパンフレット.pptx, file ID: assistant-GsfetxxiaDLNwe1TaPQGQ1\n",
      "Uploaded file: 出荷日ポリシー.pdf, file ID: assistant-XhmLSe9mLyUUHAFshHwvjh\n",
      "Created vector store, vector store ID: vs_kqDSa9H5OEOZTlHV6yGBZlFR\n"
     ]
    }
   ],
   "source": [
    "# アップロード対象ディレクトリ\n",
    "input_dir = \"./input_data\"\n",
    "\n",
    "# ファイルIDのリスト\n",
    "file_ids = []\n",
    "\n",
    "# ディレクトリ内の全ファイルをループしてアップロード\n",
    "for fname in os.listdir(input_dir):\n",
    "    file_path = os.path.join(input_dir, fname)\n",
    "    if os.path.isfile(file_path):\n",
    "        uploaded_file = agents_client.files.upload_and_poll(file_path=file_path, purpose=FilePurpose.AGENTS)\n",
    "        print(f\"Uploaded file: {fname}, file ID: {uploaded_file.id}\")\n",
    "        file_ids.append(uploaded_file.id)\n",
    "\n",
    "if not file_ids:\n",
    "    raise RuntimeError(\"No files were uploaded. Please check the directory.\")\n",
    "\n",
    "# アップロードした全ファイルを使ってベクトルストアを作成\n",
    "vector_store = agents_client.vector_stores.create_and_poll(file_ids=file_ids, name=\"my_vectorstore\")\n",
    "print(f\"Created vector store, vector store ID: {vector_store.id}\")\n"
   ]
  },
  {
   "cell_type": "code",
   "execution_count": 23,
   "id": "cf35d7f7",
   "metadata": {},
   "outputs": [
    {
     "data": {
      "text/plain": [
       "{'in_progress': 0, 'completed': 2, 'failed': 0, 'cancelled': 0, 'total': 2}"
      ]
     },
     "execution_count": 23,
     "metadata": {},
     "output_type": "execute_result"
    }
   ],
   "source": [
    "# インポートしたファイル数の確認\n",
    "vector_store.as_dict()\n",
    "vector_store.file_counts"
   ]
  },
  {
   "cell_type": "markdown",
   "id": "21fd632e",
   "metadata": {},
   "source": [
    "## File Search ツールの定義"
   ]
  },
  {
   "cell_type": "code",
   "execution_count": 24,
   "id": "e4db526c",
   "metadata": {},
   "outputs": [],
   "source": [
    "# Code Interpreter ツールの定義\n",
    "file_search = FileSearchTool(vector_store_ids=[vector_store.id])"
   ]
  },
  {
   "cell_type": "markdown",
   "id": "4d19d6d7",
   "metadata": {},
   "source": [
    "# エージェントの作成"
   ]
  },
  {
   "cell_type": "code",
   "execution_count": 25,
   "id": "cdf933b0",
   "metadata": {},
   "outputs": [
    {
     "name": "stdout",
     "output_type": "stream",
     "text": [
      "Created Agent. AGENT_ID: asst_pZkH18sbpg4K9VN7GssuZbLS\n"
     ]
    }
   ],
   "source": [
    "file_search_agent  = agents_client.create_agent(\n",
    "    model=AZURE_DEPLOYMENT_NAME,\n",
    "    name=\"file_search_agent \",\n",
    "    instructions=(\n",
    "        \"アップロードしたファイルから情報を検索できるエージェントです。\"\n",
    "        \"ユーザーの質問に、アップロードしたファイルを参照して答えてください。\"\n",
    "    ),\n",
    "    description=(\n",
    "        \"アップロードしたファイルから情報を検索できるエージェントです。\"    \n",
    "    ),\n",
    "    tools=file_search.definitions,  \n",
    "    tool_resources=file_search.resources,\n",
    "    temperature=0.1\n",
    ")\n",
    "print(f\"Created Agent. AGENT_ID: {file_search_agent.id}\")\n"
   ]
  },
  {
   "cell_type": "code",
   "execution_count": 33,
   "id": "57907206",
   "metadata": {},
   "outputs": [
    {
     "name": "stdout",
     "output_type": "stream",
     "text": [
      "{\n",
      "  \"id\": \"asst_pZkH18sbpg4K9VN7GssuZbLS\",\n",
      "  \"object\": \"assistant\",\n",
      "  \"created_at\": 1753562863,\n",
      "  \"name\": \"file_search_agent \",\n",
      "  \"description\": \"アップロードしたファイルから情報を検索できるエージェントです。\",\n",
      "  \"model\": \"gpt-4.1\",\n",
      "  \"instructions\": \"アップロードしたファイルから情報を検索できるエージェントです。ユーザーの質問に、アップロードしたファイルを参照して答えてください。\",\n",
      "  \"tools\": [\n",
      "    {\n",
      "      \"type\": \"file_search\"\n",
      "    }\n",
      "  ],\n",
      "  \"top_p\": 1.0,\n",
      "  \"temperature\": 0.1,\n",
      "  \"tool_resources\": {\n",
      "    \"file_search\": {\n",
      "      \"vector_store_ids\": [\n",
      "        \"vs_kqDSa9H5OEOZTlHV6yGBZlFR\"\n",
      "      ]\n",
      "    }\n",
      "  },\n",
      "  \"metadata\": {},\n",
      "  \"response_format\": \"auto\"\n",
      "}\n"
     ]
    }
   ],
   "source": [
    "agent_dict = file_search_agent.as_dict()\n",
    "print(json.dumps(agent_dict, indent=2, ensure_ascii=False))"
   ]
  },
  {
   "cell_type": "markdown",
   "id": "f822dc5a",
   "metadata": {},
   "source": [
    "# スレッドの作成"
   ]
  },
  {
   "cell_type": "code",
   "execution_count": 26,
   "id": "83cbfafe",
   "metadata": {},
   "outputs": [
    {
     "name": "stdout",
     "output_type": "stream",
     "text": [
      "Created Thread. THREAD_ID: thread_Usj6oblNygKMQvC0d3X4aU25\n"
     ]
    }
   ],
   "source": [
    "# Thread の作成\n",
    "thread = agents_client.threads.create()\n",
    "print(f\"Created Thread. THREAD_ID: {thread.id}\")"
   ]
  },
  {
   "cell_type": "markdown",
   "id": "15c39a6f",
   "metadata": {},
   "source": [
    "# ユーザーメッセージの追加"
   ]
  },
  {
   "cell_type": "code",
   "execution_count": 27,
   "id": "611e7bff",
   "metadata": {},
   "outputs": [
    {
     "name": "stdout",
     "output_type": "stream",
     "text": [
      "Added Message. MESSAGE_ID: msg_aolksdQt9rmUXT3RivFDHZSE\n"
     ]
    }
   ],
   "source": [
    "# メッセージの追加\n",
    "user_message_1 = \"新しいパソコンの購入を検討しています。しかし、初期設定に自信がないので、初期設定サポートについて教えてください。\"\n",
    "\n",
    "message = agents_client.messages.create(\n",
    "    thread_id=thread.id,\n",
    "    role=\"user\",\n",
    "    content=user_message_1,\n",
    ")\n",
    "\n",
    "print(f\"Added Message. MESSAGE_ID: {message.id}\")"
   ]
  },
  {
   "cell_type": "markdown",
   "id": "7e8cd4c2",
   "metadata": {},
   "source": [
    "# Run の実行"
   ]
  },
  {
   "cell_type": "markdown",
   "id": "a4cc0d7a",
   "metadata": {},
   "source": [
    "## 1 ターン目"
   ]
  },
  {
   "cell_type": "code",
   "execution_count": 28,
   "id": "de2ba73b",
   "metadata": {},
   "outputs": [
    {
     "name": "stdout",
     "output_type": "stream",
     "text": [
      "USER: 新しいパソコンの購入を検討しています。しかし、初期設定に自信がないので、初期設定サポートについて教えてください。\n",
      "ASSISTANT: アップロードされたファイルの中から「初期設定サポート」に関する情報を検索します。少々お待ちください。\n",
      "ASSISTANT: パソコンの初期設定サポートについて、アップロードされた資料に以下の内容が記載されています。\n",
      "\n",
      "---\n",
      "\n",
      "### 🎉初心者向けセットアップサポート🎉\n",
      "**～パソコン・スマホの初期設定を安心サポート～**\n",
      "\n",
      "#### サービス内容（所要時間：約30〜60分）\n",
      "- 電源の接続と起動確認\n",
      "- Wi-Fi・インターネット接続設定\n",
      "- メールアカウント・アプリの初期登録\n",
      "- セキュリティ対策（ウイルス対策ソフトの確認・導入）\n",
      "- 基本操作レクチャー（マウス、キーボード、タッチ操作）\n",
      "- よく使うアプリのインストールサポート（Office・Zoomなど）\n",
      "\n",
      "#### こんな方におすすめ\n",
      "- 初めてパソコンやスマホを購入した方\n",
      "- 設定がよくわからず不安な方\n",
      "- 家族に頼らず自分で使いたい方\n",
      "\n",
      "#### サポート体制\n",
      "- 出張対応／オンライン対応 選べます\n",
      "- 初回サポート無料（キャンペーン中）\n",
      "- ご希望に応じてマニュアルもプレゼント\n",
      "\n",
      "#### お問い合わせ\n",
      "- 電話：0120-123-456（平日 10:00〜18:00）\n",
      "- メール：support@easysetup.jp\n",
      "- WEB予約：https://www.easysetup.jp\n",
      "\n",
      "---\n",
      "\n",
      "このように、初期設定のサポートは電源接続からインターネット設定、アプリのインストールまで幅広く対応しており、出張やオンラインでのサポートも選択できます。初回無料キャンペーンも実施中ですので、安心してご利用いただけます【5:0†カスタマーサービスのパンフレット.pptx】。\n"
     ]
    }
   ],
   "source": [
    "run_1 = agents_client.runs.create_and_process(\n",
    "    thread_id=thread.id,\n",
    "    agent_id=file_search_agent.id\n",
    ")\n",
    "\n",
    "if run_1.status == \"failed\":\n",
    "    print(f\"Run failed: {run_1.last_error}\")\n",
    "else:\n",
    "    agent_run_outputs(thread.id, agents_client)"
   ]
  },
  {
   "cell_type": "code",
   "execution_count": 29,
   "id": "c534ecc1",
   "metadata": {},
   "outputs": [
    {
     "name": "stdout",
     "output_type": "stream",
     "text": [
      "ファイル検索の結果、以下のコンテンツがヒットしました。\n",
      "「カスタマーサービスのパンフレット.pptx」:\n",
      "============================================================\n",
      "🎉初心者向けセットアップサポート🎉 ～パソコン・スマホの初期設定を安心サポート～ \n",
      "✅ サービス内容（所要時間：約30〜60分） 電源の接続と起動確認 Wi-Fi・インターネット接続設定 メールアカウント・アプリの初期登録 セキュリティ対策（ウイルス対策ソフトの確認・導入） 基本操作レクチャー（マウス、キーボード、タッチ操作） よく使うアプリのインストールサポート（ Office ・Zoomなど） \n",
      "👩‍💻 こんな方におすすめ ！ 初めてパソコンやスマホを購入した方 設定がよくわからず不安な方 家族に頼らず自分で使いたい方 \n",
      "📞 カスタマーサポート ご不明点やご予約は下記までお気軽に！ 電話：0120-123-456（平日 10:00〜18:00） メール：support@easysetup.jp WEB予約： https://www.easysetup.jp \n",
      "💡安心のサポート体制 ✔ 出張対応／オンライン対応 選べます ✔ 初回サポート無料（キャンペーン中） ✔ ご希望に応じてマニュアルもプレゼント！\n",
      "============================================================\n"
     ]
    }
   ],
   "source": [
    "# 参照したコンテンツを出力\n",
    "file_search_content_outputs(agents_client, thread.id, run_1.id)\n"
   ]
  },
  {
   "cell_type": "markdown",
   "id": "fc709f18",
   "metadata": {},
   "source": [
    "## 2 ターン目"
   ]
  },
  {
   "cell_type": "code",
   "execution_count": 30,
   "id": "7b77295c",
   "metadata": {},
   "outputs": [
    {
     "name": "stdout",
     "output_type": "stream",
     "text": [
      "USER: 新しいパソコンの購入を検討しています。しかし、初期設定に自信がないので、初期設定サポートについて教えてください。\n",
      "ASSISTANT: アップロードされたファイルの中から「初期設定サポート」に関する情報を検索します。少々お待ちください。\n",
      "ASSISTANT: パソコンの初期設定サポートについて、アップロードされた資料に以下の内容が記載されています。\n",
      "\n",
      "---\n",
      "\n",
      "### 🎉初心者向けセットアップサポート🎉\n",
      "**～パソコン・スマホの初期設定を安心サポート～**\n",
      "\n",
      "#### サービス内容（所要時間：約30〜60分）\n",
      "- 電源の接続と起動確認\n",
      "- Wi-Fi・インターネット接続設定\n",
      "- メールアカウント・アプリの初期登録\n",
      "- セキュリティ対策（ウイルス対策ソフトの確認・導入）\n",
      "- 基本操作レクチャー（マウス、キーボード、タッチ操作）\n",
      "- よく使うアプリのインストールサポート（Office・Zoomなど）\n",
      "\n",
      "#### こんな方におすすめ\n",
      "- 初めてパソコンやスマホを購入した方\n",
      "- 設定がよくわからず不安な方\n",
      "- 家族に頼らず自分で使いたい方\n",
      "\n",
      "#### サポート体制\n",
      "- 出張対応／オンライン対応 選べます\n",
      "- 初回サポート無料（キャンペーン中）\n",
      "- ご希望に応じてマニュアルもプレゼント\n",
      "\n",
      "#### お問い合わせ\n",
      "- 電話：0120-123-456（平日 10:00〜18:00）\n",
      "- メール：support@easysetup.jp\n",
      "- WEB予約：https://www.easysetup.jp\n",
      "\n",
      "---\n",
      "\n",
      "このように、初期設定のサポートは電源接続からインターネット設定、アプリのインストールまで幅広く対応しており、出張やオンラインでのサポートも選択できます。初回無料キャンペーンも実施中ですので、安心してご利用いただけます【5:0†カスタマーサービスのパンフレット.pptx】。\n",
      "USER: PCを購入した際、どれくらいで出荷されますか？\n",
      "ASSISTANT: PC（パソコン）を購入した場合の出荷日は、「受注後5〜7営業日以内」となっています。ただし、設置工事が必要な商品やメーカーから取り寄せが必要な場合は、さらに日数がかかることがあります。また、営業日は土日祝日を除く平日ですのでご注意ください【9:0†出荷日ポリシー.pdf】。\n"
     ]
    }
   ],
   "source": [
    "# メッセージの追加\n",
    "user_message_2 = \"PCを購入した際、どれくらいで出荷されますか？\"\n",
    "\n",
    "message = agents_client.messages.create(\n",
    "    thread_id=thread.id,\n",
    "    role=\"user\",\n",
    "    content=user_message_2,\n",
    ")\n",
    "\n",
    "run_2 = agents_client.runs.create_and_process(\n",
    "    thread_id=thread.id,\n",
    "    agent_id=file_search_agent.id\n",
    ")\n",
    "\n",
    "if run_2.status == \"failed\":\n",
    "    print(f\"Run failed: {run_2.last_error}\")\n",
    "else:\n",
    "    agent_run_outputs(thread.id, agents_client)"
   ]
  },
  {
   "cell_type": "code",
   "execution_count": 31,
   "id": "b8760506",
   "metadata": {},
   "outputs": [
    {
     "name": "stdout",
     "output_type": "stream",
     "text": [
      "ファイル検索の結果、以下のコンテンツがヒットしました。\n",
      "「出荷日ポリシー.pdf」:\n",
      "============================================================\n",
      "2025-07-26\n",
      "\n",
      "1 / 2\n",
      "\n",
      "出荷⽇ポリシー\n",
      "当 EC サイトでは、お客様に安⼼してショッピングをお楽しみいただくため、商品のカテゴリに応じた出荷\n",
      "⽇ポリシーを設けております。ご注⽂いただいた商品は、以下のポリシーに基づき順次発送されます。\n",
      "\n",
      "1. デジタルコンテンツ・ダウンロード商品\n",
      "\n",
      "出荷⽇︓ご購⼊後、即時ダウンロード可能\n",
      "詳細︓決済完了と同時に、ダウンロードリンクが記載されたメールが⾃動送信されます。物理的な商\n",
      "品の発送はありません。\n",
      "\n",
      "2. 書籍・CD/DVD・ゲームソフト\n",
      "\n",
      "出荷⽇︓受注後2〜3営業⽇以内\n",
      "詳細︓在庫がある場合、注⽂直後の変更受付は出荷準備に移るため不可。新刊・予約商品は、発売⽇\n",
      "以降の出荷となります。\n",
      "\n",
      "3. ファッション・アパレル・雑貨\n",
      "\n",
      "出荷⽇︓受注後3〜5営業⽇以内\n",
      "詳細︓在庫状況や⽣産状況により、出荷までにお時間をいただく場合がございます。発送予定⽇や⼊\n",
      "荷情報は、別途記載の納期欄でご確認ください。\n",
      "\n",
      "※注意点︓アパレル・雑貨の中でもキャラクターグッズに関しては、ここに記載の通りではございません。\n",
      "別途「キャラクターグッズ出荷⽇ポリシー」をご確認ください。\n",
      "\n",
      "4. PC・電化製品・家具・⼤型商品\n",
      "\n",
      "出荷⽇︓受注後5〜7営業⽇以内\n",
      "詳細︓設置⼯事が必要な商品や、メーカーから取り寄せが必要な商品は、上記以上の納期をいただく\n",
      "場合がございます。別途、配送業者からの連絡が⼊る場合がございます。\n",
      "\n",
      "5. ⾷品・飲料（常温品）\n",
      "============================================================\n"
     ]
    }
   ],
   "source": [
    "# 参照したコンテンツを出力\n",
    "file_search_content_outputs(agents_client, thread.id, run_2.id)"
   ]
  },
  {
   "cell_type": "markdown",
   "id": "7e6c2a96",
   "metadata": {},
   "source": [
    "# Agent ID を .env ファイルに保存\n",
    "※ 今回作成したエージェントを、後続の Connected Agents のハンズオン演習で使用するため永続化します。"
   ]
  },
  {
   "cell_type": "code",
   "execution_count": 32,
   "id": "31561671",
   "metadata": {},
   "outputs": [
    {
     "name": "stdout",
     "output_type": "stream",
     "text": [
      ".envファイルに FOUNDRY_FILE_SEARCH_AGENT_ID=\"asst_pZkH18sbpg4K9VN7GssuZbLS\" を追記しました。\n"
     ]
    }
   ],
   "source": [
    "# 変数の定義\n",
    "agent_env_key = \"FOUNDRY_FILE_SEARCH_AGENT_ID\"\n",
    "agent_env_value = file_search_agent.id\n",
    "\n",
    "# .envファイルのパスを自動探索\n",
    "env_path = find_dotenv()  # 見つからなければ''を返す\n",
    "if not env_path:\n",
    "    raise FileNotFoundError(\".envファイルが見つかりませんでした。\")\n",
    "\n",
    "# AGENT_ID を .env ファイルに追記\n",
    "with open(env_path, \"a\", encoding=\"utf-8\") as f:\n",
    "    f.write(f'\\n{agent_env_key}=\"{agent_env_value}\"')\n",
    "\n",
    "print(f'.envファイルに {agent_env_key}=\\\"{agent_env_value}\\\" を追記しました。')\n"
   ]
  }
 ],
 "metadata": {
  "kernelspec": {
   "display_name": ".venv",
   "language": "python",
   "name": "python3"
  },
  "language_info": {
   "codemirror_mode": {
    "name": "ipython",
    "version": 3
   },
   "file_extension": ".py",
   "mimetype": "text/x-python",
   "name": "python",
   "nbconvert_exporter": "python",
   "pygments_lexer": "ipython3",
   "version": "3.11.9"
  }
 },
 "nbformat": 4,
 "nbformat_minor": 5
}
