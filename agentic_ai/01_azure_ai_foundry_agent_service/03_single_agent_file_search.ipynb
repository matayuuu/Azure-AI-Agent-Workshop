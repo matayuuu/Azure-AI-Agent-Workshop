{
 "cells": [
  {
   "cell_type": "markdown",
   "id": "028f24de",
   "metadata": {},
   "source": [
    "# TODO：概要"
   ]
  },
  {
   "cell_type": "markdown",
   "id": "2cb93715",
   "metadata": {},
   "source": [
    "# ライブラリのインポート"
   ]
  },
  {
   "cell_type": "code",
   "execution_count": null,
   "id": "d0f2f2cc",
   "metadata": {},
   "outputs": [],
   "source": [
    "import os\n",
    "import time\n",
    "import json\n",
    "import datetime\n",
    "import zoneinfo\n",
    "\n",
    "import requests\n",
    "\n",
    "from dotenv import load_dotenv, find_dotenv\n",
    "\n",
    "from azure.identity import DefaultAzureCredential\n",
    "from azure.ai.projects import AIProjectClient\n",
    "from azure.ai.agents.models import (\n",
    "    MessageTextContent,\n",
    "    ListSortOrder,\n",
    "    McpTool,\n",
    "    MCPToolDefinition,\n",
    "    RequiredMcpToolCall,\n",
    "    SubmitToolApprovalAction,\n",
    "    ToolApproval,\n",
    "    CodeInterpreterTool,\n",
    "    FunctionTool,\n",
    "    ToolSet,\n",
    "    FilePurpose,\n",
    "    FileSearchTool,\n",
    "    RunAdditionalFieldList,\n",
    "    RunStepFileSearchToolCall,\n",
    "    RunStepToolCallDetails,\n",
    ")\n"
   ]
  },
  {
   "cell_type": "markdown",
   "id": "b93e4030",
   "metadata": {},
   "source": [
    "# 環境変数の取得"
   ]
  },
  {
   "cell_type": "code",
   "execution_count": 2,
   "id": "05d2e113",
   "metadata": {},
   "outputs": [],
   "source": [
    "load_dotenv(override=True)\n",
    "\n",
    "PROJECT_ENDPOINT=os.getenv(\"PROJECT_ENDPOINT\")\n",
    "AZURE_DEPLOYMENT_NAME=os.getenv(\"AZURE_DEPLOYMENT_NAME\")"
   ]
  },
  {
   "cell_type": "markdown",
   "id": "51885e63",
   "metadata": {},
   "source": [
    "# クライアントの初期化"
   ]
  },
  {
   "cell_type": "code",
   "execution_count": 3,
   "id": "53ef1f5d",
   "metadata": {},
   "outputs": [],
   "source": [
    "# AI Project Client を初期化\n",
    "project_client = AIProjectClient(\n",
    "    endpoint=PROJECT_ENDPOINT,\n",
    "    credential=DefaultAzureCredential()\n",
    ")"
   ]
  },
  {
   "cell_type": "markdown",
   "id": "7cae81c1",
   "metadata": {},
   "source": [
    "# ユーティリティ関数"
   ]
  },
  {
   "cell_type": "code",
   "execution_count": 141,
   "id": "a8451fbc",
   "metadata": {},
   "outputs": [],
   "source": [
    "def agent_run_outputs(thread_id, project_client, target_dir=\"./output_images\"):\n",
    "    \"\"\"\n",
    "    指定したスレッドIDのRun実行結果（テキスト・画像）をNotebook上に表示＆画像は保存。\n",
    "    \"\"\"\n",
    "    messages = project_client.agents.messages.list(thread_id=thread_id, order=ListSortOrder.ASCENDING)\n",
    "    os.makedirs(target_dir, exist_ok=True)\n",
    "\n",
    "    for message in messages:\n",
    "        # テキスト出力\n",
    "        if message.text_messages:\n",
    "            for txt in message.text_messages:\n",
    "                print(f\"{message.role.upper()}: {txt.text.value}\")\n",
    "        \n",
    "        # 画像出力\n",
    "        if hasattr(message, \"image_contents\"):\n",
    "            for image_content in message.image_contents:\n",
    "                file_id = image_content.image_file.file_id\n",
    "                file_name = f\"{file_id}_image_file.png\"\n",
    "\n",
    "                project_client.agents.files.save(\n",
    "                    file_id=file_id,\n",
    "                    file_name=file_name,\n",
    "                    target_dir=target_dir\n",
    "                )\n",
    "                print(f\"Saved image: {file_name}\")\n",
    "                display(Image(filename=f\"{target_dir}/{file_name}\"))"
   ]
  },
  {
   "cell_type": "code",
   "execution_count": 154,
   "id": "57256e2a",
   "metadata": {},
   "outputs": [],
   "source": [
    "def file_search_content_outputs(project_client, thread_id, run_id):\n",
    "    \"\"\"\n",
    "    指定したスレッドID・Run IDのファイル検索ツールによる検索結果コンテンツをNotebook等に出力します。\n",
    "\n",
    "    :param project_client: Azure AI Project クライアント\n",
    "    :param thread_id: スレッドID\n",
    "    :param run_id: Run ID\n",
    "    \"\"\"\n",
    "    from azure.ai.agents.models import RunAdditionalFieldList, RunStepToolCallDetails, RunStepFileSearchToolCall\n",
    "\n",
    "    for run_step in project_client.agents.run_steps.list(\n",
    "        thread_id=thread_id,\n",
    "        run_id=run_id,\n",
    "        include=[RunAdditionalFieldList.FILE_SEARCH_CONTENTS]\n",
    "    ):\n",
    "        if isinstance(run_step.step_details, RunStepToolCallDetails):\n",
    "            for tool_call in run_step.step_details.tool_calls:\n",
    "                if (\n",
    "                    isinstance(tool_call, RunStepFileSearchToolCall)\n",
    "                    and getattr(tool_call, \"file_search\", None)\n",
    "                    and getattr(tool_call.file_search, \"results\", None)\n",
    "                    and tool_call.file_search.results\n",
    "                    and getattr(tool_call.file_search.results[0], \"content\", None)\n",
    "                    and tool_call.file_search.results[0].content\n",
    "                    and getattr(tool_call.file_search.results[0].content[0], \"text\", None)\n",
    "                ):\n",
    "                    file_name = tool_call.file_search.results[0].file_name\n",
    "                    content_text = tool_call.file_search.results[0].content[0].text\n",
    "                    print(f\"ファイル検索の結果、以下のコンテンツを見つけました。\\n「{file_name}」:\")\n",
    "                    print(\"=\" * 60)\n",
    "                    print(content_text)\n",
    "                    print(\"=\" * 60)"
   ]
  },
  {
   "cell_type": "markdown",
   "id": "ea72879b",
   "metadata": {},
   "source": [
    "# ツールの定義"
   ]
  },
  {
   "cell_type": "markdown",
   "id": "a16d6095",
   "metadata": {},
   "source": [
    "## ベクトルストアの作成"
   ]
  },
  {
   "cell_type": "code",
   "execution_count": null,
   "id": "15b1faf5",
   "metadata": {},
   "outputs": [
    {
     "name": "stdout",
     "output_type": "stream",
     "text": [
      "Uploaded file: Xbox_GamePassPlan.pdf, file ID: assistant-2JbwdZLqFjFz7bagjSJzKi\n",
      "Uploaded file: カスタマーサービスのパンフレット.pptx, file ID: assistant-StGfi8AvM3rfYtXHLwz2de\n",
      "Uploaded file: 出荷日ポリシー.md, file ID: assistant-7jDwApVC7wPzvJH51tjems\n",
      "Created vector store, vector store ID: vs_ByChEiaUsjVUUQBKVHAykEWw\n"
     ]
    }
   ],
   "source": [
    "# アップロード対象ディレクトリ\n",
    "input_dir = \"./input_data\"\n",
    "\n",
    "# ファイルIDのリスト\n",
    "file_ids = []\n",
    "\n",
    "# ディレクトリ内の全ファイルをループしてアップロード\n",
    "for fname in os.listdir(input_dir):\n",
    "    file_path = os.path.join(input_dir, fname)\n",
    "    if os.path.isfile(file_path):\n",
    "        uploaded_file = project_client.agents.files.upload_and_poll(file_path=file_path, purpose=FilePurpose.AGENTS)\n",
    "        print(f\"Uploaded file: {fname}, file ID: {uploaded_file.id}\")\n",
    "        file_ids.append(uploaded_file.id)\n",
    "\n",
    "if not file_ids:\n",
    "    raise RuntimeError(\"No files were uploaded. Please check the directory.\")\n",
    "\n",
    "# アップロードした全ファイルを使ってベクトルストアを作成\n",
    "vector_store = project_client.agents.vector_stores.create_and_poll(file_ids=file_ids, name=\"my_vectorstore\")\n",
    "print(f\"Created vector store, vector store ID: {vector_store.id}\")\n"
   ]
  },
  {
   "cell_type": "code",
   "execution_count": null,
   "id": "cf35d7f7",
   "metadata": {},
   "outputs": [
    {
     "data": {
      "text/plain": [
       "{'in_progress': 0, 'completed': 3, 'failed': 0, 'cancelled': 0, 'total': 3}"
      ]
     },
     "execution_count": 116,
     "metadata": {},
     "output_type": "execute_result"
    }
   ],
   "source": [
    "# インポートしたファイル数の確認\n",
    "vector_store.as_dict()\n",
    "vector_store.file_counts"
   ]
  },
  {
   "cell_type": "markdown",
   "id": "21fd632e",
   "metadata": {},
   "source": [
    "## File Search ツールの定義"
   ]
  },
  {
   "cell_type": "code",
   "execution_count": null,
   "id": "e4db526c",
   "metadata": {},
   "outputs": [],
   "source": [
    "# Code Interpreter ツールの定義\n",
    "file_search = FileSearchTool(vector_store_ids=[vector_store.id])"
   ]
  },
  {
   "cell_type": "markdown",
   "id": "4d19d6d7",
   "metadata": {},
   "source": [
    "# エージェントの作成"
   ]
  },
  {
   "cell_type": "code",
   "execution_count": 132,
   "id": "cdf933b0",
   "metadata": {},
   "outputs": [
    {
     "name": "stdout",
     "output_type": "stream",
     "text": [
      "Created Agent. AGENT_ID: asst_wzl4CnDhNG4SGCopnfVoiWG1\n"
     ]
    }
   ],
   "source": [
    "file_search_agent  = project_client.agents.create_agent(\n",
    "    model=AZURE_DEPLOYMENT_NAME,\n",
    "    name=\"file_search_agent \",\n",
    "    instructions=(\n",
    "        \"アップロードしたファイルから情報を検索できるエージェントです。\"\n",
    "        \"ユーザーの質問に、アップロードしたファイルを参照して答えてください。\"\n",
    "    ),\n",
    "    description=(\n",
    "        \"アップロードしたファイルから情報を検索できるエージェントです。\"    \n",
    "    ),\n",
    "    tools=file_search.definitions,  # Tools available to the agent\n",
    "    tool_resources=file_search.resources,  # Resources for the tools\n",
    ")\n",
    "print(f\"Created Agent. AGENT_ID: {file_search_agent.id}\")\n"
   ]
  },
  {
   "cell_type": "markdown",
   "id": "f822dc5a",
   "metadata": {},
   "source": [
    "# スレッドの作成"
   ]
  },
  {
   "cell_type": "code",
   "execution_count": 144,
   "id": "83cbfafe",
   "metadata": {},
   "outputs": [
    {
     "name": "stdout",
     "output_type": "stream",
     "text": [
      "Created Thread. THREAD_ID: thread_2iVCubFtyGneFTWLnESJS722\n"
     ]
    }
   ],
   "source": [
    "# Thread の作成\n",
    "thread = project_client.agents.threads.create()\n",
    "print(f\"Created Thread. THREAD_ID: {thread.id}\")"
   ]
  },
  {
   "cell_type": "markdown",
   "id": "15c39a6f",
   "metadata": {},
   "source": [
    "# ユーザーメッセージの追加"
   ]
  },
  {
   "cell_type": "code",
   "execution_count": null,
   "id": "611e7bff",
   "metadata": {},
   "outputs": [
    {
     "name": "stdout",
     "output_type": "stream",
     "text": [
      "Added Message. MESSAGE_ID: msg_LfsJDig0dbwAzUtNzLpMK553\n"
     ]
    }
   ],
   "source": [
    "# メッセージの追加\n",
    "user_message_1 = \"ゲームをしたくて、新しいパソコンを探してます。しかし、初期設定に自信がないので、初期設定サポートについて教えてください。\"\n",
    "\n",
    "message = project_client.agents.messages.create(\n",
    "    thread_id=thread.id,\n",
    "    role=\"user\",\n",
    "    content=user_message_1,\n",
    ")\n",
    "\n",
    "print(f\"Added Message. MESSAGE_ID: {message.id}\")"
   ]
  },
  {
   "cell_type": "markdown",
   "id": "7e8cd4c2",
   "metadata": {},
   "source": [
    "# Run の実行"
   ]
  },
  {
   "cell_type": "markdown",
   "id": "a4cc0d7a",
   "metadata": {},
   "source": [
    "## 1 ターン目"
   ]
  },
  {
   "cell_type": "code",
   "execution_count": null,
   "id": "de2ba73b",
   "metadata": {},
   "outputs": [
    {
     "name": "stdout",
     "output_type": "stream",
     "text": [
      "USER: ゲームをしたくて、新しいパソコンを探してます。しかし、初期設定に自信がないので、初期設定サポートについて教えてください。\n",
      "ASSISTANT: アップロードされたファイルの中で「初期設定サポート」に関する情報を検索します。少々お待ちください。\n",
      "ASSISTANT: 「カスタマーサービスのパンフレット」に、初心者向けのパソコン初期設定サポートについて詳しい案内がありました。サービス内容は次の通りです：\n",
      "\n",
      "- 所要時間：約30〜60分\n",
      "- サポート内容：\n",
      "  - 電源の接続と起動確認\n",
      "  - Wi-Fiやインターネット接続設定\n",
      "  - メールアカウントやアプリの初期登録\n",
      "  - セキュリティ対策（ウイルス対策ソフトの導入など）\n",
      "  - 基本操作（マウス、キーボード、タッチ操作）\n",
      "  - よく使うアプリのインストールサポート（Office・Zoomなど）\n",
      "\n",
      "また、出張対応かオンライン対応が選べて、現在は「初回サポート無料」のキャンペーン中です。希望者にはマニュアルのプレゼントもあります。\n",
      "\n",
      "問い合わせや予約は、下記まで可能です：\n",
      "- 電話：0120-123-456（平日 10:00〜18:00）\n",
      "- メール：support@easysetup.jp\n",
      "- WEB予約：https://www.easysetup.jp\n",
      "\n",
      "このサポートは「初めてパソコンやスマホを買う方」や「設定に不安のある方」に特におすすめです【5:0†カスタマーサービスのパンフレット.pptx】。\n",
      "\n",
      "ご希望の場合、上記連絡先からご相談・ご予約ください。\n"
     ]
    }
   ],
   "source": [
    "run_1 = project_client.agents.runs.create_and_process(\n",
    "    thread_id=thread.id,\n",
    "    agent_id=file_search_agent.id\n",
    ")\n",
    "\n",
    "if run_1.status == \"failed\":\n",
    "    print(f\"Run failed: {run_1.last_error}\")\n",
    "else:\n",
    "    agent_run_outputs(thread.id, project_client)"
   ]
  },
  {
   "cell_type": "code",
   "execution_count": null,
   "id": "c534ecc1",
   "metadata": {},
   "outputs": [
    {
     "name": "stdout",
     "output_type": "stream",
     "text": [
      "ファイル検索の結果、以下のコンテンツを見つけました。\n",
      "「カスタマーサービスのパンフレット.pptx」:\n",
      "===============================================================\n",
      "🎉初心者向けセットアップサポート🎉 ～パソコン・スマホの初期設定を安心サポート～ \n",
      "✅ サービス内容（所要時間：約30〜60分） 電源の接続と起動確認 Wi-Fi・インターネット接続設定 メールアカウント・アプリの初期登録 セキュリティ対策（ウイルス対策ソフトの確認・導入） 基本操作レクチャー（マウス、キーボード、タッチ操作） よく使うアプリのインストールサポート（ Office ・Zoomなど） \n",
      "👩‍💻 こんな方におすすめ ！ 初めてパソコンやスマホを購入した方 設定がよくわからず不安な方 家族に頼らず自分で使いたい方 \n",
      "📞 カスタマーサポート ご不明点やご予約は下記までお気軽に！ 電話：0120-123-456（平日 10:00〜18:00） メール：support@easysetup.jp WEB予約： https://www.easysetup.jp \n",
      "💡安心のサポート体制 ✔ 出張対応／オンライン対応 選べます ✔ 初回サポート無料（キャンペーン中） ✔ ご希望に応じてマニュアルもプレゼント！\n",
      "===============================================================\n"
     ]
    }
   ],
   "source": [
    "# 参照したコンテンツを出力\n",
    "file_search_content_outputs(project_client, thread.id, run_1.id)\n"
   ]
  },
  {
   "cell_type": "markdown",
   "id": "fc709f18",
   "metadata": {},
   "source": [
    "## 2 ターン目"
   ]
  },
  {
   "cell_type": "code",
   "execution_count": 155,
   "id": "7b77295c",
   "metadata": {},
   "outputs": [
    {
     "name": "stdout",
     "output_type": "stream",
     "text": [
      "USER: ゲームをしたくて、新しいパソコンを探してます。しかし、初期設定に自信がないので、初期設定サポートについて教えてください。\n",
      "ASSISTANT: アップロードされたファイルの中で「初期設定サポート」に関する情報を検索します。少々お待ちください。\n",
      "ASSISTANT: 「カスタマーサービスのパンフレット」に、初心者向けのパソコン初期設定サポートについて詳しい案内がありました。サービス内容は次の通りです：\n",
      "\n",
      "- 所要時間：約30〜60分\n",
      "- サポート内容：\n",
      "  - 電源の接続と起動確認\n",
      "  - Wi-Fiやインターネット接続設定\n",
      "  - メールアカウントやアプリの初期登録\n",
      "  - セキュリティ対策（ウイルス対策ソフトの導入など）\n",
      "  - 基本操作（マウス、キーボード、タッチ操作）\n",
      "  - よく使うアプリのインストールサポート（Office・Zoomなど）\n",
      "\n",
      "また、出張対応かオンライン対応が選べて、現在は「初回サポート無料」のキャンペーン中です。希望者にはマニュアルのプレゼントもあります。\n",
      "\n",
      "問い合わせや予約は、下記まで可能です：\n",
      "- 電話：0120-123-456（平日 10:00〜18:00）\n",
      "- メール：support@easysetup.jp\n",
      "- WEB予約：https://www.easysetup.jp\n",
      "\n",
      "このサポートは「初めてパソコンやスマホを買う方」や「設定に不安のある方」に特におすすめです【5:0†カスタマーサービスのパンフレット.pptx】。\n",
      "\n",
      "ご希望の場合、上記連絡先からご相談・ご予約ください。\n",
      "USER: 一番安い Xbox ゲームパスプランについて教えてください。\n",
      "ASSISTANT: アップロードされた「Xbox_GamePassPlan.pdf」によると、一番安いXboxゲームパスのプランは「Xbox Game Pass Core」です。\n",
      "\n",
      "このプランのポイントは以下のとおりです：\n",
      "\n",
      "- 月額料金：924円（税込）\n",
      "- サービス内容：\n",
      "  - オンラインマルチプレイ\n",
      "  - 一部タイトルのセレクトカタログ（約25タイトル前後）\n",
      "  - 会員限定特典や割引あり\n",
      "\n",
      "特に「すぐにとにかく安くXboxでオンラインを楽しみたい」方や「初めてXboxを利用する方」に人気のプランです。\n",
      "\n",
      "他の上位プラン（Ultimateなど）と比べて、利用できるゲーム数や特典は絞られますが、コストを抑えたい場合に最適です【9:2†Xbox_GamePassPlan.pdf】。\n"
     ]
    }
   ],
   "source": [
    "# メッセージの追加\n",
    "user_message_2 = \"一番安い Xbox ゲームパスプランについて教えてください。\"\n",
    "\n",
    "message = project_client.agents.messages.create(\n",
    "    thread_id=thread.id,\n",
    "    role=\"user\",\n",
    "    content=user_message_2,\n",
    ")\n",
    "\n",
    "run_2 = project_client.agents.runs.create_and_process(\n",
    "    thread_id=thread.id,\n",
    "    agent_id=file_search_agent.id\n",
    ")\n",
    "\n",
    "if run_2.status == \"failed\":\n",
    "    print(f\"Run failed: {run_2.last_error}\")\n",
    "else:\n",
    "    agent_run_outputs(thread.id, project_client)"
   ]
  },
  {
   "cell_type": "code",
   "execution_count": 156,
   "id": "b8760506",
   "metadata": {},
   "outputs": [
    {
     "name": "stdout",
     "output_type": "stream",
     "text": [
      "ファイル検索の結果、以下のコンテンツを見つけました。\n",
      "「カスタマーサービスのパンフレット.pptx」:\n",
      "============================================================\n",
      "🎉初心者向けセットアップサポート🎉 ～パソコン・スマホの初期設定を安心サポート～ \n",
      "✅ サービス内容（所要時間：約30〜60分） 電源の接続と起動確認 Wi-Fi・インターネット接続設定 メールアカウント・アプリの初期登録 セキュリティ対策（ウイルス対策ソフトの確認・導入） 基本操作レクチャー（マウス、キーボード、タッチ操作） よく使うアプリのインストールサポート（ Office ・Zoomなど） \n",
      "👩‍💻 こんな方におすすめ ！ 初めてパソコンやスマホを購入した方 設定がよくわからず不安な方 家族に頼らず自分で使いたい方 \n",
      "📞 カスタマーサポート ご不明点やご予約は下記までお気軽に！ 電話：0120-123-456（平日 10:00〜18:00） メール：support@easysetup.jp WEB予約： https://www.easysetup.jp \n",
      "💡安心のサポート体制 ✔ 出張対応／オンライン対応 選べます ✔ 初回サポート無料（キャンペーン中） ✔ ご希望に応じてマニュアルもプレゼント！\n",
      "============================================================\n"
     ]
    }
   ],
   "source": [
    "# 参照したコンテンツを出力\n",
    "file_search_content_outputs(project_client, thread.id, run_2.id)"
   ]
  },
  {
   "cell_type": "markdown",
   "id": "4bdb64b9",
   "metadata": {},
   "source": [
    "## 3 ターン目"
   ]
  },
  {
   "cell_type": "code",
   "execution_count": null,
   "id": "fa10eb24",
   "metadata": {},
   "outputs": [],
   "source": [
    "# メッセージの追加\n",
    "user_message_3 = \"ゲームをしたくて、新しいパソコンを探してます。しかし、初期設定に自信がないので、初期設定サポートについて教えてください。\"\n",
    "\n",
    "message = project_client.agents.messages.create(\n",
    "    thread_id=thread.id,\n",
    "    role=\"user\",\n",
    "    content=user_message_3,\n",
    ")\n",
    "\n",
    "run_3 = project_client.agents.runs.create_and_process(\n",
    "    thread_id=thread.id,\n",
    "    agent_id=file_search_agent.id\n",
    ")\n",
    "\n",
    "if run_3.status == \"failed\":\n",
    "    print(f\"Run failed: {run_3.last_error}\")\n",
    "else:\n",
    "    agent_run_outputs(thread.id, project_client)"
   ]
  },
  {
   "cell_type": "code",
   "execution_count": null,
   "id": "823478d8",
   "metadata": {},
   "outputs": [],
   "source": [
    "# 参照したコンテンツを出力\n",
    "file_search_content_outputs(project_client, thread.id, run_3.id)"
   ]
  }
 ],
 "metadata": {
  "kernelspec": {
   "display_name": ".venv",
   "language": "python",
   "name": "python3"
  },
  "language_info": {
   "codemirror_mode": {
    "name": "ipython",
    "version": 3
   },
   "file_extension": ".py",
   "mimetype": "text/x-python",
   "name": "python",
   "nbconvert_exporter": "python",
   "pygments_lexer": "ipython3",
   "version": "3.11.9"
  }
 },
 "nbformat": 4,
 "nbformat_minor": 5
}
