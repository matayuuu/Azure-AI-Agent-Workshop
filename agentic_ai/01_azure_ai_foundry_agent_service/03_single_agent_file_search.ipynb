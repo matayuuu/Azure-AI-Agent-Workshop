{
 "cells": [
  {
   "cell_type": "markdown",
   "id": "028f24de",
   "metadata": {},
   "source": [
    "# Azure AI Foundry Agent Service - Single Agent File Search\n",
    "\n",
    "Azure AI FoundryのFile Search機能を使用してドキュメント検索型AIエージェントを構築するノートブックです。\n",
    "\n",
    "## 概要\n",
    "\n",
    "このノートブックでは、アップロードされたファイルから情報を検索し、質問に答えるエージェント（RAG）を作成します。ECサイトのサポートドキュメントを例に、ファイル検索機能を活用したエージェントの実装方法を学習します。\n",
    "\n",
    "### 学習内容\n",
    "1. File Searchツールの設定\n",
    "2. 検索型エージェントの作成\n",
    "\n",
    "このエージェントは、サポートセンターやFAQシステム、社内ナレッジベースなどの実用的なアプリケーションに応用できます。"
   ]
  },
  {
   "cell_type": "markdown",
   "id": "2cb93715",
   "metadata": {},
   "source": [
    "# ライブラリのインポート\n",
    "\n",
    "必要なPythonライブラリとAzure AI Foundry SDKをインポートします。"
   ]
  },
  {
   "cell_type": "code",
   "execution_count": 18,
   "id": "d0f2f2cc",
   "metadata": {},
   "outputs": [],
   "source": [
    "import os\n",
    "import json\n",
    "\n",
    "from dotenv import load_dotenv, find_dotenv\n",
    "\n",
    "from azure.identity import DefaultAzureCredential\n",
    "from azure.ai.projects import AIProjectClient\n",
    "from azure.ai.agents.models import (\n",
    "    ListSortOrder,\n",
    "    FilePurpose,\n",
    "    FileSearchTool,\n",
    ")\n"
   ]
  },
  {
   "cell_type": "markdown",
   "id": "b93e4030",
   "metadata": {},
   "source": [
    "# 環境変数の取得\n",
    "\n",
    "Azure AI Foundryへの接続に必要な設定情報を環境変数から取得します。\n",
    "\n",
    "- `PROJECT_ENDPOINT`: Azure AI Foundryプロジェクトのエンドポイント\n",
    "- `AZURE_DEPLOYMENT_NAME`: 使用するAIモデルのデプロイメント名\n",
    "\n",
    "これらの値は事前に.envファイルに設定されている必要があります。"
   ]
  },
  {
   "cell_type": "code",
   "execution_count": 19,
   "id": "05d2e113",
   "metadata": {},
   "outputs": [],
   "source": [
    "load_dotenv(override=True)\n",
    "\n",
    "PROJECT_ENDPOINT=os.getenv(\"PROJECT_ENDPOINT\")\n",
    "AZURE_DEPLOYMENT_NAME=os.getenv(\"AZURE_DEPLOYMENT_NAME\")"
   ]
  },
  {
   "cell_type": "markdown",
   "id": "51885e63",
   "metadata": {},
   "source": [
    "# クライアントの初期化\n",
    "\n",
    "Azure AI Foundryプロジェクトへの接続とエージェント管理用のクライアントを初期化します。\n",
    "\n",
    "- `AIProjectClient`: Azure AI Foundryプロジェクトとの接続を管理\n",
    "- `DefaultAzureCredential`: Azure認証（Azure CLI、Managed Identity等を自動検出）\n",
    "- `agents_client`: エージェントの作成・管理・実行を行うクライアント"
   ]
  },
  {
   "cell_type": "code",
   "execution_count": 20,
   "id": "53ef1f5d",
   "metadata": {},
   "outputs": [],
   "source": [
    "# AI Project Client を初期化\n",
    "project_client = AIProjectClient(\n",
    "    endpoint=PROJECT_ENDPOINT,\n",
    "    credential=DefaultAzureCredential()\n",
    ")\n",
    "\n",
    "# AgentClient の作成\n",
    "agents_client = project_client.agents"
   ]
  },
  {
   "cell_type": "markdown",
   "id": "7cae81c1",
   "metadata": {},
   "source": [
    "# ユーティリティ関数\n",
    "\n",
    "エージェントの実行結果を表示するためのヘルパー関数を定義します。\n",
    "\n",
    "`agent_run_outputs`関数は以下の機能を提供します：\n",
    "- スレッド内のメッセージ一覧を取得・表示\n",
    "- 画像コンテンツがある場合は保存・表示\n",
    "- ツール呼び出し情報の詳細表示（Run Stepsから取得）\n",
    "\n",
    "## file_search_content_outputs関数\n",
    "File Search実行時の詳細な検索結果を表示する専用関数です。"
   ]
  },
  {
   "cell_type": "code",
   "execution_count": 21,
   "id": "c22301a5",
   "metadata": {},
   "outputs": [],
   "source": [
    "def agent_run_outputs(thread_id, agents_client, target_dir=\"./output_images\", show_tool_calls=True, run_id=None):\n",
    "    \"\"\"\n",
    "    指定したスレッドIDのRun実行結果（テキスト・画像・ツール呼び出し）をNotebook上に表示＆画像は保存。\n",
    "    \n",
    "    Args:\n",
    "        thread_id: スレッドID\n",
    "        agents_client: エージェントクライアント\n",
    "        target_dir: 画像保存ディレクトリ\n",
    "        show_tool_calls: ツール呼び出し情報を表示するかどうか\n",
    "        run_id: 特定のRunのツール呼び出し情報を表示する場合のRun ID\n",
    "    \"\"\"\n",
    "    from IPython.display import Image, display\n",
    "    from azure.ai.agents.models import RunStepToolCallDetails, RunStepFunctionToolCall, RunStepMessageCreationDetails\n",
    "    \n",
    "    messages = agents_client.messages.list(thread_id=thread_id, order=ListSortOrder.ASCENDING)\n",
    "    os.makedirs(target_dir, exist_ok=True)\n",
    "\n",
    "    # メッセージの重複防止\n",
    "    displayed_message_ids = set()\n",
    "    \n",
    "    # メッセージの表示\n",
    "    for message in messages:\n",
    "        # メッセージの重複チェック\n",
    "        if message.id in displayed_message_ids:\n",
    "            continue\n",
    "        displayed_message_ids.add(message.id)\n",
    "        \n",
    "        print(f\"\\n{'='*60}\")\n",
    "        print(f\"MESSAGE ROLE: {message.role.upper()}\")\n",
    "        print(f\"MESSAGE ID: {message.id}\")\n",
    "        print(f\"{'='*60}\")\n",
    "        \n",
    "        # テキスト出力\n",
    "        if message.text_messages:\n",
    "            for txt in message.text_messages:\n",
    "                print(f\"{txt.text.value}\")\n",
    "        \n",
    "        # 画像出力\n",
    "        if hasattr(message, \"image_contents\") and message.image_contents:\n",
    "            print(f\"\\n[IMAGES]\")\n",
    "            for image_content in message.image_contents:\n",
    "                file_id = image_content.image_file.file_id\n",
    "                file_name = f\"{file_id}_image_file.png\"\n",
    "\n",
    "                agents_client.files.save(\n",
    "                    file_id=file_id,\n",
    "                    file_name=file_name,\n",
    "                    target_dir=target_dir\n",
    "                )\n",
    "                print(f\"  Saved image: {file_name}\")\n",
    "                display(Image(filename=f\"{target_dir}/{file_name}\"))\n",
    "    \n",
    "    # ツール呼び出し情報の表示（Run Stepsから取得）\n",
    "    if show_tool_calls and run_id:\n",
    "        print(f\"\\n{'='*60}\")\n",
    "        print(f\"RUN STEPS INFORMATION (RUN ID: {run_id})\")\n",
    "        print(f\"{'='*60}\")\n",
    "        \n",
    "        try:\n",
    "            # Run Stepsを取得（デフォルトは新しい順なので、古い順に並び替え）\n",
    "            run_steps = agents_client.run_steps.list(thread_id=thread_id, run_id=run_id)\n",
    "            run_steps_list = list(run_steps)\n",
    "            run_steps_list.reverse()  # 実行順序に並び替え（STEP1から順番に）\n",
    "            \n",
    "            # 重複防止のためのセット\n",
    "            displayed_step_ids = set()\n",
    "            \n",
    "            print(f\"Total Run Steps: {len(run_steps_list)}\")\n",
    "            \n",
    "            # 全てのrun stepsを実行順序で表示\n",
    "            for step_num, run_step in enumerate(run_steps_list, 1):\n",
    "                # 重複チェック\n",
    "                if run_step.id in displayed_step_ids:\n",
    "                    print(f\"[STEP {step_num}] - SKIPPED (Duplicate Step ID: {run_step.id})\")\n",
    "                    continue\n",
    "                displayed_step_ids.add(run_step.id)\n",
    "                \n",
    "                print(f\"\\n[STEP {step_num}] - {run_step.type}\")\n",
    "                print(f\"  Step ID: {run_step.id}\")\n",
    "                print(f\"  Status: {run_step.status}\")\n",
    "                \n",
    "                # Message Creation Step\n",
    "                if isinstance(run_step.step_details, RunStepMessageCreationDetails):\n",
    "                    print(f\"  Message Creation Step\")\n",
    "                    if hasattr(run_step.step_details.message_creation, 'message_id'):\n",
    "                        print(f\"  Message ID: {run_step.step_details.message_creation.message_id}\")\n",
    "                \n",
    "                # Tool Calls Step\n",
    "                elif isinstance(run_step.step_details, RunStepToolCallDetails):\n",
    "                    print(f\"  Tool Calls Step - {len(run_step.step_details.tool_calls)} tool(s)\")\n",
    "                    \n",
    "                    for tool_num, tool_call in enumerate(run_step.step_details.tool_calls, 1):\n",
    "                        print(f\"\\n    [TOOL CALL {tool_num}]\")\n",
    "                        print(f\"    Tool Type: {tool_call.type}\")\n",
    "                        print(f\"    Tool Call ID: {tool_call.id}\")\n",
    "                        \n",
    "                        # Function Tool Call の詳細\n",
    "                        if isinstance(tool_call, RunStepFunctionToolCall):\n",
    "                            print(f\"    Function Name: {tool_call.function.name}\")\n",
    "                            print(f\"    Function Arguments: {tool_call.function.arguments}\")\n",
    "                            # 関数の実行結果を表示（利用可能な場合）\n",
    "                            if hasattr(tool_call.function, 'output') and tool_call.function.output:\n",
    "                                print(f\"    Function Output: {tool_call.function.output}\")\n",
    "                            elif hasattr(tool_call.function, 'outputs') and tool_call.function.outputs:\n",
    "                                print(f\"    Function Outputs: {tool_call.function.outputs}\")\n",
    "                            elif hasattr(tool_call.function, 'result') and tool_call.function.result:\n",
    "                                print(f\"    Function Result: {tool_call.function.result}\")\n",
    "                        \n",
    "                        print(f\"    {'-'*30}\")\n",
    "                \n",
    "                # その他のステップタイプ\n",
    "                else:\n",
    "                    print(f\"  Step Type: {type(run_step.step_details).__name__}\")\n",
    "                \n",
    "                print(f\"  Created At: {run_step.created_at}\")\n",
    "                if hasattr(run_step, 'completed_at') and run_step.completed_at:\n",
    "                    print(f\"  Completed At: {run_step.completed_at}\")\n",
    "                \n",
    "                print(f\"  {'='*50}\")\n",
    "                \n",
    "        except Exception as e:\n",
    "            print(f\"Error retrieving run steps: {e}\")\n",
    "            print(f\"Run ID: {run_id}, Thread ID: {thread_id}\")"
   ]
  },
  {
   "cell_type": "code",
   "execution_count": 22,
   "id": "57256e2a",
   "metadata": {},
   "outputs": [],
   "source": [
    "def file_search_content_outputs(agents_client, thread_id, run_id):\n",
    "    \"\"\"\n",
    "    指定したスレッドID・Run IDのファイル検索ツールによる検索結果コンテンツをNotebook等に出力\n",
    "    \"\"\"\n",
    "    from azure.ai.agents.models import RunAdditionalFieldList, RunStepToolCallDetails, RunStepFileSearchToolCall\n",
    "\n",
    "    for run_step in agents_client.run_steps.list(\n",
    "        thread_id=thread_id,\n",
    "        run_id=run_id,\n",
    "        include=[RunAdditionalFieldList.FILE_SEARCH_CONTENTS]\n",
    "    ):\n",
    "        if isinstance(run_step.step_details, RunStepToolCallDetails):\n",
    "            for tool_call in run_step.step_details.tool_calls:\n",
    "                if (\n",
    "                    isinstance(tool_call, RunStepFileSearchToolCall)\n",
    "                    and getattr(tool_call, \"file_search\", None)\n",
    "                    and getattr(tool_call.file_search, \"results\", None)\n",
    "                    and tool_call.file_search.results\n",
    "                    and getattr(tool_call.file_search.results[0], \"content\", None)\n",
    "                    and tool_call.file_search.results[0].content\n",
    "                    and getattr(tool_call.file_search.results[0].content[0], \"text\", None)\n",
    "                ):\n",
    "                    file_name = tool_call.file_search.results[0].file_name\n",
    "                    content_text = tool_call.file_search.results[0].content[0].text\n",
    "                    print(f\"参照：{file_name}\")\n",
    "                    print(\"=\" * 60)\n",
    "                    print(content_text)\n",
    "                    print(\"=\" * 60)"
   ]
  },
  {
   "cell_type": "markdown",
   "id": "ea72879b",
   "metadata": {},
   "source": [
    "# ツールの作成\n",
    "\n",
    "File Search機能を実現するために必要なコンポーネントを作成します。\n",
    "\n",
    "## File Searchツールの重要な特徴\n",
    "\n",
    "### 自動最適化された検索処理\n",
    "File Searchツールは以下の検索ベストプラクティスを自動実装します：\n",
    "1. **クエリ最適化**: ユーザーの質問を検索用に自動で書き換え\n",
    "2. **並列検索**: 複雑な質問を複数の検索に分解して並列実行\n",
    "3. **ハイブリッド検索**: キーワード検索とセマンティック検索の両方を実行\n",
    "4. **検索結果ランキング**: 最も関連性の高い結果を選択して最終回答を生成\n",
    "\n",
    "### デフォルト設定値\n",
    "- **チャンクサイズ**: 800トークン\n",
    "- **チャンクオーバーラップ**: 400トークン\n",
    "- **埋め込みモデル**: text-embedding-3-large（256次元）\n",
    "- **最大チャンク数**: 20個（コンテキストに追加される）\n",
    "\n",
    "### ファイル制限\n",
    "- **最大ファイルサイズ**: 512 MB\n",
    "- **最大トークン数**: ファイルあたり5,000,000トークン\n",
    "- **ベクトルストア容量**: 最大10,000ファイル"
   ]
  },
  {
   "cell_type": "markdown",
   "id": "a16d6095",
   "metadata": {},
   "source": [
    "## ベクトルストアの作成\n",
    "\n",
    "ドキュメントファイルをアップロードし、検索可能なベクトルストアを構築します。"
   ]
  },
  {
   "cell_type": "code",
   "execution_count": 23,
   "id": "15b1faf5",
   "metadata": {},
   "outputs": [
    {
     "name": "stdout",
     "output_type": "stream",
     "text": [
      "Uploaded file: セットアップサポートのパンフレット.pdf, file ID: assistant-LCzf8jq8uDWZFx2KvGXcP4\n",
      "Uploaded file: パソコン保障プラン.html, file ID: assistant-JVWnycF19E19SCqRucyrHf\n",
      "Uploaded file: 出荷日ポリシー.pdf, file ID: assistant-DU1oqhK1kESCQT5W8zHbb8\n",
      "Created vector store, vector store ID: vs_YILWtQ0y19yNNqLQKwDERUt7\n"
     ]
    }
   ],
   "source": [
    "# アップロード対象ディレクトリ\n",
    "service_docs_dir = \"../../infra/sample_data/to_vector_store/service_docs\"\n",
    "\n",
    "# ファイルIDのリスト\n",
    "file_ids = []\n",
    "\n",
    "# ディレクトリ内の全ファイルをループしてアップロード\n",
    "for fname in os.listdir(service_docs_dir):\n",
    "    file_path = os.path.join(service_docs_dir, fname)\n",
    "    if os.path.isfile(file_path):\n",
    "        uploaded_file = agents_client.files.upload_and_poll(file_path=file_path, purpose=FilePurpose.AGENTS)\n",
    "        print(f\"Uploaded file: {fname}, file ID: {uploaded_file.id}\")\n",
    "        file_ids.append(uploaded_file.id)\n",
    "\n",
    "if not file_ids:\n",
    "    raise RuntimeError(\"No files were uploaded. Please check the directory.\")\n",
    "\n",
    "# アップロードした全ファイルを使ってベクトルストアを作成\n",
    "vector_store = agents_client.vector_stores.create_and_poll(file_ids=file_ids, name=\"my_vectorstore\")\n",
    "print(f\"Created vector store, vector store ID: {vector_store.id}\")\n"
   ]
  },
  {
   "cell_type": "code",
   "execution_count": 24,
   "id": "cf35d7f7",
   "metadata": {},
   "outputs": [
    {
     "data": {
      "text/plain": [
       "{'in_progress': 0, 'completed': 3, 'failed': 0, 'cancelled': 0, 'total': 3}"
      ]
     },
     "execution_count": 24,
     "metadata": {},
     "output_type": "execute_result"
    }
   ],
   "source": [
    "# インポートしたファイル数の確認\n",
    "vector_store.as_dict()\n",
    "vector_store.file_counts"
   ]
  },
  {
   "cell_type": "markdown",
   "id": "21fd632e",
   "metadata": {},
   "source": [
    "## File Search ツールの定義\n",
    "\n",
    "作成したベクトルストアを検索するためのツールを定義します。"
   ]
  },
  {
   "cell_type": "code",
   "execution_count": 25,
   "id": "e4db526c",
   "metadata": {},
   "outputs": [],
   "source": [
    "file_search = FileSearchTool(vector_store_ids=[vector_store.id])"
   ]
  },
  {
   "cell_type": "markdown",
   "id": "4d19d6d7",
   "metadata": {},
   "source": [
    "# エージェントの作成\n",
    "\n",
    "Foundry エージェントを作成します。"
   ]
  },
  {
   "cell_type": "code",
   "execution_count": 26,
   "id": "cdf933b0",
   "metadata": {},
   "outputs": [
    {
     "name": "stdout",
     "output_type": "stream",
     "text": [
      "Created Agent. AGENT_ID: asst_h2z83KnXkPVywrpAJxgNWRpu\n"
     ]
    }
   ],
   "source": [
    "file_search_agent  = agents_client.create_agent(\n",
    "    model=AZURE_DEPLOYMENT_NAME,\n",
    "    name=\"service_docs_search_agent\",\n",
    "    instructions=(\n",
    "        \"あなたはECサイトのサポートエージェントです。\"\n",
    "        \"アップロードしたファイルから情報を検索（file_search）できます。\"\n",
    "        \"ユーザーの質問に、必ずfile_searchを実行して回答を生成してください。\"\n",
    "\n",
    "    ),\n",
    "    description=(\n",
    "        \"アップロードしたファイルから情報を検索できるエージェントです。\"    \n",
    "    ),\n",
    "    tools=file_search.definitions,  \n",
    "    tool_resources=file_search.resources,\n",
    "    temperature=0.1\n",
    ")\n",
    "print(f\"Created Agent. AGENT_ID: {file_search_agent.id}\")\n"
   ]
  },
  {
   "cell_type": "code",
   "execution_count": 27,
   "id": "57907206",
   "metadata": {},
   "outputs": [
    {
     "name": "stdout",
     "output_type": "stream",
     "text": [
      "{\n",
      "  \"id\": \"asst_h2z83KnXkPVywrpAJxgNWRpu\",\n",
      "  \"object\": \"assistant\",\n",
      "  \"created_at\": 1753813561,\n",
      "  \"name\": \"service_docs_search_agent\",\n",
      "  \"description\": \"アップロードしたファイルから情報を検索できるエージェントです。\",\n",
      "  \"model\": \"gpt-4.1\",\n",
      "  \"instructions\": \"あなたはECサイトのサポートエージェントです。アップロードしたファイルから情報を検索（file_search）できます。ユーザーの質問に、必ずfile_searchを実行して回答を生成してください。\",\n",
      "  \"tools\": [\n",
      "    {\n",
      "      \"type\": \"file_search\"\n",
      "    }\n",
      "  ],\n",
      "  \"top_p\": 1.0,\n",
      "  \"temperature\": 0.1,\n",
      "  \"tool_resources\": {\n",
      "    \"file_search\": {\n",
      "      \"vector_store_ids\": [\n",
      "        \"vs_YILWtQ0y19yNNqLQKwDERUt7\"\n",
      "      ]\n",
      "    }\n",
      "  },\n",
      "  \"metadata\": {},\n",
      "  \"response_format\": \"auto\"\n",
      "}\n"
     ]
    }
   ],
   "source": [
    "agent_dict = file_search_agent.as_dict()\n",
    "print(json.dumps(agent_dict, indent=2, ensure_ascii=False))"
   ]
  },
  {
   "cell_type": "markdown",
   "id": "f822dc5a",
   "metadata": {},
   "source": [
    "# スレッドの作成\n",
    "\n",
    "エージェントとの対話を管理するスレッドを作成します。"
   ]
  },
  {
   "cell_type": "code",
   "execution_count": 28,
   "id": "83cbfafe",
   "metadata": {},
   "outputs": [
    {
     "name": "stdout",
     "output_type": "stream",
     "text": [
      "Created Thread. THREAD_ID: thread_29otHx8EihYcXYH9q1oIx0gm\n"
     ]
    }
   ],
   "source": [
    "# Thread の作成\n",
    "thread = agents_client.threads.create()\n",
    "print(f\"Created Thread. THREAD_ID: {thread.id}\")"
   ]
  },
  {
   "cell_type": "markdown",
   "id": "15c39a6f",
   "metadata": {},
   "source": [
    "# ユーザーメッセージの追加\n",
    "\n",
    "スレッドにユーザーからの質問やリクエストを追加します。"
   ]
  },
  {
   "cell_type": "code",
   "execution_count": 29,
   "id": "611e7bff",
   "metadata": {},
   "outputs": [
    {
     "name": "stdout",
     "output_type": "stream",
     "text": [
      "Added Message. MESSAGE_ID: msg_3VzRQ8dgD3SR0lwUu4RRgeVo\n"
     ]
    }
   ],
   "source": [
    "# メッセージの追加\n",
    "user_message_1 = \"パソコンの保障プランでもっとも安いプランは？\"\n",
    "\n",
    "message = agents_client.messages.create(\n",
    "    thread_id=thread.id,\n",
    "    role=\"user\",\n",
    "    content=user_message_1,\n",
    ")\n",
    "\n",
    "print(f\"Added Message. MESSAGE_ID: {message.id}\")"
   ]
  },
  {
   "cell_type": "markdown",
   "id": "7e8cd4c2",
   "metadata": {},
   "source": [
    "# Run の実行\n",
    "\n",
    "エージェントにタスクを実行させ、結果を取得します。"
   ]
  },
  {
   "cell_type": "markdown",
   "id": "a4cc0d7a",
   "metadata": {},
   "source": [
    "### 1 ターン目"
   ]
  },
  {
   "cell_type": "code",
   "execution_count": 30,
   "id": "de2ba73b",
   "metadata": {},
   "outputs": [
    {
     "name": "stdout",
     "output_type": "stream",
     "text": [
      "\n",
      "============================================================\n",
      "MESSAGE ROLE: USER\n",
      "MESSAGE ID: msg_3VzRQ8dgD3SR0lwUu4RRgeVo\n",
      "============================================================\n",
      "パソコンの保障プランでもっとも安いプランは？\n",
      "\n",
      "============================================================\n",
      "MESSAGE ROLE: ASSISTANT\n",
      "MESSAGE ID: msg_V4uWbFMq8WWg0VNJM3SOM3nT\n",
      "============================================================\n",
      "パソコンの保障プランでもっとも安いプランは「1年プラン」で、料金は税込10,000円です。内容としては、修理費用全額カバー、代替機の提供（最短3営業日）、論理障害によるデータ復旧、24時間365日のサポートなどが含まれています【4:3†パソコン保障プラン.html】。\n",
      "\n",
      "============================================================\n",
      "RUN STEPS INFORMATION (RUN ID: run_jM1DLR3SRs9UdVhggSaly8XB)\n",
      "============================================================\n",
      "Total Run Steps: 2\n",
      "\n",
      "[STEP 1] - RunStepType.TOOL_CALLS\n",
      "  Step ID: step_joyMWb7ylU0awiTotcW7BOQM\n",
      "  Status: RunStepStatus.COMPLETED\n",
      "  Tool Calls Step - 1 tool(s)\n",
      "\n",
      "    [TOOL CALL 1]\n",
      "    Tool Type: file_search\n",
      "    Tool Call ID: call_6MPjzknSLzcambnZCy4DQQAN\n",
      "    ------------------------------\n",
      "  Created At: 2025-07-29 18:26:04+00:00\n",
      "  Completed At: 2025-07-29 18:26:06+00:00\n",
      "  ==================================================\n",
      "\n",
      "[STEP 2] - RunStepType.MESSAGE_CREATION\n",
      "  Step ID: step_0TDLbLglRRWTU3RgWjEsToNx\n",
      "  Status: RunStepStatus.COMPLETED\n",
      "  Message Creation Step\n",
      "  Message ID: msg_V4uWbFMq8WWg0VNJM3SOM3nT\n",
      "  Created At: 2025-07-29 18:26:06+00:00\n",
      "  Completed At: 2025-07-29 18:26:07+00:00\n",
      "  ==================================================\n"
     ]
    }
   ],
   "source": [
    "run_1 = agents_client.runs.create_and_process(\n",
    "    thread_id=thread.id,\n",
    "    agent_id=file_search_agent.id\n",
    ")\n",
    "\n",
    "if run_1.status == \"failed\":\n",
    "    print(f\"Run failed: {run_1.last_error}\")\n",
    "else:\n",
    "    agent_run_outputs(thread.id, agents_client, show_tool_calls=True, run_id=run_1.id)\n",
    "    "
   ]
  },
  {
   "cell_type": "code",
   "execution_count": 31,
   "id": "8be69be4",
   "metadata": {},
   "outputs": [
    {
     "name": "stdout",
     "output_type": "stream",
     "text": [
      "参照：パソコン保障プラン.html\n",
      "============================================================\n",
      "この保障プランに加入することで、パソコンの故障やトラブルに対して安心してご利用いただけます。</p>\n",
      "    </div>\n",
      "    <div class=\"content-section\">\n",
      "        <h2>対象となるパソコン</h2>\n",
      "        <ul>\n",
      "            <li>Microsoft Surface シリーズ（Surface Pro/Go/Laptop/Book/Studioなど）全モデル</li>\n",
      "            <li>Microsoft ブランドのデスクトップ・ノートPC</li>\n",
      "            <li>個人・法人ともにご利用可能です</li>\n",
      "        </ul>\n",
      "    </div>\n",
      "    <div class=\"content-section\">\n",
      "        <h2>保障プランの内容</h2>\n",
      "        <ul>\n",
      "            <li>故障時の修理費用をプラン内で全額カバー（一部例外あり）</li>\n",
      "            <li>修理期間中は代替機を最短3営業日でご提供</li>\n",
      "            <li>データ復旧サービス：論理障害によるデータ損失に対応（成功率約90%）</li>\n",
      "            <li>専用サポート窓口による24時間365日電話・Web対応</li>\n",
      "        </ul>\n",
      "    </div>\n",
      "    <div class=\"content-section\">\n",
      "        <h2>保障の対象外項目</h2>\n",
      "        <ul>\n",
      "            <li>水没・火災・落下等による損傷</li>\n",
      "            <li>盗難・紛失・自然災害による破損</li>\n",
      "            <li>ウイルス感染・ソフトウェア起因のトラブル</li>\n",
      "            <li>お客様自身による改造、分解、過失・故意による破損</li>\n",
      "            <li>物理障害によるデータ復旧</li>\n",
      "        </ul>\n",
      "    </div>\n",
      "    <div class=\"content-section\">\n",
      "        <h2>保障プランの価格</h2>\n",
      "        <ul>\n",
      "            <li>1年プラン: ￥10,\n",
      "============================================================\n"
     ]
    }
   ],
   "source": [
    "# 参照したファイルのコンテンツを出力\n",
    "file_search_content_outputs(agents_client, thread.id, run_1.id)"
   ]
  },
  {
   "cell_type": "markdown",
   "id": "fc709f18",
   "metadata": {},
   "source": [
    "### 2 ターン目"
   ]
  },
  {
   "cell_type": "code",
   "execution_count": 32,
   "id": "7b77295c",
   "metadata": {},
   "outputs": [
    {
     "name": "stdout",
     "output_type": "stream",
     "text": [
      "\n",
      "============================================================\n",
      "MESSAGE ROLE: USER\n",
      "MESSAGE ID: msg_3VzRQ8dgD3SR0lwUu4RRgeVo\n",
      "============================================================\n",
      "パソコンの保障プランでもっとも安いプランは？\n",
      "\n",
      "============================================================\n",
      "MESSAGE ROLE: ASSISTANT\n",
      "MESSAGE ID: msg_V4uWbFMq8WWg0VNJM3SOM3nT\n",
      "============================================================\n",
      "パソコンの保障プランでもっとも安いプランは「1年プラン」で、料金は税込10,000円です。内容としては、修理費用全額カバー、代替機の提供（最短3営業日）、論理障害によるデータ復旧、24時間365日のサポートなどが含まれています【4:3†パソコン保障プラン.html】。\n",
      "\n",
      "============================================================\n",
      "MESSAGE ROLE: USER\n",
      "MESSAGE ID: msg_G7JOvfK8JcnNRsqLZ3CD5viC\n",
      "============================================================\n",
      "PCを購入した際、セットアップサポートを受けたいのですがどんなサービスですか？\n",
      "\n",
      "============================================================\n",
      "MESSAGE ROLE: ASSISTANT\n",
      "MESSAGE ID: msg_MNK6rDR8ZP0LknEVIqsWgKKe\n",
      "============================================================\n",
      "PC購入時のセットアップサポートサービスは、主に以下の内容が含まれています（所要時間：約30～60分）：\n",
      "\n",
      "1. 電源の接続と起動確認\n",
      "2. Wi-Fi・インターネット接続設定\n",
      "3. メールアカウントやアプリの初期登録\n",
      "4. セキュリティ対策（ウイルス対策ソフトの確認・導入）\n",
      "5. 基本操作レクチャー（マウス、キーボード、タッチ操作）\n",
      "6. よく使うアプリ（Office・Zoomなど）のインストールサポート\n",
      "\n",
      "初心者や設定に不安がある方、家族に頼らず自分で使いたい方におすすめです。出張対応・オンライン対応が選べて、初回サポートは無料（キャンペーン中）となっています。ご希望に応じてマニュアルもプレゼントされます【8:0†セットアップサポートのパンフレット.pdf】。\n",
      "\n",
      "============================================================\n",
      "RUN STEPS INFORMATION (RUN ID: run_TFJ1TajU1SvucuTZYNV1uyPo)\n",
      "============================================================\n",
      "Total Run Steps: 2\n",
      "\n",
      "[STEP 1] - RunStepType.TOOL_CALLS\n",
      "  Step ID: step_IYbrCeLjOXQoSrOiyzx1f0zr\n",
      "  Status: RunStepStatus.COMPLETED\n",
      "  Tool Calls Step - 1 tool(s)\n",
      "\n",
      "    [TOOL CALL 1]\n",
      "    Tool Type: file_search\n",
      "    Tool Call ID: call_Suc8Y8F0TkYSMfGK5CoOoTFZ\n",
      "    ------------------------------\n",
      "  Created At: 2025-07-29 18:26:13+00:00\n",
      "  Completed At: 2025-07-29 18:26:14+00:00\n",
      "  ==================================================\n",
      "\n",
      "[STEP 2] - RunStepType.MESSAGE_CREATION\n",
      "  Step ID: step_LDIwFRArqcpoD2lIxjawlmkT\n",
      "  Status: RunStepStatus.COMPLETED\n",
      "  Message Creation Step\n",
      "  Message ID: msg_MNK6rDR8ZP0LknEVIqsWgKKe\n",
      "  Created At: 2025-07-29 18:26:14+00:00\n",
      "  Completed At: 2025-07-29 18:26:18+00:00\n",
      "  ==================================================\n"
     ]
    }
   ],
   "source": [
    "# メッセージの追加\n",
    "user_message_2 = \"PCを購入した際、セットアップサポートを受けたいのですがどんなサービスですか？\"\n",
    "\n",
    "message = agents_client.messages.create(\n",
    "    thread_id=thread.id,\n",
    "    role=\"user\",\n",
    "    content=user_message_2,\n",
    ")\n",
    "\n",
    "run_2 = agents_client.runs.create_and_process(\n",
    "    thread_id=thread.id,\n",
    "    agent_id=file_search_agent.id\n",
    ")\n",
    "\n",
    "if run_2.status == \"failed\":\n",
    "    print(f\"Run failed: {run_2.last_error}\")\n",
    "else:\n",
    "    agent_run_outputs(thread.id, agents_client, show_tool_calls=True, run_id=run_2.id)"
   ]
  },
  {
   "cell_type": "code",
   "execution_count": 33,
   "id": "a8dd6587",
   "metadata": {},
   "outputs": [
    {
     "name": "stdout",
     "output_type": "stream",
     "text": [
      "参照：セットアップサポートのパンフレット.pdf\n",
      "============================================================\n",
      "初心者向けセットアップサポート\n",
      "～パソコン・スマホの初期設定を安心サポート～\n",
      "\n",
      "サービス内容（所要時間：約30～60分）\n",
      "1.電源の接続と起動確認\n",
      "2.Wi-Fi・インターネット接続設定\n",
      "3.メールアカウント・アプリの初期登録\n",
      "4.セキュリティ対策（ウイルス対策ソフトの確認・導入）\n",
      "5.基本操作レクチャー（マウス、キーボード、タッチ操作）\n",
      "6.よく使うアプリのインストールサポート（Office・Zoomなど）\n",
      "\n",
      "こんな方におすすめ！\n",
      "•初めてパソコンやスマホを購入した方\n",
      "•設定がよくわからず不安な方\n",
      "•家族に頼らず自分で使いたい方\n",
      "\n",
      "カスタマーサポート\n",
      "ご不明点やご予約は下記までお気軽に！\n",
      "電話：0120-123-456（平日 10:00～18:00）\n",
      "メール：support@easysetup.jp\n",
      "WEB予約：https://www.easysetup.jp\n",
      "\n",
      "安心のサポート体制\n",
      "出張対応／オンライン対応選べます\n",
      "初回サポート無料（キャンペーン中）\n",
      "ご希望に応じてマニュアルもプレゼント！\n",
      "\n",
      "https://www.easysetup.jp/\n",
      "\n",
      "\tスライド 1: 🎉初心者向けセットアップサポート🎉 ～パソコン・スマホの初期設定を安心サポート～\n",
      "============================================================\n"
     ]
    }
   ],
   "source": [
    "# 参照したファイルのコンテンツを出力\n",
    "file_search_content_outputs(agents_client, thread.id, run_2.id)"
   ]
  },
  {
   "cell_type": "markdown",
   "id": "47aa3cfe",
   "metadata": {},
   "source": [
    "### 3 ターン目"
   ]
  },
  {
   "cell_type": "code",
   "execution_count": 34,
   "id": "44ed25db",
   "metadata": {},
   "outputs": [
    {
     "name": "stdout",
     "output_type": "stream",
     "text": [
      "\n",
      "============================================================\n",
      "MESSAGE ROLE: USER\n",
      "MESSAGE ID: msg_3VzRQ8dgD3SR0lwUu4RRgeVo\n",
      "============================================================\n",
      "パソコンの保障プランでもっとも安いプランは？\n",
      "\n",
      "============================================================\n",
      "MESSAGE ROLE: ASSISTANT\n",
      "MESSAGE ID: msg_V4uWbFMq8WWg0VNJM3SOM3nT\n",
      "============================================================\n",
      "パソコンの保障プランでもっとも安いプランは「1年プラン」で、料金は税込10,000円です。内容としては、修理費用全額カバー、代替機の提供（最短3営業日）、論理障害によるデータ復旧、24時間365日のサポートなどが含まれています【4:3†パソコン保障プラン.html】。\n",
      "\n",
      "============================================================\n",
      "MESSAGE ROLE: USER\n",
      "MESSAGE ID: msg_G7JOvfK8JcnNRsqLZ3CD5viC\n",
      "============================================================\n",
      "PCを購入した際、セットアップサポートを受けたいのですがどんなサービスですか？\n",
      "\n",
      "============================================================\n",
      "MESSAGE ROLE: ASSISTANT\n",
      "MESSAGE ID: msg_MNK6rDR8ZP0LknEVIqsWgKKe\n",
      "============================================================\n",
      "PC購入時のセットアップサポートサービスは、主に以下の内容が含まれています（所要時間：約30～60分）：\n",
      "\n",
      "1. 電源の接続と起動確認\n",
      "2. Wi-Fi・インターネット接続設定\n",
      "3. メールアカウントやアプリの初期登録\n",
      "4. セキュリティ対策（ウイルス対策ソフトの確認・導入）\n",
      "5. 基本操作レクチャー（マウス、キーボード、タッチ操作）\n",
      "6. よく使うアプリ（Office・Zoomなど）のインストールサポート\n",
      "\n",
      "初心者や設定に不安がある方、家族に頼らず自分で使いたい方におすすめです。出張対応・オンライン対応が選べて、初回サポートは無料（キャンペーン中）となっています。ご希望に応じてマニュアルもプレゼントされます【8:0†セットアップサポートのパンフレット.pdf】。\n",
      "\n",
      "============================================================\n",
      "MESSAGE ROLE: USER\n",
      "MESSAGE ID: msg_XsmnlS9jtcFMh3d5Akb3gUqV\n",
      "============================================================\n",
      "PCを購入した際、どれくらいで出荷されますか？\n",
      "\n",
      "============================================================\n",
      "MESSAGE ROLE: ASSISTANT\n",
      "MESSAGE ID: msg_cIEl0PaLVYCuYR5umyr3mhbl\n",
      "============================================================\n",
      "PCを購入した際の出荷日は、「受注確認日から7営業日以内」に発送されます。なお、設置工事が必要な商品やメーカーからの取り寄せが必要な場合は、さらに納期がかかる場合があります。詳細や個別の納期については、各商品ページの記載内容もご確認ください【12:0†出荷日ポリシー.pdf】。\n",
      "\n",
      "============================================================\n",
      "RUN STEPS INFORMATION (RUN ID: run_YhO2W4aF79tY7gyxHPb5BDff)\n",
      "============================================================\n",
      "Total Run Steps: 2\n",
      "\n",
      "[STEP 1] - RunStepType.TOOL_CALLS\n",
      "  Step ID: step_G7ZuhiOpvdgyVbW6sGUdGsul\n",
      "  Status: RunStepStatus.COMPLETED\n",
      "  Tool Calls Step - 1 tool(s)\n",
      "\n",
      "    [TOOL CALL 1]\n",
      "    Tool Type: file_search\n",
      "    Tool Call ID: call_Dr3gpV2flKNSZTHPDpVH8Rk2\n",
      "    ------------------------------\n",
      "  Created At: 2025-07-29 18:26:24+00:00\n",
      "  Completed At: 2025-07-29 18:26:26+00:00\n",
      "  ==================================================\n",
      "\n",
      "[STEP 2] - RunStepType.MESSAGE_CREATION\n",
      "  Step ID: step_oaVUK7XKJdCxhKHIgpjtVD5p\n",
      "  Status: RunStepStatus.COMPLETED\n",
      "  Message Creation Step\n",
      "  Message ID: msg_cIEl0PaLVYCuYR5umyr3mhbl\n",
      "  Created At: 2025-07-29 18:26:26+00:00\n",
      "  Completed At: 2025-07-29 18:26:27+00:00\n",
      "  ==================================================\n"
     ]
    }
   ],
   "source": [
    "# メッセージの追加\n",
    "user_message_3 = \"PCを購入した際、どれくらいで出荷されますか？\"\n",
    "\n",
    "message = agents_client.messages.create(\n",
    "    thread_id=thread.id,\n",
    "    role=\"user\",\n",
    "    content=user_message_3,\n",
    ")\n",
    "\n",
    "run_3 = agents_client.runs.create_and_process(\n",
    "    thread_id=thread.id,\n",
    "    agent_id=file_search_agent.id\n",
    ")\n",
    "\n",
    "if run_3.status == \"failed\":\n",
    "    print(f\"Run failed: {run_3.last_error}\")\n",
    "else:\n",
    "    agent_run_outputs(thread.id, agents_client, show_tool_calls=True, run_id=run_3.id)"
   ]
  },
  {
   "cell_type": "code",
   "execution_count": 35,
   "id": "f7b88cac",
   "metadata": {},
   "outputs": [
    {
     "name": "stdout",
     "output_type": "stream",
     "text": [
      "参照：出荷日ポリシー.pdf\n",
      "============================================================\n",
      "2025-07-28\n",
      "\n",
      "1 / 2\n",
      "\n",
      "出荷⽇ポリシー\n",
      "当ECサイトでは、お客様に安⼼してショッピングをお楽しみいただくため、商品カテゴリに応じた出荷⽇ポ\n",
      "リシーを設けております。ご注⽂いただいた商品は、以下のポリシーに基づき順次発送されます。\n",
      "\n",
      "1. デジタルコンテンツ・ダウンロード商品\n",
      "出荷⽇︓ご購⼊後、即時ダウンロード可能\n",
      "詳細︓決済完了と同時に、ダウンロードリンクが記載されたメールが⾃動送信されます。物理的な商\n",
      "品の発送はありません。\n",
      "\n",
      "2. 書籍・CD/DVD・ゲームソフト\n",
      "出荷⽇︓受注確認⽇〜3営業⽇以内\n",
      "詳細︓在庫がある場合、注⽂後の変更受付⽇以降に出荷⼿配を開始します。新刊・予約商品は、発売\n",
      "⽇以降の出荷となります。\n",
      "\n",
      "3. ファッション・アパレル・雑貨\n",
      "出荷⽇︓受注確認⽇〜5営業⽇以内\n",
      "詳細︓在庫状況や注⽂内容により、出荷までお時間をいただく場合があります。お⽀払い⽅法の確認\n",
      "後、発送準備となります。\n",
      "※注意事項︓アパレル・雑貨の中でもキャラクターグッズについては、別途「キャラクターグッズ出\n",
      "荷⽇ポリシー」をご確認ください。\n",
      "\n",
      "4. PC・家電・家具・⼤型商品\n",
      "出荷⽇︓受注確認⽇〜7営業⽇以内\n",
      "詳細︓設置⼯事が必要な商品や、メーカーからの取り寄せが必要な商品は、上記以上の納期をいただ\n",
      "く場合があります。別途、配送業者からの連絡が⼊る場合があります。\n",
      "============================================================\n"
     ]
    }
   ],
   "source": [
    "# 参照したファイルのコンテンツを出力\n",
    "file_search_content_outputs(agents_client, thread.id, run_3.id)"
   ]
  },
  {
   "cell_type": "markdown",
   "id": "c3dc8704",
   "metadata": {},
   "source": [
    "# トレースの確認\n",
    "\n",
    "[Azure AI Foundry Portal](https://ai.azure.com/?cid=learnDocs) でエージェントの実行トレースを確認してみましょう。"
   ]
  },
  {
   "cell_type": "markdown",
   "id": "7e6c2a96",
   "metadata": {},
   "source": [
    "# Agent ID を .env ファイルに保存\n",
    "\n",
    "作成したFile SearchエージェントのIDを永続化し、他のノートブックで再利用できるようにします。"
   ]
  },
  {
   "cell_type": "code",
   "execution_count": 36,
   "id": "31561671",
   "metadata": {},
   "outputs": [
    {
     "name": "stdout",
     "output_type": "stream",
     "text": [
      ".envファイルに FOUNDRY_FILE_SEARCH_AGENT_ID=\"asst_h2z83KnXkPVywrpAJxgNWRpu\" を追記しました。\n"
     ]
    }
   ],
   "source": [
    "# 変数の定義\n",
    "agent_env_key = \"FOUNDRY_FILE_SEARCH_AGENT_ID\"\n",
    "agent_env_value = file_search_agent.id\n",
    "\n",
    "# .envファイルのパスを自動探索\n",
    "env_path = find_dotenv()  # 見つからなければ''を返す\n",
    "if not env_path:\n",
    "    raise FileNotFoundError(\".envファイルが見つかりませんでした。\")\n",
    "\n",
    "# AGENT_ID を .env ファイルに追記\n",
    "with open(env_path, \"a\", encoding=\"utf-8\") as f:\n",
    "    f.write(f'\\n{agent_env_key}=\"{agent_env_value}\"')\n",
    "\n",
    "print(f'.envファイルに {agent_env_key}=\\\"{agent_env_value}\\\" を追記しました。')\n"
   ]
  }
 ],
 "metadata": {
  "kernelspec": {
   "display_name": ".venv",
   "language": "python",
   "name": "python3"
  },
  "language_info": {
   "codemirror_mode": {
    "name": "ipython",
    "version": 3
   },
   "file_extension": ".py",
   "mimetype": "text/x-python",
   "name": "python",
   "nbconvert_exporter": "python",
   "pygments_lexer": "ipython3",
   "version": "3.11.9"
  }
 },
 "nbformat": 4,
 "nbformat_minor": 5
}
