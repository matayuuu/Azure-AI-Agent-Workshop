{
 "cells": [
  {
   "cell_type": "markdown",
   "id": "2dbd5ed9",
   "metadata": {},
   "source": [
    "# TODO：概要"
   ]
  },
  {
   "cell_type": "markdown",
   "id": "9afc1747",
   "metadata": {},
   "source": [
    "# ライブラリのインポート"
   ]
  },
  {
   "cell_type": "code",
   "execution_count": 1,
   "id": "b8880598",
   "metadata": {},
   "outputs": [],
   "source": [
    "import os\n",
    "import time\n",
    "import json\n",
    "import datetime\n",
    "import zoneinfo\n",
    "\n",
    "import requests\n",
    "\n",
    "from dotenv import load_dotenv, find_dotenv\n",
    "\n",
    "from azure.identity import DefaultAzureCredential\n",
    "from azure.ai.projects import AIProjectClient\n",
    "from azure.ai.agents.models import (\n",
    "    MessageTextContent,\n",
    "    ListSortOrder,\n",
    "    McpTool,\n",
    "    MCPToolDefinition,\n",
    "    RequiredMcpToolCall,\n",
    "    SubmitToolApprovalAction,\n",
    "    ToolApproval,\n",
    "    CodeInterpreterTool,\n",
    "    FunctionTool,\n",
    "    ToolSet,\n",
    ")"
   ]
  },
  {
   "cell_type": "markdown",
   "id": "8df3c5db",
   "metadata": {},
   "source": [
    "# 環境変数の取得"
   ]
  },
  {
   "cell_type": "code",
   "execution_count": 2,
   "id": "a15848a6",
   "metadata": {},
   "outputs": [],
   "source": [
    "load_dotenv(override=True)\n",
    "\n",
    "PROJECT_ENDPOINT=os.getenv(\"PROJECT_ENDPOINT\")\n",
    "AZURE_DEPLOYMENT_NAME=os.getenv(\"AZURE_DEPLOYMENT_NAME\")"
   ]
  },
  {
   "cell_type": "markdown",
   "id": "0080b1a3",
   "metadata": {},
   "source": [
    "# クライアントの初期化"
   ]
  },
  {
   "cell_type": "code",
   "execution_count": 3,
   "id": "345050cb",
   "metadata": {},
   "outputs": [],
   "source": [
    "# AI Project Client を初期化\n",
    "project_client = AIProjectClient(\n",
    "    endpoint=PROJECT_ENDPOINT,\n",
    "    credential=DefaultAzureCredential()\n",
    ")"
   ]
  },
  {
   "cell_type": "markdown",
   "id": "b924f8a7",
   "metadata": {},
   "source": [
    "# ユーティリティ関数"
   ]
  },
  {
   "cell_type": "code",
   "execution_count": 4,
   "id": "f583d3a7",
   "metadata": {},
   "outputs": [],
   "source": [
    "def agent_run_outputs(thread_id, project_client, target_dir=\"./output_images\"):\n",
    "    \"\"\"\n",
    "    指定したスレッドIDのRun実行結果（テキスト・画像）をNotebook上に表示＆画像は保存。\n",
    "    \"\"\"\n",
    "    messages = project_client.agents.messages.list(thread_id=thread_id, order=ListSortOrder.ASCENDING)\n",
    "    os.makedirs(target_dir, exist_ok=True)\n",
    "\n",
    "    for message in messages:\n",
    "        # テキスト出力\n",
    "        if message.text_messages:\n",
    "            for txt in message.text_messages:\n",
    "                print(f\"{message.role.upper()}: {txt.text.value}\")\n",
    "        \n",
    "        # 画像出力\n",
    "        if hasattr(message, \"image_contents\"):\n",
    "            for image_content in message.image_contents:\n",
    "                file_id = image_content.image_file.file_id\n",
    "                file_name = f\"{file_id}_image_file.png\"\n",
    "\n",
    "                project_client.agents.files.save(\n",
    "                    file_id=file_id,\n",
    "                    file_name=file_name,\n",
    "                    target_dir=target_dir\n",
    "                )\n",
    "                print(f\"Saved image: {file_name}\")\n",
    "                display(Image(filename=f\"{target_dir}/{file_name}\"))"
   ]
  },
  {
   "cell_type": "markdown",
   "id": "0277afa8",
   "metadata": {},
   "source": [
    "# ツールの定義"
   ]
  },
  {
   "cell_type": "markdown",
   "id": "7742fb72",
   "metadata": {},
   "source": [
    "## カスタム関数"
   ]
  },
  {
   "cell_type": "code",
   "execution_count": 5,
   "id": "0b33cd2c",
   "metadata": {},
   "outputs": [],
   "source": [
    "# 主要な都道府県庁所在地の緯度・経度データ\n",
    "PREFECTURE_LOCATIONS = {\n",
    "    \"北海道\": (43.06417, 141.34694),   # 札幌市\n",
    "    \"青森県\": (40.82444, 140.74),      # 青森市\n",
    "    \"岩手県\": (39.70361, 141.1525),   # 盛岡市\n",
    "    \"宮城県\": (38.26889, 140.87194),  # 仙台市\n",
    "    \"秋田県\": (39.71861, 140.1025),   # 秋田市\n",
    "    \"山形県\": (38.24056, 140.36333),  # 山形市\n",
    "    \"福島県\": (37.75, 140.46778),     # 福島市\n",
    "    \"茨城県\": (36.34139, 140.44667),  # 水戸市\n",
    "    \"栃木県\": (36.56583, 139.88361),  # 宇都宮市\n",
    "    \"群馬県\": (36.39111, 139.06083),  # 前橋市\n",
    "    \"埼玉県\": (35.85694, 139.64889),  # さいたま市\n",
    "    \"千葉県\": (35.60472, 140.12333),  # 千葉市\n",
    "    \"東京都\": (35.68944, 139.69167),  # 新宿区\n",
    "    \"神奈川県\": (35.44778, 139.6425), # 横浜市\n",
    "    \"新潟県\": (37.90222, 139.02361),  # 新潟市\n",
    "    \"富山県\": (36.69528, 137.21139),  # 富山市\n",
    "    \"石川県\": (36.59444, 136.62556),  # 金沢市\n",
    "    \"福井県\": (36.06528, 136.22194),  # 福井市\n",
    "    \"山梨県\": (35.66389, 138.56833),  # 甲府市\n",
    "    \"長野県\": (36.65139, 138.18111),  # 長野市\n",
    "    \"岐阜県\": (35.39111, 136.72222),  # 岐阜市\n",
    "    \"静岡県\": (34.97694, 138.38306),  # 静岡市\n",
    "    \"愛知県\": (35.18028, 136.90667),  # 名古屋市\n",
    "    \"三重県\": (34.73028, 136.50861),  # 津市\n",
    "    \"滋賀県\": (35.00444, 135.86833),  # 大津市\n",
    "    \"京都府\": (35.02139, 135.75556),  # 京都市\n",
    "    \"大阪府\": (34.68639, 135.52),     # 大阪市\n",
    "    \"兵庫県\": (34.69139, 135.18306),  # 神戸市\n",
    "    \"奈良県\": (34.68528, 135.83278),  # 奈良市\n",
    "    \"和歌山県\": (34.22611, 135.1675), # 和歌山市\n",
    "    \"鳥取県\": (35.50361, 134.23833),  # 鳥取市\n",
    "    \"島根県\": (35.47222, 133.05056),  # 松江市\n",
    "    \"岡山県\": (34.66167, 133.935),    # 岡山市\n",
    "    \"広島県\": (34.39639, 132.45944),  # 広島市\n",
    "    \"山口県\": (34.18583, 131.47139),  # 山口市\n",
    "    \"徳島県\": (34.06583, 134.55944),  # 徳島市\n",
    "    \"香川県\": (34.34028, 134.04333),  # 高松市\n",
    "    \"愛媛県\": (33.84167, 132.76611),  # 松山市\n",
    "    \"高知県\": (33.55972, 133.53111),  # 高知市\n",
    "    \"福岡県\": (33.60639, 130.41806),  # 福岡市\n",
    "    \"佐賀県\": (33.24944, 130.29889),  # 佐賀市\n",
    "    \"長崎県\": (32.74472, 129.87361),  # 長崎市\n",
    "    \"熊本県\": (32.78972, 130.74167),  # 熊本市\n",
    "    \"大分県\": (33.23806, 131.6125),   # 大分市\n",
    "    \"宮崎県\": (31.91111, 131.42389),  # 宮崎市\n",
    "    \"鹿児島県\": (31.56028, 130.55806),# 鹿児島市\n",
    "    \"沖縄県\": (26.2125, 127.68111),   # 那覇市\n",
    "}\n",
    "\n",
    "\n",
    "def get_prefecture_location(prefecture: str) -> str:\n",
    "    \"\"\"\n",
    "    都道府県名から緯度・経度を取得します。都道府県一覧・座標は変更しません。\n",
    "\n",
    "    :param prefecture (str): 都道府県名（例: \"東京都\"）\n",
    "    :rtype: str\n",
    "\n",
    "    :return: {\"latitude\": ..., \"longitude\": ...} 形式のJSON文字列。見つからなければ {\"latitude\": null, \"longitude\": null}\n",
    "    :rtype: str\n",
    "    \"\"\"\n",
    "    loc = PREFECTURE_LOCATIONS.get(prefecture)\n",
    "    if loc:\n",
    "        return json.dumps({\"latitude\": loc[0], \"longitude\": loc[1]})\n",
    "    else:\n",
    "        return json.dumps({\"latitude\": None, \"longitude\": None})\n",
    "\n",
    "\n",
    "def get_current_time_jst() -> str:\n",
    "    \"\"\"\n",
    "    日本標準時（JST, UTC+9）の今日の日付を \"YYYY-MM-DD\" 形式の文字列で返します。日時情報は変更しません。\n",
    "\n",
    "    :rtype: str\n",
    "\n",
    "    :return: 今日の日付（\"YYYY-MM-DD\" 形式の文字列）\n",
    "    :rtype: str\n",
    "    \"\"\"\n",
    "    jst = zoneinfo.ZoneInfo(\"Asia/Tokyo\")\n",
    "    now = datetime.datetime.now(jst)\n",
    "    return now.strftime(\"%Y-%m-%d\")\n",
    "\n",
    "\n",
    "def get_temperature(latitude: float, longitude: float, date: str) -> str:\n",
    "    \"\"\"\n",
    "    指定した緯度・経度と日付に基づき、Open-Meteo APIで該当日の平均気温（摂氏）を返します。\n",
    "    外部サービスのみ参照し、情報は変更しません。\n",
    "\n",
    "    :param latitude (float): 緯度\n",
    "    :param longitude (float): 経度\n",
    "    :param date (str): 日付（\"YYYY-MM-DD\" 形式）\n",
    "    :rtype: str\n",
    "\n",
    "    :return: 指定日の平均気温（摂氏）をJSON文字列で返します。データがなければ {\"temperature\": null}。\n",
    "    :rtype: str\n",
    "    \"\"\"\n",
    "    url = (\n",
    "        \"https://api.open-meteo.com/v1/forecast\"\n",
    "        f\"?latitude={latitude}&longitude={longitude}\"\n",
    "        f\"&start_date={date}&end_date={date}\"\n",
    "        \"&daily=temperature_2m_mean\"\n",
    "        \"&timezone=Asia%2FTokyo\"\n",
    "    )\n",
    "    resp = requests.get(url, timeout=5)\n",
    "    resp.raise_for_status()\n",
    "    data = resp.json()\n",
    "    temps = data.get(\"daily\", {}).get(\"temperature_2m_mean\", [])\n",
    "    value = temps[0] if temps else None\n",
    "    return json.dumps({\"temperature\": value})\n"
   ]
  },
  {
   "cell_type": "markdown",
   "id": "3d85e2dc",
   "metadata": {},
   "source": [
    "## 関数のテスト"
   ]
  },
  {
   "cell_type": "code",
   "execution_count": 6,
   "id": "61e4dbd2",
   "metadata": {},
   "outputs": [
    {
     "name": "stdout",
     "output_type": "stream",
     "text": [
      "2025-07-27 の 北海道 の平均気温: 24.0°C\n"
     ]
    }
   ],
   "source": [
    "prefecture_name = \"北海道\"\n",
    "\n",
    "# 都道府県名から緯度・経度を取得\n",
    "loc_json = get_prefecture_location(prefecture_name)\n",
    "\n",
    "# 緯度・経度を取得\n",
    "loc = json.loads(loc_json)\n",
    "lat = loc[\"latitude\"]\n",
    "lon = loc[\"longitude\"]\n",
    "\n",
    "# 現在の日付を取得\n",
    "today = get_current_time_jst()\n",
    "\n",
    "# 平均気温を取得\n",
    "temp_json = get_temperature(lat, lon, today)\n",
    "temp = json.loads(temp_json)[\"temperature\"]\n",
    "\n",
    "print(f\"{today} の {prefecture_name} の平均気温: {temp}°C\")\n"
   ]
  },
  {
   "cell_type": "markdown",
   "id": "8175266f",
   "metadata": {},
   "source": [
    "## Toolset に格納"
   ]
  },
  {
   "cell_type": "code",
   "execution_count": 7,
   "id": "fef43654",
   "metadata": {},
   "outputs": [],
   "source": [
    "# Toolset の作成＆関数の追加\n",
    "toolset = ToolSet()\n",
    "\n",
    "functions = FunctionTool(functions={get_prefecture_location, get_current_time_jst, get_temperature})\n",
    "toolset.add(functions)"
   ]
  },
  {
   "cell_type": "markdown",
   "id": "9195fba8",
   "metadata": {},
   "source": [
    "# エージェントの作成"
   ]
  },
  {
   "cell_type": "code",
   "execution_count": 8,
   "id": "b5ab14ee",
   "metadata": {},
   "outputs": [
    {
     "name": "stdout",
     "output_type": "stream",
     "text": [
      "Created Agent. AGENT_ID: asst_am1YRL5LeWPO1cMYZlvkLeum\n"
     ]
    }
   ],
   "source": [
    "custom_functions_agent = project_client.agents.create_agent(\n",
    "    model=AZURE_DEPLOYMENT_NAME,\n",
    "    name=\"custom_functions_agent\",\n",
    "\n",
    "    # instructions:\n",
    "    #  - エージェントの「システム指示文」を設定し、エージェントのふるまいなどを制御できる\n",
    "    instructions=(\n",
    "        \"あなたは日本国内の気温や地理情報に答えるアシスタントです。\"\n",
    "        \"利用可能なツールを確認し、必要に応じて使用してください。\"        \n",
    "    ),\n",
    "\n",
    "    # description:\n",
    "    #  - エージェントの説明を設定し、ユーザーや他のエージェントがこのエージェントの目的を理解するための情報を提供\n",
    "    description=(\n",
    "        \"日本の都道府県の地理情報（緯度・経度）や、日本標準時の日付、指定した場所・日付の気温データを自動的に取得し、\"\n",
    "        \"ユーザーの質問に答えるアシスタントです。 \"\n",
    "    ),\n",
    "\n",
    "    # tools:\n",
    "    #  - エージェントが使用できるツールのセットを指定\n",
    "    tools=toolset.definitions,\n",
    ")\n",
    "print(f\"Created Agent. AGENT_ID: {custom_functions_agent.id}\")\n"
   ]
  },
  {
   "cell_type": "code",
   "execution_count": 9,
   "id": "56ef3349",
   "metadata": {},
   "outputs": [],
   "source": [
    "# カスタム関数の自動呼出しを有効化\n",
    "project_client.agents.enable_auto_function_calls(toolset)"
   ]
  },
  {
   "cell_type": "code",
   "execution_count": 10,
   "id": "dd5c0269",
   "metadata": {},
   "outputs": [],
   "source": [
    "# agent_dict = agent.as_dict()\n",
    "# print(json.dumps(agent_dict, indent=2, ensure_ascii=False))"
   ]
  },
  {
   "cell_type": "markdown",
   "id": "39c4d07f",
   "metadata": {},
   "source": [
    "# スレッドの作成"
   ]
  },
  {
   "cell_type": "code",
   "execution_count": 11,
   "id": "85ab52d1",
   "metadata": {},
   "outputs": [
    {
     "name": "stdout",
     "output_type": "stream",
     "text": [
      "Created Thread. THREAD_ID: thread_opMILYZb641eJbfjuZrYKQKi\n"
     ]
    }
   ],
   "source": [
    "# Thread の作成\n",
    "thread = project_client.agents.threads.create()\n",
    "print(f\"Created Thread. THREAD_ID: {thread.id}\")"
   ]
  },
  {
   "cell_type": "markdown",
   "id": "3a6e98d4",
   "metadata": {},
   "source": [
    "# ユーザーメッセージの追加"
   ]
  },
  {
   "cell_type": "code",
   "execution_count": 12,
   "id": "3b5742fc",
   "metadata": {},
   "outputs": [
    {
     "name": "stdout",
     "output_type": "stream",
     "text": [
      "Added Message. MESSAGE_ID: msg_l7sIYK5aOf0MCvTjzyuvoYvt\n"
     ]
    }
   ],
   "source": [
    "# メッセージの追加\n",
    "user_message = \"Tokyoの今日の気温を教えて。\"\n",
    "# user_message = \"過去３日間の沖縄県の平均気温を教えて。\"\n",
    "\n",
    "message = project_client.agents.messages.create(\n",
    "    thread_id=thread.id,\n",
    "    role=\"user\",\n",
    "    content=user_message,\n",
    ")\n",
    "\n",
    "print(f\"Added Message. MESSAGE_ID: {message.id}\")"
   ]
  },
  {
   "cell_type": "markdown",
   "id": "02542991",
   "metadata": {},
   "source": [
    "# Run の実行"
   ]
  },
  {
   "cell_type": "code",
   "execution_count": 13,
   "id": "cd3e9071",
   "metadata": {},
   "outputs": [
    {
     "name": "stdout",
     "output_type": "stream",
     "text": [
      "USER: Tokyoの今日の気温を教えて。\n",
      "ASSISTANT: 東京（Tokyo）の今日（2025年7月27日）の平均気温は約28.4℃です。\n"
     ]
    }
   ],
   "source": [
    "run = project_client.agents.runs.create_and_process(\n",
    "    thread_id=thread.id,\n",
    "    agent_id=custom_functions_agent.id\n",
    ")\n",
    "\n",
    "if run.status == \"failed\":\n",
    "    print(f\"Run failed: {run.last_error}\")\n",
    "else:\n",
    "    agent_run_outputs(thread.id, project_client)"
   ]
  },
  {
   "cell_type": "markdown",
   "id": "f8a1cc29",
   "metadata": {},
   "source": [
    "※ ここで、Azure AI Foundry 上の Web UI からエージェントのトレースを確認してみよう。"
   ]
  },
  {
   "cell_type": "markdown",
   "id": "648bb62e",
   "metadata": {},
   "source": [
    "# Agent ID を .env ファイルに保存\n",
    "※ 今回作成したエージェントを、後続の Connected Agents のハンズオン演習で使用するため永続化します。"
   ]
  },
  {
   "cell_type": "code",
   "execution_count": 14,
   "id": "51627967",
   "metadata": {},
   "outputs": [
    {
     "name": "stdout",
     "output_type": "stream",
     "text": [
      ".envファイルに FOUNDRY_CUSTOM_FUNCTIONS_AGENT_ID=\"asst_am1YRL5LeWPO1cMYZlvkLeum\" を追記しました。\n"
     ]
    }
   ],
   "source": [
    "# 変数の定義\n",
    "agent_env_key = \"FOUNDRY_CUSTOM_FUNCTIONS_AGENT_ID\"\n",
    "agent_env_value = custom_functions_agent.id\n",
    "\n",
    "# .envファイルのパスを自動探索\n",
    "env_path = find_dotenv()  # 見つからなければ''を返す\n",
    "if not env_path:\n",
    "    raise FileNotFoundError(\".envファイルが見つかりませんでした。\")\n",
    "\n",
    "# AGENT_ID を .env ファイルに追記\n",
    "with open(env_path, \"a\", encoding=\"utf-8\") as f:\n",
    "    f.write(f'\\n{agent_env_key}=\"{agent_env_value}\"')\n",
    "\n",
    "print(f'.envファイルに {agent_env_key}=\\\"{agent_env_value}\\\" を追記しました。')"
   ]
  },
  {
   "cell_type": "code",
   "execution_count": null,
   "id": "c81ae52c",
   "metadata": {},
   "outputs": [],
   "source": []
  },
  {
   "cell_type": "code",
   "execution_count": null,
   "id": "048eace7",
   "metadata": {},
   "outputs": [],
   "source": []
  },
  {
   "cell_type": "markdown",
   "id": "b06e55d5",
   "metadata": {},
   "source": [
    "# MCP 対応"
   ]
  },
  {
   "cell_type": "code",
   "execution_count": 15,
   "id": "9af9cf25",
   "metadata": {},
   "outputs": [],
   "source": [
    "import time\n",
    "import json\n",
    "\n",
    "from azure.ai.agents.models import MessageTextContent, ListSortOrder\n",
    "from azure.ai.projects import AIProjectClient\n",
    "from azure.identity import DefaultAzureCredential\n",
    "from azure.ai.agents.models import McpTool, MCPToolDefinition, RequiredMcpToolCall, SubmitToolApprovalAction, ToolApproval"
   ]
  },
  {
   "cell_type": "code",
   "execution_count": 18,
   "id": "4978415a",
   "metadata": {},
   "outputs": [
    {
     "name": "stdout",
     "output_type": "stream",
     "text": [
      "Created agent, ID: asst_nrqxSZAQldlhrUEgtn6YttOK\n",
      "{'id': 'asst_nrqxSZAQldlhrUEgtn6YttOK', 'object': 'assistant', 'created_at': 1753555238, 'name': 'my-mcp-agent', 'description': None, 'model': 'gpt-4.1', 'instructions': \"You are a helpful assistant. Use the tools provided to answer the user's questions. Be sure to cite your sources.\", 'tools': [{'type': 'mcp', 'server_label': 'MicrosoftDocs', 'server_url': 'https://learn.microsoft.com/api/mcp', 'allowed_tools': None}], 'top_p': 1.0, 'temperature': 1.0, 'tool_resources': {}, 'metadata': {}, 'response_format': 'auto'}\n",
      "Created thread, ID: thread_0UAWQmJjAht71X13lurxzzTV\n",
      "Created message, ID: msg_JocTiWYIUDG9TiSiN0z5IMWz\n",
      "Current run status: RunStatus.IN_PROGRESS\n",
      "Current run status: RunStatus.IN_PROGRESS\n",
      "Approving tool call: {'id': 'call_hWeKEFphLxutj2tleOcL8um0', 'type': 'mcp', 'arguments': '{\"question\":\"Azure AI Foundry Agent Service æ\\x9c\\x80æ\\x96°æ\\x83\\x85å\\xa0±\"}', 'name': 'microsoft_docs_search', 'server_label': 'MicrosoftDocs'}\n",
      "tool_approvals: [{'tool_call_id': 'call_hWeKEFphLxutj2tleOcL8um0', 'approve': True, 'headers': {}}]\n",
      "Current run status: RunStatus.REQUIRES_ACTION\n",
      "Current run status: RunStatus.IN_PROGRESS\n",
      "Current run status: RunStatus.IN_PROGRESS\n",
      "Current run status: RunStatus.IN_PROGRESS\n",
      "Current run status: RunStatus.IN_PROGRESS\n",
      "Current run status: RunStatus.IN_PROGRESS\n",
      "Current run status: RunStatus.IN_PROGRESS\n",
      "Current run status: RunStatus.IN_PROGRESS\n",
      "Current run status: RunStatus.COMPLETED\n",
      "\n",
      "Conversation:\n",
      "--------------------------------------------------\n",
      "ASSISTANT: Azure AI Foundry Agent Service の最新情報（2025年6月まで）\n",
      "\n",
      "1. 一般提供（GA）\n",
      "- Azure AI Foundry Agent Service は2025年5月にGAとなりました。エージェントの作成・デバッグ・展開が可能で、VS Code拡張も提供されています。\n",
      "- 参照: What's new in Azure AI Foundry Agent Service\n",
      "\n",
      "2. 注目の新機能（2025年6月時点）\n",
      "\n",
      "- Deep Research ツール：Azure OpenAIの\"o3-deep-research\"モデルを基盤とし、Bing Searchを情報源としたマルチステップリサーチを実現。[Deep Research tool](https://learn.microsoft.com/en-us/azure/ai-foundry/agents/how-to/tools/deep-research)\n",
      "- Model Context Protocol (MCP) ツール：外部のMCPサーバにホストされたツールとエージェントを連携可能。[MCP tool](https://learn.microsoft.com/en-us/azure/ai-foundry/agents/how-to/tools/model-context-protocol)\n",
      "- Connected agents：複数のエージェント（サブエージェント）を連携させ、タスク毎に分担。マルチエージェントシステムを外部オーケストレーター不要で構築できます。\n",
      "- Trace agents：各エージェント実行の詳細なトレース・デバッグ機能。\n",
      "- Logic Apps連携：メール到着や新規チケット発生などのイベントで自動的にエージェントを起動できます。\n",
      "- 新ツール追加：Bing Custom Search、Morningstar（投資データ）など。\n",
      "\n",
      "3. 直近のアップデート\n",
      "- Azure Monitor統合：エージェント活動のメトリクスを監視可能。\n",
      "- Cosmos DBによるスレッドストレージのBYO（持ち込み）対応。\n",
      "- Microsoft Fabricツール統合。\n",
      "- ポータルUIからノーコードでエージェントを作成・管理可能。\n",
      "\n",
      "4. モデルやセキュリティ\n",
      "- Llama 3.1-70B-instruct, Mistral-large-2407, Cohere command R+ など、Azure OpenAI以外のモデルも利用可能。\n",
      "- セキュリティ強化 (エンタープライズ向けデータハンドリング、認証、egress制御)。\n",
      "- ストレージをMicrosoft管理 or BYOから選択可能。\n",
      "- .NET/Python(OpenAI/Azure SDK)のSDKサポート。\n",
      "\n",
      "公式の \"What's new\" 記事に更なる詳細があります。常に最新情報はこちらをご確認ください： [What's new in Azure AI Foundry Agent Service](https://learn.microsoft.com/en-us/azure/ai-foundry/agents/whats-new)\n",
      "\n",
      "その他、実装や使い方などの詳細もお気軽にご質問ください。\n",
      "--------------------------------------------------\n",
      "USER: Azure AI Foundry Agent Service の最新情報は？\n",
      "--------------------------------------------------\n"
     ]
    }
   ],
   "source": [
    "project_client = AIProjectClient(\n",
    "    endpoint=PROJECT_ENDPOINT,\n",
    "    credential=DefaultAzureCredential()\n",
    ")\n",
    "\n",
    "mcp_tool = McpTool(\n",
    "    server_label=\"MicrosoftDocs\",\n",
    "    server_url=\"https://learn.microsoft.com/api/mcp\",\n",
    ")\n",
    "\n",
    "with project_client:    \n",
    "    agent = project_client.agents.create_agent(\n",
    "        model=\"gpt-4.1\",\n",
    "        name=\"my-mcp-agent\",\n",
    "        instructions=(\n",
    "            \"You are a helpful assistant. \"\n",
    "            \"Use the tools provided to answer the user's questions. \"\n",
    "            \"Be sure to cite your sources.\"\n",
    "        ),\n",
    "        tools=mcp_tool.definitions\n",
    "    )\n",
    "    print(f\"Created agent, ID: {agent.id}\")\n",
    "    print(agent.as_dict())\n",
    "\n",
    "    thread = project_client.agents.threads.create()\n",
    "    print(f\"Created thread, ID: {thread.id}\")\n",
    "\n",
    "    message = project_client.agents.messages.create(\n",
    "        thread_id=thread.id,\n",
    "        role=\"user\",\n",
    "        content=\"Azure AI Foundry Agent Service の最新情報は？\"\n",
    "    )\n",
    "    print(f\"Created message, ID: {message.id}\")\n",
    "\n",
    "    \n",
    "    run = project_client.agents.runs.create(\n",
    "        thread_id=thread.id,\n",
    "        agent_id=agent.id\n",
    "    )\n",
    "\n",
    "\n",
    "    while run.status in [\"queued\", \"in_progress\", \"requires_action\"]:\n",
    "        time.sleep(1)\n",
    "        run = project_client.agents.runs.get(thread_id=thread.id, run_id=run.id)\n",
    "\n",
    "        if run.status == \"requires_action\" and isinstance(run.required_action, SubmitToolApprovalAction):\n",
    "            tool_calls = run.required_action.submit_tool_approval.tool_calls\n",
    "            if not tool_calls:\n",
    "                print(\"No tool calls provided - cancelling run\")\n",
    "                project_client.agents.runs.cancel(thread_id=thread.id, run_id=run.id)\n",
    "                break\n",
    "\n",
    "            tool_approvals = []\n",
    "            for tool_call in tool_calls:\n",
    "                if isinstance(tool_call, RequiredMcpToolCall):\n",
    "                    try:\n",
    "                        print(f\"Approving tool call: {tool_call}\")\n",
    "                        tool_approvals.append(\n",
    "                            ToolApproval(\n",
    "                                tool_call_id=tool_call.id,\n",
    "                                approve=True,\n",
    "                                headers=mcp_tool.headers,\n",
    "                            )\n",
    "                        )\n",
    "                    except Exception as e:\n",
    "                        print(f\"Error approving tool_call {tool_call.id}: {e}\")\n",
    "\n",
    "            print(f\"tool_approvals: {tool_approvals}\")\n",
    "            if tool_approvals:\n",
    "                project_client.agents.runs.submit_tool_outputs(\n",
    "                    thread_id=thread.id,\n",
    "                    run_id=run.id,\n",
    "                    tool_approvals=tool_approvals\n",
    "                )\n",
    "\n",
    "        print(f\"Current run status: {run.status}\")\n",
    "\n",
    "    # Retrieve the generated response:\n",
    "    messages = project_client.agents.messages.list(thread_id=thread.id)\n",
    "    print(\"\\nConversation:\")\n",
    "    print(\"-\" * 50)\n",
    "\n",
    "    for msg in messages:\n",
    "        if msg.text_messages:\n",
    "            last_text = msg.text_messages[-1]\n",
    "            print(f\"{msg.role.upper()}: {last_text.text.value}\")\n",
    "            print(\"-\" * 50)\n",
    "\n",
    "    # project_client.agents.delete_agent(agent.id)\n",
    "    # print(\"Deleted agent\")\n"
   ]
  }
 ],
 "metadata": {
  "kernelspec": {
   "display_name": ".venv",
   "language": "python",
   "name": "python3"
  },
  "language_info": {
   "codemirror_mode": {
    "name": "ipython",
    "version": 3
   },
   "file_extension": ".py",
   "mimetype": "text/x-python",
   "name": "python",
   "nbconvert_exporter": "python",
   "pygments_lexer": "ipython3",
   "version": "3.11.9"
  }
 },
 "nbformat": 4,
 "nbformat_minor": 5
}
