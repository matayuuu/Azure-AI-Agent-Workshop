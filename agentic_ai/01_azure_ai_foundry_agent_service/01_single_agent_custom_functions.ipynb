{
 "cells": [
  {
   "cell_type": "markdown",
   "id": "2dbd5ed9",
   "metadata": {},
   "source": [
    "# Azure AI Foundry Agent Service - カスタム関数を使ったシングルエージェント\n",
    "\n",
    "### 概要\n",
    "\n",
    "このハンズオンでは、Azure AI Foundry Agent Serviceを使用して、カスタム関数（Function Calling）を備えたAIエージェントを作成します。\n",
    "\n",
    "### 学習内容\n",
    "- Azure AI Foundry Agent Serviceの基本的な使い方\n",
    "- カスタム関数の定義と実装\n",
    "- Function Callingを使ったエージェントの作成\n",
    "- 外部APIとの連携（Open-Meteo天気API）\n",
    "- エージェントとの対話とツール呼び出しの確認\n",
    "\n",
    "### このサンプルで扱う機能\n",
    "1. **都道府県の座標取得**: 日本の都道府県名から緯度・経度を取得\n",
    "2. **現在日時の取得**: 日本標準時（JST）での現在日付を取得\n",
    "3. **気温データの取得**: 指定した座標と日付の気温情報を外部APIから取得\n",
    "\n",
    "これらの機能を組み合わせて、「東京の今日の気温を教えて」といった自然言語での質問に対して、エージェントが自動的に必要な関数を呼び出して回答を生成します。"
   ]
  },
  {
   "cell_type": "markdown",
   "id": "9afc1747",
   "metadata": {},
   "source": [
    "# ライブラリのインポート\n",
    "\n",
    "必要なPythonライブラリとAzure AI Foundry SDKをインポートします。"
   ]
  },
  {
   "cell_type": "code",
   "execution_count": 14,
   "id": "b8880598",
   "metadata": {},
   "outputs": [],
   "source": [
    "import os\n",
    "import json\n",
    "import datetime\n",
    "import zoneinfo\n",
    "\n",
    "import requests\n",
    "\n",
    "from dotenv import load_dotenv, find_dotenv\n",
    "\n",
    "from azure.identity import DefaultAzureCredential\n",
    "from azure.ai.projects import AIProjectClient\n",
    "from azure.ai.agents.models import (\n",
    "    ListSortOrder,\n",
    "    FunctionTool,\n",
    "    ToolSet,\n",
    ")"
   ]
  },
  {
   "cell_type": "markdown",
   "id": "8df3c5db",
   "metadata": {},
   "source": [
    "# 環境変数の取得\n",
    "\n",
    "Azure AI Foundryへの接続に必要な設定情報を環境変数から取得します。"
   ]
  },
  {
   "cell_type": "code",
   "execution_count": 15,
   "id": "a15848a6",
   "metadata": {},
   "outputs": [],
   "source": [
    "load_dotenv(override=True)\n",
    "\n",
    "PROJECT_ENDPOINT=os.getenv(\"PROJECT_ENDPOINT\")\n",
    "AZURE_DEPLOYMENT_NAME=os.getenv(\"AZURE_DEPLOYMENT_NAME\")"
   ]
  },
  {
   "cell_type": "markdown",
   "id": "0080b1a3",
   "metadata": {},
   "source": [
    "# クライアントの初期化\n",
    "\n",
    "Azure AI Foundryプロジェクトへの接続と Foundry Agent 管理用のクライアントを初期化します。"
   ]
  },
  {
   "cell_type": "code",
   "execution_count": 16,
   "id": "345050cb",
   "metadata": {},
   "outputs": [],
   "source": [
    "# AI Project Client を初期化\n",
    "project_client = AIProjectClient(\n",
    "    endpoint=PROJECT_ENDPOINT,\n",
    "    credential=DefaultAzureCredential()\n",
    ")\n",
    "\n",
    "# AgentClient の作成\n",
    "agents_client = project_client.agents"
   ]
  },
  {
   "cell_type": "markdown",
   "id": "b924f8a7",
   "metadata": {},
   "source": [
    "# ユーティリティ関数\n",
    "\n",
    "エージェントの実行結果を表示するためのヘルパー関数を定義します。\n",
    "\n",
    "`agent_run_outputs`関数は以下の機能を提供します：\n",
    "- スレッド内のメッセージ一覧を取得・表示\n",
    "- 画像コンテンツがある場合は保存・表示"
   ]
  },
  {
   "cell_type": "code",
   "execution_count": 17,
   "id": "f583d3a7",
   "metadata": {},
   "outputs": [],
   "source": [
    "def agent_run_outputs(thread_id, agents_client, target_dir=\"./output_images\"):\n",
    "    \"\"\"\n",
    "    指定したスレッドIDのRun実行結果（テキスト・画像）をNotebook上に表示＆画像は保存。\n",
    "    \"\"\"\n",
    "    messages = agents_client.messages.list(thread_id=thread_id, order=ListSortOrder.ASCENDING)\n",
    "    os.makedirs(target_dir, exist_ok=True)\n",
    "\n",
    "    for message in messages:\n",
    "        # テキスト出力\n",
    "        if message.text_messages:\n",
    "            for txt in message.text_messages:\n",
    "                print(f\"{message.role.upper()}: {txt.text.value}\")\n",
    "        \n",
    "        # 画像出力\n",
    "        if hasattr(message, \"image_contents\"):\n",
    "            for image_content in message.image_contents:\n",
    "                file_id = image_content.image_file.file_id\n",
    "                file_name = f\"{file_id}_image_file.png\"\n",
    "\n",
    "                agents_client.files.save(\n",
    "                    file_id=file_id,\n",
    "                    file_name=file_name,\n",
    "                    target_dir=target_dir\n",
    "                )\n",
    "                print(f\"Saved image: {file_name}\")\n",
    "                display(Image(filename=f\"{target_dir}/{file_name}\"))"
   ]
  },
  {
   "cell_type": "markdown",
   "id": "0277afa8",
   "metadata": {},
   "source": [
    "# ツールの定義\n",
    "\n",
    "エージェントが使用できるカスタム関数（ツール）を定義します。\n",
    "\n",
    "Function Calling により、エージェントは以下のような処理を自動的に実行できます：\n",
    "1. ユーザーの質問を分析\n",
    "2. 必要な情報を取得するための適切な関数を選択\n",
    "3. 関数を呼び出して情報を取得\n",
    "4. 取得した情報を基に自然な回答を生成"
   ]
  },
  {
   "cell_type": "markdown",
   "id": "7742fb72",
   "metadata": {},
   "source": [
    "## カスタム関数\n",
    "\n",
    "エージェントが利用できる3つのカスタム関数を定義します。\n",
    "\n",
    "### 定義する関数\n",
    "1. **get_prefecture_location**: 都道府県名から緯度・経度を取得\n",
    "2. **get_current_time_jst**: 日本標準時の現在日付を取得\n",
    "3. **get_temperature**: 指定座標・日付の気温を外部APIから取得\n",
    "\n",
    "これらの関数は適切なdocstringとtype hintsを含むことで、エージェントが自動的に関数の用途やパラメータを理解できるようになっています。"
   ]
  },
  {
   "cell_type": "code",
   "execution_count": 18,
   "id": "0b33cd2c",
   "metadata": {},
   "outputs": [],
   "source": [
    "def get_prefecture_location(prefecture: str) -> str:\n",
    "    \"\"\"\n",
    "    都道府県名から緯度・経度を取得します。都道府県一覧・座標は変更しません。\n",
    "\n",
    "    :param prefecture (str): 都道府県名（例: \"東京都\"）\n",
    "    :rtype: str\n",
    "\n",
    "    :return: {\"latitude\": ..., \"longitude\": ...} 形式のJSON文字列。見つからなければ {\"latitude\": null, \"longitude\": null}\n",
    "    :rtype: str\n",
    "    \"\"\"\n",
    "    # 都道府県の座標データを読み込み\n",
    "    json_path =\"../../infra/sample_data/prefecture_locations.json\"\n",
    "    with open(json_path, \"r\", encoding=\"utf-8\") as f:\n",
    "        PREFECTURE_LOCATIONS = json.load(f)\n",
    "        \n",
    "    loc = PREFECTURE_LOCATIONS.get(prefecture)\n",
    "    if loc:\n",
    "        return json.dumps({\"latitude\": loc[0], \"longitude\": loc[1]})\n",
    "    else:\n",
    "        return json.dumps({\"latitude\": None, \"longitude\": None})\n",
    "\n",
    "\n",
    "def get_current_time_jst() -> str:\n",
    "    \"\"\"\n",
    "    日本標準時（JST, UTC+9）の今日の日付を \"YYYY-MM-DD\" 形式の文字列で返します。日時情報は変更しません。\n",
    "\n",
    "    :rtype: str\n",
    "\n",
    "    :return: 今日の日付（\"YYYY-MM-DD\" 形式の文字列）\n",
    "    :rtype: str\n",
    "    \"\"\"\n",
    "    jst = zoneinfo.ZoneInfo(\"Asia/Tokyo\")\n",
    "    now = datetime.datetime.now(jst)\n",
    "    return now.strftime(\"%Y-%m-%d\")\n",
    "\n",
    "\n",
    "def get_temperature(latitude: float, longitude: float, date: str) -> str:\n",
    "    \"\"\"\n",
    "    指定した緯度・経度と日付に基づき、Open-Meteo APIで該当日の平均気温（摂氏）を返します。\n",
    "    外部サービスのみ参照し、情報は変更しません。\n",
    "\n",
    "    :param latitude (float): 緯度\n",
    "    :param longitude (float): 経度\n",
    "    :param date (str): 日付（\"YYYY-MM-DD\" 形式）\n",
    "    :rtype: str\n",
    "\n",
    "    :return: 指定日の平均気温（摂氏）をJSON文字列で返します。データがなければ {\"temperature\": null}。\n",
    "    :rtype: str\n",
    "    \"\"\"\n",
    "    url = (\n",
    "        \"https://api.open-meteo.com/v1/forecast\"\n",
    "        f\"?latitude={latitude}&longitude={longitude}\"\n",
    "        f\"&start_date={date}&end_date={date}\"\n",
    "        \"&daily=temperature_2m_mean\"\n",
    "        \"&timezone=Asia%2FTokyo\"\n",
    "    )\n",
    "    resp = requests.get(url, timeout=5)\n",
    "    resp.raise_for_status()\n",
    "    data = resp.json()\n",
    "    temps = data.get(\"daily\", {}).get(\"temperature_2m_mean\", [])\n",
    "    value = temps[0] if temps else None\n",
    "    return json.dumps({\"temperature\": value})\n"
   ]
  },
  {
   "cell_type": "markdown",
   "id": "3d85e2dc",
   "metadata": {},
   "source": [
    "## 関数のテスト\n",
    "\n",
    "定義したカスタム関数が正常に動作することを確認するテストコードです。"
   ]
  },
  {
   "cell_type": "code",
   "execution_count": 19,
   "id": "61e4dbd2",
   "metadata": {},
   "outputs": [
    {
     "name": "stdout",
     "output_type": "stream",
     "text": [
      "2025-07-29 の 北海道 の平均気温: 24.6°C\n"
     ]
    }
   ],
   "source": [
    "prefecture_name = \"北海道\"\n",
    "\n",
    "# 都道府県名から緯度・経度を取得\n",
    "loc_json = get_prefecture_location(prefecture_name)\n",
    "\n",
    "# 緯度・経度を取得\n",
    "loc = json.loads(loc_json)\n",
    "lat = loc[\"latitude\"]\n",
    "lon = loc[\"longitude\"]\n",
    "\n",
    "# 現在の日付を取得\n",
    "today = get_current_time_jst()\n",
    "\n",
    "# 平均気温を取得\n",
    "temp_json = get_temperature(lat, lon, today)\n",
    "temp = json.loads(temp_json)[\"temperature\"]\n",
    "\n",
    "print(f\"{today} の {prefecture_name} の平均気温: {temp}°C\")"
   ]
  },
  {
   "cell_type": "markdown",
   "id": "8175266f",
   "metadata": {},
   "source": [
    "## Toolset に格納\n",
    "\n",
    "定義したカスタム関数をエージェントが使用できる形式（ToolSet）に格納します。\n",
    "\n",
    "- `ToolSet`: 複数のツールをまとめて管理するコンテナ\n",
    "- `FunctionTool`: Python関数をエージェントツールとして定義\n",
    "- `enable_auto_function_calls`: エージェントが自動的に関数を呼び出せるように設定\n",
    "\n",
    "この設定により、エージェントは会話の文脈に応じて適切な関数を自動選択・実行できるようになります。"
   ]
  },
  {
   "cell_type": "code",
   "execution_count": 20,
   "id": "fef43654",
   "metadata": {},
   "outputs": [],
   "source": [
    "# Toolset の作成＆関数の追加\n",
    "toolset = ToolSet()\n",
    "\n",
    "functions = FunctionTool(functions={get_prefecture_location, get_current_time_jst, get_temperature})\n",
    "toolset.add(functions)\n",
    "\n",
    "# エージェントで関数を自動的に呼び出すように設定\n",
    "agents_client.enable_auto_function_calls(functions)"
   ]
  },
  {
   "cell_type": "markdown",
   "id": "9195fba8",
   "metadata": {},
   "source": [
    "# エージェントの作成\n",
    "\n",
    "Foundry エージェントを作成します。\n",
    "\n",
    "## エージェント設定の詳細\n",
    "- **model**: 使用するAIモデル（GPT-4.1 等）\n",
    "- **name**: エージェントの名前\n",
    "- **instructions**: システム指示文（エージェントの振る舞いを定義）\n",
    "- **description**: エージェントの説明（ユーザーや他のエージェントがこのエージェントの用途や機能を理解するための情報）\n",
    "- **tools**: エージェントが使用できるツールセット\n",
    "\n",
    "このエージェントは日本の地理・気象情報に特化し、自然言語での質問に対して適切な関数を呼び出して回答します。"
   ]
  },
  {
   "cell_type": "code",
   "execution_count": 21,
   "id": "b5ab14ee",
   "metadata": {},
   "outputs": [
    {
     "name": "stdout",
     "output_type": "stream",
     "text": [
      "Created Agent. AGENT_ID: asst_quMB3kw12eMPIz2Fcg71S2Ul\n"
     ]
    }
   ],
   "source": [
    "custom_functions_agent = agents_client.create_agent(\n",
    "    model=AZURE_DEPLOYMENT_NAME,\n",
    "    name=\"custom_functions_agent\",\n",
    "    instructions=(\n",
    "        \"あなたは日本国内の気温や地理情報に答えるアシスタントです。\"\n",
    "        \"利用可能なツールを確認し、必要に応じて使用してください。\"        \n",
    "    ),\n",
    "    description=(\n",
    "        \"日本の都道府県の地理情報（緯度・経度）や、日本標準時の日付、指定した場所・日付の気温データを自動的に取得し、\"\n",
    "        \"ユーザーの質問に答えるアシスタントです。 \"\n",
    "    ),\n",
    "    tools=toolset.definitions,\n",
    ")\n",
    "print(f\"Created Agent. AGENT_ID: {custom_functions_agent.id}\")\n"
   ]
  },
  {
   "cell_type": "markdown",
   "id": "39c4d07f",
   "metadata": {},
   "source": [
    "# スレッドの作成\n",
    "\n",
    "エージェントとの会話を管理するスレッドを作成します。\n",
    "\n",
    "## スレッドの役割\n",
    "- 会話の文脈を保持\n",
    "- メッセージ履歴の管理\n",
    "- 複数回のやり取りにおける状態管理\n",
    "- エージェントとユーザー間の対話セッションを提供\n",
    "\n",
    "作成されたスレッドIDは、この後のメッセージ追加や実行で使用されます。"
   ]
  },
  {
   "cell_type": "code",
   "execution_count": 22,
   "id": "85ab52d1",
   "metadata": {},
   "outputs": [
    {
     "name": "stdout",
     "output_type": "stream",
     "text": [
      "Created Thread. THREAD_ID: thread_MVCG0L4jIp19HIEHBgdWVvjc\n"
     ]
    }
   ],
   "source": [
    "# Thread の作成\n",
    "thread = agents_client.threads.create()\n",
    "print(f\"Created Thread. THREAD_ID: {thread.id}\")"
   ]
  },
  {
   "cell_type": "markdown",
   "id": "3a6e98d4",
   "metadata": {},
   "source": [
    "# ユーザーメッセージの追加\n",
    "\n",
    "エージェントに対する質問やリクエストをスレッドに追加します。"
   ]
  },
  {
   "cell_type": "code",
   "execution_count": 23,
   "id": "3b5742fc",
   "metadata": {},
   "outputs": [
    {
     "name": "stdout",
     "output_type": "stream",
     "text": [
      "Added Message. MESSAGE_ID: msg_Bu6iouwzKndijpTocl9J9R5M\n"
     ]
    }
   ],
   "source": [
    "# メッセージの追加\n",
    "user_message = \"過去３日間の沖縄県の平均気温を教えて。\"\n",
    "# user_message = \"Tokyoの今日の気温を教えて。\"\n",
    "\n",
    "message = agents_client.messages.create(\n",
    "    thread_id=thread.id,\n",
    "    role=\"user\",\n",
    "    content=user_message,\n",
    ")\n",
    "\n",
    "print(f\"Added Message. MESSAGE_ID: {message.id}\")"
   ]
  },
  {
   "cell_type": "markdown",
   "id": "02542991",
   "metadata": {},
   "source": [
    "# Run の実行\n",
    "\n",
    "エージェントを実行してユーザーメッセージに対する回答を生成します。\n",
    "\n",
    "## Runの処理フロー\n",
    "1. スレッド内のメッセージを分析\n",
    "2. 必要な情報を取得するためのツール選択\n",
    "3. カスタム関数の自動実行\n",
    "4. 取得した情報を統合して回答生成\n",
    "5. スレッドメッセージへ書き込み\n",
    "\n",
    "`create_and_process`により、エージェントの実行から完了まで自動的に処理されます。\n",
    "エラーが発生した場合は、詳細なエラー情報が表示されます。"
   ]
  },
  {
   "cell_type": "code",
   "execution_count": 24,
   "id": "cd3e9071",
   "metadata": {},
   "outputs": [
    {
     "name": "stdout",
     "output_type": "stream",
     "text": [
      "USER: 過去３日間の沖縄県の平均気温を教えて。\n",
      "ASSISTANT: 過去3日間（7月26日～28日）の沖縄県の平均気温は以下の通りです。\n",
      "\n",
      "- 7月28日：28.0℃\n",
      "- 7月27日：28.2℃\n",
      "- 7月26日：28.5℃\n",
      "\n",
      "他にも知りたい日や地域があればお知らせください。\n"
     ]
    }
   ],
   "source": [
    "run = agents_client.runs.create_and_process(\n",
    "    thread_id=thread.id,\n",
    "    agent_id=custom_functions_agent.id\n",
    ")\n",
    "\n",
    "if run.status == \"failed\":\n",
    "    print(f\"Run failed: {run.last_error}\")\n",
    "else:\n",
    "    agent_run_outputs(thread.id, agents_client)"
   ]
  },
  {
   "cell_type": "markdown",
   "id": "f8a1cc29",
   "metadata": {},
   "source": [
    "# トレース確認\n",
    "\n",
    "[Azure AI Foundry Portal](https://ai.azure.com/?cid=learnDocs) でエージェントの実行トレースを確認してみましょう。\n",
    "\n",
    "[ エージェント ] > [ 自分のスレッド ] を押下し、`最新のスレッド ID` を選択します。\n",
    "画面右のスレッドプロパティから `プレイグラウンドで試す` を押下\n",
    "\n",
    "![alt text](./../../docs/img/image-01-01.png)\n",
    "\n",
    "エージェントプレイグラウンドが開いたら、 `スレッドログ` を押下すると以下のエージェントトレースを確認できまｓ。\n",
    "\n",
    "![alt text](./../../docs/img/image-01-02.png)\n",
    "\n",
    "\n",
    "## トレースで確認できる情報\n",
    "- スレッド上の Run および Run Step のプロセス\n",
    "- どのツールが選択・実行されたか\n",
    "- 各関数の入力・出力パラメータ\n",
    "- 実行時間とパフォーマンス情報\n",
    "- Evaluations （Build-in 評価指標）\n",
    "- エラーが発生した場合の詳細情報\n",
    "\n",
    "トレース機能により、エージェントがどのように判断・処理を行ったかを詳細に分析できます。"
   ]
  },
  {
   "cell_type": "markdown",
   "id": "648bb62e",
   "metadata": {},
   "source": [
    "# Agent ID を .env ファイルに保存\n",
    "\n",
    "作成したエージェントのIDを .env ファイルに保存し、後続のハンズオン演習で再利用できるようにします。\n",
    "保存された Agent ID は、マルチエージェント構成や他の機能との組み合わせで使用されます。"
   ]
  },
  {
   "cell_type": "code",
   "execution_count": 25,
   "id": "51627967",
   "metadata": {},
   "outputs": [
    {
     "name": "stdout",
     "output_type": "stream",
     "text": [
      ".envファイルに FOUNDRY_CUSTOM_FUNCTIONS_AGENT_ID=\"asst_quMB3kw12eMPIz2Fcg71S2Ul\" を追記しました。\n"
     ]
    }
   ],
   "source": [
    "# 変数の定義\n",
    "agent_env_key = \"FOUNDRY_CUSTOM_FUNCTIONS_AGENT_ID\"\n",
    "agent_env_value = custom_functions_agent.id\n",
    "\n",
    "# .envファイルのパスを自動探索\n",
    "env_path = find_dotenv() \n",
    "if not env_path:\n",
    "    raise FileNotFoundError(\".envファイルが見つかりませんでした。\")\n",
    "\n",
    "# AGENT_ID を .env ファイルに追記\n",
    "with open(env_path, \"a\", encoding=\"utf-8\") as f:\n",
    "    f.write(f'\\n{agent_env_key}=\"{agent_env_value}\"')\n",
    "\n",
    "print(f'.envファイルに {agent_env_key}=\\\"{agent_env_value}\\\" を追記しました。')"
   ]
  }
 ],
 "metadata": {
  "kernelspec": {
   "display_name": ".venv",
   "language": "python",
   "name": "python3"
  },
  "language_info": {
   "codemirror_mode": {
    "name": "ipython",
    "version": 3
   },
   "file_extension": ".py",
   "mimetype": "text/x-python",
   "name": "python",
   "nbconvert_exporter": "python",
   "pygments_lexer": "ipython3",
   "version": "3.11.9"
  }
 },
 "nbformat": 4,
 "nbformat_minor": 5
}
