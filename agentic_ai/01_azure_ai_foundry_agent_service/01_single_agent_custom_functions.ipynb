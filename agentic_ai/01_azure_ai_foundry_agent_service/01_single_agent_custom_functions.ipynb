{
 "cells": [
  {
   "cell_type": "markdown",
   "id": "2dbd5ed9",
   "metadata": {},
   "source": [
    "# TODO：概要"
   ]
  },
  {
   "cell_type": "markdown",
   "id": "9afc1747",
   "metadata": {},
   "source": [
    "# ライブラリのインポート"
   ]
  },
  {
   "cell_type": "code",
   "execution_count": 69,
   "id": "b8880598",
   "metadata": {},
   "outputs": [],
   "source": [
    "import os\n",
    "import json\n",
    "import datetime\n",
    "import zoneinfo\n",
    "\n",
    "import requests\n",
    "\n",
    "from dotenv import load_dotenv, find_dotenv\n",
    "\n",
    "from azure.identity import DefaultAzureCredential\n",
    "from azure.ai.projects import AIProjectClient\n",
    "from azure.ai.agents.models import (\n",
    "    ListSortOrder,\n",
    "    FunctionTool,\n",
    "    ToolSet,\n",
    ")"
   ]
  },
  {
   "cell_type": "markdown",
   "id": "8df3c5db",
   "metadata": {},
   "source": [
    "# 環境変数の取得"
   ]
  },
  {
   "cell_type": "code",
   "execution_count": 70,
   "id": "a15848a6",
   "metadata": {},
   "outputs": [],
   "source": [
    "load_dotenv(override=True)\n",
    "\n",
    "PROJECT_ENDPOINT=os.getenv(\"PROJECT_ENDPOINT\")\n",
    "AZURE_DEPLOYMENT_NAME=os.getenv(\"AZURE_DEPLOYMENT_NAME\")"
   ]
  },
  {
   "cell_type": "markdown",
   "id": "0080b1a3",
   "metadata": {},
   "source": [
    "# クライアントの初期化"
   ]
  },
  {
   "cell_type": "code",
   "execution_count": 71,
   "id": "345050cb",
   "metadata": {},
   "outputs": [],
   "source": [
    "# AI Project Client を初期化\n",
    "project_client = AIProjectClient(\n",
    "    endpoint=PROJECT_ENDPOINT,\n",
    "    credential=DefaultAzureCredential()\n",
    ")\n",
    "\n",
    "# AgentClient の作成\n",
    "agents_client = project_client.agents"
   ]
  },
  {
   "cell_type": "markdown",
   "id": "b924f8a7",
   "metadata": {},
   "source": [
    "# ユーティリティ関数"
   ]
  },
  {
   "cell_type": "code",
   "execution_count": 72,
   "id": "f583d3a7",
   "metadata": {},
   "outputs": [],
   "source": [
    "def agent_run_outputs(thread_id, agents_client, target_dir=\"./output_images\"):\n",
    "    \"\"\"\n",
    "    指定したスレッドIDのRun実行結果（テキスト・画像）をNotebook上に表示＆画像は保存。\n",
    "    \"\"\"\n",
    "    messages = agents_client.messages.list(thread_id=thread_id, order=ListSortOrder.ASCENDING)\n",
    "    os.makedirs(target_dir, exist_ok=True)\n",
    "\n",
    "    for message in messages:\n",
    "        # テキスト出力\n",
    "        if message.text_messages:\n",
    "            for txt in message.text_messages:\n",
    "                print(f\"{message.role.upper()}: {txt.text.value}\")\n",
    "        \n",
    "        # 画像出力\n",
    "        if hasattr(message, \"image_contents\"):\n",
    "            for image_content in message.image_contents:\n",
    "                file_id = image_content.image_file.file_id\n",
    "                file_name = f\"{file_id}_image_file.png\"\n",
    "\n",
    "                agents_client.files.save(\n",
    "                    file_id=file_id,\n",
    "                    file_name=file_name,\n",
    "                    target_dir=target_dir\n",
    "                )\n",
    "                print(f\"Saved image: {file_name}\")\n",
    "                display(Image(filename=f\"{target_dir}/{file_name}\"))"
   ]
  },
  {
   "cell_type": "markdown",
   "id": "0277afa8",
   "metadata": {},
   "source": [
    "# ツールの定義"
   ]
  },
  {
   "cell_type": "markdown",
   "id": "7742fb72",
   "metadata": {},
   "source": [
    "## カスタム関数"
   ]
  },
  {
   "cell_type": "code",
   "execution_count": 73,
   "id": "0b33cd2c",
   "metadata": {},
   "outputs": [],
   "source": [
    "def get_prefecture_location(prefecture: str) -> str:\n",
    "    \"\"\"\n",
    "    都道府県名から緯度・経度を取得します。都道府県一覧・座標は変更しません。\n",
    "\n",
    "    :param prefecture (str): 都道府県名（例: \"東京都\"）\n",
    "    :rtype: str\n",
    "\n",
    "    :return: {\"latitude\": ..., \"longitude\": ...} 形式のJSON文字列。見つからなければ {\"latitude\": null, \"longitude\": null}\n",
    "    :rtype: str\n",
    "    \"\"\"\n",
    "    json_path =\"../input_data/prefecture_locations.json\"\n",
    "    with open(json_path, \"r\", encoding=\"utf-8\") as f:\n",
    "        PREFECTURE_LOCATIONS = json.load(f)\n",
    "        \n",
    "    loc = PREFECTURE_LOCATIONS.get(prefecture)\n",
    "    if loc:\n",
    "        return json.dumps({\"latitude\": loc[0], \"longitude\": loc[1]})\n",
    "    else:\n",
    "        return json.dumps({\"latitude\": None, \"longitude\": None})\n",
    "\n",
    "\n",
    "def get_current_time_jst() -> str:\n",
    "    \"\"\"\n",
    "    日本標準時（JST, UTC+9）の今日の日付を \"YYYY-MM-DD\" 形式の文字列で返します。日時情報は変更しません。\n",
    "\n",
    "    :rtype: str\n",
    "\n",
    "    :return: 今日の日付（\"YYYY-MM-DD\" 形式の文字列）\n",
    "    :rtype: str\n",
    "    \"\"\"\n",
    "    jst = zoneinfo.ZoneInfo(\"Asia/Tokyo\")\n",
    "    now = datetime.datetime.now(jst)\n",
    "    return now.strftime(\"%Y-%m-%d\")\n",
    "\n",
    "\n",
    "def get_temperature(latitude: float, longitude: float, date: str) -> str:\n",
    "    \"\"\"\n",
    "    指定した緯度・経度と日付に基づき、Open-Meteo APIで該当日の平均気温（摂氏）を返します。\n",
    "    外部サービスのみ参照し、情報は変更しません。\n",
    "\n",
    "    :param latitude (float): 緯度\n",
    "    :param longitude (float): 経度\n",
    "    :param date (str): 日付（\"YYYY-MM-DD\" 形式）\n",
    "    :rtype: str\n",
    "\n",
    "    :return: 指定日の平均気温（摂氏）をJSON文字列で返します。データがなければ {\"temperature\": null}。\n",
    "    :rtype: str\n",
    "    \"\"\"\n",
    "    url = (\n",
    "        \"https://api.open-meteo.com/v1/forecast\"\n",
    "        f\"?latitude={latitude}&longitude={longitude}\"\n",
    "        f\"&start_date={date}&end_date={date}\"\n",
    "        \"&daily=temperature_2m_mean\"\n",
    "        \"&timezone=Asia%2FTokyo\"\n",
    "    )\n",
    "    resp = requests.get(url, timeout=5)\n",
    "    resp.raise_for_status()\n",
    "    data = resp.json()\n",
    "    temps = data.get(\"daily\", {}).get(\"temperature_2m_mean\", [])\n",
    "    value = temps[0] if temps else None\n",
    "    return json.dumps({\"temperature\": value})\n"
   ]
  },
  {
   "cell_type": "markdown",
   "id": "3d85e2dc",
   "metadata": {},
   "source": [
    "## 関数のテスト"
   ]
  },
  {
   "cell_type": "code",
   "execution_count": 74,
   "id": "61e4dbd2",
   "metadata": {},
   "outputs": [
    {
     "name": "stdout",
     "output_type": "stream",
     "text": [
      "2025-07-28 の 北海道 の平均気温: 23.8°C\n"
     ]
    }
   ],
   "source": [
    "prefecture_name = \"北海道\"\n",
    "\n",
    "# 都道府県名から緯度・経度を取得\n",
    "loc_json = get_prefecture_location(prefecture_name)\n",
    "\n",
    "# 緯度・経度を取得\n",
    "loc = json.loads(loc_json)\n",
    "lat = loc[\"latitude\"]\n",
    "lon = loc[\"longitude\"]\n",
    "\n",
    "# 現在の日付を取得\n",
    "today = get_current_time_jst()\n",
    "\n",
    "# 平均気温を取得\n",
    "temp_json = get_temperature(lat, lon, today)\n",
    "temp = json.loads(temp_json)[\"temperature\"]\n",
    "\n",
    "print(f\"{today} の {prefecture_name} の平均気温: {temp}°C\")\n"
   ]
  },
  {
   "cell_type": "markdown",
   "id": "8175266f",
   "metadata": {},
   "source": [
    "## Toolset に格納"
   ]
  },
  {
   "cell_type": "code",
   "execution_count": 75,
   "id": "fef43654",
   "metadata": {},
   "outputs": [],
   "source": [
    "# Toolset の作成＆関数の追加\n",
    "toolset = ToolSet()\n",
    "\n",
    "functions = FunctionTool(functions={get_prefecture_location, get_current_time_jst, get_temperature})\n",
    "toolset.add(functions)\n",
    "\n",
    "# エージェントで関数を自動的に呼び出すように設定\n",
    "agents_client.enable_auto_function_calls(functions)"
   ]
  },
  {
   "cell_type": "markdown",
   "id": "9195fba8",
   "metadata": {},
   "source": [
    "# エージェントの作成"
   ]
  },
  {
   "cell_type": "code",
   "execution_count": 76,
   "id": "b5ab14ee",
   "metadata": {},
   "outputs": [
    {
     "name": "stdout",
     "output_type": "stream",
     "text": [
      "Created Agent. AGENT_ID: asst_QjLvmxn935HI1VUg3cRkYiCj\n"
     ]
    }
   ],
   "source": [
    "custom_functions_agent = agents_client.create_agent(\n",
    "    model=AZURE_DEPLOYMENT_NAME,\n",
    "    name=\"custom_functions_agent\",\n",
    "\n",
    "    # instructions:\n",
    "    #  - エージェントの「システム指示文」を設定し、エージェントのふるまいなどを制御できる\n",
    "    instructions=(\n",
    "        \"あなたは日本国内の気温や地理情報に答えるアシスタントです。\"\n",
    "        \"利用可能なツールを確認し、必要に応じて使用してください。\"        \n",
    "    ),\n",
    "\n",
    "    # description:\n",
    "    #  - エージェントの説明を設定し、ユーザーや他のエージェントがこのエージェントの目的を理解するための情報を提供\n",
    "    description=(\n",
    "        \"日本の都道府県の地理情報（緯度・経度）や、日本標準時の日付、指定した場所・日付の気温データを自動的に取得し、\"\n",
    "        \"ユーザーの質問に答えるアシスタントです。 \"\n",
    "    ),\n",
    "\n",
    "    # tools:\n",
    "    #  - エージェントが使用できるツールのセットを指定\n",
    "    tools=toolset.definitions,\n",
    ")\n",
    "print(f\"Created Agent. AGENT_ID: {custom_functions_agent.id}\")\n"
   ]
  },
  {
   "cell_type": "markdown",
   "id": "39c4d07f",
   "metadata": {},
   "source": [
    "# スレッドの作成"
   ]
  },
  {
   "cell_type": "code",
   "execution_count": 77,
   "id": "85ab52d1",
   "metadata": {},
   "outputs": [
    {
     "name": "stdout",
     "output_type": "stream",
     "text": [
      "Created Thread. THREAD_ID: thread_Pz5wVEKdLg0OvdTTRkmiQngi\n"
     ]
    }
   ],
   "source": [
    "# Thread の作成\n",
    "thread = agents_client.threads.create()\n",
    "print(f\"Created Thread. THREAD_ID: {thread.id}\")"
   ]
  },
  {
   "cell_type": "markdown",
   "id": "3a6e98d4",
   "metadata": {},
   "source": [
    "# ユーザーメッセージの追加"
   ]
  },
  {
   "cell_type": "code",
   "execution_count": 78,
   "id": "3b5742fc",
   "metadata": {},
   "outputs": [
    {
     "name": "stdout",
     "output_type": "stream",
     "text": [
      "Added Message. MESSAGE_ID: msg_Mh1wxyzEamx9dvVkwRRPflIx\n"
     ]
    }
   ],
   "source": [
    "# メッセージの追加\n",
    "user_message = \"Tokyoの今日の気温を教えて。\"\n",
    "# user_message = \"過去３日間の沖縄県の平均気温を教えて。\"\n",
    "\n",
    "message = agents_client.messages.create(\n",
    "    thread_id=thread.id,\n",
    "    role=\"user\",\n",
    "    content=user_message,\n",
    ")\n",
    "\n",
    "print(f\"Added Message. MESSAGE_ID: {message.id}\")"
   ]
  },
  {
   "cell_type": "markdown",
   "id": "02542991",
   "metadata": {},
   "source": [
    "# Run の実行"
   ]
  },
  {
   "cell_type": "code",
   "execution_count": 79,
   "id": "cd3e9071",
   "metadata": {},
   "outputs": [
    {
     "name": "stdout",
     "output_type": "stream",
     "text": [
      "USER: Tokyoの今日の気温を教えて。\n",
      "ASSISTANT: 東京（Tokyo）の今日（2025年7月28日）の平均気温は約28.6℃です。\n"
     ]
    }
   ],
   "source": [
    "run = agents_client.runs.create_and_process(\n",
    "    thread_id=thread.id,\n",
    "    agent_id=custom_functions_agent.id\n",
    ")\n",
    "\n",
    "if run.status == \"failed\":\n",
    "    print(f\"Run failed: {run.last_error}\")\n",
    "else:\n",
    "    agent_run_outputs(thread.id, agents_client)"
   ]
  },
  {
   "cell_type": "markdown",
   "id": "f8a1cc29",
   "metadata": {},
   "source": [
    "※ ここで、Azure AI Foundry 上の Web UI からエージェントのトレースを確認してみよう。"
   ]
  },
  {
   "cell_type": "markdown",
   "id": "648bb62e",
   "metadata": {},
   "source": [
    "# Agent ID を .env ファイルに保存\n",
    "※ 今回作成したエージェントを、後続のハンズオン演習で使用するため永続化します。"
   ]
  },
  {
   "cell_type": "code",
   "execution_count": 81,
   "id": "51627967",
   "metadata": {},
   "outputs": [
    {
     "name": "stdout",
     "output_type": "stream",
     "text": [
      ".envファイルに FOUNDRY_CUSTOM_FUNCTIONS_AGENT_ID=\"asst_QjLvmxn935HI1VUg3cRkYiCj\" を追記しました。\n"
     ]
    }
   ],
   "source": [
    "# 変数の定義\n",
    "agent_env_key = \"FOUNDRY_CUSTOM_FUNCTIONS_AGENT_ID\"\n",
    "agent_env_value = custom_functions_agent.id\n",
    "\n",
    "# .envファイルのパスを自動探索\n",
    "env_path = find_dotenv() \n",
    "if not env_path:\n",
    "    raise FileNotFoundError(\".envファイルが見つかりませんでした。\")\n",
    "\n",
    "# AGENT_ID を .env ファイルに追記\n",
    "with open(env_path, \"a\", encoding=\"utf-8\") as f:\n",
    "    f.write(f'\\n{agent_env_key}=\"{agent_env_value}\"')\n",
    "\n",
    "print(f'.envファイルに {agent_env_key}=\\\"{agent_env_value}\\\" を追記しました。')"
   ]
  }
 ],
 "metadata": {
  "kernelspec": {
   "display_name": ".venv",
   "language": "python",
   "name": "python3"
  },
  "language_info": {
   "codemirror_mode": {
    "name": "ipython",
    "version": 3
   },
   "file_extension": ".py",
   "mimetype": "text/x-python",
   "name": "python",
   "nbconvert_exporter": "python",
   "pygments_lexer": "ipython3",
   "version": "3.11.9"
  }
 },
 "nbformat": 4,
 "nbformat_minor": 5
}
