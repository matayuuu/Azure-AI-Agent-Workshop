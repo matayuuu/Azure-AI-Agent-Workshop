{
 "cells": [
  {
   "cell_type": "markdown",
   "id": "59629cfc",
   "metadata": {},
   "source": [
    "# Semantic Kernel を使用したシングルエージェントチャット完了システム\n",
    "\n",
    "## 概要\n",
    "\n",
    "このノートブックでは、Semantic Kernel フレームワークを使用してシングルエージェントのチャット完了システムを構築する方法を学習します。\n",
    "\n",
    "### 主な学習内容\n",
    "\n",
    "1. **Chat Completion Agent の基本構造**\n",
    "   - Azure OpenAI Service との接続\n",
    "   - Semantic Kernel エージェントの作成と設定\n",
    "\n",
    "2. **Model Context Protocol (MCP) プラグインの統合**\n",
    "   - 外部データソースへの接続\n",
    "   - PostgreSQL と CosmosDB を利用したデータアクセス"
   ]
  },
  {
   "cell_type": "markdown",
   "id": "5fb7c4eb",
   "metadata": {},
   "source": [
    "# ライブラリのインポート\n",
    "\n",
    "このセクションでは、Semantic Kernel エージェントシステムの構築に必要なライブラリをインポートします。"
   ]
  },
  {
   "cell_type": "code",
   "execution_count": 26,
   "id": "0903ef41",
   "metadata": {},
   "outputs": [],
   "source": [
    "import os\n",
    "import json\n",
    "import datetime\n",
    "\n",
    "from dotenv import load_dotenv, find_dotenv\n",
    "\n",
    "from semantic_kernel.agents import (\n",
    "    ChatCompletionAgent,\n",
    "    ChatHistoryAgentThread,\n",
    ")\n",
    "from semantic_kernel.connectors.ai.open_ai import AzureChatCompletion\n",
    "from semantic_kernel.connectors.mcp import MCPStreamableHttpPlugin\n",
    "from semantic_kernel.contents import (\n",
    "    FunctionCallContent,\n",
    "    FunctionResultContent,\n",
    "    TextContent,\n",
    ")\n"
   ]
  },
  {
   "cell_type": "markdown",
   "id": "fdc79521",
   "metadata": {},
   "source": [
    "# 環境変数の取得\n",
    "\n",
    "Azure OpenAI Service と AI Foundry プロジェクトへの接続に必要な認証情報を環境変数から取得します。\n",
    "\n",
    "## 必要な環境変数\n",
    "\n",
    "- **PROJECT_ENDPOINT**: AI Foundry プロジェクトのエンドポイントURL\n",
    "- **AZURE_DEPLOYMENT_NAME**: デプロイされたモデルの名前\n",
    "- **AZURE_OPENAI_ENDPOINT**: Azure OpenAI サービスのエンドポイント\n",
    "- **AZURE_OPENAI_API_KEY**: Azure OpenAI サービスのAPIキー\n",
    "\n",
    "これらの値は `.env` ファイルに設定して管理します。"
   ]
  },
  {
   "cell_type": "code",
   "execution_count": 27,
   "id": "ed928070",
   "metadata": {},
   "outputs": [],
   "source": [
    "load_dotenv(override=True)\n",
    "\n",
    "PROJECT_ENDPOINT=os.getenv(\"PROJECT_ENDPOINT\")\n",
    "AZURE_DEPLOYMENT_NAME=os.getenv(\"AZURE_DEPLOYMENT_NAME\")\n",
    "AZURE_OPENAI_ENDPOINT=os.getenv(\"AZURE_OPENAI_ENDPOINT\")\n",
    "AZURE_OPENAI_API_KEY=os.getenv(\"AZURE_OPENAI_API_KEY\")"
   ]
  },
  {
   "cell_type": "markdown",
   "id": "3995f49a",
   "metadata": {},
   "source": [
    "# ユーティリティ関数\n",
    "\n",
    "エージェントとの対話をデバッグ・監視するためのヘルパー関数を定義します。\n",
    "\n",
    "### print_thread_message_details()\n",
    "スレッド内のメッセージ詳細を解析して表示します：\n",
    "- **Function Call**: エージェントが実行した関数呼び出し\n",
    "- **Function Result**: 関数実行の結果\n",
    "- **Text Content**: ユーザーメッセージとエージェントの応答\n"
   ]
  },
  {
   "cell_type": "code",
   "execution_count": 28,
   "id": "dcee3834",
   "metadata": {},
   "outputs": [],
   "source": [
    "async def print_thread_message_details(thread: str):\n",
    "    \"\"\"\n",
    "    スレッドのメッセージ詳細を表示します。\n",
    "\n",
    "    Args:\n",
    "        thread (str): スレッドのインスタンス\n",
    "    \"\"\"\n",
    "    async for message in thread.get_messages():\n",
    "        print(\"-----\")\n",
    "\n",
    "        for item in message.items:\n",
    "            if isinstance(item, FunctionCallContent):\n",
    "                print(f\"[Function Calling] by {message.ai_model_id}\")\n",
    "                print(f\" - Function Name : {item.name}\")\n",
    "                print(f\" - Arguments     : {item.arguments}\")\n",
    "\n",
    "            elif isinstance(item, FunctionResultContent):\n",
    "                print(f\"[Function Result]\")\n",
    "                # 文字列のデコード変換\n",
    "                if isinstance(item.result, str):\n",
    "                    try:\n",
    "                        decoded = json.loads(item.result)\n",
    "                        print(f\" - Result        : {decoded}\") # デコード成功時は変換後の値を表示\n",
    "                    except json.JSONDecodeError:\n",
    "                        print(f\" - Result        : {item.result}\")  # デコード失敗時はそのまま\n",
    "                else:\n",
    "                    print(f\" - Result        : {item.result}\")\n",
    "\n",
    "            elif isinstance(item, TextContent):\n",
    "                if message.name:\n",
    "                    print(f\"[Agent Response] from {message.ai_model_id}\")\n",
    "                else:\n",
    "                    print(\"[User Message]\")\n",
    "                print(f\" - Content       : {item.text}\")\n",
    "\n",
    "            else:\n",
    "                print(f\"[Unknown Item Type] ({type(item).__name__})\")\n",
    "                print(f\" - Raw Item      : {item}\")"
   ]
  },
  {
   "cell_type": "markdown",
   "id": "ffe7fbe0",
   "metadata": {},
   "source": [
    "# プラグインの作成\n",
    "\n",
    "Model Context Protocol (MCP) プラグインを作成し、外部データソースへの接続を確立し、事前定義されたデータベースクエリの実行します。\n",
    "\n",
    "### 接続先データソース\n",
    "- **PostgreSQL**: 企業マスター、注文履歴、ユーザー情報\n",
    "- **CosmosDB**: 商品レビューと感情分析データ"
   ]
  },
  {
   "cell_type": "code",
   "execution_count": 29,
   "id": "4635deb2",
   "metadata": {},
   "outputs": [],
   "source": [
    "# MCPのエンドポイントURL\n",
    "MCP_URL = \"http://127.0.0.1:8000/mcp/\"\n",
    "\n",
    "\n",
    "mcp_plugin = MCPStreamableHttpPlugin(\n",
    "    name=\"mcp_plugin\",\n",
    "    url=MCP_URL\n",
    ")\n",
    "\n",
    "await mcp_plugin.connect()"
   ]
  },
  {
   "cell_type": "markdown",
   "id": "76cbce26",
   "metadata": {},
   "source": [
    "# クライアントの初期化\n",
    "\n",
    "Azure OpenAI Service への接続とエージェントクライアントを初期化します。\n",
    "\n",
    "## 初期化プロセス\n",
    "\n",
    "1. **Azure Chat Completion Service**: Azure OpenAI への接続クライアント\n",
    "2. **Chat Completion Agent**: 実際の対話を処理するエージェント\n",
    "\n",
    "### エージェントの設定\n",
    "\n",
    "エージェントには以下の特性を設定します：\n",
    "- **役割**: ECサイトの分析エージェント\n",
    "- **利用可能ツール**: MCP プラグイン経由でのデータベースアクセス\n",
    "- **対応データ**: PostgreSQL の各種マスター、注文、ユーザー情報、CosmosDB のレビュー分析データ"
   ]
  },
  {
   "cell_type": "code",
   "execution_count": 30,
   "id": "1138b0af",
   "metadata": {},
   "outputs": [],
   "source": [
    "# Chat Completion API クライアントの初期化\n",
    "azure_completion_service  = AzureChatCompletion(\n",
    "    service_id=\"azure_completion_agent\",\n",
    "    deployment_name=AZURE_DEPLOYMENT_NAME,\n",
    "    endpoint=AZURE_OPENAI_ENDPOINT,\n",
    "    api_key=AZURE_OPENAI_API_KEY\n",
    ")"
   ]
  },
  {
   "cell_type": "code",
   "execution_count": 31,
   "id": "e3f54b6f",
   "metadata": {},
   "outputs": [],
   "source": [
    "# Chat Completion Agent クライアントの初期化\n",
    "agent = ChatCompletionAgent(\n",
    "    service=azure_completion_service,\n",
    "    name=\"mcp_agent\",\n",
    "    instructions=(\n",
    "        \"あなたはECサイトの分析エージェントです。\"\n",
    "        \"PostgreSQLの各種マスター、注文、ユーザー情報と、CosmosDBに格納されたレビュー分析データを、mcp_pluginとして利用できます。\"\n",
    "    ),\n",
    "    plugins=[mcp_plugin],\n",
    ")"
   ]
  },
  {
   "cell_type": "markdown",
   "id": "57e71870",
   "metadata": {},
   "source": [
    "# スレッドの作成\n",
    "\n",
    "会話履歴を管理するためのスレッドを作成します。\n"
   ]
  },
  {
   "cell_type": "code",
   "execution_count": 32,
   "id": "18017f0a",
   "metadata": {},
   "outputs": [
    {
     "name": "stdout",
     "output_type": "stream",
     "text": [
      "Created Thread. THREAD_ID: thread_eabc1dd8ff5b4d42bbbda35072222563\n"
     ]
    }
   ],
   "source": [
    "# Thread の作成\n",
    "thread = ChatHistoryAgentThread()\n",
    "print(f\"Created Thread. THREAD_ID: {thread.id}\")\n"
   ]
  },
  {
   "cell_type": "markdown",
   "id": "5edc3eb1",
   "metadata": {},
   "source": [
    "# レスポンスを取得\n",
    "\n",
    "エージェントに質問を送信し、回答を取得する実際の対話処理を実行します。"
   ]
  },
  {
   "cell_type": "code",
   "execution_count": 33,
   "id": "96fd9c01",
   "metadata": {},
   "outputs": [
    {
     "name": "stdout",
     "output_type": "stream",
     "text": [
      "2024年12月に購入された商品の売上は以下の通りです。\n",
      "\n",
      "- Surface Pro：1,440,000円\n",
      "- Surface Laptop：170,000円\n",
      "- Surface Go：90,000円\n",
      "- Modern Webcam：39,000円\n",
      "- Office：38,000円\n",
      "- Xbox Game Pass：1,500円\n",
      "\n",
      "このように、Surface Proが最も多く購入されています。数量について知りたい場合は、商品ごとの単価等追加情報もご案内できますのでご相談ください。\n"
     ]
    }
   ],
   "source": [
    "response = await agent.get_response(\n",
    "    messages=[\"2024年12月は何がどれくらい購入されましたか？\"],\n",
    "    thread=thread,\n",
    ")\n",
    "\n",
    "print(response)"
   ]
  },
  {
   "cell_type": "code",
   "execution_count": 35,
   "id": "9789d02e",
   "metadata": {},
   "outputs": [
    {
     "name": "stdout",
     "output_type": "stream",
     "text": [
      "2024年1月～12月の月別売上（合計）は以下の通りです。\n",
      "※「売上」の合計は主な商品の売上金額合算値です。\n",
      "\n",
      "- 1月：約74万1000円\n",
      "- 2月：約64万2000円\n",
      "- 3月：約43万1000円\n",
      "- 4月：約89万64000円\n",
      "- 5月：約75万円\n",
      "- 6月：約28万9000円\n",
      "- 7月：約81万1000円\n",
      "- 8月：約43万2000円\n",
      "- 9月：約41万7000円\n",
      "- 10月：約16万5000円\n",
      "- 11月：約18万6000円\n",
      "- 12月：約1,870,500円\n",
      "\n",
      "特に12月と4月に売上が大きくなっています。\n",
      "（もし月ごとに商品構成や詳細リスト等ご要望があれば追加でご案内します）\n"
     ]
    }
   ],
   "source": [
    "response = await agent.get_response(\n",
    "    messages=[\"2024年1月～12月の月別売上を教えてください\"],\n",
    "    thread=thread,\n",
    ")\n",
    "\n",
    "print(response)"
   ]
  },
  {
   "cell_type": "code",
   "execution_count": null,
   "id": "1a8fb613",
   "metadata": {},
   "outputs": [],
   "source": [
    "await print_thread_message_details(thread)"
   ]
  },
  {
   "cell_type": "markdown",
   "id": "f639b0a5",
   "metadata": {},
   "source": [
    "# 続けて実行"
   ]
  },
  {
   "cell_type": "code",
   "execution_count": 36,
   "id": "62084efb",
   "metadata": {},
   "outputs": [
    {
     "name": "stdout",
     "output_type": "stream",
     "text": [
      "2024年4月の商品別販売額は以下の通りです。\n",
      "\n",
      "- Surface Laptop：8,500,000円\n",
      "- Surface Go：180,000円\n",
      "- Type Cover：40,000円\n",
      "- USB-C トラベルハブ：33,000円\n",
      "- Surface ペン：16,000円\n",
      "- Microsoft 365：16,000円\n",
      "- Arc Mouse：11,000円\n",
      "- Xbox Game Pass：4,500円\n",
      "\n",
      "Surface Laptopが圧倒的に多く販売されています。他商品の詳細も気になる場合はお知らせください。\n"
     ]
    }
   ],
   "source": [
    "response = await agent.get_response(\n",
    "    messages=[\"4月の商品別販売額を教えてください\"],\n",
    "    thread=thread,\n",
    ")\n",
    "\n",
    "print(response)"
   ]
  },
  {
   "cell_type": "code",
   "execution_count": 37,
   "id": "5c0ff892",
   "metadata": {},
   "outputs": [
    {
     "name": "stdout",
     "output_type": "stream",
     "text": [
      "「販売個数」を正確にお調べするには商品ごとの単価が必要となります。  \n",
      "現在分かっているのは4月の商品別売上金額のみです。  \n",
      "商品ごとの単価データを取得して、個数を計算しましょうか？  \n",
      "もし既に知っている単価があればご指定いただければ、すぐに計算しご案内できます。\n"
     ]
    }
   ],
   "source": [
    "response = await agent.get_response(\n",
    "    messages=[\"4月の商品別販売個数を教えてください\"],\n",
    "    thread=thread,\n",
    ")\n",
    "\n",
    "print(response)"
   ]
  },
  {
   "cell_type": "code",
   "execution_count": 38,
   "id": "fb954d16",
   "metadata": {},
   "outputs": [
    {
     "name": "stdout",
     "output_type": "stream",
     "text": [
      "各月における「Surface Laptop」の販売数量を計算するため、各月の「Surface Laptop」の売上金額はわかっています。しかし、個数の計算には「Surface Laptop」の単価が必要です。\n",
      "\n",
      "【2024年のSurface Laptop月別売上（抜粋）】\n",
      "- 1月：510,000円\n",
      "- 2月：取扱データなし\n",
      "- 3月：170,000円\n",
      "- 4月：8,500,000円\n",
      "- 5月：データなし\n",
      "- 6月：データなし\n",
      "- 7月：170,000円\n",
      "- 8月：340,000円\n",
      "- 9月：170,000円\n",
      "- 10月：データなし\n",
      "- 11月：データなし\n",
      "- 12月：170,000円\n",
      "\n",
      "「Surface Laptop」の1台あたりの販売単価を教えて頂けますか？  \n",
      "または、商品マスターから単価を取得して個数を計算しましょうか？\n"
     ]
    }
   ],
   "source": [
    "response = await agent.get_response(\n",
    "    messages=[\"Surface Laptopの2024年1月から12月の月別販売数量を教えてください\"],\n",
    "    thread=thread,\n",
    ")\n",
    "\n",
    "print(response)"
   ]
  },
  {
   "cell_type": "code",
   "execution_count": 34,
   "id": "db46cd23",
   "metadata": {},
   "outputs": [
    {
     "name": "stdout",
     "output_type": "stream",
     "text": [
      "-----\n",
      "[User Message]\n",
      " - Content       : 2024年12月は何がどれくらい購入されましたか？\n",
      "-----\n",
      "[Function Calling] by gpt-4.1\n",
      " - Function Name : mcp_plugin-get_sales_by_product\n",
      " - Arguments     : {\"start_date\":\"2024-12-01\",\"end_date\":\"2024-12-31\"}\n",
      "-----\n",
      "[Function Result]\n",
      " - Result        : [TextContent(inner_content=TextContent(type='text', text='[{\"product_id\": 1, \"product_name\": \"Surface Pro\", \"total_sales\": 1440000}, {\"product_id\": 2, \"product_name\": \"Surface Laptop\", \"total_sales\": 170000}, {\"product_id\": 3, \"product_name\": \"Surface Go\", \"total_sales\": 90000}, {\"product_id\": 8, \"product_name\": \"Modern Webcam\", \"total_sales\": 39000}, {\"product_id\": 11, \"product_name\": \"Office\", \"total_sales\": 38000}, {\"product_id\": 15, \"product_name\": \"Xbox Game Pass\", \"total_sales\": 1500}]', annotations=None, meta=None), ai_model_id=None, metadata={}, content_type='text', text='[{\"product_id\": 1, \"product_name\": \"Surface Pro\", \"total_sales\": 1440000}, {\"product_id\": 2, \"product_name\": \"Surface Laptop\", \"total_sales\": 170000}, {\"product_id\": 3, \"product_name\": \"Surface Go\", \"total_sales\": 90000}, {\"product_id\": 8, \"product_name\": \"Modern Webcam\", \"total_sales\": 39000}, {\"product_id\": 11, \"product_name\": \"Office\", \"total_sales\": 38000}, {\"product_id\": 15, \"product_name\": \"Xbox Game Pass\", \"total_sales\": 1500}]', encoding=None)]\n",
      "-----\n",
      "[Agent Response] from gpt-4.1\n",
      " - Content       : 2024年12月に購入された商品の売上は以下の通りです。\n",
      "\n",
      "- Surface Pro：1,440,000円\n",
      "- Surface Laptop：170,000円\n",
      "- Surface Go：90,000円\n",
      "- Modern Webcam：39,000円\n",
      "- Office：38,000円\n",
      "- Xbox Game Pass：1,500円\n",
      "\n",
      "このように、Surface Proが最も多く購入されています。数量について知りたい場合は、商品ごとの単価等追加情報もご案内できますのでご相談ください。\n"
     ]
    }
   ],
   "source": [
    "await print_thread_message_details(thread)"
   ]
  }
 ],
 "metadata": {
  "kernelspec": {
   "display_name": ".venv",
   "language": "python",
   "name": "python3"
  },
  "language_info": {
   "codemirror_mode": {
    "name": "ipython",
    "version": 3
   },
   "file_extension": ".py",
   "mimetype": "text/x-python",
   "name": "python",
   "nbconvert_exporter": "python",
   "pygments_lexer": "ipython3",
   "version": "3.11.9"
  }
 },
 "nbformat": 4,
 "nbformat_minor": 5
}
