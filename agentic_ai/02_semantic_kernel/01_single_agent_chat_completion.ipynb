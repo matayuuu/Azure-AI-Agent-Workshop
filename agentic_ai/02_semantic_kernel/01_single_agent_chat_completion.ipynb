{
 "cells": [
  {
   "cell_type": "markdown",
   "id": "59629cfc",
   "metadata": {},
   "source": [
    "# TODO: 概要"
   ]
  },
  {
   "cell_type": "markdown",
   "id": "5fb7c4eb",
   "metadata": {},
   "source": [
    "# ライブラリのインポート"
   ]
  },
  {
   "cell_type": "code",
   "execution_count": 18,
   "id": "0903ef41",
   "metadata": {},
   "outputs": [],
   "source": [
    "import os\n",
    "import json\n",
    "import datetime\n",
    "\n",
    "from dotenv import load_dotenv, find_dotenv\n",
    "\n",
    "from semantic_kernel.agents import (\n",
    "    ChatCompletionAgent,\n",
    "    ChatHistoryAgentThread,\n",
    ")\n",
    "from semantic_kernel.connectors.ai.open_ai import AzureChatCompletion\n",
    "from semantic_kernel.connectors.mcp import MCPStreamableHttpPlugin\n",
    "from semantic_kernel.contents import (\n",
    "    FunctionCallContent,\n",
    "    FunctionResultContent,\n",
    "    TextContent,\n",
    ")\n"
   ]
  },
  {
   "cell_type": "markdown",
   "id": "fdc79521",
   "metadata": {},
   "source": [
    "# 環境変数の取得"
   ]
  },
  {
   "cell_type": "code",
   "execution_count": 19,
   "id": "ed928070",
   "metadata": {},
   "outputs": [],
   "source": [
    "load_dotenv(override=True)\n",
    "\n",
    "PROJECT_ENDPOINT=os.getenv(\"PROJECT_ENDPOINT\")\n",
    "AZURE_DEPLOYMENT_NAME=os.getenv(\"AZURE_DEPLOYMENT_NAME\")\n",
    "AZURE_OPENAI_ENDPOINT=os.getenv(\"AZURE_OPENAI_ENDPOINT\")\n",
    "AZURE_OPENAI_API_KEY=os.getenv(\"AZURE_OPENAI_API_KEY\")"
   ]
  },
  {
   "cell_type": "markdown",
   "id": "3995f49a",
   "metadata": {},
   "source": [
    "# ユーティリティ関数"
   ]
  },
  {
   "cell_type": "code",
   "execution_count": 20,
   "id": "dcee3834",
   "metadata": {},
   "outputs": [],
   "source": [
    "async def print_thread_message_details(thread: str):\n",
    "    \"\"\"\n",
    "    スレッドのメッセージ詳細を表示します。\n",
    "\n",
    "    Args:\n",
    "        thread (str): スレッドのインスタンス\n",
    "    \"\"\"\n",
    "    async for message in thread.get_messages():\n",
    "        print(\"-----\")\n",
    "\n",
    "        for item in message.items:\n",
    "            if isinstance(item, FunctionCallContent):\n",
    "                print(f\"[Function Calling] by {message.ai_model_id}\")\n",
    "                print(f\" - Function Name : {item.name}\")\n",
    "                print(f\" - Arguments     : {item.arguments}\")\n",
    "\n",
    "            elif isinstance(item, FunctionResultContent):\n",
    "                print(f\"[Function Result]\")\n",
    "                # 文字列のデコード変換\n",
    "                if isinstance(item.result, str):\n",
    "                    try:\n",
    "                        decoded = json.loads(item.result)\n",
    "                        print(f\" - Result        : {decoded}\") # デコード成功時は変換後の値を表示\n",
    "                    except json.JSONDecodeError:\n",
    "                        print(f\" - Result        : {item.result}\")  # デコード失敗時はそのまま\n",
    "                else:\n",
    "                    print(f\" - Result        : {item.result}\")\n",
    "\n",
    "            elif isinstance(item, TextContent):\n",
    "                if message.name:\n",
    "                    print(f\"[Agent Response] from {message.ai_model_id}\")\n",
    "                else:\n",
    "                    print(\"[User Message]\")\n",
    "                print(f\" - Content       : {item.text}\")\n",
    "\n",
    "            else:\n",
    "                print(f\"[Unknown Item Type] ({type(item).__name__})\")\n",
    "                print(f\" - Raw Item      : {item}\")\n",
    "\n",
    "\n",
    "def log_with_timestamp(message: str) -> None:\n",
    "    \"\"\"\n",
    "    現在時刻付きでメッセージを標準出力にログとして表示します。\n",
    "\n",
    "    Args:\n",
    "        message (str): 出力するログメッセージ。\n",
    "    \"\"\"\n",
    "    timestamp = datetime.datetime.now().strftime(\"%H:%M:%S.%f\")[:-3]\n",
    "    print(f\"[{timestamp}] {message}\")"
   ]
  },
  {
   "cell_type": "markdown",
   "id": "ffe7fbe0",
   "metadata": {},
   "source": [
    "# プラグインの作成"
   ]
  },
  {
   "cell_type": "code",
   "execution_count": 28,
   "id": "4635deb2",
   "metadata": {},
   "outputs": [],
   "source": [
    "# MCPのエンドポイントURL\n",
    "MCP_URL = \"http://127.0.0.1:8000/mcp/\"\n",
    "\n",
    "\n",
    "mcp_plugin = MCPStreamableHttpPlugin(\n",
    "    name=\"mcp_plugin\",\n",
    "    url=MCP_URL\n",
    ")\n",
    "\n",
    "await mcp_plugin.connect()"
   ]
  },
  {
   "cell_type": "markdown",
   "id": "76cbce26",
   "metadata": {},
   "source": [
    "# クライアントの初期化"
   ]
  },
  {
   "cell_type": "code",
   "execution_count": 22,
   "id": "1138b0af",
   "metadata": {},
   "outputs": [],
   "source": [
    "# Chat Completion API クライアントの初期化\n",
    "azure_completion_service  = AzureChatCompletion(\n",
    "    service_id=\"azure_completion_agent\",\n",
    "    deployment_name=AZURE_DEPLOYMENT_NAME,\n",
    "    endpoint=AZURE_OPENAI_ENDPOINT,\n",
    "    api_key=AZURE_OPENAI_API_KEY\n",
    ")"
   ]
  },
  {
   "cell_type": "code",
   "execution_count": null,
   "id": "e3f54b6f",
   "metadata": {},
   "outputs": [],
   "source": [
    "# Chat Completion Agent クライアントの初期化\n",
    "agent = ChatCompletionAgent(\n",
    "    service=azure_completion_service,\n",
    "    name=\"mcp_agent\",\n",
    "    instructions=(\n",
    "        \"あなたはECサイトの分析エージェントです。\"\n",
    "        \"PostgreSQLの各種マスター、注文、ユーザー情報と、CosmosDBに格納されたレビュー分析データを、mcp_pluginとして利用できます。\"\n",
    "    ),\n",
    "    plugins=[mcp_plugin],\n",
    ")"
   ]
  },
  {
   "cell_type": "markdown",
   "id": "57e71870",
   "metadata": {},
   "source": [
    "## スレッドの作成"
   ]
  },
  {
   "cell_type": "code",
   "execution_count": 24,
   "id": "18017f0a",
   "metadata": {},
   "outputs": [
    {
     "name": "stdout",
     "output_type": "stream",
     "text": [
      "Created Thread. THREAD_ID: thread_de48f5c595014f3dadf2fd831fc12b19\n"
     ]
    }
   ],
   "source": [
    "# Thread の作成\n",
    "thread = ChatHistoryAgentThread()\n",
    "print(f\"Created Thread. THREAD_ID: {thread.id}\")\n"
   ]
  },
  {
   "cell_type": "markdown",
   "id": "5edc3eb1",
   "metadata": {},
   "source": [
    "## レスポンスを取得"
   ]
  },
  {
   "cell_type": "code",
   "execution_count": 25,
   "id": "96fd9c01",
   "metadata": {},
   "outputs": [
    {
     "name": "stdout",
     "output_type": "stream",
     "text": [
      "2024年12月に購入された商品とその数量は以下の通りです。\n",
      "\n",
      "---\n",
      "\n",
      "- Surface Pro：8台\n",
      "  - 購入内訳：2台（12/9）、1台（12/31）、2台（12/25）、3台（12/28）\n",
      "- Surface Laptop：1台（12/18）\n",
      "- Surface Go：1台（12/3）\n",
      "- Xbox Game Pass：1件（12/6）\n",
      "- Office：1本（12/14）\n",
      "- Modern Webcam：3台（12/5）\n",
      "\n",
      "---\n",
      "\n",
      "数量はいずれも12月の注文ごとの合計です。  \n",
      "他に詳しく知りたい商品や、カテゴリ単位・金額集計なども可能です。ご希望があればお知らせください。\n"
     ]
    }
   ],
   "source": [
    "response = await agent.get_response(\n",
    "    messages=[\"2024年12月は何がどれくらい購入されましたか？\"],\n",
    "    thread=thread,\n",
    ")\n",
    "\n",
    "print(response)"
   ]
  },
  {
   "cell_type": "code",
   "execution_count": 26,
   "id": "db46cd23",
   "metadata": {},
   "outputs": [
    {
     "name": "stdout",
     "output_type": "stream",
     "text": [
      "-----\n",
      "[User Message]\n",
      " - Content       : 2024年12月は何がどれくらい購入されましたか？\n",
      "-----\n",
      "[Function Calling] by gpt-4.1\n",
      " - Function Name : mcp_plugin-get_users\n",
      " - Arguments     : {}\n",
      "-----\n",
      "[Function Result]\n",
      " - Result        : [TextContent(inner_content=TextContent(type='text', text='[{\"user_id\": 1, \"user_name\": \"user01\", \"email\": \"user01@example.com\"}, {\"user_id\": 2, \"user_name\": \"user02\", \"email\": \"user02@example.com\"}, {\"user_id\": 3, \"user_name\": \"user03\", \"email\": \"user03@example.com\"}, {\"user_id\": 4, \"user_name\": \"user04\", \"email\": \"user04@example.com\"}, {\"user_id\": 5, \"user_name\": \"user05\", \"email\": \"user05@example.com\"}, {\"user_id\": 6, \"user_name\": \"user06\", \"email\": \"user06@example.com\"}, {\"user_id\": 7, \"user_name\": \"user07\", \"email\": \"user07@example.com\"}, {\"user_id\": 8, \"user_name\": \"user08\", \"email\": \"user08@example.com\"}, {\"user_id\": 9, \"user_name\": \"user09\", \"email\": \"user09@example.com\"}, {\"user_id\": 10, \"user_name\": \"user10\", \"email\": \"user10@example.com\"}]', annotations=None, meta=None), ai_model_id=None, metadata={}, content_type='text', text='[{\"user_id\": 1, \"user_name\": \"user01\", \"email\": \"user01@example.com\"}, {\"user_id\": 2, \"user_name\": \"user02\", \"email\": \"user02@example.com\"}, {\"user_id\": 3, \"user_name\": \"user03\", \"email\": \"user03@example.com\"}, {\"user_id\": 4, \"user_name\": \"user04\", \"email\": \"user04@example.com\"}, {\"user_id\": 5, \"user_name\": \"user05\", \"email\": \"user05@example.com\"}, {\"user_id\": 6, \"user_name\": \"user06\", \"email\": \"user06@example.com\"}, {\"user_id\": 7, \"user_name\": \"user07\", \"email\": \"user07@example.com\"}, {\"user_id\": 8, \"user_name\": \"user08\", \"email\": \"user08@example.com\"}, {\"user_id\": 9, \"user_name\": \"user09\", \"email\": \"user09@example.com\"}, {\"user_id\": 10, \"user_name\": \"user10\", \"email\": \"user10@example.com\"}]', encoding=None)]\n",
      "-----\n",
      "[Function Calling] by gpt-4.1\n",
      " - Function Name : mcp_plugin-get_orders_by_user\n",
      " - Arguments     : {\"user_id\": 1}\n",
      "[Function Calling] by gpt-4.1\n",
      " - Function Name : mcp_plugin-get_orders_by_user\n",
      " - Arguments     : {\"user_id\": 2}\n",
      "[Function Calling] by gpt-4.1\n",
      " - Function Name : mcp_plugin-get_orders_by_user\n",
      " - Arguments     : {\"user_id\": 3}\n",
      "[Function Calling] by gpt-4.1\n",
      " - Function Name : mcp_plugin-get_orders_by_user\n",
      " - Arguments     : {\"user_id\": 4}\n",
      "[Function Calling] by gpt-4.1\n",
      " - Function Name : mcp_plugin-get_orders_by_user\n",
      " - Arguments     : {\"user_id\": 5}\n",
      "[Function Calling] by gpt-4.1\n",
      " - Function Name : mcp_plugin-get_orders_by_user\n",
      " - Arguments     : {\"user_id\": 6}\n",
      "[Function Calling] by gpt-4.1\n",
      " - Function Name : mcp_plugin-get_orders_by_user\n",
      " - Arguments     : {\"user_id\": 7}\n",
      "[Function Calling] by gpt-4.1\n",
      " - Function Name : mcp_plugin-get_orders_by_user\n",
      " - Arguments     : {\"user_id\": 8}\n",
      "[Function Calling] by gpt-4.1\n",
      " - Function Name : mcp_plugin-get_orders_by_user\n",
      " - Arguments     : {\"user_id\": 9}\n",
      "[Function Calling] by gpt-4.1\n",
      " - Function Name : mcp_plugin-get_orders_by_user\n",
      " - Arguments     : {\"user_id\": 10}\n",
      "-----\n",
      "[Function Result]\n",
      " - Result        : [TextContent(inner_content=TextContent(type='text', text='[{\"order_id\": 11, \"user_id\": 9, \"order_date\": \"2024-11-06\"}, {\"order_id\": 31, \"user_id\": 9, \"order_date\": \"2024-05-22\"}, {\"order_id\": 32, \"user_id\": 9, \"order_date\": \"2024-06-28\"}, {\"order_id\": 58, \"user_id\": 9, \"order_date\": \"2024-08-08\"}, {\"order_id\": 60, \"user_id\": 9, \"order_date\": \"2024-10-19\"}, {\"order_id\": 64, \"user_id\": 9, \"order_date\": \"2024-05-10\"}, {\"order_id\": 66, \"user_id\": 9, \"order_date\": \"2024-01-15\"}, {\"order_id\": 80, \"user_id\": 9, \"order_date\": \"2024-04-09\"}, {\"order_id\": 93, \"user_id\": 9, \"order_date\": \"2024-08-05\"}]', annotations=None, meta=None), ai_model_id=None, metadata={}, content_type='text', text='[{\"order_id\": 11, \"user_id\": 9, \"order_date\": \"2024-11-06\"}, {\"order_id\": 31, \"user_id\": 9, \"order_date\": \"2024-05-22\"}, {\"order_id\": 32, \"user_id\": 9, \"order_date\": \"2024-06-28\"}, {\"order_id\": 58, \"user_id\": 9, \"order_date\": \"2024-08-08\"}, {\"order_id\": 60, \"user_id\": 9, \"order_date\": \"2024-10-19\"}, {\"order_id\": 64, \"user_id\": 9, \"order_date\": \"2024-05-10\"}, {\"order_id\": 66, \"user_id\": 9, \"order_date\": \"2024-01-15\"}, {\"order_id\": 80, \"user_id\": 9, \"order_date\": \"2024-04-09\"}, {\"order_id\": 93, \"user_id\": 9, \"order_date\": \"2024-08-05\"}]', encoding=None)]\n",
      "-----\n",
      "[Function Result]\n",
      " - Result        : [TextContent(inner_content=TextContent(type='text', text='[{\"order_id\": 1, \"user_id\": 6, \"order_date\": \"2024-04-15\"}, {\"order_id\": 6, \"user_id\": 6, \"order_date\": \"2024-04-15\"}, {\"order_id\": 16, \"user_id\": 6, \"order_date\": \"2024-11-06\"}, {\"order_id\": 33, \"user_id\": 6, \"order_date\": \"2024-02-21\"}, {\"order_id\": 34, \"user_id\": 6, \"order_date\": \"2024-07-17\"}, {\"order_id\": 74, \"user_id\": 6, \"order_date\": \"2024-08-07\"}, {\"order_id\": 85, \"user_id\": 6, \"order_date\": \"2024-08-24\"}, {\"order_id\": 87, \"user_id\": 6, \"order_date\": \"2024-03-20\"}, {\"order_id\": 88, \"user_id\": 6, \"order_date\": \"2024-08-01\"}, {\"order_id\": 91, \"user_id\": 6, \"order_date\": \"2024-02-10\"}]', annotations=None, meta=None), ai_model_id=None, metadata={}, content_type='text', text='[{\"order_id\": 1, \"user_id\": 6, \"order_date\": \"2024-04-15\"}, {\"order_id\": 6, \"user_id\": 6, \"order_date\": \"2024-04-15\"}, {\"order_id\": 16, \"user_id\": 6, \"order_date\": \"2024-11-06\"}, {\"order_id\": 33, \"user_id\": 6, \"order_date\": \"2024-02-21\"}, {\"order_id\": 34, \"user_id\": 6, \"order_date\": \"2024-07-17\"}, {\"order_id\": 74, \"user_id\": 6, \"order_date\": \"2024-08-07\"}, {\"order_id\": 85, \"user_id\": 6, \"order_date\": \"2024-08-24\"}, {\"order_id\": 87, \"user_id\": 6, \"order_date\": \"2024-03-20\"}, {\"order_id\": 88, \"user_id\": 6, \"order_date\": \"2024-08-01\"}, {\"order_id\": 91, \"user_id\": 6, \"order_date\": \"2024-02-10\"}]', encoding=None)]\n",
      "-----\n",
      "[Function Result]\n",
      " - Result        : [TextContent(inner_content=TextContent(type='text', text='[{\"order_id\": 12, \"user_id\": 1, \"order_date\": \"2024-11-06\"}, {\"order_id\": 35, \"user_id\": 1, \"order_date\": \"2024-11-24\"}, {\"order_id\": 38, \"user_id\": 1, \"order_date\": \"2024-06-29\"}, {\"order_id\": 41, \"user_id\": 1, \"order_date\": \"2024-02-10\"}, {\"order_id\": 50, \"user_id\": 1, \"order_date\": \"2024-03-28\"}, {\"order_id\": 62, \"user_id\": 1, \"order_date\": \"2024-04-24\"}, {\"order_id\": 82, \"user_id\": 1, \"order_date\": \"2024-01-09\"}, {\"order_id\": 97, \"user_id\": 1, \"order_date\": \"2024-11-23\"}, {\"order_id\": 99, \"user_id\": 1, \"order_date\": \"2024-05-04\"}]', annotations=None, meta=None), ai_model_id=None, metadata={}, content_type='text', text='[{\"order_id\": 12, \"user_id\": 1, \"order_date\": \"2024-11-06\"}, {\"order_id\": 35, \"user_id\": 1, \"order_date\": \"2024-11-24\"}, {\"order_id\": 38, \"user_id\": 1, \"order_date\": \"2024-06-29\"}, {\"order_id\": 41, \"user_id\": 1, \"order_date\": \"2024-02-10\"}, {\"order_id\": 50, \"user_id\": 1, \"order_date\": \"2024-03-28\"}, {\"order_id\": 62, \"user_id\": 1, \"order_date\": \"2024-04-24\"}, {\"order_id\": 82, \"user_id\": 1, \"order_date\": \"2024-01-09\"}, {\"order_id\": 97, \"user_id\": 1, \"order_date\": \"2024-11-23\"}, {\"order_id\": 99, \"user_id\": 1, \"order_date\": \"2024-05-04\"}]', encoding=None)]\n",
      "-----\n",
      "[Function Result]\n",
      " - Result        : [TextContent(inner_content=TextContent(type='text', text='[{\"order_id\": 3, \"user_id\": 2, \"order_date\": \"2024-04-15\"}, {\"order_id\": 5, \"user_id\": 2, \"order_date\": \"2024-04-15\"}, {\"order_id\": 17, \"user_id\": 2, \"order_date\": \"2024-11-06\"}, {\"order_id\": 44, \"user_id\": 2, \"order_date\": \"2024-02-12\"}, {\"order_id\": 68, \"user_id\": 2, \"order_date\": \"2024-10-21\"}, {\"order_id\": 77, \"user_id\": 2, \"order_date\": \"2024-02-25\"}, {\"order_id\": 79, \"user_id\": 2, \"order_date\": \"2024-03-27\"}, {\"order_id\": 86, \"user_id\": 2, \"order_date\": \"2024-01-26\"}, {\"order_id\": 98, \"user_id\": 2, \"order_date\": \"2024-05-22\"}, {\"order_id\": 100, \"user_id\": 2, \"order_date\": \"2024-03-11\"}]', annotations=None, meta=None), ai_model_id=None, metadata={}, content_type='text', text='[{\"order_id\": 3, \"user_id\": 2, \"order_date\": \"2024-04-15\"}, {\"order_id\": 5, \"user_id\": 2, \"order_date\": \"2024-04-15\"}, {\"order_id\": 17, \"user_id\": 2, \"order_date\": \"2024-11-06\"}, {\"order_id\": 44, \"user_id\": 2, \"order_date\": \"2024-02-12\"}, {\"order_id\": 68, \"user_id\": 2, \"order_date\": \"2024-10-21\"}, {\"order_id\": 77, \"user_id\": 2, \"order_date\": \"2024-02-25\"}, {\"order_id\": 79, \"user_id\": 2, \"order_date\": \"2024-03-27\"}, {\"order_id\": 86, \"user_id\": 2, \"order_date\": \"2024-01-26\"}, {\"order_id\": 98, \"user_id\": 2, \"order_date\": \"2024-05-22\"}, {\"order_id\": 100, \"user_id\": 2, \"order_date\": \"2024-03-11\"}]', encoding=None)]\n",
      "-----\n",
      "[Function Result]\n",
      " - Result        : [TextContent(inner_content=TextContent(type='text', text='[{\"order_id\": 13, \"user_id\": 8, \"order_date\": \"2024-11-06\"}, {\"order_id\": 14, \"user_id\": 8, \"order_date\": \"2024-11-06\"}, {\"order_id\": 20, \"user_id\": 8, \"order_date\": \"2024-11-06\"}, {\"order_id\": 23, \"user_id\": 8, \"order_date\": \"2024-06-30\"}, {\"order_id\": 26, \"user_id\": 8, \"order_date\": \"2024-08-20\"}, {\"order_id\": 27, \"user_id\": 8, \"order_date\": \"2024-06-19\"}, {\"order_id\": 30, \"user_id\": 8, \"order_date\": \"2024-08-03\"}, {\"order_id\": 42, \"user_id\": 8, \"order_date\": \"2024-01-16\"}, {\"order_id\": 48, \"user_id\": 8, \"order_date\": \"2024-02-01\"}, {\"order_id\": 51, \"user_id\": 8, \"order_date\": \"2024-12-14\"}, {\"order_id\": 53, \"user_id\": 8, \"order_date\": \"2024-06-30\"}, {\"order_id\": 59, \"user_id\": 8, \"order_date\": \"2024-11-07\"}, {\"order_id\": 65, \"user_id\": 8, \"order_date\": \"2024-01-23\"}, {\"order_id\": 73, \"user_id\": 8, \"order_date\": \"2024-04-17\"}, {\"order_id\": 94, \"user_id\": 8, \"order_date\": \"2024-05-15\"}]', annotations=None, meta=None), ai_model_id=None, metadata={}, content_type='text', text='[{\"order_id\": 13, \"user_id\": 8, \"order_date\": \"2024-11-06\"}, {\"order_id\": 14, \"user_id\": 8, \"order_date\": \"2024-11-06\"}, {\"order_id\": 20, \"user_id\": 8, \"order_date\": \"2024-11-06\"}, {\"order_id\": 23, \"user_id\": 8, \"order_date\": \"2024-06-30\"}, {\"order_id\": 26, \"user_id\": 8, \"order_date\": \"2024-08-20\"}, {\"order_id\": 27, \"user_id\": 8, \"order_date\": \"2024-06-19\"}, {\"order_id\": 30, \"user_id\": 8, \"order_date\": \"2024-08-03\"}, {\"order_id\": 42, \"user_id\": 8, \"order_date\": \"2024-01-16\"}, {\"order_id\": 48, \"user_id\": 8, \"order_date\": \"2024-02-01\"}, {\"order_id\": 51, \"user_id\": 8, \"order_date\": \"2024-12-14\"}, {\"order_id\": 53, \"user_id\": 8, \"order_date\": \"2024-06-30\"}, {\"order_id\": 59, \"user_id\": 8, \"order_date\": \"2024-11-07\"}, {\"order_id\": 65, \"user_id\": 8, \"order_date\": \"2024-01-23\"}, {\"order_id\": 73, \"user_id\": 8, \"order_date\": \"2024-04-17\"}, {\"order_id\": 94, \"user_id\": 8, \"order_date\": \"2024-05-15\"}]', encoding=None)]\n",
      "-----\n",
      "[Function Result]\n",
      " - Result        : [TextContent(inner_content=TextContent(type='text', text='[{\"order_id\": 2, \"user_id\": 4, \"order_date\": \"2024-04-15\"}, {\"order_id\": 18, \"user_id\": 4, \"order_date\": \"2024-11-06\"}, {\"order_id\": 21, \"user_id\": 4, \"order_date\": \"2024-06-28\"}, {\"order_id\": 22, \"user_id\": 4, \"order_date\": \"2024-05-22\"}, {\"order_id\": 39, \"user_id\": 4, \"order_date\": \"2024-07-16\"}, {\"order_id\": 52, \"user_id\": 4, \"order_date\": \"2024-02-08\"}, {\"order_id\": 81, \"user_id\": 4, \"order_date\": \"2024-10-02\"}, {\"order_id\": 84, \"user_id\": 4, \"order_date\": \"2024-12-06\"}]', annotations=None, meta=None), ai_model_id=None, metadata={}, content_type='text', text='[{\"order_id\": 2, \"user_id\": 4, \"order_date\": \"2024-04-15\"}, {\"order_id\": 18, \"user_id\": 4, \"order_date\": \"2024-11-06\"}, {\"order_id\": 21, \"user_id\": 4, \"order_date\": \"2024-06-28\"}, {\"order_id\": 22, \"user_id\": 4, \"order_date\": \"2024-05-22\"}, {\"order_id\": 39, \"user_id\": 4, \"order_date\": \"2024-07-16\"}, {\"order_id\": 52, \"user_id\": 4, \"order_date\": \"2024-02-08\"}, {\"order_id\": 81, \"user_id\": 4, \"order_date\": \"2024-10-02\"}, {\"order_id\": 84, \"user_id\": 4, \"order_date\": \"2024-12-06\"}]', encoding=None)]\n",
      "-----\n",
      "[Function Result]\n",
      " - Result        : [TextContent(inner_content=TextContent(type='text', text='[{\"order_id\": 9, \"user_id\": 10, \"order_date\": \"2024-04-15\"}, {\"order_id\": 10, \"user_id\": 10, \"order_date\": \"2024-04-15\"}, {\"order_id\": 25, \"user_id\": 10, \"order_date\": \"2024-11-26\"}, {\"order_id\": 36, \"user_id\": 10, \"order_date\": \"2024-08-02\"}, {\"order_id\": 54, \"user_id\": 10, \"order_date\": \"2024-01-31\"}, {\"order_id\": 67, \"user_id\": 10, \"order_date\": \"2024-12-05\"}, {\"order_id\": 71, \"user_id\": 10, \"order_date\": \"2024-02-15\"}, {\"order_id\": 90, \"user_id\": 10, \"order_date\": \"2024-12-28\"}]', annotations=None, meta=None), ai_model_id=None, metadata={}, content_type='text', text='[{\"order_id\": 9, \"user_id\": 10, \"order_date\": \"2024-04-15\"}, {\"order_id\": 10, \"user_id\": 10, \"order_date\": \"2024-04-15\"}, {\"order_id\": 25, \"user_id\": 10, \"order_date\": \"2024-11-26\"}, {\"order_id\": 36, \"user_id\": 10, \"order_date\": \"2024-08-02\"}, {\"order_id\": 54, \"user_id\": 10, \"order_date\": \"2024-01-31\"}, {\"order_id\": 67, \"user_id\": 10, \"order_date\": \"2024-12-05\"}, {\"order_id\": 71, \"user_id\": 10, \"order_date\": \"2024-02-15\"}, {\"order_id\": 90, \"user_id\": 10, \"order_date\": \"2024-12-28\"}]', encoding=None)]\n",
      "-----\n",
      "[Function Result]\n",
      " - Result        : [TextContent(inner_content=TextContent(type='text', text='[{\"order_id\": 4, \"user_id\": 7, \"order_date\": \"2024-04-15\"}, {\"order_id\": 15, \"user_id\": 7, \"order_date\": \"2024-11-06\"}, {\"order_id\": 28, \"user_id\": 7, \"order_date\": \"2024-04-18\"}, {\"order_id\": 56, \"user_id\": 7, \"order_date\": \"2024-01-13\"}, {\"order_id\": 61, \"user_id\": 7, \"order_date\": \"2024-06-25\"}, {\"order_id\": 72, \"user_id\": 7, \"order_date\": \"2024-12-25\"}, {\"order_id\": 75, \"user_id\": 7, \"order_date\": \"2024-12-18\"}, {\"order_id\": 76, \"user_id\": 7, \"order_date\": \"2024-12-03\"}]', annotations=None, meta=None), ai_model_id=None, metadata={}, content_type='text', text='[{\"order_id\": 4, \"user_id\": 7, \"order_date\": \"2024-04-15\"}, {\"order_id\": 15, \"user_id\": 7, \"order_date\": \"2024-11-06\"}, {\"order_id\": 28, \"user_id\": 7, \"order_date\": \"2024-04-18\"}, {\"order_id\": 56, \"user_id\": 7, \"order_date\": \"2024-01-13\"}, {\"order_id\": 61, \"user_id\": 7, \"order_date\": \"2024-06-25\"}, {\"order_id\": 72, \"user_id\": 7, \"order_date\": \"2024-12-25\"}, {\"order_id\": 75, \"user_id\": 7, \"order_date\": \"2024-12-18\"}, {\"order_id\": 76, \"user_id\": 7, \"order_date\": \"2024-12-03\"}]', encoding=None)]\n",
      "-----\n",
      "[Function Result]\n",
      " - Result        : [TextContent(inner_content=TextContent(type='text', text='[{\"order_id\": 7, \"user_id\": 3, \"order_date\": \"2024-04-15\"}, {\"order_id\": 8, \"user_id\": 3, \"order_date\": \"2024-04-15\"}, {\"order_id\": 24, \"user_id\": 3, \"order_date\": \"2024-09-29\"}, {\"order_id\": 37, \"user_id\": 3, \"order_date\": \"2024-02-22\"}, {\"order_id\": 47, \"user_id\": 3, \"order_date\": \"2024-04-14\"}, {\"order_id\": 49, \"user_id\": 3, \"order_date\": \"2024-01-31\"}, {\"order_id\": 55, \"user_id\": 3, \"order_date\": \"2024-11-27\"}, {\"order_id\": 57, \"user_id\": 3, \"order_date\": \"2024-09-08\"}, {\"order_id\": 63, \"user_id\": 3, \"order_date\": \"2024-02-13\"}, {\"order_id\": 69, \"user_id\": 3, \"order_date\": \"2024-05-28\"}, {\"order_id\": 70, \"user_id\": 3, \"order_date\": \"2024-06-25\"}, {\"order_id\": 83, \"user_id\": 3, \"order_date\": \"2024-02-28\"}, {\"order_id\": 89, \"user_id\": 3, \"order_date\": \"2024-06-22\"}, {\"order_id\": 95, \"user_id\": 3, \"order_date\": \"2024-09-29\"}, {\"order_id\": 96, \"user_id\": 3, \"order_date\": \"2024-12-09\"}]', annotations=None, meta=None), ai_model_id=None, metadata={}, content_type='text', text='[{\"order_id\": 7, \"user_id\": 3, \"order_date\": \"2024-04-15\"}, {\"order_id\": 8, \"user_id\": 3, \"order_date\": \"2024-04-15\"}, {\"order_id\": 24, \"user_id\": 3, \"order_date\": \"2024-09-29\"}, {\"order_id\": 37, \"user_id\": 3, \"order_date\": \"2024-02-22\"}, {\"order_id\": 47, \"user_id\": 3, \"order_date\": \"2024-04-14\"}, {\"order_id\": 49, \"user_id\": 3, \"order_date\": \"2024-01-31\"}, {\"order_id\": 55, \"user_id\": 3, \"order_date\": \"2024-11-27\"}, {\"order_id\": 57, \"user_id\": 3, \"order_date\": \"2024-09-08\"}, {\"order_id\": 63, \"user_id\": 3, \"order_date\": \"2024-02-13\"}, {\"order_id\": 69, \"user_id\": 3, \"order_date\": \"2024-05-28\"}, {\"order_id\": 70, \"user_id\": 3, \"order_date\": \"2024-06-25\"}, {\"order_id\": 83, \"user_id\": 3, \"order_date\": \"2024-02-28\"}, {\"order_id\": 89, \"user_id\": 3, \"order_date\": \"2024-06-22\"}, {\"order_id\": 95, \"user_id\": 3, \"order_date\": \"2024-09-29\"}, {\"order_id\": 96, \"user_id\": 3, \"order_date\": \"2024-12-09\"}]', encoding=None)]\n",
      "-----\n",
      "[Function Result]\n",
      " - Result        : [TextContent(inner_content=TextContent(type='text', text='[{\"order_id\": 19, \"user_id\": 5, \"order_date\": \"2024-11-06\"}, {\"order_id\": 29, \"user_id\": 5, \"order_date\": \"2024-05-11\"}, {\"order_id\": 40, \"user_id\": 5, \"order_date\": \"2024-07-28\"}, {\"order_id\": 43, \"user_id\": 5, \"order_date\": \"2024-09-26\"}, {\"order_id\": 45, \"user_id\": 5, \"order_date\": \"2024-04-12\"}, {\"order_id\": 46, \"user_id\": 5, \"order_date\": \"2024-12-31\"}, {\"order_id\": 78, \"user_id\": 5, \"order_date\": \"2024-04-25\"}, {\"order_id\": 92, \"user_id\": 5, \"order_date\": \"2024-03-02\"}]', annotations=None, meta=None), ai_model_id=None, metadata={}, content_type='text', text='[{\"order_id\": 19, \"user_id\": 5, \"order_date\": \"2024-11-06\"}, {\"order_id\": 29, \"user_id\": 5, \"order_date\": \"2024-05-11\"}, {\"order_id\": 40, \"user_id\": 5, \"order_date\": \"2024-07-28\"}, {\"order_id\": 43, \"user_id\": 5, \"order_date\": \"2024-09-26\"}, {\"order_id\": 45, \"user_id\": 5, \"order_date\": \"2024-04-12\"}, {\"order_id\": 46, \"user_id\": 5, \"order_date\": \"2024-12-31\"}, {\"order_id\": 78, \"user_id\": 5, \"order_date\": \"2024-04-25\"}, {\"order_id\": 92, \"user_id\": 5, \"order_date\": \"2024-03-02\"}]', encoding=None)]\n",
      "-----\n",
      "[Function Calling] by gpt-4.1\n",
      " - Function Name : mcp_plugin-get_order_details\n",
      " - Arguments     : {\"order_id\": 96}\n",
      "[Function Calling] by gpt-4.1\n",
      " - Function Name : mcp_plugin-get_order_details\n",
      " - Arguments     : {\"order_id\": 84}\n",
      "[Function Calling] by gpt-4.1\n",
      " - Function Name : mcp_plugin-get_order_details\n",
      " - Arguments     : {\"order_id\": 46}\n",
      "[Function Calling] by gpt-4.1\n",
      " - Function Name : mcp_plugin-get_order_details\n",
      " - Arguments     : {\"order_id\": 72}\n",
      "[Function Calling] by gpt-4.1\n",
      " - Function Name : mcp_plugin-get_order_details\n",
      " - Arguments     : {\"order_id\": 75}\n",
      "[Function Calling] by gpt-4.1\n",
      " - Function Name : mcp_plugin-get_order_details\n",
      " - Arguments     : {\"order_id\": 76}\n",
      "[Function Calling] by gpt-4.1\n",
      " - Function Name : mcp_plugin-get_order_details\n",
      " - Arguments     : {\"order_id\": 51}\n",
      "[Function Calling] by gpt-4.1\n",
      " - Function Name : mcp_plugin-get_order_details\n",
      " - Arguments     : {\"order_id\": 67}\n",
      "[Function Calling] by gpt-4.1\n",
      " - Function Name : mcp_plugin-get_order_details\n",
      " - Arguments     : {\"order_id\": 90}\n",
      "-----\n",
      "[Function Result]\n",
      " - Result        : [TextContent(inner_content=TextContent(type='text', text='[{\"order_id\": 84, \"product_id\": 15, \"quantity\": 1, \"price\": 1500}]', annotations=None, meta=None), ai_model_id=None, metadata={}, content_type='text', text='[{\"order_id\": 84, \"product_id\": 15, \"quantity\": 1, \"price\": 1500}]', encoding=None)]\n",
      "-----\n",
      "[Function Result]\n",
      " - Result        : [TextContent(inner_content=TextContent(type='text', text='[{\"order_id\": 96, \"product_id\": 1, \"quantity\": 2, \"price\": 180000}]', annotations=None, meta=None), ai_model_id=None, metadata={}, content_type='text', text='[{\"order_id\": 96, \"product_id\": 1, \"quantity\": 2, \"price\": 180000}]', encoding=None)]\n",
      "-----\n",
      "[Function Result]\n",
      " - Result        : [TextContent(inner_content=TextContent(type='text', text='[{\"order_id\": 46, \"product_id\": 1, \"quantity\": 1, \"price\": 180000}]', annotations=None, meta=None), ai_model_id=None, metadata={}, content_type='text', text='[{\"order_id\": 46, \"product_id\": 1, \"quantity\": 1, \"price\": 180000}]', encoding=None)]\n",
      "-----\n",
      "[Function Result]\n",
      " - Result        : [TextContent(inner_content=TextContent(type='text', text='[{\"order_id\": 75, \"product_id\": 2, \"quantity\": 1, \"price\": 170000}]', annotations=None, meta=None), ai_model_id=None, metadata={}, content_type='text', text='[{\"order_id\": 75, \"product_id\": 2, \"quantity\": 1, \"price\": 170000}]', encoding=None)]\n",
      "-----\n",
      "[Function Result]\n",
      " - Result        : [TextContent(inner_content=TextContent(type='text', text='[{\"order_id\": 72, \"product_id\": 1, \"quantity\": 2, \"price\": 180000}]', annotations=None, meta=None), ai_model_id=None, metadata={}, content_type='text', text='[{\"order_id\": 72, \"product_id\": 1, \"quantity\": 2, \"price\": 180000}]', encoding=None)]\n",
      "-----\n",
      "[Function Result]\n",
      " - Result        : [TextContent(inner_content=TextContent(type='text', text='[{\"order_id\": 51, \"product_id\": 11, \"quantity\": 1, \"price\": 38000}]', annotations=None, meta=None), ai_model_id=None, metadata={}, content_type='text', text='[{\"order_id\": 51, \"product_id\": 11, \"quantity\": 1, \"price\": 38000}]', encoding=None)]\n",
      "-----\n",
      "[Function Result]\n",
      " - Result        : [TextContent(inner_content=TextContent(type='text', text='[{\"order_id\": 76, \"product_id\": 3, \"quantity\": 1, \"price\": 90000}]', annotations=None, meta=None), ai_model_id=None, metadata={}, content_type='text', text='[{\"order_id\": 76, \"product_id\": 3, \"quantity\": 1, \"price\": 90000}]', encoding=None)]\n",
      "-----\n",
      "[Function Result]\n",
      " - Result        : [TextContent(inner_content=TextContent(type='text', text='[{\"order_id\": 67, \"product_id\": 8, \"quantity\": 3, \"price\": 13000}]', annotations=None, meta=None), ai_model_id=None, metadata={}, content_type='text', text='[{\"order_id\": 67, \"product_id\": 8, \"quantity\": 3, \"price\": 13000}]', encoding=None)]\n",
      "-----\n",
      "[Function Result]\n",
      " - Result        : [TextContent(inner_content=TextContent(type='text', text='[{\"order_id\": 90, \"product_id\": 1, \"quantity\": 3, \"price\": 180000}]', annotations=None, meta=None), ai_model_id=None, metadata={}, content_type='text', text='[{\"order_id\": 90, \"product_id\": 1, \"quantity\": 3, \"price\": 180000}]', encoding=None)]\n",
      "-----\n",
      "[Function Calling] by gpt-4.1\n",
      " - Function Name : mcp_plugin-get_all_categories\n",
      " - Arguments     : {}\n",
      "-----\n",
      "[Function Result]\n",
      " - Result        : [TextContent(inner_content=TextContent(type='text', text='[{\"category_id\": 1, \"category_name\": \"PC・タブレット\"}, {\"category_id\": 2, \"category_name\": \"ゲーム・エンタメ\"}, {\"category_id\": 3, \"category_name\": \"ソフトウェア\"}, {\"category_id\": 4, \"category_name\": \"アクセサリ\"}, {\"category_id\": 5, \"category_name\": \"サービス\"}]', annotations=None, meta=None), ai_model_id=None, metadata={}, content_type='text', text='[{\"category_id\": 1, \"category_name\": \"PC・タブレット\"}, {\"category_id\": 2, \"category_name\": \"ゲーム・エンタメ\"}, {\"category_id\": 3, \"category_name\": \"ソフトウェア\"}, {\"category_id\": 4, \"category_name\": \"アクセサリ\"}, {\"category_id\": 5, \"category_name\": \"サービス\"}]', encoding=None)]\n",
      "-----\n",
      "[Function Calling] by gpt-4.1\n",
      " - Function Name : mcp_plugin-get_products\n",
      " - Arguments     : {\"category_id\": 1}\n",
      "[Function Calling] by gpt-4.1\n",
      " - Function Name : mcp_plugin-get_products\n",
      " - Arguments     : {\"category_id\": 2}\n",
      "[Function Calling] by gpt-4.1\n",
      " - Function Name : mcp_plugin-get_products\n",
      " - Arguments     : {\"category_id\": 3}\n",
      "[Function Calling] by gpt-4.1\n",
      " - Function Name : mcp_plugin-get_products\n",
      " - Arguments     : {\"category_id\": 4}\n",
      "[Function Calling] by gpt-4.1\n",
      " - Function Name : mcp_plugin-get_products\n",
      " - Arguments     : {\"category_id\": 5}\n",
      "-----\n",
      "[Function Result]\n",
      " - Result        : [TextContent(inner_content=TextContent(type='text', text='[{\"product_id\": 15, \"product_name\": \"Xbox Game Pass\", \"category_id\": 2, \"price\": 1500}]', annotations=None, meta=None), ai_model_id=None, metadata={}, content_type='text', text='[{\"product_id\": 15, \"product_name\": \"Xbox Game Pass\", \"category_id\": 2, \"price\": 1500}]', encoding=None)]\n",
      "-----\n",
      "[Function Result]\n",
      " - Result        : [TextContent(inner_content=TextContent(type='text', text='[{\"product_id\": 4, \"product_name\": \"Surface Dock\", \"category_id\": 4, \"price\": 35000}, {\"product_id\": 5, \"product_name\": \"Surface ペン\", \"category_id\": 4, \"price\": 16000}, {\"product_id\": 6, \"product_name\": \"Arc Mouse\", \"category_id\": 4, \"price\": 11000}, {\"product_id\": 7, \"product_name\": \"Surface Mouse\", \"category_id\": 4, \"price\": 9000}, {\"product_id\": 8, \"product_name\": \"Modern Webcam\", \"category_id\": 4, \"price\": 13000}, {\"product_id\": 9, \"product_name\": \"Surface Earbuds\", \"category_id\": 4, \"price\": 25000}, {\"product_id\": 10, \"product_name\": \"Type Cover\", \"category_id\": 4, \"price\": 20000}, {\"product_id\": 13, \"product_name\": \"USB-C トラベルハブ\", \"category_id\": 4, \"price\": 11000}, {\"product_id\": 14, \"product_name\": \"USB-C Charger\", \"category_id\": 4, \"price\": 6000}, {\"product_id\": 16, \"product_name\": \"Xbox コントローラー\", \"category_id\": 4, \"price\": 8000}, {\"product_id\": 17, \"product_name\": \"Surface スリム ペン\", \"category_id\": 4, \"price\": 18000}]', annotations=None, meta=None), ai_model_id=None, metadata={}, content_type='text', text='[{\"product_id\": 4, \"product_name\": \"Surface Dock\", \"category_id\": 4, \"price\": 35000}, {\"product_id\": 5, \"product_name\": \"Surface ペン\", \"category_id\": 4, \"price\": 16000}, {\"product_id\": 6, \"product_name\": \"Arc Mouse\", \"category_id\": 4, \"price\": 11000}, {\"product_id\": 7, \"product_name\": \"Surface Mouse\", \"category_id\": 4, \"price\": 9000}, {\"product_id\": 8, \"product_name\": \"Modern Webcam\", \"category_id\": 4, \"price\": 13000}, {\"product_id\": 9, \"product_name\": \"Surface Earbuds\", \"category_id\": 4, \"price\": 25000}, {\"product_id\": 10, \"product_name\": \"Type Cover\", \"category_id\": 4, \"price\": 20000}, {\"product_id\": 13, \"product_name\": \"USB-C トラベルハブ\", \"category_id\": 4, \"price\": 11000}, {\"product_id\": 14, \"product_name\": \"USB-C Charger\", \"category_id\": 4, \"price\": 6000}, {\"product_id\": 16, \"product_name\": \"Xbox コントローラー\", \"category_id\": 4, \"price\": 8000}, {\"product_id\": 17, \"product_name\": \"Surface スリム ペン\", \"category_id\": 4, \"price\": 18000}]', encoding=None)]\n",
      "-----\n",
      "[Function Result]\n",
      " - Result        : [TextContent(inner_content=TextContent(type='text', text='[]', annotations=None, meta=None), ai_model_id=None, metadata={}, content_type='text', text='[]', encoding=None)]\n",
      "-----\n",
      "[Function Result]\n",
      " - Result        : [TextContent(inner_content=TextContent(type='text', text='[{\"product_id\": 1, \"product_name\": \"Surface Pro\", \"category_id\": 1, \"price\": 180000}, {\"product_id\": 2, \"product_name\": \"Surface Laptop\", \"category_id\": 1, \"price\": 170000}, {\"product_id\": 3, \"product_name\": \"Surface Go\", \"category_id\": 1, \"price\": 90000}]', annotations=None, meta=None), ai_model_id=None, metadata={}, content_type='text', text='[{\"product_id\": 1, \"product_name\": \"Surface Pro\", \"category_id\": 1, \"price\": 180000}, {\"product_id\": 2, \"product_name\": \"Surface Laptop\", \"category_id\": 1, \"price\": 170000}, {\"product_id\": 3, \"product_name\": \"Surface Go\", \"category_id\": 1, \"price\": 90000}]', encoding=None)]\n",
      "-----\n",
      "[Function Result]\n",
      " - Result        : [TextContent(inner_content=TextContent(type='text', text='[{\"product_id\": 11, \"product_name\": \"Office\", \"category_id\": 3, \"price\": 38000}, {\"product_id\": 12, \"product_name\": \"Microsoft 365\", \"category_id\": 3, \"price\": 16000}]', annotations=None, meta=None), ai_model_id=None, metadata={}, content_type='text', text='[{\"product_id\": 11, \"product_name\": \"Office\", \"category_id\": 3, \"price\": 38000}, {\"product_id\": 12, \"product_name\": \"Microsoft 365\", \"category_id\": 3, \"price\": 16000}]', encoding=None)]\n",
      "-----\n",
      "[Agent Response] from gpt-4.1\n",
      " - Content       : 2024年12月に購入された商品とその数量は以下の通りです。\n",
      "\n",
      "---\n",
      "\n",
      "- Surface Pro：8台\n",
      "  - 購入内訳：2台（12/9）、1台（12/31）、2台（12/25）、3台（12/28）\n",
      "- Surface Laptop：1台（12/18）\n",
      "- Surface Go：1台（12/3）\n",
      "- Xbox Game Pass：1件（12/6）\n",
      "- Office：1本（12/14）\n",
      "- Modern Webcam：3台（12/5）\n",
      "\n",
      "---\n",
      "\n",
      "数量はいずれも12月の注文ごとの合計です。  \n",
      "他に詳しく知りたい商品や、カテゴリ単位・金額集計なども可能です。ご希望があればお知らせください。\n"
     ]
    }
   ],
   "source": [
    "await print_thread_message_details(thread)"
   ]
  }
 ],
 "metadata": {
  "kernelspec": {
   "display_name": ".venv",
   "language": "python",
   "name": "python3"
  },
  "language_info": {
   "codemirror_mode": {
    "name": "ipython",
    "version": 3
   },
   "file_extension": ".py",
   "mimetype": "text/x-python",
   "name": "python",
   "nbconvert_exporter": "python",
   "pygments_lexer": "ipython3",
   "version": "3.11.9"
  }
 },
 "nbformat": 4,
 "nbformat_minor": 5
}
