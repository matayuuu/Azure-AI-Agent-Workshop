{
 "cells": [
  {
   "cell_type": "markdown",
   "id": "59629cfc",
   "metadata": {},
   "source": [
    "# TODO: 概要"
   ]
  },
  {
   "cell_type": "markdown",
   "id": "5fb7c4eb",
   "metadata": {},
   "source": [
    "# ライブラリのインポート"
   ]
  },
  {
   "cell_type": "code",
   "execution_count": 29,
   "id": "0903ef41",
   "metadata": {},
   "outputs": [],
   "source": [
    "import os\n",
    "import json\n",
    "import datetime\n",
    "\n",
    "from dotenv import load_dotenv, find_dotenv\n",
    "\n",
    "from semantic_kernel.agents import (\n",
    "    ChatCompletionAgent,\n",
    "    ChatHistoryAgentThread,\n",
    ")\n",
    "from semantic_kernel.connectors.ai.open_ai import AzureChatCompletion\n",
    "from semantic_kernel.connectors.mcp import MCPStreamableHttpPlugin\n",
    "from semantic_kernel.contents import (\n",
    "    FunctionCallContent,\n",
    "    FunctionResultContent,\n",
    "    TextContent,\n",
    ")\n"
   ]
  },
  {
   "cell_type": "markdown",
   "id": "fdc79521",
   "metadata": {},
   "source": [
    "# 環境変数の取得"
   ]
  },
  {
   "cell_type": "code",
   "execution_count": 30,
   "id": "ed928070",
   "metadata": {},
   "outputs": [],
   "source": [
    "load_dotenv(override=True)\n",
    "\n",
    "PROJECT_ENDPOINT=os.getenv(\"PROJECT_ENDPOINT\")\n",
    "AZURE_DEPLOYMENT_NAME=os.getenv(\"AZURE_DEPLOYMENT_NAME\")\n",
    "AZURE_OPENAI_ENDPOINT=os.getenv(\"AZURE_OPENAI_ENDPOINT\")\n",
    "AZURE_OPENAI_API_KEY=os.getenv(\"AZURE_OPENAI_API_KEY\")"
   ]
  },
  {
   "cell_type": "markdown",
   "id": "3995f49a",
   "metadata": {},
   "source": [
    "# ユーティリティ関数"
   ]
  },
  {
   "cell_type": "code",
   "execution_count": 31,
   "id": "dcee3834",
   "metadata": {},
   "outputs": [],
   "source": [
    "async def print_thread_message_details(thread: str):\n",
    "    \"\"\"\n",
    "    スレッドのメッセージ詳細を表示します。\n",
    "\n",
    "    Args:\n",
    "        thread (str): スレッドのインスタンス\n",
    "    \"\"\"\n",
    "    async for message in thread.get_messages():\n",
    "        print(\"-----\")\n",
    "\n",
    "        for item in message.items:\n",
    "            if isinstance(item, FunctionCallContent):\n",
    "                print(f\"[Function Calling] by {message.ai_model_id}\")\n",
    "                print(f\" - Function Name : {item.name}\")\n",
    "                print(f\" - Arguments     : {item.arguments}\")\n",
    "\n",
    "            elif isinstance(item, FunctionResultContent):\n",
    "                print(f\"[Function Result]\")\n",
    "                # 文字列のデコード変換\n",
    "                if isinstance(item.result, str):\n",
    "                    try:\n",
    "                        decoded = json.loads(item.result)\n",
    "                        print(f\" - Result        : {decoded}\") # デコード成功時は変換後の値を表示\n",
    "                    except json.JSONDecodeError:\n",
    "                        print(f\" - Result        : {item.result}\")  # デコード失敗時はそのまま\n",
    "                else:\n",
    "                    print(f\" - Result        : {item.result}\")\n",
    "\n",
    "            elif isinstance(item, TextContent):\n",
    "                if message.name:\n",
    "                    print(f\"[Agent Response] from {message.ai_model_id}\")\n",
    "                else:\n",
    "                    print(\"[User Message]\")\n",
    "                print(f\" - Content       : {item.text}\")\n",
    "\n",
    "            else:\n",
    "                print(f\"[Unknown Item Type] ({type(item).__name__})\")\n",
    "                print(f\" - Raw Item      : {item}\")\n",
    "\n",
    "\n",
    "def log_with_timestamp(message: str) -> None:\n",
    "    \"\"\"\n",
    "    現在時刻付きでメッセージを標準出力にログとして表示します。\n",
    "\n",
    "    Args:\n",
    "        message (str): 出力するログメッセージ。\n",
    "    \"\"\"\n",
    "    timestamp = datetime.datetime.now().strftime(\"%H:%M:%S.%f\")[:-3]\n",
    "    print(f\"[{timestamp}] {message}\")"
   ]
  },
  {
   "cell_type": "markdown",
   "id": "ffe7fbe0",
   "metadata": {},
   "source": [
    "# プラグインの作成"
   ]
  },
  {
   "cell_type": "code",
   "execution_count": 32,
   "id": "4635deb2",
   "metadata": {},
   "outputs": [],
   "source": [
    "# MCPのエンドポイントURL\n",
    "MCP_URL = \"http://127.0.0.1:8000/mcp/\"\n",
    "\n",
    "\n",
    "mcp_plugin = MCPStreamableHttpPlugin(\n",
    "    name=\"mcp_plugin\",\n",
    "    url=MCP_URL\n",
    ")\n",
    "\n",
    "await mcp_plugin.connect()"
   ]
  },
  {
   "cell_type": "markdown",
   "id": "76cbce26",
   "metadata": {},
   "source": [
    "# クライアントの初期化"
   ]
  },
  {
   "cell_type": "code",
   "execution_count": 33,
   "id": "1138b0af",
   "metadata": {},
   "outputs": [],
   "source": [
    "# Chat Completion API クライアントの初期化\n",
    "azure_completion_service  = AzureChatCompletion(\n",
    "    service_id=\"azure_completion_agent\",\n",
    "    deployment_name=AZURE_DEPLOYMENT_NAME,\n",
    "    endpoint=AZURE_OPENAI_ENDPOINT,\n",
    "    api_key=AZURE_OPENAI_API_KEY\n",
    ")"
   ]
  },
  {
   "cell_type": "code",
   "execution_count": 34,
   "id": "e3f54b6f",
   "metadata": {},
   "outputs": [],
   "source": [
    "# Chat Completion Agent クライアントの初期化\n",
    "agent = ChatCompletionAgent(\n",
    "    service=azure_completion_service,\n",
    "    name=\"mcp_agent\",\n",
    "    instructions=(\n",
    "        \"あなたはECサイトの分析エージェントです。\"\n",
    "        \"PostgreSQLの各種マスター、注文、ユーザー情報と、CosmosDBに格納されたレビュー分析データを、mcp_pluginとして利用できます。\"\n",
    "    ),\n",
    "    plugins=[mcp_plugin],\n",
    ")"
   ]
  },
  {
   "cell_type": "markdown",
   "id": "57e71870",
   "metadata": {},
   "source": [
    "## スレッドの作成"
   ]
  },
  {
   "cell_type": "code",
   "execution_count": 35,
   "id": "18017f0a",
   "metadata": {},
   "outputs": [
    {
     "name": "stdout",
     "output_type": "stream",
     "text": [
      "Created Thread. THREAD_ID: thread_d9715ea449414838a8674efbcd788142\n"
     ]
    }
   ],
   "source": [
    "# Thread の作成\n",
    "thread = ChatHistoryAgentThread()\n",
    "print(f\"Created Thread. THREAD_ID: {thread.id}\")\n"
   ]
  },
  {
   "cell_type": "markdown",
   "id": "5edc3eb1",
   "metadata": {},
   "source": [
    "## レスポンスを取得"
   ]
  },
  {
   "cell_type": "code",
   "execution_count": 36,
   "id": "96fd9c01",
   "metadata": {},
   "outputs": [],
   "source": [
    "# response = await agent.get_response(\n",
    "#     messages=[\"2024年12月は何がどれくらい購入されましたか？\"],\n",
    "#     thread=thread,\n",
    "# )\n",
    "\n",
    "# print(response)"
   ]
  },
  {
   "cell_type": "code",
   "execution_count": 37,
   "id": "db46cd23",
   "metadata": {},
   "outputs": [],
   "source": [
    "# await print_thread_message_details(thread)"
   ]
  },
  {
   "cell_type": "code",
   "execution_count": 38,
   "id": "9789d02e",
   "metadata": {},
   "outputs": [
    {
     "name": "stdout",
     "output_type": "stream",
     "text": [
      "2024年1月～12月の月別売上（主要カテゴリ合算）は以下のとおりです。\n",
      "\n",
      "| 月   | 売上合計（円）         | 備考（主要カテゴリ）                        |\n",
      "|------|-----------------------|---------------------------------------|\n",
      "| 1月  | 728,500               | PC・タブレット、ソフトウェア、アクセサリ、ゲームエンタメなど            |\n",
      "| 2月  | 641,000               | PC・タブレット、アクセサリ、ゲームエンタメ            |\n",
      "| 3月  | 441,000               | PC・タブレット、アクセサリ、ソフトウェア                |\n",
      "| 4月  | 8,891,000             | PC・タブレットが非常に高額（約868万円）                   |\n",
      "| 5月  | 750,000               | PC・タブレット、アクセサリ                        |\n",
      "| 6月  | 385,500               | アクセサリ、PC・タブレット、ゲームエンタメ              |\n",
      "| 7月  | 44,000                | アクセサリのみ                                    |\n",
      "| 8月  | 821,500               | PC・タブレット、アクセサリ、ゲームエンタメ                |\n",
      "| 9月  | 432,000               | PC・タブレット、ソフトウェア、アクセサリ                |\n",
      "| 10月 | 417,000               | PC・タブレット、アクセサリ                            |\n",
      "| 11月 | 189,000               | ゲームエンタメ、アクセサリ                            |\n",
      "| 12月 | 1,776,000             | PC・タブレット、アクセサリ、ソフトウェア、ゲームエンタメ  |\n",
      "\n",
      "ご質問や、カテゴリ別の詳細などもご希望でしたらお知らせください。\n"
     ]
    }
   ],
   "source": [
    "response = await agent.get_response(\n",
    "    messages=[\"2024年1月～12月の月別売上を教えてください\"],\n",
    "    thread=thread,\n",
    ")\n",
    "\n",
    "print(response)"
   ]
  },
  {
   "cell_type": "code",
   "execution_count": null,
   "id": "62084efb",
   "metadata": {},
   "outputs": [
    {
     "name": "stdout",
     "output_type": "stream",
     "text": [
      "2024年4月の商品別販売額（上位）は以下の通りです。\n",
      "\n",
      "- Surface Laptop：8,500,000円\n",
      "- Surface Go：180,000円\n",
      "- Type Cover：40,000円\n",
      "- USB-C トラベルハブ：33,000円\n",
      "- Surface ペン：16,000円\n",
      "- Microsoft 365：16,000円\n",
      "- Arc Mouse：11,000円\n",
      "- Xbox Game Pass：4,500円\n",
      "\n",
      "金額ベースの販売集計です。「販売個数」のご要望の場合は、商品の単価情報等が別途必要となるため、詳細が欲しい場合はご指示ください。\n"
     ]
    }
   ],
   "source": [
    "response = await agent.get_response(\n",
    "    messages=[\"4月の商品別販売額を教えてください\"],\n",
    "    thread=thread,\n",
    ")\n",
    "\n",
    "print(response)"
   ]
  },
  {
   "cell_type": "code",
   "execution_count": 40,
   "id": "5c0ff892",
   "metadata": {},
   "outputs": [
    {
     "name": "stdout",
     "output_type": "stream",
     "text": [
      "2024年4月の商品別販売個数は以下の通りです。（販売額 ÷ 単価で計算）\n",
      "\n",
      "- Surface Laptop：8,500,000円 ÷ 170,000円 = 50台\n",
      "- Surface Go：180,000円 ÷ 90,000円 = 2台\n",
      "- Type Cover：40,000円 ÷ 20,000円 = 2個\n",
      "- USB-C トラベルハブ：33,000円 ÷ 11,000円 = 3個\n",
      "- Surface ペン：16,000円 ÷ 16,000円 = 1本\n",
      "- Microsoft 365：16,000円 ÷ 16,000円 = 1本\n",
      "- Arc Mouse：11,000円 ÷ 11,000円 = 1個\n",
      "- Xbox Game Pass：4,500円 ÷ 1,500円 = 3本\n",
      "\n",
      "合計個数やほかの商品についても知りたい場合はお知らせください。\n"
     ]
    }
   ],
   "source": [
    "response = await agent.get_response(\n",
    "    messages=[\"4月の商品別販売個数を教えてください\"],\n",
    "    thread=thread,\n",
    ")\n",
    "\n",
    "print(response)"
   ]
  },
  {
   "cell_type": "code",
   "execution_count": 41,
   "id": "fb954d16",
   "metadata": {},
   "outputs": [
    {
     "name": "stdout",
     "output_type": "stream",
     "text": [
      "Surface Laptop（単価：170,000円）の2024年1月～12月月別販売数量は以下の通りです。\n",
      "\n",
      "| 月   | 販売金額 | 販売数量（台） |\n",
      "|------|---------|---------------|\n",
      "| 1月  | 510,000 | 3台           |\n",
      "| 2月  | -       | 0台           |\n",
      "| 3月  | 170,000 | 1台           |\n",
      "| 4月  | 8,500,000 | 50台         |\n",
      "| 5月  | -       | 0台           |\n",
      "| 6月  | -       | 0台           |\n",
      "| 7月  | -       | 0台           |\n",
      "| 8月  | 170,000 | 1台           |\n",
      "| 9月  | 340,000 | 2台           |\n",
      "| 10月 | -       | 0台           |\n",
      "| 11月 | -       | 0台           |\n",
      "| 12月 | 170,000 | 1台           |\n",
      "\n",
      "「-」はその月の販売記録がない（＝0台）ことを示します。\n",
      "他商品やさらに詳細がご入り用の場合もご相談ください。\n"
     ]
    }
   ],
   "source": [
    "response = await agent.get_response(\n",
    "    messages=[\"Surface Laptopの2024年1月から12月の月別販売数量を教えてください\"],\n",
    "    thread=thread,\n",
    ")\n",
    "\n",
    "print(response)"
   ]
  },
  {
   "cell_type": "code",
   "execution_count": 42,
   "id": "6014129c",
   "metadata": {},
   "outputs": [
    {
     "name": "stdout",
     "output_type": "stream",
     "text": [
      "2024年4月の「Surface Laptop」に関する商品レビューには、ポジティブ・ネガティブ含めてテキストコメントの投稿がありませんでした。\n",
      "\n",
      "他の月のレビューや、別商品についてのお問い合わせも承りますので、ご希望があればお知らせください。\n"
     ]
    }
   ],
   "source": [
    "response = await agent.get_response(\n",
    "    messages=[\"Surface Laptopの4月の商品レビューには何が書かれていますか？\"],\n",
    "    thread=thread,\n",
    ")\n",
    "\n",
    "print(response)"
   ]
  }
 ],
 "metadata": {
  "kernelspec": {
   "display_name": ".venv",
   "language": "python",
   "name": "python3"
  },
  "language_info": {
   "codemirror_mode": {
    "name": "ipython",
    "version": 3
   },
   "file_extension": ".py",
   "mimetype": "text/x-python",
   "name": "python",
   "nbconvert_exporter": "python",
   "pygments_lexer": "ipython3",
   "version": "3.11.9"
  }
 },
 "nbformat": 4,
 "nbformat_minor": 5
}
