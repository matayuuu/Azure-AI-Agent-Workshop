{
 "cells": [
  {
   "cell_type": "markdown",
   "id": "8dee6372",
   "metadata": {},
   "source": [
    "# Semantic Kernel Process Framework ハンズオン（サンプル版）\n",
    "\n",
    "Microsoft Semantic Kernel Process Frameworkのワークフローパターンを学習します。\n",
    "\n",
    "## 学習内容\n",
    "1. シーケンス \n",
    "2. ~~ファンアウト・ファンイン~~\n",
    "3. ~~条件分岐~~\n",
    "4. ~~繰り返し~~"
   ]
  },
  {
   "cell_type": "markdown",
   "id": "e259b39e",
   "metadata": {},
   "source": [
    "## セットアップ\n",
    "\n",
    "Process Frameworkを使用するために必要な依存関係をインストールします。"
   ]
  },
  {
   "cell_type": "code",
   "execution_count": 7,
   "id": "de3748f2",
   "metadata": {},
   "outputs": [
    {
     "name": "stdout",
     "output_type": "stream",
     "text": [
      "Kernel準備完了\n"
     ]
    }
   ],
   "source": [
    "# 必要なライブラリのインポート\n",
    "import asyncio\n",
    "import time\n",
    "from typing import Dict, Any, Optional\n",
    "from datetime import datetime\n",
    "from enum import Enum\n",
    "\n",
    "# Semantic Kernel Process Framework\n",
    "from semantic_kernel import Kernel\n",
    "# from semantic_kernel.connectors.ai.azure_ai_inference import AzureAIInferenceChatCompletion\n",
    "from semantic_kernel.processes import ProcessBuilder\n",
    "from semantic_kernel.processes.local_runtime.local_kernel_process import start as start_process\n",
    "from semantic_kernel.functions import kernel_function\n",
    "from semantic_kernel.processes import ProcessBuilder\n",
    "from semantic_kernel.processes.local_runtime.local_kernel_process import start\n",
    "from semantic_kernel.processes.local_runtime.local_event import KernelProcessEvent\n",
    "from semantic_kernel.processes.kernel_process import KernelProcessStep, KernelProcessStepContext\n",
    "\n",
    "\n",
    "# Kernel初期化\n",
    "kernel = Kernel()\n",
    "print(\"Kernel準備完了\")"
   ]
  },
  {
   "cell_type": "markdown",
   "id": "248380db",
   "metadata": {},
   "source": [
    "## 1. シーケンス（Sequential Pattern）\n",
    "\n",
    "最もシンプルなワークフローパターンです。処理が順次実行されます。\n",
    "\n",
    "フロー: [Start] → [Step A] → [Step B] → [Step C] → [End]"
   ]
  },
  {
   "cell_type": "code",
   "execution_count": 14,
   "id": "bb0270bb",
   "metadata": {},
   "outputs": [],
   "source": [
    "class Events(Enum):\n",
    "    Start = \"Start\"\n",
    "    StartA = \"StartA\"\n",
    "    StartB = \"StartB\"\n",
    "    StepBCompleted = \"StepBCompleted\"\n",
    "\n",
    "class StartStep(KernelProcessStep):\n",
    "    @kernel_function()\n",
    "    async def start(self, context: KernelProcessStepContext, user_input: str):\n",
    "        print(\"--- START ---\")\n",
    "        await asyncio.sleep(2)\n",
    "        print(f\"User Input: {user_input}\")\n",
    "        await context.emit_event(process_event=Events.StartA, data=user_input)\n",
    "\n",
    "class AStep(KernelProcessStep):\n",
    "    @kernel_function()\n",
    "    async def run_a(self, context: KernelProcessStepContext, data: str):\n",
    "        print(\"--- STEP A start ---\")\n",
    "        print(f\"Input: {data}\")\n",
    "        await asyncio.sleep(4)\n",
    "        modified_data_a = f\"{data} -> A\"\n",
    "        print(f\"Output: {modified_data_a}\")\n",
    "        await context.emit_event(process_event=Events.StartB, data=modified_data_a)\n",
    "\n",
    "class BStep(KernelProcessStep):\n",
    "    @kernel_function()\n",
    "    async def run_b(self, context: KernelProcessStepContext, data: str):\n",
    "        print(\"--- STEP B start ---\")\n",
    "        print(f\"Input: {data}\")\n",
    "        await asyncio.sleep(6)\n",
    "        processed_data = f\"{data} -> B\"\n",
    "        print(f\"Output-B: {processed_data}\")\n",
    "        print(\"--- END ---\")\n",
    "        await context.emit_event(process_event=Events.StepBCompleted)\n"
   ]
  },
  {
   "cell_type": "code",
   "execution_count": 15,
   "id": "80d17b0d",
   "metadata": {},
   "outputs": [],
   "source": [
    "async def main(user_input: str):\n",
    "    # Initialize the process builder\n",
    "    builder = ProcessBuilder(name=\"SimpleProcess\")\n",
    "\n",
    "    # Add the steps to the process builder\n",
    "    start_step = builder.add_step(step_type=StartStep)\n",
    "    step_a = builder.add_step(step_type=AStep)\n",
    "    step_b = builder.add_step(step_type=BStep)\n",
    "\n",
    "    # Define the events and where to send them\n",
    "    builder.on_input_event(Events.Start).send_event_to(target=start_step, function_name=\"start\", parameter_name=\"user_input\")\n",
    "    start_step.on_event(Events.StartA).send_event_to(target=step_a, function_name=\"run_a\", parameter_name=\"data\")\n",
    "    step_a.on_event(Events.StartB).send_event_to(target=step_b, function_name=\"run_b\", parameter_name=\"data\")\n",
    "    step_b.on_event(Events.StepBCompleted).stop_process()\n",
    "\n",
    "    # Build the process\n",
    "    kernel_process = builder.build()\n",
    "\n",
    "    # Start the process\n",
    "    await start(\n",
    "        process=kernel_process,\n",
    "        kernel=Kernel(),\n",
    "        initial_event=KernelProcessEvent(id=Events.Start, data=user_input),\n",
    "    )"
   ]
  },
  {
   "cell_type": "code",
   "execution_count": 16,
   "id": "9a18fc46",
   "metadata": {},
   "outputs": [
    {
     "name": "stdout",
     "output_type": "stream",
     "text": [
      "--- START ---\n",
      "User Input: Hello!\n",
      "--- STEP A start ---\n",
      "Input: Hello!\n",
      "User Input: Hello!\n",
      "--- STEP A start ---\n",
      "Input: Hello!\n",
      "Output: Hello! -> A\n",
      "--- STEP B start ---\n",
      "Input: Hello! -> A\n",
      "Output: Hello! -> A\n",
      "--- STEP B start ---\n",
      "Input: Hello! -> A\n",
      "Output-B: Hello! -> A -> B\n",
      "--- END ---\n",
      "Output-B: Hello! -> A -> B\n",
      "--- END ---\n"
     ]
    }
   ],
   "source": [
    "await main(user_input=\"Hello!\")"
   ]
  }
 ],
 "metadata": {
  "kernelspec": {
   "display_name": ".venv",
   "language": "python",
   "name": "python3"
  },
  "language_info": {
   "codemirror_mode": {
    "name": "ipython",
    "version": 3
   },
   "file_extension": ".py",
   "mimetype": "text/x-python",
   "name": "python",
   "nbconvert_exporter": "python",
   "pygments_lexer": "ipython3",
   "version": "3.11.9"
  }
 },
 "nbformat": 4,
 "nbformat_minor": 5
}
