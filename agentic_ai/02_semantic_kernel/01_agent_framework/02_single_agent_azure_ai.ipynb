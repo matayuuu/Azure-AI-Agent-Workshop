{
 "cells": [
  {
   "cell_type": "markdown",
   "id": "5fb7c4eb",
   "metadata": {},
   "source": [
    "# ライブラリのインポート"
   ]
  },
  {
   "cell_type": "code",
   "execution_count": 12,
   "id": "0903ef41",
   "metadata": {},
   "outputs": [],
   "source": [
    "import os\n",
    "import time\n",
    "import json\n",
    "import datetime\n",
    "import zoneinfo\n",
    "\n",
    "import requests\n",
    "\n",
    "from dotenv import load_dotenv, find_dotenv\n",
    "\n",
    "from semantic_kernel.agents import ChatCompletionAgent, ChatHistoryAgentThread\n",
    "from semantic_kernel.connectors.ai.open_ai import AzureChatCompletion\n",
    "from semantic_kernel.connectors.mcp import MCPStreamableHttpPlugin\n",
    "\n",
    "from azure.identity.aio import DefaultAzureCredential\n",
    "\n",
    "from semantic_kernel.agents import AzureAIAgent, AzureAIAgentThread\n",
    "from semantic_kernel.contents import ChatMessageContent, FunctionCallContent, FunctionResultContent\n",
    "\n",
    "from azure.ai.agents.models import FileInfo, FileSearchTool, VectorStore"
   ]
  },
  {
   "cell_type": "markdown",
   "id": "fdc79521",
   "metadata": {},
   "source": [
    "# 環境変数の取得"
   ]
  },
  {
   "cell_type": "code",
   "execution_count": 15,
   "id": "ed928070",
   "metadata": {},
   "outputs": [],
   "source": [
    "load_dotenv(override=True)\n",
    "\n",
    "PROJECT_ENDPOINT=os.getenv(\"PROJECT_ENDPOINT\")\n",
    "AZURE_DEPLOYMENT_NAME=os.getenv(\"AZURE_DEPLOYMENT_NAME\")\n",
    "AZURE_OPENAI_ENDPOINT=os.getenv(\"AZURE_OPENAI_ENDPOINT\")\n",
    "AZURE_OPENAI_API_KEY=os.getenv(\"AZURE_OPENAI_API_KEY\")\n",
    "\n",
    "PROJECT_ENDPOINT=os.getenv(\"PROJECT_ENDPOINT\")\n",
    "FOUNDRY_CUSTOM_FUNCTIONS_AGENT_ID=os.getenv(\"FOUNDRY_CUSTOM_FUNCTIONS_AGENT_ID\")\n",
    "FOUNDRY_CODE_INTERPRETER_AGENT_ID=os.getenv(\"FOUNDRY_CODE_INTERPRETER_AGENT_ID\")\n",
    "FOUNDRY_MCP_AGENT_ID=os.getenv(\"FOUNDRY_MCP_AGENT_ID\")\n",
    "FOUNDRY_FILE_SEARCH_AGENT_ID=os.getenv(\"FOUNDRY_FILE_SEARCH_AGENT_ID\")"
   ]
  },
  {
   "cell_type": "markdown",
   "id": "3995f49a",
   "metadata": {},
   "source": [
    "# ユーティリティ関数"
   ]
  },
  {
   "cell_type": "code",
   "execution_count": 5,
   "id": "dcee3834",
   "metadata": {},
   "outputs": [],
   "source": [
    "import datetime\n",
    "import json\n",
    "from semantic_kernel.contents.function_call_content import FunctionCallContent\n",
    "from semantic_kernel.contents.function_result_content import FunctionResultContent\n",
    "from semantic_kernel.contents.text_content import TextContent\n",
    "\n",
    "\n",
    "async def print_thread_message_details(thread: str):\n",
    "    \"\"\"\n",
    "    スレッドのメッセージ詳細を表示します。\n",
    "\n",
    "    Args:\n",
    "        thread (str): スレッドのインスタンス\n",
    "    \"\"\"\n",
    "    async for message in thread.get_messages():\n",
    "        print(\"-----\")\n",
    "\n",
    "        for item in message.items:\n",
    "            if isinstance(item, FunctionCallContent):\n",
    "                print(f\"[Function Calling] by {message.ai_model_id}\")\n",
    "                print(f\" - Function Name : {item.name}\")\n",
    "                print(f\" - Arguments     : {item.arguments}\")\n",
    "\n",
    "            elif isinstance(item, FunctionResultContent):\n",
    "                print(f\"[Function Result]\")\n",
    "                # 文字列のデコード変換\n",
    "                if isinstance(item.result, str):\n",
    "                    try:\n",
    "                        decoded = json.loads(item.result)\n",
    "                        print(f\" - Result        : {decoded}\") # デコード成功時は変換後の値を表示\n",
    "                    except json.JSONDecodeError:\n",
    "                        print(f\" - Result        : {item.result}\")  # デコード失敗時はそのまま\n",
    "                else:\n",
    "                    print(f\" - Result        : {item.result}\")\n",
    "\n",
    "            elif isinstance(item, TextContent):\n",
    "                if message.name:\n",
    "                    print(f\"[Agent Response] from {message.ai_model_id}\")\n",
    "                else:\n",
    "                    print(\"[User Message]\")\n",
    "                print(f\" - Content       : {item.text}\")\n",
    "\n",
    "            else:\n",
    "                print(f\"[Unknown Item Type] ({type(item).__name__})\")\n",
    "                print(f\" - Raw Item      : {item}\")\n",
    "\n",
    "\n",
    "def log_with_timestamp(message: str) -> None:\n",
    "    \"\"\"\n",
    "    現在時刻付きでメッセージを標準出力にログとして表示します。\n",
    "\n",
    "    Args:\n",
    "        message (str): 出力するログメッセージ。\n",
    "    \"\"\"\n",
    "    timestamp = datetime.datetime.now().strftime(\"%H:%M:%S.%f\")[:-3]\n",
    "    print(f\"[{timestamp}] {message}\")\n"
   ]
  },
  {
   "cell_type": "markdown",
   "id": "6666ff34",
   "metadata": {},
   "source": [
    "# プロジェクトクライアントの初期化"
   ]
  },
  {
   "cell_type": "code",
   "execution_count": 6,
   "id": "308a6924",
   "metadata": {},
   "outputs": [],
   "source": [
    "# AzureAIAgent クライアントを初期化\n",
    "project_client = AzureAIAgent.create_client(\n",
    "    endpoint=PROJECT_ENDPOINT,\n",
    "    credential=DefaultAzureCredential()\n",
    ")"
   ]
  },
  {
   "cell_type": "markdown",
   "id": "d7feeb51",
   "metadata": {},
   "source": [
    "# Foundry 上のエージェントを取得する方法\n",
    "※ 先ほど作成したエージェントを取得します。"
   ]
  },
  {
   "cell_type": "code",
   "execution_count": 16,
   "id": "41badf63",
   "metadata": {},
   "outputs": [],
   "source": [
    "file_search_agent_definition = await project_client.agents.get_agent(agent_id=FOUNDRY_FILE_SEARCH_AGENT_ID)"
   ]
  },
  {
   "cell_type": "code",
   "execution_count": 17,
   "id": "318457a9",
   "metadata": {},
   "outputs": [],
   "source": [
    "agent = AzureAIAgent(\n",
    "    client=project_client,\n",
    "    definition=file_search_agent_definition,\n",
    ")"
   ]
  },
  {
   "cell_type": "code",
   "execution_count": 18,
   "id": "8df7715c",
   "metadata": {},
   "outputs": [
    {
     "name": "stdout",
     "output_type": "stream",
     "text": [
      "Created Thread. THREAD_ID: None\n"
     ]
    }
   ],
   "source": [
    "thread = AzureAIAgentThread(\n",
    "    client=project_client\n",
    ")\n",
    "print(f\"Created Thread. THREAD_ID: {thread.id}\")"
   ]
  },
  {
   "cell_type": "code",
   "execution_count": 19,
   "id": "2b4bb3a7",
   "metadata": {},
   "outputs": [
    {
     "name": "stdout",
     "output_type": "stream",
     "text": [
      "パソコンの保障プランでもっとも安いプランは「1年プラン」で、料金は税込10,000円です。内容としては、修理費用全額カバー、代替機の提供（最短3営業日）、データ復旧（論理障害のみ）、24時間365日サポートなどが含まれています【4:3†パソコン保障プラン.html】。\n"
     ]
    }
   ],
   "source": [
    "message= (\n",
    "    \"パソコンの保障プランでもっとも安いプランは？\"\n",
    ")\n",
    "\n",
    "response = await agent.get_response(\n",
    "    messages=[message],\n",
    "    thread=thread,\n",
    ")\n",
    "\n",
    "print(response)"
   ]
  },
  {
   "cell_type": "markdown",
   "id": "bfd0b729",
   "metadata": {},
   "source": [
    "# エージェントの作成"
   ]
  },
  {
   "cell_type": "code",
   "execution_count": null,
   "id": "b63477fb",
   "metadata": {},
   "outputs": [],
   "source": []
  },
  {
   "cell_type": "code",
   "execution_count": null,
   "id": "75c30ec8",
   "metadata": {},
   "outputs": [],
   "source": []
  },
  {
   "cell_type": "code",
   "execution_count": null,
   "id": "1fe44e75",
   "metadata": {},
   "outputs": [],
   "source": []
  },
  {
   "cell_type": "markdown",
   "id": "53fde741",
   "metadata": {},
   "source": [
    "# Foundry 上のエージェントを取得する方法\n",
    "※ 先ほど作成したエージェントを取得します。"
   ]
  },
  {
   "cell_type": "code",
   "execution_count": null,
   "id": "ab0398a4",
   "metadata": {},
   "outputs": [],
   "source": [
    "code_interpreter_agent_definition = await project_client.agents.get_agent(agent_id=FOUNDRY_CODE_INTERPRETER_AGENT_ID)\n"
   ]
  },
  {
   "cell_type": "code",
   "execution_count": 11,
   "id": "57b7284b",
   "metadata": {},
   "outputs": [
    {
     "data": {
      "text/plain": [
       "{'id': 'asst_BCUSg2MD4dWVlfuATOeUG6gx', 'object': 'assistant', 'created_at': 1753669174, 'name': 'code_interpreter_agent', 'description': 'Code Interpreter を利用して、計算や図表の出力に特化した分析アシスタントです。', 'model': 'gpt-4.1', 'instructions': 'あなたは日本国内の気温や地理情報に答えたり、計算や図表の出力に特化したアシスタントです。利用可能なツールを確認し、必要に応じて使用してください。なお、グラフを描画する際は日本語が文字化けするため、ラベルやタイトルは英語で出力してください。', 'tools': [{'type': 'code_interpreter'}, {'type': 'function', 'function': {'name': 'get_current_time_jst', 'description': '日本標準時（JST, UTC+9）の今日の日付を \"YYYY-MM-DD\" 形式の文字列で返します。日時情報は変更しません。', 'parameters': {'type': 'object', 'properties': {}, 'required': []}, 'strict': False}}, {'type': 'function', 'function': {'name': 'get_prefecture_location', 'description': '都道府県名から緯度・経度を取得します。都道府県一覧・座標は変更しません。', 'parameters': {'type': 'object', 'properties': {'prefecture': {'type': 'string', 'description': '都道府県名（例: \"東京都\"）'}}, 'required': ['prefecture']}, 'strict': False}}, {'type': 'function', 'function': {'name': 'get_temperature', 'description': '指定した緯度・経度と日付に基づき、Open-Meteo APIで該当日の平均気温（摂氏）を返します。', 'parameters': {'type': 'object', 'properties': {'latitude': {'type': 'number', 'description': '緯度'}, 'longitude': {'type': 'number', 'description': '経度'}, 'date': {'type': 'string', 'description': '日付（\"YYYY-MM-DD\" 形式）'}}, 'required': ['latitude', 'longitude', 'date']}, 'strict': False}}], 'top_p': 1.0, 'temperature': 1.0, 'tool_resources': {'code_interpreter': {'file_ids': []}}, 'metadata': {}, 'response_format': 'auto'}"
      ]
     },
     "execution_count": 11,
     "metadata": {},
     "output_type": "execute_result"
    }
   ],
   "source": [
    "code_interpreter_agent_definition"
   ]
  },
  {
   "cell_type": "markdown",
   "id": "19272a34",
   "metadata": {},
   "source": [
    "# AzureAIAgent クライアントの初期化"
   ]
  },
  {
   "cell_type": "code",
   "execution_count": 8,
   "id": "ada3941b",
   "metadata": {},
   "outputs": [],
   "source": [
    "agent = AzureAIAgent(\n",
    "    client=project_client,\n",
    "    definition=code_interpreter_agent_definition,\n",
    ")"
   ]
  },
  {
   "cell_type": "markdown",
   "id": "a04de53c",
   "metadata": {},
   "source": [
    "# スレッドの作成"
   ]
  },
  {
   "cell_type": "code",
   "execution_count": 9,
   "id": "d04d9322",
   "metadata": {},
   "outputs": [
    {
     "name": "stdout",
     "output_type": "stream",
     "text": [
      "Created Thread. THREAD_ID: None\n"
     ]
    }
   ],
   "source": [
    "thread = AzureAIAgentThread(\n",
    "    client=project_client\n",
    ")\n",
    "print(f\"Created Thread. THREAD_ID: {thread.id}\")"
   ]
  },
  {
   "cell_type": "markdown",
   "id": "a30be8dd",
   "metadata": {},
   "source": [
    "## レスポンスを取得"
   ]
  },
  {
   "cell_type": "code",
   "execution_count": 10,
   "id": "bcc0e910",
   "metadata": {},
   "outputs": [
    {
     "ename": "AgentInvokeException",
     "evalue": "The following function tool(s) are defined on the agent but missing from the kernel: ['get_current_time_jst', 'get_prefecture_location', 'get_temperature']. Please ensure all required tools are registered with the kernel.",
     "output_type": "error",
     "traceback": [
      "\u001b[31m---------------------------------------------------------------------------\u001b[39m",
      "\u001b[31mAgentInvokeException\u001b[39m                      Traceback (most recent call last)",
      "\u001b[36mCell\u001b[39m\u001b[36m \u001b[39m\u001b[32mIn[10]\u001b[39m\u001b[32m, line 6\u001b[39m\n\u001b[32m      1\u001b[39m message= (\n\u001b[32m      2\u001b[39m     \u001b[33m\"\u001b[39m\u001b[33m初期投資額が100万円、年利回りが3.5\u001b[39m\u001b[33m%\u001b[39m\u001b[33m、毎年10万円ずつ追加投資を\u001b[39m\u001b[33m\"\u001b[39m\n\u001b[32m      3\u001b[39m     \u001b[33m\"\u001b[39m\u001b[33m20年間継続したときの最終的な資産額を計算し、円単位で四捨五入して答えてください。\u001b[39m\u001b[33m\"\u001b[39m\n\u001b[32m      4\u001b[39m )\n\u001b[32m----> \u001b[39m\u001b[32m6\u001b[39m response = \u001b[38;5;28;01mawait\u001b[39;00m agent.get_response(\n\u001b[32m      7\u001b[39m     messages=[message],\n\u001b[32m      8\u001b[39m     thread=thread,\n\u001b[32m      9\u001b[39m )\n\u001b[32m     11\u001b[39m \u001b[38;5;28mprint\u001b[39m(response)\n",
      "\u001b[36mFile \u001b[39m\u001b[32mc:\\Users\\ymatayoshi\\dev\\Azure-AI-Agent-Workshop\\.venv\\Lib\\site-packages\\semantic_kernel\\utils\\telemetry\\agent_diagnostics\\decorators.py:69\u001b[39m, in \u001b[36mtrace_agent_get_response.<locals>.wrapper_decorator\u001b[39m\u001b[34m(*args, **kwargs)\u001b[39m\n\u001b[32m     66\u001b[39m \u001b[38;5;28;01mif\u001b[39;00m agent.description:\n\u001b[32m     67\u001b[39m     span.set_attribute(gen_ai_attributes.AGENT_DESCRIPTION, agent.description)\n\u001b[32m---> \u001b[39m\u001b[32m69\u001b[39m \u001b[38;5;28;01mreturn\u001b[39;00m \u001b[38;5;28;01mawait\u001b[39;00m get_response_func(*args, **kwargs)\n",
      "\u001b[36mFile \u001b[39m\u001b[32mc:\\Users\\ymatayoshi\\dev\\Azure-AI-Agent-Workshop\\.venv\\Lib\\site-packages\\semantic_kernel\\agents\\azure_ai\\azure_ai_agent.py:708\u001b[39m, in \u001b[36mAzureAIAgent.get_response\u001b[39m\u001b[34m(self, messages, thread, arguments, kernel, model, instructions_override, additional_instructions, additional_messages, tools, temperature, top_p, max_prompt_tokens, max_completion_tokens, truncation_strategy, response_format, parallel_tool_calls, metadata, polling_options, **kwargs)\u001b[39m\n\u001b[32m    705\u001b[39m run_level_params = {k: v \u001b[38;5;28;01mfor\u001b[39;00m k, v \u001b[38;5;129;01min\u001b[39;00m run_level_params.items() \u001b[38;5;28;01mif\u001b[39;00m v \u001b[38;5;129;01mis\u001b[39;00m \u001b[38;5;129;01mnot\u001b[39;00m \u001b[38;5;28;01mNone\u001b[39;00m}\n\u001b[32m    707\u001b[39m response_messages: \u001b[38;5;28mlist\u001b[39m[ChatMessageContent] = []\n\u001b[32m--> \u001b[39m\u001b[32m708\u001b[39m \u001b[38;5;28;01masync\u001b[39;00m \u001b[38;5;28;01mfor\u001b[39;00m is_visible, response \u001b[38;5;129;01min\u001b[39;00m AgentThreadActions.invoke(\n\u001b[32m    709\u001b[39m     agent=\u001b[38;5;28mself\u001b[39m,\n\u001b[32m    710\u001b[39m     thread_id=thread.id,\n\u001b[32m    711\u001b[39m     kernel=kernel,\n\u001b[32m    712\u001b[39m     arguments=arguments,\n\u001b[32m    713\u001b[39m     **run_level_params,  \u001b[38;5;66;03m# type: ignore\u001b[39;00m\n\u001b[32m    714\u001b[39m ):\n\u001b[32m    715\u001b[39m     \u001b[38;5;28;01mif\u001b[39;00m is_visible \u001b[38;5;129;01mand\u001b[39;00m response.metadata.get(\u001b[33m\"\u001b[39m\u001b[33mcode\u001b[39m\u001b[33m\"\u001b[39m) \u001b[38;5;129;01mis\u001b[39;00m \u001b[38;5;129;01mnot\u001b[39;00m \u001b[38;5;28;01mTrue\u001b[39;00m:\n\u001b[32m    716\u001b[39m         response.metadata[\u001b[33m\"\u001b[39m\u001b[33mthread_id\u001b[39m\u001b[33m\"\u001b[39m] = thread.id\n",
      "\u001b[36mFile \u001b[39m\u001b[32mc:\\Users\\ymatayoshi\\dev\\Azure-AI-Agent-Workshop\\.venv\\Lib\\site-packages\\semantic_kernel\\agents\\azure_ai\\agent_thread_actions.py:148\u001b[39m, in \u001b[36mAgentThreadActions.invoke\u001b[39m\u001b[34m(cls, agent, thread_id, arguments, kernel, model, instructions_override, additional_instructions, additional_messages, tools, temperature, top_p, max_prompt_tokens, max_completion_tokens, truncation_strategy, response_format, parallel_tool_calls, metadata, polling_options, **kwargs)\u001b[39m\n\u001b[32m    145\u001b[39m arguments = KernelArguments() \u001b[38;5;28;01mif\u001b[39;00m arguments \u001b[38;5;129;01mis\u001b[39;00m \u001b[38;5;28;01mNone\u001b[39;00m \u001b[38;5;28;01melse\u001b[39;00m KernelArguments(**arguments, **kwargs)\n\u001b[32m    146\u001b[39m kernel = kernel \u001b[38;5;129;01mor\u001b[39;00m agent.kernel\n\u001b[32m--> \u001b[39m\u001b[32m148\u001b[39m tools = \u001b[38;5;28;43mcls\u001b[39;49m\u001b[43m.\u001b[49m\u001b[43m_get_tools\u001b[49m\u001b[43m(\u001b[49m\u001b[43magent\u001b[49m\u001b[43m=\u001b[49m\u001b[43magent\u001b[49m\u001b[43m,\u001b[49m\u001b[43m \u001b[49m\u001b[43mkernel\u001b[49m\u001b[43m=\u001b[49m\u001b[43mkernel\u001b[49m\u001b[43m)\u001b[49m  \u001b[38;5;66;03m# type: ignore\u001b[39;00m\n\u001b[32m    150\u001b[39m base_instructions = \u001b[38;5;28;01mawait\u001b[39;00m agent.format_instructions(kernel=kernel, arguments=arguments)\n\u001b[32m    152\u001b[39m merged_instructions: \u001b[38;5;28mstr\u001b[39m = \u001b[33m\"\u001b[39m\u001b[33m\"\u001b[39m\n",
      "\u001b[36mFile \u001b[39m\u001b[32mc:\\Users\\ymatayoshi\\dev\\Azure-AI-Agent-Workshop\\.venv\\Lib\\site-packages\\semantic_kernel\\agents\\azure_ai\\agent_thread_actions.py:807\u001b[39m, in \u001b[36mAgentThreadActions._get_tools\u001b[39m\u001b[34m(cls, agent, kernel)\u001b[39m\n\u001b[32m    805\u001b[39m tools: \u001b[38;5;28mlist\u001b[39m[Any] = \u001b[38;5;28mlist\u001b[39m(agent.definition.tools)\n\u001b[32m    806\u001b[39m funcs = kernel.get_full_list_of_function_metadata()\n\u001b[32m--> \u001b[39m\u001b[32m807\u001b[39m \u001b[38;5;28;43mcls\u001b[39;49m\u001b[43m.\u001b[49m\u001b[43m_validate_function_tools_registered\u001b[49m\u001b[43m(\u001b[49m\u001b[43mtools\u001b[49m\u001b[43m,\u001b[49m\u001b[43m \u001b[49m\u001b[43mfuncs\u001b[49m\u001b[43m)\u001b[49m\n\u001b[32m    808\u001b[39m dict_defs = [kernel_function_metadata_to_function_call_format(f) \u001b[38;5;28;01mfor\u001b[39;00m f \u001b[38;5;129;01min\u001b[39;00m funcs]\n\u001b[32m    809\u001b[39m deduped_defs = \u001b[38;5;28mcls\u001b[39m._deduplicate_tools(tools, dict_defs)\n",
      "\u001b[36mFile \u001b[39m\u001b[32mc:\\Users\\ymatayoshi\\dev\\Azure-AI-Agent-Workshop\\.venv\\Lib\\site-packages\\semantic_kernel\\agents\\azure_ai\\agent_thread_actions.py:838\u001b[39m, in \u001b[36mAgentThreadActions._validate_function_tools_registered\u001b[39m\u001b[34m(tools, funcs)\u001b[39m\n\u001b[32m    836\u001b[39m missing_functions = function_tool_names - kernel_function_names\n\u001b[32m    837\u001b[39m \u001b[38;5;28;01mif\u001b[39;00m missing_functions:\n\u001b[32m--> \u001b[39m\u001b[32m838\u001b[39m     \u001b[38;5;28;01mraise\u001b[39;00m AgentInvokeException(\n\u001b[32m    839\u001b[39m         \u001b[33mf\u001b[39m\u001b[33m\"\u001b[39m\u001b[33mThe following function tool(s) are defined on the agent but missing from the kernel: \u001b[39m\u001b[33m\"\u001b[39m\n\u001b[32m    840\u001b[39m         \u001b[33mf\u001b[39m\u001b[33m\"\u001b[39m\u001b[38;5;132;01m{\u001b[39;00m\u001b[38;5;28msorted\u001b[39m(missing_functions)\u001b[38;5;132;01m}\u001b[39;00m\u001b[33m. \u001b[39m\u001b[33m\"\u001b[39m\n\u001b[32m    841\u001b[39m         \u001b[33mf\u001b[39m\u001b[33m\"\u001b[39m\u001b[33mPlease ensure all required tools are registered with the kernel.\u001b[39m\u001b[33m\"\u001b[39m\n\u001b[32m    842\u001b[39m     )\n",
      "\u001b[31mAgentInvokeException\u001b[39m: The following function tool(s) are defined on the agent but missing from the kernel: ['get_current_time_jst', 'get_prefecture_location', 'get_temperature']. Please ensure all required tools are registered with the kernel."
     ]
    }
   ],
   "source": [
    "message= (\n",
    "    \"初期投資額が100万円、年利回りが3.5%、毎年10万円ずつ追加投資を\"\n",
    "    \"20年間継続したときの最終的な資産額を計算し、円単位で四捨五入して答えてください。\"\n",
    ")\n",
    "\n",
    "response = await agent.get_response(\n",
    "    messages=[message],\n",
    "    thread=thread,\n",
    ")\n",
    "\n",
    "print(response)"
   ]
  },
  {
   "cell_type": "code",
   "execution_count": 101,
   "id": "4b9a6755",
   "metadata": {},
   "outputs": [
    {
     "name": "stdout",
     "output_type": "stream",
     "text": [
      "上記のグラフは、20年間にわたり毎年同額を貯めた場合と、年利3.5%で投資した場合の資産額の推移を比較したものです。  \n",
      "- 橙色の線「With Investment」は投資の場合、  \n",
      "- 赤色の線「Without Investment」は単純な貯蓄の場合を示しています。\n",
      "\n",
      "投資をすることで資産が大きく増加することが分かります。\n"
     ]
    }
   ],
   "source": [
    "message = \"グラフで出力して下さい。また、単純に投資せずに貯蓄した際と比較してください。\"\n",
    "\n",
    "response = await agent.get_response(\n",
    "    messages=[message],\n",
    "    thread=thread,\n",
    ")\n",
    "\n",
    "print(response)"
   ]
  },
  {
   "cell_type": "code",
   "execution_count": 95,
   "id": "12e6927b",
   "metadata": {},
   "outputs": [],
   "source": [
    "import os\n",
    "import time\n",
    "import json\n",
    "import datetime\n",
    "import zoneinfo\n",
    "\n",
    "import requests\n",
    "\n",
    "from dotenv import load_dotenv, find_dotenv\n",
    "\n",
    "from azure.identity import DefaultAzureCredential\n",
    "from azure.ai.projects import AIProjectClient\n",
    "from azure.ai.agents.models import (\n",
    "    MessageTextContent,\n",
    "    ListSortOrder,\n",
    "    McpTool,\n",
    "    MCPToolDefinition,\n",
    "    RequiredMcpToolCall,\n",
    "    SubmitToolApprovalAction,\n",
    "    ToolApproval,\n",
    "    CodeInterpreterTool,\n",
    "    FunctionTool,\n",
    "    ToolSet,\n",
    ")\n",
    "from IPython.display import Image, display"
   ]
  },
  {
   "cell_type": "code",
   "execution_count": 20,
   "id": "25607207",
   "metadata": {},
   "outputs": [],
   "source": [
    "from azure.ai.agents.models import ListSortOrder\n",
    "import os\n",
    "from IPython.display import Image, display\n",
    "\n",
    "async def agent_run_outputs(thread_id, agents_client, target_dir=\"./output_images\"):\n",
    "    \"\"\"\n",
    "    指定したスレッドIDのRun実行結果（テキスト・画像）をNotebook上に表示＆画像は保存。\n",
    "    \"\"\"\n",
    "    messages = agents_client.messages.list(thread_id=thread_id, order=ListSortOrder.ASCENDING)\n",
    "    os.makedirs(target_dir, exist_ok=True)\n",
    "\n",
    "    async for message in messages:\n",
    "        # テキスト出力\n",
    "        if message.text_messages:\n",
    "            for txt in message.text_messages:\n",
    "                print(f\"{message.role.upper()}: {txt.text.value}\")\n",
    "\n",
    "        # 画像出力\n",
    "        if hasattr(message, \"image_contents\"):\n",
    "            for image_content in message.image_contents:\n",
    "                file_id = image_content.image_file.file_id\n",
    "                file_name = f\"{file_id}_image_file.png\"\n",
    "\n",
    "                await agents_client.files.save(\n",
    "                    file_id=file_id,\n",
    "                    file_name=file_name,\n",
    "                    target_dir=target_dir\n",
    "                )\n",
    "                print(f\"Saved image: {file_name}\")\n",
    "                display(Image(filename=f\"{target_dir}/{file_name}\"))\n"
   ]
  },
  {
   "cell_type": "code",
   "execution_count": 21,
   "id": "0fc7f050",
   "metadata": {},
   "outputs": [
    {
     "name": "stdout",
     "output_type": "stream",
     "text": [
      "USER: パソコンの保障プランでもっとも安いプランは？\n",
      "ASSISTANT: パソコンの保障プランでもっとも安いプランは「1年プラン」で、料金は税込10,000円です。内容としては、修理費用全額カバー、代替機の提供（最短3営業日）、データ復旧（論理障害のみ）、24時間365日サポートなどが含まれています【4:3†パソコン保障プラン.html】。\n"
     ]
    }
   ],
   "source": [
    "await agent_run_outputs(thread.id, project_client.agents)"
   ]
  },
  {
   "cell_type": "code",
   "execution_count": 22,
   "id": "3f16edad",
   "metadata": {},
   "outputs": [
    {
     "name": "stdout",
     "output_type": "stream",
     "text": [
      "-----\n",
      "[Agent Response] from None\n",
      " - Content       : パソコンの保障プランでもっとも安いプランは「1年プラン」で、料金は税込10,000円です。内容としては、修理費用全額カバー、代替機の提供（最短3営業日）、データ復旧（論理障害のみ）、24時間365日サポートなどが含まれています【4:3†パソコン保障プラン.html】。\n",
      "[Unknown Item Type] (AnnotationContent)\n",
      " - Raw Item      : AnnotationContent(type=file_citation, file_id=assistant-JK6ipBT5kMo8fRCYdw7adD, url=None, quote=【4:3†パソコン保障プラン.html】, start_index=113, end_index=133)\n",
      "-----\n",
      "[Agent Response] from None\n",
      " - Content       : パソコンの保障プランでもっとも安いプランは？\n"
     ]
    }
   ],
   "source": [
    "await print_thread_message_details(thread)"
   ]
  }
 ],
 "metadata": {
  "kernelspec": {
   "display_name": ".venv",
   "language": "python",
   "name": "python3"
  },
  "language_info": {
   "codemirror_mode": {
    "name": "ipython",
    "version": 3
   },
   "file_extension": ".py",
   "mimetype": "text/x-python",
   "name": "python",
   "nbconvert_exporter": "python",
   "pygments_lexer": "ipython3",
   "version": "3.11.9"
  }
 },
 "nbformat": 4,
 "nbformat_minor": 5
}
