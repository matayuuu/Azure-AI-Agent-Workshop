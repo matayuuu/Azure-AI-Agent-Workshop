{
 "cells": [
  {
   "cell_type": "markdown",
   "id": "5fb7c4eb",
   "metadata": {},
   "source": [
    "# ライブラリのインポート"
   ]
  },
  {
   "cell_type": "code",
   "execution_count": null,
   "id": "0903ef41",
   "metadata": {},
   "outputs": [],
   "source": [
    "import os\n",
    "import time\n",
    "import json\n",
    "import datetime\n",
    "import zoneinfo\n",
    "\n",
    "import requests\n",
    "\n",
    "from dotenv import load_dotenv, find_dotenv\n",
    "\n",
    "from semantic_kernel.agents import ChatCompletionAgent, ChatHistoryAgentThread\n",
    "from semantic_kernel.connectors.ai.open_ai import AzureChatCompletion\n",
    "from semantic_kernel.connectors.mcp import MCPStreamableHttpPlugin\n",
    "\n",
    "from azure.identity.aio import DefaultAzureCredential\n",
    "\n",
    "from semantic_kernel.agents import AzureAIAgent, AzureAIAgentThread\n",
    "from semantic_kernel.contents import ChatMessageContent, FunctionCallContent, FunctionResultContent"
   ]
  },
  {
   "cell_type": "markdown",
   "id": "fdc79521",
   "metadata": {},
   "source": [
    "# 環境変数の取得"
   ]
  },
  {
   "cell_type": "code",
   "execution_count": 77,
   "id": "ed928070",
   "metadata": {},
   "outputs": [],
   "source": [
    "load_dotenv(override=True)\n",
    "\n",
    "PROJECT_ENDPOINT=os.getenv(\"PROJECT_ENDPOINT\")\n",
    "AZURE_DEPLOYMENT_NAME=os.getenv(\"AZURE_DEPLOYMENT_NAME\")\n",
    "AZURE_OPENAI_ENDPOINT=os.getenv(\"AZURE_OPENAI_ENDPOINT\")\n",
    "AZURE_OPENAI_API_KEY=os.getenv(\"AZURE_OPENAI_API_KEY\")\n",
    "\n",
    "PROJECT_ENDPOINT=os.getenv(\"PROJECT_ENDPOINT\")\n",
    "FOUNDRY_CUSTOM_FUNCTIONS_AGENT_ID=os.getenv(\"FOUNDRY_CUSTOM_FUNCTIONS_AGENT_ID\")\n",
    "FOUNDRY_CODE_INTERPRETER_AGENT_ID=os.getenv(\"FOUNDRY_CODE_INTERPRETER_AGENT_ID\")\n",
    "FOUNDRY_MCP_AGENT_ID=os.getenv(\"FOUNDRY_MCP_AGENT_ID\")\n",
    "FOUNDRY_FILE_SEARCH_AGENT_ID=os.getenv(\"FOUNDRY_FILE_SEARCH_AGENT_ID\")"
   ]
  },
  {
   "cell_type": "markdown",
   "id": "3995f49a",
   "metadata": {},
   "source": [
    "# ユーティリティ関数"
   ]
  },
  {
   "cell_type": "code",
   "execution_count": 70,
   "id": "dcee3834",
   "metadata": {},
   "outputs": [],
   "source": [
    "import datetime\n",
    "import json\n",
    "from semantic_kernel.contents.function_call_content import FunctionCallContent\n",
    "from semantic_kernel.contents.function_result_content import FunctionResultContent\n",
    "from semantic_kernel.contents.text_content import TextContent\n",
    "\n",
    "\n",
    "async def print_thread_message_details(thread: str):\n",
    "    \"\"\"\n",
    "    スレッドのメッセージ詳細を表示します。\n",
    "\n",
    "    Args:\n",
    "        thread (str): スレッドのインスタンス\n",
    "    \"\"\"\n",
    "    async for message in thread.get_messages():\n",
    "        print(\"-----\")\n",
    "\n",
    "        for item in message.items:\n",
    "            if isinstance(item, FunctionCallContent):\n",
    "                print(f\"[Function Calling] by {message.ai_model_id}\")\n",
    "                print(f\" - Function Name : {item.name}\")\n",
    "                print(f\" - Arguments     : {item.arguments}\")\n",
    "\n",
    "            elif isinstance(item, FunctionResultContent):\n",
    "                print(f\"[Function Result]\")\n",
    "                # 文字列のデコード変換\n",
    "                if isinstance(item.result, str):\n",
    "                    try:\n",
    "                        decoded = json.loads(item.result)\n",
    "                        print(f\" - Result        : {decoded}\") # デコード成功時は変換後の値を表示\n",
    "                    except json.JSONDecodeError:\n",
    "                        print(f\" - Result        : {item.result}\")  # デコード失敗時はそのまま\n",
    "                else:\n",
    "                    print(f\" - Result        : {item.result}\")\n",
    "\n",
    "            elif isinstance(item, TextContent):\n",
    "                if message.name:\n",
    "                    print(f\"[Agent Response] from {message.ai_model_id}\")\n",
    "                else:\n",
    "                    print(\"[User Message]\")\n",
    "                print(f\" - Content       : {item.text}\")\n",
    "\n",
    "            else:\n",
    "                print(f\"[Unknown Item Type] ({type(item).__name__})\")\n",
    "                print(f\" - Raw Item      : {item}\")\n",
    "\n",
    "\n",
    "def log_with_timestamp(message: str) -> None:\n",
    "    \"\"\"\n",
    "    現在時刻付きでメッセージを標準出力にログとして表示します。\n",
    "\n",
    "    Args:\n",
    "        message (str): 出力するログメッセージ。\n",
    "    \"\"\"\n",
    "    timestamp = datetime.datetime.now().strftime(\"%H:%M:%S.%f\")[:-3]\n",
    "    print(f\"[{timestamp}] {message}\")\n"
   ]
  },
  {
   "cell_type": "markdown",
   "id": "ffe7fbe0",
   "metadata": {},
   "source": [
    "# プラグインの作成"
   ]
  },
  {
   "cell_type": "code",
   "execution_count": null,
   "id": "4635deb2",
   "metadata": {},
   "outputs": [],
   "source": [
    "# MCPのエンドポイントURL\n",
    "MCP_URL = \"http://127.0.0.1:8000/mcp/\"\n",
    "\n",
    "\n",
    "mcp_plugin = MCPStreamableHttpPlugin(\n",
    "    name=\"mcp_plugin\",\n",
    "    url=MCP_URL\n",
    ")\n",
    "\n",
    "await mcp_plugin.connect()"
   ]
  },
  {
   "cell_type": "markdown",
   "id": "76cbce26",
   "metadata": {},
   "source": [
    "# クライアントの初期化"
   ]
  },
  {
   "cell_type": "code",
   "execution_count": 105,
   "id": "1138b0af",
   "metadata": {},
   "outputs": [],
   "source": [
    "# Chat Completion API クライアントの初期化\n",
    "azure_completion_service  = AzureChatCompletion(\n",
    "    service_id=\"azure_completion_agent\",\n",
    "    deployment_name=AZURE_DEPLOYMENT_NAME,\n",
    "    endpoint=AZURE_OPENAI_ENDPOINT,\n",
    "    api_key=AZURE_OPENAI_API_KEY\n",
    ")"
   ]
  },
  {
   "cell_type": "code",
   "execution_count": 106,
   "id": "e3f54b6f",
   "metadata": {},
   "outputs": [],
   "source": [
    "# Chat Completion Agent クライアントの初期化\n",
    "agent = ChatCompletionAgent(\n",
    "    service=azure_completion_service,\n",
    "    name=\"MCPAgent\",\n",
    "    instructions=(\n",
    "        \"あなたはECサイトの分析エージェントです。\"\n",
    "        \"PostgreSQLの各種マスター、注文、ユーザー情報と、CosmosDBに格納されたレビュー分析データを、mcp_pluginとして利用できます。\"\n",
    "    ),\n",
    "    plugins=[mcp_plugin],\n",
    ")"
   ]
  },
  {
   "cell_type": "markdown",
   "id": "57e71870",
   "metadata": {},
   "source": [
    "## スレッドの作成"
   ]
  },
  {
   "cell_type": "code",
   "execution_count": 114,
   "id": "18017f0a",
   "metadata": {},
   "outputs": [
    {
     "name": "stdout",
     "output_type": "stream",
     "text": [
      "Created Thread. THREAD_ID: thread_d2e082f275aa42aeb200480f2e207cc3\n"
     ]
    }
   ],
   "source": [
    "# Thread の作成\n",
    "thread = ChatHistoryAgentThread()\n",
    "print(f\"Created Thread. THREAD_ID: {thread.id}\")\n"
   ]
  },
  {
   "cell_type": "markdown",
   "id": "5edc3eb1",
   "metadata": {},
   "source": [
    "## レスポンスを取得"
   ]
  },
  {
   "cell_type": "code",
   "execution_count": 115,
   "id": "96fd9c01",
   "metadata": {},
   "outputs": [
    {
     "name": "stdout",
     "output_type": "stream",
     "text": [
      "2024年12月に購入された主な商品と売上金額（上位）は以下の通りです。\n",
      "\n",
      "- Surface Pro：1,440,000円\n",
      "- Surface Laptop：170,000円\n",
      "- Surface Go：90,000円\n",
      "- Modern Webcam：39,000円\n",
      "- Office：38,000円\n",
      "- Xbox Game Pass：1,500円\n",
      "\n",
      "このデータは売上金額順（購入金額の多い順）となっています。他の商品や詳細な数量情報が必要な場合はご指定ください。\n"
     ]
    }
   ],
   "source": [
    "response = await agent.get_response(\n",
    "    messages=[\"2024年12月は何がどれくらい購入されましたか？\"],\n",
    "    thread=thread,\n",
    ")\n",
    "\n",
    "print(response)"
   ]
  },
  {
   "cell_type": "code",
   "execution_count": 116,
   "id": "c6570cc3",
   "metadata": {},
   "outputs": [
    {
     "name": "stdout",
     "output_type": "stream",
     "text": [
      "-----\n",
      "[User Message]\n",
      " - Content       : 2024年12月は何がどれくらい購入されましたか？\n",
      "-----\n",
      "[Function Calling] by gpt-4.1\n",
      " - Function Name : mcp_plugin-get_sales_by_product\n",
      " - Arguments     : {\"start_date\":\"2024-12-01\",\"end_date\":\"2024-12-31\"}\n",
      "-----\n",
      "[Function Result]\n",
      " - Result        : [TextContent(inner_content=TextContent(type='text', text='[{\"product_id\": 1, \"product_name\": \"Surface Pro\", \"total_sales\": 1440000}, {\"product_id\": 2, \"product_name\": \"Surface Laptop\", \"total_sales\": 170000}, {\"product_id\": 3, \"product_name\": \"Surface Go\", \"total_sales\": 90000}, {\"product_id\": 8, \"product_name\": \"Modern Webcam\", \"total_sales\": 39000}, {\"product_id\": 11, \"product_name\": \"Office\", \"total_sales\": 38000}, {\"product_id\": 15, \"product_name\": \"Xbox Game Pass\", \"total_sales\": 1500}]', annotations=None, meta=None), ai_model_id=None, metadata={}, content_type='text', text='[{\"product_id\": 1, \"product_name\": \"Surface Pro\", \"total_sales\": 1440000}, {\"product_id\": 2, \"product_name\": \"Surface Laptop\", \"total_sales\": 170000}, {\"product_id\": 3, \"product_name\": \"Surface Go\", \"total_sales\": 90000}, {\"product_id\": 8, \"product_name\": \"Modern Webcam\", \"total_sales\": 39000}, {\"product_id\": 11, \"product_name\": \"Office\", \"total_sales\": 38000}, {\"product_id\": 15, \"product_name\": \"Xbox Game Pass\", \"total_sales\": 1500}]', encoding=None)]\n",
      "-----\n",
      "[Agent Response] from gpt-4.1\n",
      " - Content       : 2024年12月に購入された主な商品と売上金額（上位）は以下の通りです。\n",
      "\n",
      "- Surface Pro：1,440,000円\n",
      "- Surface Laptop：170,000円\n",
      "- Surface Go：90,000円\n",
      "- Modern Webcam：39,000円\n",
      "- Office：38,000円\n",
      "- Xbox Game Pass：1,500円\n",
      "\n",
      "このデータは売上金額順（購入金額の多い順）となっています。他の商品や詳細な数量情報が必要な場合はご指定ください。\n"
     ]
    }
   ],
   "source": [
    "await print_thread_message_details(thread)"
   ]
  }
 ],
 "metadata": {
  "kernelspec": {
   "display_name": ".venv",
   "language": "python",
   "name": "python3"
  },
  "language_info": {
   "codemirror_mode": {
    "name": "ipython",
    "version": 3
   },
   "file_extension": ".py",
   "mimetype": "text/x-python",
   "name": "python",
   "nbconvert_exporter": "python",
   "pygments_lexer": "ipython3",
   "version": "3.11.9"
  }
 },
 "nbformat": 4,
 "nbformat_minor": 5
}
