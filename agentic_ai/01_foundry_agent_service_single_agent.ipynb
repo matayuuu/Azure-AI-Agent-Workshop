{
 "cells": [
  {
   "cell_type": "markdown",
   "id": "2dbd5ed9",
   "metadata": {},
   "source": []
  },
  {
   "cell_type": "code",
   "execution_count": 20,
   "id": "a15848a6",
   "metadata": {},
   "outputs": [],
   "source": [
    "import os\n",
    "from dotenv import load_dotenv\n",
    "\n",
    "load_dotenv(override=True)\n",
    "\n",
    "PROJECT_ENDPOINT=os.getenv(\"PROJECT_ENDPOINT\")"
   ]
  },
  {
   "cell_type": "markdown",
   "id": "0fc01955",
   "metadata": {},
   "source": [
    "# シングルエージェント"
   ]
  },
  {
   "cell_type": "code",
   "execution_count": null,
   "id": "85ab52d1",
   "metadata": {},
   "outputs": [],
   "source": []
  },
  {
   "cell_type": "markdown",
   "id": "b06e55d5",
   "metadata": {},
   "source": [
    "# MCP 対応"
   ]
  },
  {
   "cell_type": "code",
   "execution_count": 4,
   "id": "9af9cf25",
   "metadata": {},
   "outputs": [],
   "source": [
    "import time\n",
    "import json\n",
    "\n",
    "from azure.ai.agents.models import MessageTextContent, ListSortOrder\n",
    "from azure.ai.projects import AIProjectClient\n",
    "from azure.identity import DefaultAzureCredential\n",
    "from azure.ai.agents.models import McpTool, MCPToolDefinition, RequiredMcpToolCall, SubmitToolApprovalAction, ToolApproval"
   ]
  },
  {
   "cell_type": "code",
   "execution_count": 23,
   "id": "4978415a",
   "metadata": {},
   "outputs": [
    {
     "name": "stdout",
     "output_type": "stream",
     "text": [
      "Created agent, ID: asst_WivSY97rID2YcjM7jHftneyU\n",
      "{'id': 'asst_WivSY97rID2YcjM7jHftneyU', 'object': 'assistant', 'created_at': 1753429679, 'name': 'my-mcp-agent', 'description': None, 'model': 'gpt-4.1', 'instructions': \"You are a helpful assistant. Use the tools provided to answer the user's questions. Be sure to cite your sources.\", 'tools': [{'type': 'mcp', 'server_label': 'MicrosoftDocs', 'server_url': 'https://learn.microsoft.com/api/mcp', 'allowed_tools': None}], 'top_p': 1.0, 'temperature': 1.0, 'tool_resources': {}, 'metadata': {}, 'response_format': 'auto'}\n",
      "Created thread, ID: thread_y0pfbF8mffCpxBqsqCWg7S5C\n",
      "Created message, ID: msg_wpGSn0sXEuJDRUNUseZtNaM2\n",
      "Current run status: RunStatus.IN_PROGRESS\n",
      "Current run status: RunStatus.IN_PROGRESS\n",
      "Approving tool call: {'id': 'call_0QVffRSimwn3Eu2vqGWHQwqN', 'type': 'mcp', 'arguments': '{\"question\":\"Azure AI Foundry Agent Service æ\\x9c\\x80æ\\x96°æ\\x83\\x85å\\xa0±\"}', 'name': 'microsoft_docs_search', 'server_label': 'MicrosoftDocs'}\n",
      "tool_approvals: [{'tool_call_id': 'call_0QVffRSimwn3Eu2vqGWHQwqN', 'approve': True, 'headers': {}}]\n",
      "Current run status: RunStatus.REQUIRES_ACTION\n",
      "Current run status: RunStatus.IN_PROGRESS\n",
      "Current run status: RunStatus.IN_PROGRESS\n",
      "Current run status: RunStatus.IN_PROGRESS\n",
      "Current run status: RunStatus.FAILED\n",
      "\n",
      "Conversation:\n",
      "--------------------------------------------------\n",
      "USER: Azure AI Foundry Agent Service の最新情報は？\n",
      "--------------------------------------------------\n",
      "Deleted agent\n"
     ]
    }
   ],
   "source": [
    "project_client = AIProjectClient(\n",
    "    endpoint=PROJECT_ENDPOINT,\n",
    "    credential=DefaultAzureCredential()\n",
    ")\n",
    "\n",
    "mcp_tool = McpTool(\n",
    "    server_label=\"MicrosoftDocs\",\n",
    "    server_url=\"https://learn.microsoft.com/api/mcp\",\n",
    ")\n",
    "\n",
    "with project_client:    \n",
    "    agent = project_client.agents.create_agent(\n",
    "        model=\"gpt-4.1\",\n",
    "        name=\"my-mcp-agent\",\n",
    "        instructions=(\n",
    "            \"You are a helpful assistant. \"\n",
    "            \"Use the tools provided to answer the user's questions. \"\n",
    "            \"Be sure to cite your sources.\"\n",
    "        ),\n",
    "        tools=mcp_tool.definitions\n",
    "    )\n",
    "    print(f\"Created agent, ID: {agent.id}\")\n",
    "    print(agent.as_dict())\n",
    "\n",
    "    thread = project_client.agents.threads.create()\n",
    "    print(f\"Created thread, ID: {thread.id}\")\n",
    "\n",
    "    message = project_client.agents.messages.create(\n",
    "        thread_id=thread.id,\n",
    "        role=\"user\",\n",
    "        content=\"Azure AI Foundry Agent Service の最新情報は？\"\n",
    "    )\n",
    "    print(f\"Created message, ID: {message.id}\")\n",
    "\n",
    "    \n",
    "    run = project_client.agents.runs.create(\n",
    "        thread_id=thread.id,\n",
    "        agent_id=agent.id\n",
    "    )\n",
    "\n",
    "\n",
    "    while run.status in [\"queued\", \"in_progress\", \"requires_action\"]:\n",
    "        time.sleep(1)\n",
    "        run = project_client.agents.runs.get(thread_id=thread.id, run_id=run.id)\n",
    "\n",
    "        if run.status == \"requires_action\" and isinstance(run.required_action, SubmitToolApprovalAction):\n",
    "            tool_calls = run.required_action.submit_tool_approval.tool_calls\n",
    "            if not tool_calls:\n",
    "                print(\"No tool calls provided - cancelling run\")\n",
    "                project_client.agents.runs.cancel(thread_id=thread.id, run_id=run.id)\n",
    "                break\n",
    "\n",
    "            tool_approvals = []\n",
    "            for tool_call in tool_calls:\n",
    "                if isinstance(tool_call, RequiredMcpToolCall):\n",
    "                    try:\n",
    "                        print(f\"Approving tool call: {tool_call}\")\n",
    "                        tool_approvals.append(\n",
    "                            ToolApproval(\n",
    "                                tool_call_id=tool_call.id,\n",
    "                                approve=True,\n",
    "                                headers=mcp_tool.headers,\n",
    "                            )\n",
    "                        )\n",
    "                    except Exception as e:\n",
    "                        print(f\"Error approving tool_call {tool_call.id}: {e}\")\n",
    "\n",
    "            print(f\"tool_approvals: {tool_approvals}\")\n",
    "            if tool_approvals:\n",
    "                project_client.agents.runs.submit_tool_outputs(\n",
    "                    thread_id=thread.id,\n",
    "                    run_id=run.id,\n",
    "                    tool_approvals=tool_approvals\n",
    "                )\n",
    "\n",
    "        print(f\"Current run status: {run.status}\")\n",
    "\n",
    "    # Retrieve the generated response:\n",
    "    messages = project_client.agents.messages.list(thread_id=thread.id)\n",
    "    print(\"\\nConversation:\")\n",
    "    print(\"-\" * 50)\n",
    "\n",
    "    for msg in messages:\n",
    "        if msg.text_messages:\n",
    "            last_text = msg.text_messages[-1]\n",
    "            print(f\"{msg.role.upper()}: {last_text.text.value}\")\n",
    "            print(\"-\" * 50)\n",
    "\n",
    "    project_client.agents.delete_agent(agent.id)\n",
    "    print(\"Deleted agent\")\n"
   ]
  }
 ],
 "metadata": {
  "kernelspec": {
   "display_name": ".venv",
   "language": "python",
   "name": "python3"
  },
  "language_info": {
   "codemirror_mode": {
    "name": "ipython",
    "version": 3
   },
   "file_extension": ".py",
   "mimetype": "text/x-python",
   "name": "python",
   "nbconvert_exporter": "python",
   "pygments_lexer": "ipython3",
   "version": "3.11.9"
  }
 },
 "nbformat": 4,
 "nbformat_minor": 5
}
